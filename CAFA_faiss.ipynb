{
  "cells": [
    {
      "cell_type": "markdown",
      "metadata": {
        "id": "view-in-github",
        "colab_type": "text"
      },
      "source": [
        "<a href=\"https://colab.research.google.com/github/oshbocker/CAFA/blob/main/CAFA_faiss.ipynb\" target=\"_parent\"><img src=\"https://colab.research.google.com/assets/colab-badge.svg\" alt=\"Open In Colab\"/></a>"
      ]
    },
    {
      "cell_type": "code",
      "execution_count": 2,
      "metadata": {
        "id": "UFWWnN7G68P7"
      },
      "outputs": [],
      "source": [
        "!mkdir ~/.kaggle\n",
        "!touch ~/.kaggle/kaggle.json\n",
        "\n",
        "api_token = {\"username\":\"oshbocker\",\"key\":\"bb9c6a60ba5c39e689d8cf8d15cb8bca\"}\n",
        "\n",
        "import json\n",
        "\n",
        "with open('/root/.kaggle/kaggle.json', 'w') as file:\n",
        "    json.dump(api_token, file)\n",
        "\n",
        "!chmod 600 ~/.kaggle/kaggle.json"
      ]
    },
    {
      "cell_type": "code",
      "execution_count": 3,
      "metadata": {
        "id": "DNK1P6aAAVR3",
        "colab": {
          "base_uri": "https://localhost:8080/"
        },
        "outputId": "4be75add-f84e-478b-832f-544621ba068b"
      },
      "outputs": [
        {
          "output_type": "stream",
          "name": "stdout",
          "text": [
            "\u001b[2K     \u001b[90m━━━━━━━━━━━━━━━━━━━━━━━━━━━━━━━━━━━━━━━━\u001b[0m \u001b[32m3.1/3.1 MB\u001b[0m \u001b[31m45.2 MB/s\u001b[0m eta \u001b[36m0:00:00\u001b[0m\n",
            "\u001b[2K     \u001b[90m━━━━━━━━━━━━━━━━━━━━━━━━━━━━━━━━━━━━━━\u001b[0m \u001b[32m729.2/729.2 kB\u001b[0m \u001b[31m11.5 MB/s\u001b[0m eta \u001b[36m0:00:00\u001b[0m\n",
            "\u001b[2K     \u001b[90m━━━━━━━━━━━━━━━━━━━━━━━━━━━━━━━━━━━━━━━━\u001b[0m \u001b[32m85.5/85.5 MB\u001b[0m \u001b[31m21.7 MB/s\u001b[0m eta \u001b[36m0:00:00\u001b[0m\n",
            "\u001b[?25h"
          ]
        }
      ],
      "source": [
        "!pip install obonet -q\n",
        "!pip install biopython -q\n",
        "!pip install torchmetrics -q\n",
        "!pip install faiss-gpu -q"
      ]
    },
    {
      "cell_type": "code",
      "execution_count": 4,
      "metadata": {
        "id": "WSawJTx67Cgs"
      },
      "outputs": [],
      "source": [
        "import os\n",
        "import torch\n",
        "\n",
        "from pathlib import Path\n",
        "\n",
        "\n",
        "iskaggle = os.environ.get('KAGGLE_KERNEL_RUN_TYPE', '')\n",
        "\n",
        "cafa_main_path = Path(\"cafa-5-protein-function-prediction\")\n",
        "cafa_clean_fasta_path = Path(\"viktorfairuschin/cafa-5-fasta-files\")\n",
        "esm2_path = Path(\"viktorfairuschin/cafa-5-ems-2-embeddings-numpy\")\n",
        "protbert_path = Path(\"henriupton/protbert-embeddings-for-cafa5\")\n",
        "t5_path = Path(\"sergeifironov/t5embeds\")\n",
        "\n",
        "data_paths = [cafa_clean_fasta_path, esm2_path, protbert_path, t5_path]\n",
        "\n",
        "if iskaggle:\n",
        "  content_dir = \"/kaggle/input\"\n",
        "else:\n",
        "  content_dir = \"/content\"\n",
        "\n",
        "class CFG:\n",
        "    train_go_obo_path: str = f\"{content_dir}/cafa-5-protein-function-prediction/Train/go-basic.obo\"\n",
        "    train_seq_fasta_path: str = f\"{content_dir}/cafa-5-protein-function-prediction/Train/train_sequences.fasta\"\n",
        "    train_terms_path: str = f\"{content_dir}/cafa-5-protein-function-prediction/Train/train_terms.tsv\"\n",
        "    train_taxonomy_path: str = f\"{content_dir}/cafa-5-protein-function-prediction/Train/train_taxonomy.tsv\"\n",
        "    train_ia_path: str = f\"{content_dir}/cafa-5-protein-function-prediction/IA.txt\"\n",
        "    test_sequences_path: str = f\"{content_dir}/Test (Targets)/testsuperset.fasta\"\n",
        "\n",
        "    num_labels = 500\n",
        "    n_epochs = 14\n",
        "    batch_size = 128\n",
        "    lr = 0.0005\n",
        "\n",
        "    device = torch.device('cuda' if torch.cuda.is_available() else 'cpu')\n"
      ]
    },
    {
      "cell_type": "code",
      "execution_count": 5,
      "metadata": {
        "colab": {
          "base_uri": "https://localhost:8080/"
        },
        "id": "Pj8wOdbQ_Vvt",
        "outputId": "4a908835-0da5-4ff7-c236-9d028b3a8c21"
      },
      "outputs": [
        {
          "output_type": "stream",
          "name": "stdout",
          "text": [
            "cafa-5-protein-function-prediction\n",
            "Downloading cafa-5-protein-function-prediction.zip to /content\n"
          ]
        },
        {
          "output_type": "stream",
          "name": "stderr",
          "text": [
            "100%|██████████| 115M/115M [00:07<00:00, 17.0MB/s]\n"
          ]
        },
        {
          "output_type": "stream",
          "name": "stdout",
          "text": [
            "\n",
            "viktorfairuschin/cafa-5-fasta-files\n",
            "viktorfairuschin/cafa-5-ems-2-embeddings-numpy\n",
            "henriupton/protbert-embeddings-for-cafa5\n",
            "sergeifironov/t5embeds\n"
          ]
        }
      ],
      "source": [
        "if not iskaggle:\n",
        "  import zipfile,kaggle\n",
        "  if not cafa_main_path.exists():\n",
        "    print(cafa_main_path)\n",
        "    kaggle.api.competition_download_cli(str(cafa_main_path))\n",
        "    zipfile.ZipFile(f'{cafa_main_path}.zip').extractall(cafa_main_path)\n",
        "  for data_path in data_paths:\n",
        "    if not data_path.exists():\n",
        "      print(data_path)\n",
        "      kaggle.api.dataset_download_files(str(data_path))\n",
        "      zipfile.ZipFile(f'{data_path.name}.zip').extractall(data_path.name)"
      ]
    },
    {
      "cell_type": "code",
      "execution_count": 6,
      "metadata": {
        "id": "3aXZhbD2BZ-5"
      },
      "outputs": [],
      "source": [
        "import obonet\n",
        "import time\n",
        "\n",
        "import networkx as nx\n",
        "import pandas as pd\n",
        "import numpy as np\n",
        "from Bio import SeqIO\n",
        "from tqdm import tqdm\n",
        "import matplotlib.pyplot as plt\n",
        "plt.style.use('ggplot')\n",
        "\n",
        "# TORCH MODULES FOR METRICS COMPUTATION :\n",
        "import torch\n",
        "from torch.utils.data import Dataset\n",
        "from torch import nn\n",
        "from torch.utils.data import random_split\n",
        "from torch.optim.lr_scheduler import ReduceLROnPlateau\n",
        "from torchmetrics.classification import MultilabelF1Score\n",
        "from torchmetrics.classification import MultilabelAccuracy"
      ]
    },
    {
      "cell_type": "code",
      "execution_count": 7,
      "metadata": {
        "id": "sEKYAk-F_SNB"
      },
      "outputs": [],
      "source": [
        "# graph = obonet.read_obo(CFG.train_go_obo_path)"
      ]
    },
    {
      "cell_type": "code",
      "execution_count": 8,
      "metadata": {
        "id": "WeE95EkqAyJt"
      },
      "outputs": [],
      "source": [
        "# # Information Accretion values for terms\n",
        "# ia_dict = {}\n",
        "# with open(CFG.train_ia_path) as f:\n",
        "#     for line in f:\n",
        "#         (key, value) = line.split(\"\\t\")\n",
        "#         ia_dict[key] = float(value.replace(\"\\n\",\"\"))"
      ]
    },
    {
      "cell_type": "code",
      "execution_count": 9,
      "metadata": {
        "id": "DbYo5BvpBUq6"
      },
      "outputs": [],
      "source": [
        "# subontology_roots = {'BPO':'GO:0008150',\n",
        "#                      'CCO':'GO:0005575',\n",
        "#                      'MFO':'GO:0003674'}\n",
        "\n",
        "# BPO_nodes = nx.ancestors(graph, subontology_roots['BPO'])\n",
        "# CCO_nodes = nx.ancestors(graph, subontology_roots['CCO'])\n",
        "# MFO_nodes = nx.ancestors(graph, subontology_roots['MFO'])\n",
        "\n",
        "# BPO_len = len(BPO_nodes)\n",
        "# CCO_len = len(CCO_nodes)\n",
        "# MFO_len = len(MFO_nodes)\n",
        "# print(BPO_len, CCO_len, MFO_len, BPO_len + CCO_len + MFO_len)"
      ]
    },
    {
      "cell_type": "code",
      "execution_count": 10,
      "metadata": {
        "colab": {
          "base_uri": "https://localhost:8080/",
          "height": 225
        },
        "id": "6IfEKF4KBX75",
        "outputId": "6f59c380-575d-4986-a419-b5c363a01635"
      },
      "outputs": [
        {
          "output_type": "stream",
          "name": "stdout",
          "text": [
            "(5363863, 3)\n"
          ]
        },
        {
          "output_type": "execute_result",
          "data": {
            "text/plain": [
              "      EntryID        term aspect\n",
              "0  A0A009IHW8  GO:0008152    BPO\n",
              "1  A0A009IHW8  GO:0034655    BPO\n",
              "2  A0A009IHW8  GO:0072523    BPO\n",
              "3  A0A009IHW8  GO:0044270    BPO\n",
              "4  A0A009IHW8  GO:0006753    BPO"
            ],
            "text/html": [
              "\n",
              "\n",
              "  <div id=\"df-c885469f-e4bd-47d7-8aa6-b73a023f0e1f\">\n",
              "    <div class=\"colab-df-container\">\n",
              "      <div>\n",
              "<style scoped>\n",
              "    .dataframe tbody tr th:only-of-type {\n",
              "        vertical-align: middle;\n",
              "    }\n",
              "\n",
              "    .dataframe tbody tr th {\n",
              "        vertical-align: top;\n",
              "    }\n",
              "\n",
              "    .dataframe thead th {\n",
              "        text-align: right;\n",
              "    }\n",
              "</style>\n",
              "<table border=\"1\" class=\"dataframe\">\n",
              "  <thead>\n",
              "    <tr style=\"text-align: right;\">\n",
              "      <th></th>\n",
              "      <th>EntryID</th>\n",
              "      <th>term</th>\n",
              "      <th>aspect</th>\n",
              "    </tr>\n",
              "  </thead>\n",
              "  <tbody>\n",
              "    <tr>\n",
              "      <th>0</th>\n",
              "      <td>A0A009IHW8</td>\n",
              "      <td>GO:0008152</td>\n",
              "      <td>BPO</td>\n",
              "    </tr>\n",
              "    <tr>\n",
              "      <th>1</th>\n",
              "      <td>A0A009IHW8</td>\n",
              "      <td>GO:0034655</td>\n",
              "      <td>BPO</td>\n",
              "    </tr>\n",
              "    <tr>\n",
              "      <th>2</th>\n",
              "      <td>A0A009IHW8</td>\n",
              "      <td>GO:0072523</td>\n",
              "      <td>BPO</td>\n",
              "    </tr>\n",
              "    <tr>\n",
              "      <th>3</th>\n",
              "      <td>A0A009IHW8</td>\n",
              "      <td>GO:0044270</td>\n",
              "      <td>BPO</td>\n",
              "    </tr>\n",
              "    <tr>\n",
              "      <th>4</th>\n",
              "      <td>A0A009IHW8</td>\n",
              "      <td>GO:0006753</td>\n",
              "      <td>BPO</td>\n",
              "    </tr>\n",
              "  </tbody>\n",
              "</table>\n",
              "</div>\n",
              "      <button class=\"colab-df-convert\" onclick=\"convertToInteractive('df-c885469f-e4bd-47d7-8aa6-b73a023f0e1f')\"\n",
              "              title=\"Convert this dataframe to an interactive table.\"\n",
              "              style=\"display:none;\">\n",
              "\n",
              "  <svg xmlns=\"http://www.w3.org/2000/svg\" height=\"24px\"viewBox=\"0 0 24 24\"\n",
              "       width=\"24px\">\n",
              "    <path d=\"M0 0h24v24H0V0z\" fill=\"none\"/>\n",
              "    <path d=\"M18.56 5.44l.94 2.06.94-2.06 2.06-.94-2.06-.94-.94-2.06-.94 2.06-2.06.94zm-11 1L8.5 8.5l.94-2.06 2.06-.94-2.06-.94L8.5 2.5l-.94 2.06-2.06.94zm10 10l.94 2.06.94-2.06 2.06-.94-2.06-.94-.94-2.06-.94 2.06-2.06.94z\"/><path d=\"M17.41 7.96l-1.37-1.37c-.4-.4-.92-.59-1.43-.59-.52 0-1.04.2-1.43.59L10.3 9.45l-7.72 7.72c-.78.78-.78 2.05 0 2.83L4 21.41c.39.39.9.59 1.41.59.51 0 1.02-.2 1.41-.59l7.78-7.78 2.81-2.81c.8-.78.8-2.07 0-2.86zM5.41 20L4 18.59l7.72-7.72 1.47 1.35L5.41 20z\"/>\n",
              "  </svg>\n",
              "      </button>\n",
              "\n",
              "\n",
              "\n",
              "    <div id=\"df-574f22e9-b387-4e4b-8db1-90c06fe3c928\">\n",
              "      <button class=\"colab-df-quickchart\" onclick=\"quickchart('df-574f22e9-b387-4e4b-8db1-90c06fe3c928')\"\n",
              "              title=\"Suggest charts.\"\n",
              "              style=\"display:none;\">\n",
              "\n",
              "<svg xmlns=\"http://www.w3.org/2000/svg\" height=\"24px\"viewBox=\"0 0 24 24\"\n",
              "     width=\"24px\">\n",
              "    <g>\n",
              "        <path d=\"M19 3H5c-1.1 0-2 .9-2 2v14c0 1.1.9 2 2 2h14c1.1 0 2-.9 2-2V5c0-1.1-.9-2-2-2zM9 17H7v-7h2v7zm4 0h-2V7h2v10zm4 0h-2v-4h2v4z\"/>\n",
              "    </g>\n",
              "</svg>\n",
              "      </button>\n",
              "    </div>\n",
              "\n",
              "<style>\n",
              "  .colab-df-quickchart {\n",
              "    background-color: #E8F0FE;\n",
              "    border: none;\n",
              "    border-radius: 50%;\n",
              "    cursor: pointer;\n",
              "    display: none;\n",
              "    fill: #1967D2;\n",
              "    height: 32px;\n",
              "    padding: 0 0 0 0;\n",
              "    width: 32px;\n",
              "  }\n",
              "\n",
              "  .colab-df-quickchart:hover {\n",
              "    background-color: #E2EBFA;\n",
              "    box-shadow: 0px 1px 2px rgba(60, 64, 67, 0.3), 0px 1px 3px 1px rgba(60, 64, 67, 0.15);\n",
              "    fill: #174EA6;\n",
              "  }\n",
              "\n",
              "  [theme=dark] .colab-df-quickchart {\n",
              "    background-color: #3B4455;\n",
              "    fill: #D2E3FC;\n",
              "  }\n",
              "\n",
              "  [theme=dark] .colab-df-quickchart:hover {\n",
              "    background-color: #434B5C;\n",
              "    box-shadow: 0px 1px 3px 1px rgba(0, 0, 0, 0.15);\n",
              "    filter: drop-shadow(0px 1px 2px rgba(0, 0, 0, 0.3));\n",
              "    fill: #FFFFFF;\n",
              "  }\n",
              "</style>\n",
              "\n",
              "    <script>\n",
              "      async function quickchart(key) {\n",
              "        const containerElement = document.querySelector('#' + key);\n",
              "        const charts = await google.colab.kernel.invokeFunction(\n",
              "            'suggestCharts', [key], {});\n",
              "      }\n",
              "    </script>\n",
              "\n",
              "      <script>\n",
              "\n",
              "function displayQuickchartButton(domScope) {\n",
              "  let quickchartButtonEl =\n",
              "    domScope.querySelector('#df-574f22e9-b387-4e4b-8db1-90c06fe3c928 button.colab-df-quickchart');\n",
              "  quickchartButtonEl.style.display =\n",
              "    google.colab.kernel.accessAllowed ? 'block' : 'none';\n",
              "}\n",
              "\n",
              "        displayQuickchartButton(document);\n",
              "      </script>\n",
              "      <style>\n",
              "    .colab-df-container {\n",
              "      display:flex;\n",
              "      flex-wrap:wrap;\n",
              "      gap: 12px;\n",
              "    }\n",
              "\n",
              "    .colab-df-convert {\n",
              "      background-color: #E8F0FE;\n",
              "      border: none;\n",
              "      border-radius: 50%;\n",
              "      cursor: pointer;\n",
              "      display: none;\n",
              "      fill: #1967D2;\n",
              "      height: 32px;\n",
              "      padding: 0 0 0 0;\n",
              "      width: 32px;\n",
              "    }\n",
              "\n",
              "    .colab-df-convert:hover {\n",
              "      background-color: #E2EBFA;\n",
              "      box-shadow: 0px 1px 2px rgba(60, 64, 67, 0.3), 0px 1px 3px 1px rgba(60, 64, 67, 0.15);\n",
              "      fill: #174EA6;\n",
              "    }\n",
              "\n",
              "    [theme=dark] .colab-df-convert {\n",
              "      background-color: #3B4455;\n",
              "      fill: #D2E3FC;\n",
              "    }\n",
              "\n",
              "    [theme=dark] .colab-df-convert:hover {\n",
              "      background-color: #434B5C;\n",
              "      box-shadow: 0px 1px 3px 1px rgba(0, 0, 0, 0.15);\n",
              "      filter: drop-shadow(0px 1px 2px rgba(0, 0, 0, 0.3));\n",
              "      fill: #FFFFFF;\n",
              "    }\n",
              "  </style>\n",
              "\n",
              "      <script>\n",
              "        const buttonEl =\n",
              "          document.querySelector('#df-c885469f-e4bd-47d7-8aa6-b73a023f0e1f button.colab-df-convert');\n",
              "        buttonEl.style.display =\n",
              "          google.colab.kernel.accessAllowed ? 'block' : 'none';\n",
              "\n",
              "        async function convertToInteractive(key) {\n",
              "          const element = document.querySelector('#df-c885469f-e4bd-47d7-8aa6-b73a023f0e1f');\n",
              "          const dataTable =\n",
              "            await google.colab.kernel.invokeFunction('convertToInteractive',\n",
              "                                                     [key], {});\n",
              "          if (!dataTable) return;\n",
              "\n",
              "          const docLinkHtml = 'Like what you see? Visit the ' +\n",
              "            '<a target=\"_blank\" href=https://colab.research.google.com/notebooks/data_table.ipynb>data table notebook</a>'\n",
              "            + ' to learn more about interactive tables.';\n",
              "          element.innerHTML = '';\n",
              "          dataTable['output_type'] = 'display_data';\n",
              "          await google.colab.output.renderOutput(dataTable, element);\n",
              "          const docLink = document.createElement('div');\n",
              "          docLink.innerHTML = docLinkHtml;\n",
              "          element.appendChild(docLink);\n",
              "        }\n",
              "      </script>\n",
              "    </div>\n",
              "  </div>\n"
            ]
          },
          "metadata": {},
          "execution_count": 10
        }
      ],
      "source": [
        "train_terms = pd.read_csv(CFG.train_terms_path, sep=\"\\t\")\n",
        "# train_terms['ia'] = train_terms['term'].apply(lambda x: ia_dict[x])\n",
        "print(train_terms.shape)\n",
        "train_terms.head(5)"
      ]
    },
    {
      "cell_type": "markdown",
      "metadata": {
        "id": "1nUmpeIoH-PH"
      },
      "source": [
        "## Use embeddings to find similar proteins for classification"
      ]
    },
    {
      "cell_type": "code",
      "execution_count": 11,
      "metadata": {
        "id": "glJt_XKeCmtw"
      },
      "outputs": [],
      "source": [
        "from sklearn.model_selection import train_test_split\n",
        "from sklearn.preprocessing import normalize\n",
        "\n",
        "import faiss"
      ]
    },
    {
      "cell_type": "code",
      "execution_count": 12,
      "metadata": {
        "id": "Vgq_exbhgDxR",
        "colab": {
          "base_uri": "https://localhost:8080/"
        },
        "outputId": "7a2941d1-e49e-4742-9c5b-7be00c9c9745"
      },
      "outputs": [
        {
          "output_type": "stream",
          "name": "stdout",
          "text": [
            "(142246, 1024)\n"
          ]
        }
      ],
      "source": [
        "# Directories for the different embedding vectors :\n",
        "embeds_map = {\n",
        "    \"T5\" : \"t5embeds\",\n",
        "    \"ProtBERT\" : \"protbert-embeddings-for-cafa5\",\n",
        "    \"ESM2\" : \"cafa-5-ems-2-embeddings-numpy\"\n",
        "}\n",
        "\n",
        "# Length of the different embedding vectors :\n",
        "embeds_dim = {\n",
        "    \"T5\" : 1024,\n",
        "    \"ProtBERT\" : 1024,\n",
        "    \"ESM2\" : 1280,\n",
        "    \"Concat\": 1280+1024,\n",
        "}\n",
        "\n",
        "datatype = \"train\"\n",
        "# bert_embeds = np.load(f\"{content_dir}/\"+embeds_map[\"ProtBERT\"]+\"/\"+datatype+\"_embeddings.npy\")\n",
        "# bert_ids = np.load(f\"{content_dir}/\"+embeds_map[\"ProtBERT\"]+\"/\"+datatype+\"_ids.npy\")\n",
        "# esm2_embeds = np.load(f\"{content_dir}/\"+embeds_map[\"ESM2\"]+\"/\"+datatype+\"_embeddings.npy\")\n",
        "# esm2_ids = np.load(f\"{content_dir}/\"+embeds_map[\"ESM2\"]+\"/\"+datatype+\"_ids.npy\")\n",
        "t5_train_embeds = np.load(f\"{content_dir}/\"+embeds_map[\"T5\"]+\"/\"+datatype+\"_embeds.npy\")\n",
        "t5_train_embeds = normalize(t5_train_embeds, axis=1, norm='l2').astype(np.float32)\n",
        "t5_train_ids = np.load(f\"{content_dir}/\"+embeds_map[\"T5\"]+\"/\"+datatype+\"_ids.npy\")\n",
        "\n",
        "datetype = \"test\"\n",
        "t5_test_embeds = np.load(f\"{content_dir}/\"+embeds_map[\"T5\"]+\"/\"+datatype+\"_embeds.npy\")\n",
        "t5_test_embeds = normalize(t5_test_embeds, axis=1, norm='l2').astype(np.float32)\n",
        "t5_test_ids = np.load(f\"{content_dir}/\"+embeds_map[\"T5\"]+\"/\"+datatype+\"_ids.npy\")\n",
        "\n",
        "print(t5_train_embeds.shape)"
      ]
    },
    {
      "cell_type": "code",
      "source": [
        "T5_embed_dict = dict(zip(t5_train_ids, t5_train_embeds))"
      ],
      "metadata": {
        "id": "hZg8UkO0CkR2"
      },
      "execution_count": 13,
      "outputs": []
    },
    {
      "cell_type": "code",
      "source": [
        "from sklearn.preprocessing import OneHotEncoder\n",
        "from scipy import sparse\n",
        "\n",
        "def get_agg_labels(train_terms, aspect):\n",
        "  df = train_terms[train_terms['aspect'] == aspect].sort_values('EntryID').reset_index(drop=True)\n",
        "  idx_dict = df.reset_index().groupby(['EntryID'])['index'].agg(['min', 'max']).apply(lambda rw: (rw['min'], rw['max']+1), axis=1).to_dict()\n",
        "\n",
        "  ohe = OneHotEncoder()\n",
        "  aspect_ohe = ohe.fit_transform(train_terms[train_terms['aspect'] == aspect]['term'].values.reshape(-1,1)).toarray()\n",
        "  agg_labels = np.vstack([aspect_ohe[l:u].sum(axis=0) for l,u in idx_dict.values()])\n",
        "\n",
        "  del aspect_ohe\n",
        "\n",
        "  agg_labels_sparse = sparse.csr_matrix(agg_labels)\n",
        "\n",
        "  del agg_labels\n",
        "\n",
        "  ids = df['EntryID'].unique()\n",
        "\n",
        "  return ids, agg_labels_sparse, ohe"
      ],
      "metadata": {
        "id": "OuYi-kaJJqUO"
      },
      "execution_count": 14,
      "outputs": []
    },
    {
      "cell_type": "code",
      "source": [
        "BPO_ids, BPO_agg_labels, BPO_ohe = get_agg_labels(train_terms, 'BPO')\n",
        "CCO_ids, CCO_agg_labels, CCO_ohe = get_agg_labels(train_terms, 'CCO')\n",
        "MFO_ids, MFO_agg_labels, MFO_ohe = get_agg_labels(train_terms, 'MFO')"
      ],
      "metadata": {
        "id": "cZA7uLZnKqoR"
      },
      "execution_count": 15,
      "outputs": []
    },
    {
      "cell_type": "code",
      "execution_count": 16,
      "metadata": {
        "id": "JajEKGU4IB-a",
        "colab": {
          "base_uri": "https://localhost:8080/"
        },
        "outputId": "a371f1fc-4ba9-4e04-e655-7ba33f4026ea"
      },
      "outputs": [
        {
          "output_type": "stream",
          "name": "stdout",
          "text": [
            "BPO\n",
            "Train label (73768, 21285)\n",
            "Test label (18442, 21285)\n",
            "CCO\n",
            "Train label (74329, 2957)\n",
            "Test label (18583, 2957)\n",
            "MFO\n",
            "Train label (62909, 7224)\n",
            "Test label (15728, 7224)\n"
          ]
        }
      ],
      "source": [
        "# Split into train, val, test\n",
        "BPO_train_ids, BPO_test_ids, BPO_train_labels, BPO_test_labels = train_test_split(BPO_ids, BPO_agg_labels, test_size = 0.2)\n",
        "print(\"BPO\")\n",
        "print(\"Train label\", BPO_train_labels.shape)\n",
        "print(\"Test label\", BPO_test_labels.shape)\n",
        "CCO_train_ids, CCO_test_ids, CCO_train_labels, CCO_test_labels = train_test_split(CCO_ids, CCO_agg_labels, test_size = 0.2)\n",
        "print(\"CCO\")\n",
        "print(\"Train label\", CCO_train_labels.shape)\n",
        "print(\"Test label\", CCO_test_labels.shape)\n",
        "MFO_train_ids, MFO_test_ids, MFO_train_labels, MFO_test_labels = train_test_split(MFO_ids, MFO_agg_labels, test_size = 0.2)\n",
        "print(\"MFO\")\n",
        "print(\"Train label\", MFO_train_labels.shape)\n",
        "print(\"Test label\", MFO_test_labels.shape)"
      ]
    },
    {
      "cell_type": "code",
      "source": [
        "def get_T5_preds(T5_embed_dict, train_ids, test_ids, train_labels, k):\n",
        "  index = faiss.IndexFlatIP(embeds_dim[\"T5\"])\n",
        "\n",
        "  # make it into a gpu index\n",
        "  res = faiss.StandardGpuResources()  # use a single GPU\n",
        "  gpu_index = faiss.index_cpu_to_gpu(res, 0, index)\n",
        "\n",
        "  gpu_index.add(np.vstack([T5_embed_dict[p] for p in train_ids]))\n",
        "\n",
        "  D, I = gpu_index.search(np.vstack([T5_embed_dict[p] for p in test_ids]), k=k)\n",
        "\n",
        "  preds = []\n",
        "  for i, p in enumerate(test_ids):\n",
        "    d = D[i]\n",
        "    i = I[i]\n",
        "    weight_vec = (-1/np.log(d))/(-1/np.log(d)).sum()\n",
        "    weight_vec = weight_vec[..., None]\n",
        "    top_k_labels = np.vstack(train_labels[i])\n",
        "    weighted_preds = np.multiply(top_k_labels, weight_vec).sum(axis=0)\n",
        "    preds.append(weighted_preds)\n",
        "\n",
        "  return preds"
      ],
      "metadata": {
        "id": "OrM-Y_ElNnY6"
      },
      "execution_count": 17,
      "outputs": []
    },
    {
      "cell_type": "code",
      "source": [
        "BPO_preds = get_T5_preds(T5_embed_dict, BPO_train_ids, BPO_test_ids, BPO_train_labels, 1)\n",
        "CCO_preds = get_T5_preds(T5_embed_dict, CCO_train_ids, CCO_test_ids, CCO_train_labels, 2)\n",
        "MFO_preds = get_T5_preds(T5_embed_dict, MFO_train_ids, MFO_test_ids, MFO_train_labels, 3)"
      ],
      "metadata": {
        "colab": {
          "base_uri": "https://localhost:8080/"
        },
        "id": "j0b0BBI9PaGO",
        "outputId": "b6546776-8334-4b9d-ec01-e4a57acb18dd"
      },
      "execution_count": 18,
      "outputs": [
        {
          "output_type": "stream",
          "name": "stderr",
          "text": [
            "<ipython-input-17-85389e8c8b18>:16: RuntimeWarning: divide by zero encountered in true_divide\n",
            "  weight_vec = (-1/np.log(d))/(-1/np.log(d)).sum()\n",
            "<ipython-input-17-85389e8c8b18>:16: RuntimeWarning: invalid value encountered in true_divide\n",
            "  weight_vec = (-1/np.log(d))/(-1/np.log(d)).sum()\n"
          ]
        }
      ]
    },
    {
      "cell_type": "code",
      "source": [
        "def get_score(test_labels, preds):\n",
        "  f1_score = MultilabelF1Score(num_labels=test_labels.shape[1]).to('cpu')\n",
        "  preds = torch.from_numpy(np.vstack([p[0].todense() for p in preds])).to('cpu')\n",
        "  labels = torch.from_numpy(test_labels.todense()).to('cpu')\n",
        "  score = f1_score(preds, labels)\n",
        "  return score"
      ],
      "metadata": {
        "id": "e_txw0JeUgxd"
      },
      "execution_count": 19,
      "outputs": []
    },
    {
      "cell_type": "code",
      "source": [
        "print(get_score(BPO_test_labels, BPO_preds))\n",
        "print(get_score(CCO_test_labels, CCO_preds))\n",
        "print(get_score(MFO_test_labels, MFO_preds))"
      ],
      "metadata": {
        "colab": {
          "base_uri": "https://localhost:8080/"
        },
        "id": "emab9TcSP9UM",
        "outputId": "dc66ae20-a599-47f2-b875-848d74755945"
      },
      "execution_count": 20,
      "outputs": [
        {
          "output_type": "stream",
          "name": "stdout",
          "text": [
            "tensor(0.1798)\n",
            "tensor(0.2154)\n",
            "tensor(0.2465)\n"
          ]
        }
      ]
    },
    {
      "cell_type": "code",
      "source": [
        "# CCO\n",
        "# 0.2108 k = 2\n",
        "# BPO\n",
        "# 0.1791 k = 1\n",
        "# 0.1683 k = 2\n",
        "# 0.1510 k = 3\n",
        "# MFO\n",
        "# 0.2561 k = 1\n"
      ],
      "metadata": {
        "id": "-oOxjKy6U72N"
      },
      "execution_count": 21,
      "outputs": []
    },
    {
      "cell_type": "markdown",
      "metadata": {
        "id": "dnh-ResZD_mp"
      },
      "source": [
        "## Make Predictions"
      ]
    },
    {
      "cell_type": "code",
      "source": [
        "BPO_test_preds = get_T5_preds(T5_embed_dict, BPO_ids, t5_test_ids, BPO_agg_labels, 1)\n",
        "CCO_test_preds = get_T5_preds(T5_embed_dict, CCO_ids, t5_test_ids, CCO_agg_labels, 1)\n",
        "MFO_test_preds = get_T5_preds(T5_embed_dict, MFO_ids, t5_test_ids, MFO_agg_labels, 1)"
      ],
      "metadata": {
        "colab": {
          "base_uri": "https://localhost:8080/"
        },
        "id": "Wg-5lZjMWm2y",
        "outputId": "ee506ea7-d84d-41d3-b232-e652cfa4ad16"
      },
      "execution_count": 22,
      "outputs": [
        {
          "output_type": "stream",
          "name": "stderr",
          "text": [
            "<ipython-input-17-85389e8c8b18>:16: RuntimeWarning: divide by zero encountered in true_divide\n",
            "  weight_vec = (-1/np.log(d))/(-1/np.log(d)).sum()\n",
            "<ipython-input-17-85389e8c8b18>:16: RuntimeWarning: invalid value encountered in true_divide\n",
            "  weight_vec = (-1/np.log(d))/(-1/np.log(d)).sum()\n"
          ]
        }
      ]
    },
    {
      "cell_type": "code",
      "source": [],
      "metadata": {
        "id": "HKs8gSgOU_co"
      },
      "execution_count": null,
      "outputs": []
    },
    {
      "cell_type": "code",
      "source": [
        "def create_submission_df(ids, test_preds, ohe):\n",
        "  id_list = []\n",
        "  term_list = []\n",
        "  confidence_list = []\n",
        "\n",
        "  for idx, protein in enumerate(ids):\n",
        "    protein_preds = test_preds[idx][0]\n",
        "    pred_idx = protein_preds.indices\n",
        "    pred_terms = [ohe.categories_[0][i] for i in pred_idx]\n",
        "    pred_values = list(protein_preds.data)\n",
        "    num_preds = len(pred_values)\n",
        "\n",
        "    id_list += [protein] * num_preds\n",
        "    term_list += pred_terms\n",
        "    confidence_list += pred_values\n",
        "\n",
        "  submission_df = pd.DataFrame({'Id': id_list, 'GO term': term_list, 'Confidence': confidence_list})\n",
        "\n",
        "  return submission_df\n"
      ],
      "metadata": {
        "id": "ceNn04E3cvJ_"
      },
      "execution_count": 42,
      "outputs": []
    },
    {
      "cell_type": "code",
      "source": [
        "BPO_df = create_submission_df(BPO_ids, BPO_test_preds, BPO_ohe)\n",
        "CCO_df = create_submission_df(CCO_ids, CCO_test_preds, CCO_ohe)\n",
        "MFO_df = create_submission_df(MFO_ids, MFO_test_preds, MFO_ohe)"
      ],
      "metadata": {
        "id": "Z13ADKB6ZT6W"
      },
      "execution_count": 44,
      "outputs": []
    },
    {
      "cell_type": "code",
      "source": [
        "submission_df = pd.concat([BPO_df, CCO_df, MFO_df])"
      ],
      "metadata": {
        "id": "T3Jgsb6rWmrG"
      },
      "execution_count": 45,
      "outputs": []
    },
    {
      "cell_type": "code",
      "source": [
        "submission_df.to_csv('submission.tsv', sep='\\t', index=False)"
      ],
      "metadata": {
        "id": "ekuI0nnPZ7p_"
      },
      "execution_count": 47,
      "outputs": []
    }
  ],
  "metadata": {
    "accelerator": "GPU",
    "colab": {
      "machine_shape": "hm",
      "provenance": [],
      "authorship_tag": "ABX9TyOetGwOQFXOZQaGBdLaKzpj",
      "include_colab_link": true
    },
    "kernelspec": {
      "display_name": "Python 3",
      "name": "python3"
    },
    "language_info": {
      "name": "python"
    }
  },
  "nbformat": 4,
  "nbformat_minor": 0
}