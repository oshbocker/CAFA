{
  "cells": [
    {
      "cell_type": "markdown",
      "metadata": {
        "id": "view-in-github",
        "colab_type": "text"
      },
      "source": [
        "<a href=\"https://colab.research.google.com/github/oshbocker/CAFA/blob/main/CAFA_baseline.ipynb\" target=\"_parent\"><img src=\"https://colab.research.google.com/assets/colab-badge.svg\" alt=\"Open In Colab\"/></a>"
      ]
    },
    {
      "cell_type": "code",
      "execution_count": null,
      "metadata": {
        "id": "UFWWnN7G68P7",
        "colab": {
          "base_uri": "https://localhost:8080/"
        },
        "outputId": "cb87b554-e7bc-4a89-a88b-e425dd4ea885"
      },
      "outputs": [
        {
          "output_type": "stream",
          "name": "stdout",
          "text": [
            "mkdir: cannot create directory ‘/root/.kaggle’: File exists\n"
          ]
        }
      ],
      "source": [
        "!mkdir ~/.kaggle\n",
        "!touch ~/.kaggle/kaggle.json\n",
        "\n",
        "api_token = {\"username\":\"oshbocker\",\"key\":\"bb9c6a60ba5c39e689d8cf8d15cb8bca\"}\n",
        "\n",
        "import json\n",
        "\n",
        "with open('/root/.kaggle/kaggle.json', 'w') as file:\n",
        "    json.dump(api_token, file)\n",
        "\n",
        "!chmod 600 ~/.kaggle/kaggle.json"
      ]
    },
    {
      "cell_type": "code",
      "execution_count": null,
      "metadata": {
        "id": "DNK1P6aAAVR3"
      },
      "outputs": [],
      "source": [
        "!pip install obonet -q\n",
        "!pip install biopython -q\n",
        "!pip install torchmetrics -q"
      ]
    },
    {
      "cell_type": "code",
      "execution_count": null,
      "metadata": {
        "id": "WSawJTx67Cgs"
      },
      "outputs": [],
      "source": [
        "import os\n",
        "import torch\n",
        "\n",
        "from pathlib import Path\n",
        "\n",
        "\n",
        "iskaggle = os.environ.get('KAGGLE_KERNEL_RUN_TYPE', '')\n",
        "\n",
        "cafa_main_path = Path(\"cafa-5-protein-function-prediction\")\n",
        "cafa_clean_fasta_path = Path(\"viktorfairuschin/cafa-5-fasta-files\")\n",
        "esm2_path = Path(\"viktorfairuschin/cafa-5-ems-2-embeddings-numpy\")\n",
        "protbert_path = Path(\"henriupton/protbert-embeddings-for-cafa5\")\n",
        "t5_path = Path(\"sergeifironov/t5embeds\")\n",
        "\n",
        "data_paths = [cafa_clean_fasta_path, esm2_path, protbert_path, t5_path]\n",
        "\n",
        "if iskaggle:\n",
        "  content_dir = \"/kaggle/input\"\n",
        "else:\n",
        "  content_dir = \"/content\"\n",
        "\n",
        "class CFG:\n",
        "    train_go_obo_path: str = f\"{content_dir}/cafa-5-protein-function-prediction/Train/go-basic.obo\"\n",
        "    train_seq_fasta_path: str = f\"{content_dir}/cafa-5-protein-function-prediction/Train/train_sequences.fasta\"\n",
        "    train_terms_path: str = f\"{content_dir}/cafa-5-protein-function-prediction/Train/train_terms.tsv\"\n",
        "    train_taxonomy_path: str = f\"{content_dir}/cafa-5-protein-function-prediction/Train/train_taxonomy.tsv\"\n",
        "    train_ia_path: str = f\"{content_dir}/cafa-5-protein-function-prediction/IA.txt\"\n",
        "    test_sequences_path: str = f\"{content_dir}/Test (Targets)/testsuperset.fasta\"\n",
        "\n",
        "    num_labels = 500\n",
        "    n_epochs = 14\n",
        "    batch_size = 128\n",
        "    lr = 0.0005\n",
        "\n",
        "    device = torch.device('cuda' if torch.cuda.is_available() else 'cpu')\n"
      ]
    },
    {
      "cell_type": "code",
      "execution_count": null,
      "metadata": {
        "colab": {
          "base_uri": "https://localhost:8080/"
        },
        "id": "Pj8wOdbQ_Vvt",
        "outputId": "038fc695-ef9f-4614-c625-f4e0656d6ce6"
      },
      "outputs": [
        {
          "output_type": "stream",
          "name": "stdout",
          "text": [
            "viktorfairuschin/cafa-5-fasta-files\n",
            "viktorfairuschin/cafa-5-ems-2-embeddings-numpy\n",
            "henriupton/protbert-embeddings-for-cafa5\n",
            "sergeifironov/t5embeds\n"
          ]
        }
      ],
      "source": [
        "if not iskaggle:\n",
        "  import zipfile,kaggle\n",
        "  if not cafa_main_path.exists():\n",
        "    print(cafa_main_path)\n",
        "    kaggle.api.competition_download_cli(str(cafa_main_path))\n",
        "    zipfile.ZipFile(f'{cafa_main_path}.zip').extractall(cafa_main_path)\n",
        "  for data_path in data_paths:\n",
        "    if not data_path.exists():\n",
        "      print(data_path)\n",
        "      kaggle.api.dataset_download_files(str(data_path))\n",
        "      zipfile.ZipFile(f'{data_path.name}.zip').extractall(data_path.name)"
      ]
    },
    {
      "cell_type": "code",
      "execution_count": null,
      "metadata": {
        "id": "3aXZhbD2BZ-5"
      },
      "outputs": [],
      "source": [
        "import obonet\n",
        "import time\n",
        "\n",
        "import networkx as nx\n",
        "import pandas as pd\n",
        "import numpy as np\n",
        "from Bio import SeqIO\n",
        "from tqdm import tqdm\n",
        "import matplotlib.pyplot as plt\n",
        "plt.style.use('ggplot')\n",
        "\n",
        "# TORCH MODULES FOR METRICS COMPUTATION :\n",
        "import torch\n",
        "from torch.utils.data import Dataset\n",
        "from torch import nn\n",
        "from torch.utils.data import random_split\n",
        "from torch.optim.lr_scheduler import ReduceLROnPlateau\n",
        "from torchmetrics.classification import MultilabelF1Score\n",
        "from torchmetrics.classification import MultilabelAccuracy"
      ]
    },
    {
      "cell_type": "code",
      "execution_count": null,
      "metadata": {
        "id": "sEKYAk-F_SNB"
      },
      "outputs": [],
      "source": [
        "graph = obonet.read_obo(CFG.train_go_obo_path)"
      ]
    },
    {
      "cell_type": "code",
      "execution_count": null,
      "metadata": {
        "id": "WeE95EkqAyJt"
      },
      "outputs": [],
      "source": [
        "# Information Accretion values for terms\n",
        "ia_dict = {}\n",
        "with open(CFG.train_ia_path) as f:\n",
        "    for line in f:\n",
        "        (key, value) = line.split(\"\\t\")\n",
        "        ia_dict[key] = float(value.replace(\"\\n\",\"\"))"
      ]
    },
    {
      "cell_type": "code",
      "execution_count": null,
      "metadata": {
        "colab": {
          "base_uri": "https://localhost:8080/"
        },
        "id": "DbYo5BvpBUq6",
        "outputId": "42f67a54-f261-4185-a454-882104813ac5"
      },
      "outputs": [
        {
          "output_type": "stream",
          "name": "stdout",
          "text": [
            "27941 4042 11262 43245\n"
          ]
        }
      ],
      "source": [
        "subontology_roots = {'BPO':'GO:0008150',\n",
        "                     'CCO':'GO:0005575',\n",
        "                     'MFO':'GO:0003674'}\n",
        "\n",
        "BPO_len = len(nx.ancestors(graph, subontology_roots['BPO']))\n",
        "CCO_len = len(nx.ancestors(graph, subontology_roots['CCO']))\n",
        "MFO_len = len(nx.ancestors(graph, subontology_roots['MFO']))\n",
        "print(BPO_len, CCO_len, MFO_len, BPO_len + CCO_len + MFO_len)"
      ]
    },
    {
      "cell_type": "code",
      "execution_count": null,
      "metadata": {
        "colab": {
          "base_uri": "https://localhost:8080/",
          "height": 225
        },
        "id": "6IfEKF4KBX75",
        "outputId": "e318c3ac-b465-465b-d01f-c600dccb4f38"
      },
      "outputs": [
        {
          "output_type": "stream",
          "name": "stdout",
          "text": [
            "(5363863, 4)\n"
          ]
        },
        {
          "output_type": "execute_result",
          "data": {
            "text/plain": [
              "      EntryID        term aspect        ia\n",
              "0  A0A009IHW8  GO:0008152    BPO  1.598544\n",
              "1  A0A009IHW8  GO:0034655    BPO  0.042274\n",
              "2  A0A009IHW8  GO:0072523    BPO  0.083901\n",
              "3  A0A009IHW8  GO:0044270    BPO  0.281155\n",
              "4  A0A009IHW8  GO:0006753    BPO  0.013844"
            ],
            "text/html": [
              "\n",
              "  <div id=\"df-1b19e24a-7e1a-4c99-b76e-194e4e87bfa4\">\n",
              "    <div class=\"colab-df-container\">\n",
              "      <div>\n",
              "<style scoped>\n",
              "    .dataframe tbody tr th:only-of-type {\n",
              "        vertical-align: middle;\n",
              "    }\n",
              "\n",
              "    .dataframe tbody tr th {\n",
              "        vertical-align: top;\n",
              "    }\n",
              "\n",
              "    .dataframe thead th {\n",
              "        text-align: right;\n",
              "    }\n",
              "</style>\n",
              "<table border=\"1\" class=\"dataframe\">\n",
              "  <thead>\n",
              "    <tr style=\"text-align: right;\">\n",
              "      <th></th>\n",
              "      <th>EntryID</th>\n",
              "      <th>term</th>\n",
              "      <th>aspect</th>\n",
              "      <th>ia</th>\n",
              "    </tr>\n",
              "  </thead>\n",
              "  <tbody>\n",
              "    <tr>\n",
              "      <th>0</th>\n",
              "      <td>A0A009IHW8</td>\n",
              "      <td>GO:0008152</td>\n",
              "      <td>BPO</td>\n",
              "      <td>1.598544</td>\n",
              "    </tr>\n",
              "    <tr>\n",
              "      <th>1</th>\n",
              "      <td>A0A009IHW8</td>\n",
              "      <td>GO:0034655</td>\n",
              "      <td>BPO</td>\n",
              "      <td>0.042274</td>\n",
              "    </tr>\n",
              "    <tr>\n",
              "      <th>2</th>\n",
              "      <td>A0A009IHW8</td>\n",
              "      <td>GO:0072523</td>\n",
              "      <td>BPO</td>\n",
              "      <td>0.083901</td>\n",
              "    </tr>\n",
              "    <tr>\n",
              "      <th>3</th>\n",
              "      <td>A0A009IHW8</td>\n",
              "      <td>GO:0044270</td>\n",
              "      <td>BPO</td>\n",
              "      <td>0.281155</td>\n",
              "    </tr>\n",
              "    <tr>\n",
              "      <th>4</th>\n",
              "      <td>A0A009IHW8</td>\n",
              "      <td>GO:0006753</td>\n",
              "      <td>BPO</td>\n",
              "      <td>0.013844</td>\n",
              "    </tr>\n",
              "  </tbody>\n",
              "</table>\n",
              "</div>\n",
              "      <button class=\"colab-df-convert\" onclick=\"convertToInteractive('df-1b19e24a-7e1a-4c99-b76e-194e4e87bfa4')\"\n",
              "              title=\"Convert this dataframe to an interactive table.\"\n",
              "              style=\"display:none;\">\n",
              "        \n",
              "  <svg xmlns=\"http://www.w3.org/2000/svg\" height=\"24px\"viewBox=\"0 0 24 24\"\n",
              "       width=\"24px\">\n",
              "    <path d=\"M0 0h24v24H0V0z\" fill=\"none\"/>\n",
              "    <path d=\"M18.56 5.44l.94 2.06.94-2.06 2.06-.94-2.06-.94-.94-2.06-.94 2.06-2.06.94zm-11 1L8.5 8.5l.94-2.06 2.06-.94-2.06-.94L8.5 2.5l-.94 2.06-2.06.94zm10 10l.94 2.06.94-2.06 2.06-.94-2.06-.94-.94-2.06-.94 2.06-2.06.94z\"/><path d=\"M17.41 7.96l-1.37-1.37c-.4-.4-.92-.59-1.43-.59-.52 0-1.04.2-1.43.59L10.3 9.45l-7.72 7.72c-.78.78-.78 2.05 0 2.83L4 21.41c.39.39.9.59 1.41.59.51 0 1.02-.2 1.41-.59l7.78-7.78 2.81-2.81c.8-.78.8-2.07 0-2.86zM5.41 20L4 18.59l7.72-7.72 1.47 1.35L5.41 20z\"/>\n",
              "  </svg>\n",
              "      </button>\n",
              "      \n",
              "  <style>\n",
              "    .colab-df-container {\n",
              "      display:flex;\n",
              "      flex-wrap:wrap;\n",
              "      gap: 12px;\n",
              "    }\n",
              "\n",
              "    .colab-df-convert {\n",
              "      background-color: #E8F0FE;\n",
              "      border: none;\n",
              "      border-radius: 50%;\n",
              "      cursor: pointer;\n",
              "      display: none;\n",
              "      fill: #1967D2;\n",
              "      height: 32px;\n",
              "      padding: 0 0 0 0;\n",
              "      width: 32px;\n",
              "    }\n",
              "\n",
              "    .colab-df-convert:hover {\n",
              "      background-color: #E2EBFA;\n",
              "      box-shadow: 0px 1px 2px rgba(60, 64, 67, 0.3), 0px 1px 3px 1px rgba(60, 64, 67, 0.15);\n",
              "      fill: #174EA6;\n",
              "    }\n",
              "\n",
              "    [theme=dark] .colab-df-convert {\n",
              "      background-color: #3B4455;\n",
              "      fill: #D2E3FC;\n",
              "    }\n",
              "\n",
              "    [theme=dark] .colab-df-convert:hover {\n",
              "      background-color: #434B5C;\n",
              "      box-shadow: 0px 1px 3px 1px rgba(0, 0, 0, 0.15);\n",
              "      filter: drop-shadow(0px 1px 2px rgba(0, 0, 0, 0.3));\n",
              "      fill: #FFFFFF;\n",
              "    }\n",
              "  </style>\n",
              "\n",
              "      <script>\n",
              "        const buttonEl =\n",
              "          document.querySelector('#df-1b19e24a-7e1a-4c99-b76e-194e4e87bfa4 button.colab-df-convert');\n",
              "        buttonEl.style.display =\n",
              "          google.colab.kernel.accessAllowed ? 'block' : 'none';\n",
              "\n",
              "        async function convertToInteractive(key) {\n",
              "          const element = document.querySelector('#df-1b19e24a-7e1a-4c99-b76e-194e4e87bfa4');\n",
              "          const dataTable =\n",
              "            await google.colab.kernel.invokeFunction('convertToInteractive',\n",
              "                                                     [key], {});\n",
              "          if (!dataTable) return;\n",
              "\n",
              "          const docLinkHtml = 'Like what you see? Visit the ' +\n",
              "            '<a target=\"_blank\" href=https://colab.research.google.com/notebooks/data_table.ipynb>data table notebook</a>'\n",
              "            + ' to learn more about interactive tables.';\n",
              "          element.innerHTML = '';\n",
              "          dataTable['output_type'] = 'display_data';\n",
              "          await google.colab.output.renderOutput(dataTable, element);\n",
              "          const docLink = document.createElement('div');\n",
              "          docLink.innerHTML = docLinkHtml;\n",
              "          element.appendChild(docLink);\n",
              "        }\n",
              "      </script>\n",
              "    </div>\n",
              "  </div>\n",
              "  "
            ]
          },
          "metadata": {},
          "execution_count": 9
        }
      ],
      "source": [
        "train_terms = pd.read_csv(CFG.train_terms_path, sep=\"\\t\")\n",
        "train_terms['ia'] = train_terms['term'].apply(lambda x: ia_dict[x])\n",
        "print(train_terms.shape)\n",
        "train_terms.head(5)"
      ]
    },
    {
      "cell_type": "markdown",
      "metadata": {
        "id": "T7AYt0PhBt9M"
      },
      "source": [
        "## Get the leaf predictions for each protein\n",
        "A leaf prediction is a GO term that doesn't have any children that are also predictions for the protein."
      ]
    },
    {
      "cell_type": "code",
      "execution_count": null,
      "metadata": {
        "id": "l9mcM5F6BfEC"
      },
      "outputs": [],
      "source": [
        "def get_leaf_labels(train_terms, aspect):\n",
        "    # Group by protein and get a list of all go term predictions\n",
        "    protein_list_go_term = train_terms[train_terms['aspect'] == aspect].groupby('EntryID')['term'].apply(list)\n",
        "\n",
        "    leaf_labels = {}\n",
        "    for i, protein in enumerate(protein_list_go_term.index):\n",
        "        test_terms = set(protein_list_go_term[protein])\n",
        "        descendants = set()\n",
        "        for term in test_terms:\n",
        "            descendants.update(nx.descendants(graph, term))\n",
        "\n",
        "        specific_labels = test_terms.difference(descendants)\n",
        "        leaf_labels[protein] = list(specific_labels)\n",
        "\n",
        "    return leaf_labels\n",
        "\n",
        "from collections import deque\n",
        "\n",
        "# Get ordered list of all ancestors\n",
        "def leaf_label_ancestors(graph, leaf_labels):\n",
        "    ordered_edges_dict = {}\n",
        "    for label in leaf_labels:\n",
        "        # Get ancestors\n",
        "        ordered_edges = deque()\n",
        "        node_is_root = False\n",
        "        prev_node_id = label\n",
        "        while node_is_root == False:\n",
        "            node = graph.nodes[prev_node_id]\n",
        "            node_is_root = 'is_a' not in node\n",
        "            if not node_is_root:\n",
        "                prev_node_id = node['is_a'][0]\n",
        "                ordered_edges.appendleft(prev_node_id)\n",
        "        ordered_edges_dict[label] = ordered_edges\n",
        "\n",
        "    return ordered_edges_dict"
      ]
    },
    {
      "cell_type": "code",
      "execution_count": null,
      "metadata": {
        "id": "tvLok2i0CHNz"
      },
      "outputs": [],
      "source": [
        "def get_next_label(rw, depth=1):\n",
        "    if not rw['labeled'] and len(rw['ordered_edges']) > depth:\n",
        "        return rw['ordered_edges'][-depth]\n",
        "    else:\n",
        "        return rw['balanced_label']\n",
        "\n",
        "def is_final_balanced_label(rw, balanced_labels, depth=1):\n",
        "    if not rw['labeled']:\n",
        "        return (rw['balanced_label'] in balanced_labels) or (len(rw['ordered_edges']) == depth)\n",
        "    else:\n",
        "        return True\n",
        "\n",
        "def get_balanced_labels(label_df, label_count_threshold):\n",
        "    df = label_df.copy()\n",
        "    balanced_labels = set([label for label, count in df['label'].value_counts().items()\n",
        "                           if count >= label_count_threshold])\n",
        "    df['labeled'] = df['label'].apply(lambda x: x in balanced_labels)\n",
        "    df['balanced_label'] = df['label'] # df.apply(lambda x: x['label'] if x['labeled'] == True else None, axis=1)\n",
        "    print(sum(df['labeled'])/df.shape[0])\n",
        "    print(len(balanced_labels))\n",
        "    print(df['balanced_label'].value_counts())\n",
        "    depth = 1\n",
        "    while sum(df['labeled'])/df.shape[0] < 1:\n",
        "        df['balanced_label'] = df.apply(lambda x: get_next_label(x, depth=depth), axis=1)\n",
        "        balanced_labels = set([label for label, count in df['balanced_label'].value_counts().items()\n",
        "                                   if count >= label_count_threshold])\n",
        "        df['labeled'] = df.apply(lambda x: is_final_balanced_label(x, balanced_labels, depth=depth), axis=1)\n",
        "        depth += 1\n",
        "        print(sum(df['labeled'])/df.shape[0])\n",
        "        print(len(balanced_labels))\n",
        "        print(df['balanced_label'].value_counts())\n",
        "\n",
        "    return df, df['balanced_label'].nunique() - 1"
      ]
    },
    {
      "cell_type": "markdown",
      "source": [
        "### Cellular Component Labels (CCO)"
      ],
      "metadata": {
        "id": "jaCILDXuSDEt"
      }
    },
    {
      "cell_type": "code",
      "execution_count": null,
      "metadata": {
        "colab": {
          "base_uri": "https://localhost:8080/"
        },
        "id": "R_L8bA1lB6U1",
        "outputId": "b833104f-ea2a-44d9-df3d-692e711bdded"
      },
      "outputs": [
        {
          "output_type": "stream",
          "name": "stdout",
          "text": [
            "leaf_labels:  92912\n",
            "unique leaf_labels:  2763\n",
            "0.612107597944911\n",
            "47\n",
            "GO:0005829    16981\n",
            "GO:0005634    12661\n",
            "GO:0005886    11509\n",
            "GO:0005737     8335\n",
            "GO:0005654     8160\n",
            "              ...  \n",
            "GO:0036030        1\n",
            "GO:0036028        1\n",
            "GO:0061834        1\n",
            "GO:0036027        1\n",
            "GO:0071202        1\n",
            "Name: balanced_label, Length: 2763, dtype: int64\n",
            "0.7935857682819184\n",
            "65\n",
            "GO:0005829    16981\n",
            "GO:0005634    12725\n",
            "GO:0005886    11823\n",
            "GO:0110165    10149\n",
            "GO:0005737     8406\n",
            "              ...  \n",
            "GO:0035449        1\n",
            "GO:0044174        1\n",
            "GO:0005879        1\n",
            "GO:0044384        1\n",
            "GO:0098539        1\n",
            "Name: balanced_label, Length: 690, dtype: int64\n",
            "0.9047031663762081\n",
            "71\n",
            "GO:0005829    17050\n",
            "GO:0110165    14188\n",
            "GO:0005634    12910\n",
            "GO:0005886    11823\n",
            "GO:0005737     8418\n",
            "              ...  \n",
            "GO:0031252        1\n",
            "GO:0032994        1\n",
            "GO:0035448        1\n",
            "GO:0033176        1\n",
            "GO:1990077        1\n",
            "Name: balanced_label, Length: 294, dtype: int64\n",
            "0.961806577190322\n",
            "72\n",
            "GO:0005829    17050\n",
            "GO:0110165    16038\n",
            "GO:0005634    12938\n",
            "GO:0005886    11823\n",
            "GO:0005737     8420\n",
            "              ...  \n",
            "GO:0032432        1\n",
            "GO:0030139        1\n",
            "GO:0016469        1\n",
            "GO:0032838        1\n",
            "GO:0031312        1\n",
            "Name: balanced_label, Length: 159, dtype: int64\n",
            "0.9891643844917729\n",
            "73\n",
            "GO:0110165    17985\n",
            "GO:0005829    17050\n",
            "GO:0005634    12938\n",
            "GO:0005886    11823\n",
            "GO:0032991     8793\n",
            "              ...  \n",
            "GO:0031983        4\n",
            "GO:0042571        3\n",
            "GO:0033646        3\n",
            "GO:1902562        3\n",
            "GO:0099568        1\n",
            "Name: balanced_label, Length: 101, dtype: int64\n",
            "0.9962202657130571\n",
            "73\n",
            "GO:0110165    18411\n",
            "GO:0005829    17050\n",
            "GO:0005634    12938\n",
            "GO:0005886    11823\n",
            "GO:0032991     8933\n",
            "              ...  \n",
            "GO:0031248        6\n",
            "GO:0043233        4\n",
            "GO:0033643        3\n",
            "GO:0019814        3\n",
            "GO:0000123        3\n",
            "Name: balanced_label, Length: 86, dtype: int64\n",
            "0.9998981508725076\n",
            "73\n",
            "GO:0110165    18775\n",
            "GO:0005829    17050\n",
            "GO:0005634    12938\n",
            "GO:0005886    11823\n",
            "GO:0032991     8942\n",
            "              ...  \n",
            "GO:0044423      299\n",
            "GO:1990234        8\n",
            "GO:0031974        4\n",
            "GO:0018995        3\n",
            "GO:0031248        3\n",
            "Name: balanced_label, Length: 78, dtype: int64\n",
            "1.0\n",
            "73\n",
            "GO:0110165    18782\n",
            "GO:0005829    17050\n",
            "GO:0005634    12938\n",
            "GO:0005886    11823\n",
            "GO:0032991     8942\n",
            "              ...  \n",
            "GO:0005759      554\n",
            "GO:0016323      538\n",
            "GO:0036064      527\n",
            "GO:0005802      524\n",
            "GO:0044423      299\n",
            "Name: balanced_label, Length: 74, dtype: int64\n"
          ]
        }
      ],
      "source": [
        "CCO_leaf_labels = get_leaf_labels(train_terms, 'CCO')\n",
        "print(\"leaf_labels: \", len(CCO_leaf_labels.values()))\n",
        "CCO_all_leaf_labels = np.unique(np.concatenate(list(CCO_leaf_labels.values())))\n",
        "print(\"unique leaf_labels: \", len(CCO_all_leaf_labels))\n",
        "CCO_nodes = [n for n,v in graph.nodes(data=True) if v['namespace'] == 'cellular_component']\n",
        "CCO_ordered_edges = leaf_label_ancestors(graph, CCO_nodes)\n",
        "\n",
        "# Get the first node label\n",
        "CCO_data_with_labels = []\n",
        "# Get all CCO labeled proteins with leaf labels\n",
        "for protein, label_list in CCO_leaf_labels.items():\n",
        "    for label in label_list:\n",
        "        CCO_data_with_labels.append({'protein': protein,\n",
        "                                 'label': label,\n",
        "                                 'ordered_edges': CCO_ordered_edges[label]})\n",
        "\n",
        "CCO_df = pd.DataFrame(CCO_data_with_labels)\n",
        "\n",
        "new_CCO_df, CCO_num_labels = get_balanced_labels(CCO_df, 500)"
      ]
    },
    {
      "cell_type": "markdown",
      "source": [
        "## Molecular Function Labels (MFO)"
      ],
      "metadata": {
        "id": "pQ6NvJFtSNvX"
      }
    },
    {
      "cell_type": "code",
      "source": [
        "MFO_leaf_labels = get_leaf_labels(train_terms, 'MFO')\n",
        "print(\"leaf labels: \", len(MFO_leaf_labels.values()))\n",
        "MFO_all_leaf_labels = np.unique(np.concatenate(list(MFO_leaf_labels.values())))\n",
        "print(\"unique leaf labels: \", len(MFO_all_leaf_labels))\n",
        "MFO_nodes = [n for n,v in graph.nodes(data=True) if v['namespace'] == 'molecular_function']\n",
        "MFO_ordered_edges = leaf_label_ancestors(graph, MFO_nodes)\n",
        "\n",
        "# Get the first node label\n",
        "MFO_data_with_labels = []\n",
        "# Get all MFO labeled proteins with leaf labels\n",
        "for protein, label_list in MFO_leaf_labels.items():\n",
        "  # proteins with only protein binding GO:0005515 bias the dataset\n",
        "  if label_list != ['GO:0005515']:\n",
        "    for label in label_list:\n",
        "        MFO_data_with_labels.append({'protein': protein,\n",
        "                                 'label': label,\n",
        "                                 'ordered_edges': MFO_ordered_edges[label]})\n",
        "\n",
        "MFO_df = pd.DataFrame(MFO_data_with_labels)\n",
        "\n",
        "new_MFO_df, MFO_num_labels = get_balanced_labels(MFO_df, 500)"
      ],
      "metadata": {
        "colab": {
          "base_uri": "https://localhost:8080/"
        },
        "id": "uCgQAHw5SNXY",
        "outputId": "9823d2c1-91ff-41bf-8601-1f5025ba2acd"
      },
      "execution_count": null,
      "outputs": [
        {
          "output_type": "stream",
          "name": "stdout",
          "text": [
            "leaf labels:  78637\n",
            "unique leaf labels:  6866\n",
            "0.30495570563985613\n",
            "23\n",
            "GO:0005515    11529\n",
            "GO:0042802     3998\n",
            "GO:0042803     1632\n",
            "GO:0003729     1491\n",
            "GO:0003723     1356\n",
            "              ...  \n",
            "GO:0047102        1\n",
            "GO:0140692        1\n",
            "GO:0102207        1\n",
            "GO:0090499        1\n",
            "GO:0102627        1\n",
            "Name: balanced_label, Length: 6866, dtype: int64\n",
            "0.5329707920357863\n",
            "43\n",
            "GO:0005515    16348\n",
            "GO:0042802     3998\n",
            "GO:0003723     2072\n",
            "GO:0003677     1955\n",
            "GO:0000976     1900\n",
            "              ...  \n",
            "GO:0005199        1\n",
            "GO:0004376        1\n",
            "GO:0001884        1\n",
            "GO:0015067        1\n",
            "GO:0050485        1\n",
            "Name: balanced_label, Length: 1537, dtype: int64\n",
            "0.715428471186738\n",
            "56\n",
            "GO:0005515    18352\n",
            "GO:0042802     3998\n",
            "GO:0003677     2622\n",
            "GO:0003723     2549\n",
            "GO:0005488     2172\n",
            "              ...  \n",
            "GO:0015278        1\n",
            "GO:0001882        1\n",
            "GO:0019842        1\n",
            "GO:0005345        1\n",
            "GO:0016409        1\n",
            "Name: balanced_label, Length: 593, dtype: int64\n",
            "0.8756074028593983\n",
            "62\n",
            "GO:0005515    18791\n",
            "GO:0005488     4119\n",
            "GO:0042802     3998\n",
            "GO:0016491     3198\n",
            "GO:0016740     2851\n",
            "              ...  \n",
            "GO:0046915        1\n",
            "GO:0004520        1\n",
            "GO:0016289        1\n",
            "GO:1990837        1\n",
            "GO:0016803        1\n",
            "Name: balanced_label, Length: 288, dtype: int64\n",
            "0.9528900973598807\n",
            "62\n",
            "GO:0005515    18883\n",
            "GO:0005488     4578\n",
            "GO:0042802     3998\n",
            "GO:0016740     3938\n",
            "GO:0016491     3745\n",
            "              ...  \n",
            "GO:0016801        1\n",
            "GO:0042277        1\n",
            "GO:0001664        1\n",
            "GO:0140776        1\n",
            "GO:0016790        1\n",
            "Name: balanced_label, Length: 164, dtype: int64\n",
            "0.9838435224980265\n",
            "62\n",
            "GO:0005515    18890\n",
            "GO:0005488     5058\n",
            "GO:0016740     4509\n",
            "GO:0042802     3998\n",
            "GO:0016491     3842\n",
            "              ...  \n",
            "GO:0140522        2\n",
            "GO:0015318        1\n",
            "GO:0033218        1\n",
            "GO:0140776        1\n",
            "GO:0016298        1\n",
            "Name: balanced_label, Length: 119, dtype: int64\n",
            "0.9937812472590124\n",
            "62\n",
            "GO:0005515    18890\n",
            "GO:0005488     5227\n",
            "GO:0016740     4787\n",
            "GO:0022857     4296\n",
            "GO:0042802     3998\n",
            "              ...  \n",
            "GO:0097159        6\n",
            "GO:0038023        6\n",
            "GO:0140912        5\n",
            "GO:0140522        2\n",
            "GO:0140776        1\n",
            "Name: balanced_label, Length: 99, dtype: int64\n",
            "0.9958424699587756\n",
            "62\n",
            "GO:0005515    18890\n",
            "GO:0005488     5265\n",
            "GO:0016740     4870\n",
            "GO:0022857     4404\n",
            "GO:0042802     3998\n",
            "              ...  \n",
            "GO:0140691        6\n",
            "GO:0140489        6\n",
            "GO:0140912        5\n",
            "GO:0140522        2\n",
            "GO:0140776        1\n",
            "Name: balanced_label, Length: 91, dtype: int64\n",
            "0.9990877993158495\n",
            "62\n",
            "GO:0005515    18890\n",
            "GO:0005488     5272\n",
            "GO:0016740     4926\n",
            "GO:0022857     4711\n",
            "GO:0042802     3998\n",
            "              ...  \n",
            "GO:0140489        6\n",
            "GO:0010858        6\n",
            "GO:0140912        5\n",
            "GO:0140522        2\n",
            "GO:0140776        1\n",
            "Name: balanced_label, Length: 88, dtype: int64\n",
            "1.0\n",
            "62\n",
            "GO:0005515    18890\n",
            "GO:0005488     5272\n",
            "GO:0016740     5020\n",
            "GO:0022857     4721\n",
            "GO:0042802     3998\n",
            "              ...  \n",
            "GO:0140489        6\n",
            "GO:0010858        6\n",
            "GO:0140912        5\n",
            "GO:0140522        2\n",
            "GO:0140776        1\n",
            "Name: balanced_label, Length: 86, dtype: int64\n"
          ]
        }
      ]
    },
    {
      "cell_type": "markdown",
      "source": [
        "## Biological Process Labels (BPO)"
      ],
      "metadata": {
        "id": "ANQn-TNrr8hv"
      }
    },
    {
      "cell_type": "code",
      "source": [
        "BPO_leaf_labels = get_leaf_labels(train_terms, 'BPO')\n",
        "print(\"leaf_labels: \", len(BPO_leaf_labels.values()))\n",
        "BPO_all_leaf_labels = np.unique(np.concatenate(list(BPO_leaf_labels.values())))\n",
        "print(\"unique leaf_labels: \", len(BPO_all_leaf_labels))\n",
        "BPO_nodes = [n for n,v in graph.nodes(data=True) if v['namespace'] == 'biological_process']\n",
        "BPO_ordered_edges = leaf_label_ancestors(graph, BPO_nodes)\n",
        "\n",
        "# Get the first node label\n",
        "BPO_data_with_labels = []\n",
        "# Get all BPO labeled proteins with leaf labels\n",
        "for protein, label_list in BPO_leaf_labels.items():\n",
        "    for label in label_list:\n",
        "        BPO_data_with_labels.append({'protein': protein,\n",
        "                                 'label': label,\n",
        "                                 'ordered_edges': BPO_ordered_edges[label]})\n",
        "\n",
        "BPO_df = pd.DataFrame(BPO_data_with_labels)\n",
        "\n",
        "new_BPO_df, BPO_num_labels = get_balanced_labels(BPO_df, 500)"
      ],
      "metadata": {
        "colab": {
          "base_uri": "https://localhost:8080/"
        },
        "id": "jd_1qm-Vr6tw",
        "outputId": "461396be-c931-4758-e6a0-909bd9cdcbf4"
      },
      "execution_count": null,
      "outputs": [
        {
          "output_type": "stream",
          "name": "stdout",
          "text": [
            "leaf_labels:  92210\n",
            "unique leaf_labels:  17978\n",
            "0.07192198699783298\n",
            "27\n",
            "GO:0045944    2473\n",
            "GO:0000122    1691\n",
            "GO:0006355    1322\n",
            "GO:0045893    1233\n",
            "GO:0045892    1150\n",
            "              ... \n",
            "GO:1904303       1\n",
            "GO:1903235       1\n",
            "GO:0098746       1\n",
            "GO:0071911       1\n",
            "GO:0009709       1\n",
            "Name: balanced_label, Length: 17978, dtype: int64\n",
            "0.28241706951158524\n",
            "87\n",
            "GO:0048856    3858\n",
            "GO:0045944    2615\n",
            "GO:0003006    2573\n",
            "GO:0006950    2359\n",
            "GO:0009987    2006\n",
            "              ... \n",
            "GO:0045472       1\n",
            "GO:0042435       1\n",
            "GO:0009149       1\n",
            "GO:0032534       1\n",
            "GO:0046813       1\n",
            "Name: balanced_label, Length: 6474, dtype: int64\n",
            "0.5790698449741624\n",
            "140\n",
            "GO:0009987    5701\n",
            "GO:0048856    5636\n",
            "GO:0006950    3888\n",
            "GO:0003006    3672\n",
            "GO:0048513    3644\n",
            "              ... \n",
            "GO:0071880       1\n",
            "GO:0051304       1\n",
            "GO:0046823       1\n",
            "GO:0010566       1\n",
            "GO:0019062       1\n",
            "Name: balanced_label, Length: 2757, dtype: int64\n",
            "0.7876979496582763\n",
            "155\n",
            "GO:0009987    8764\n",
            "GO:0048856    7102\n",
            "GO:0050794    4863\n",
            "GO:0030154    4471\n",
            "GO:0009966    4217\n",
            "              ... \n",
            "GO:0032239       1\n",
            "GO:0006898       1\n",
            "GO:0032303       1\n",
            "GO:0106049       1\n",
            "GO:0044650       1\n",
            "Name: balanced_label, Length: 1277, dtype: int64\n",
            "0.9094182363727288\n",
            "164\n",
            "GO:0009987    10914\n",
            "GO:0048856     7325\n",
            "GO:0050794     6144\n",
            "GO:0030154     4767\n",
            "GO:0032501     4764\n",
            "              ...  \n",
            "GO:0031137        1\n",
            "GO:0071677        1\n",
            "GO:0009890        1\n",
            "GO:0006482        1\n",
            "GO:0044406        1\n",
            "Name: balanced_label, Length: 666, dtype: int64\n",
            "0.9657109518253042\n",
            "165\n",
            "GO:0009987    12123\n",
            "GO:0048856     7356\n",
            "GO:0050794     6780\n",
            "GO:0008152     5597\n",
            "GO:0032501     5198\n",
            "              ...  \n",
            "GO:0010383        1\n",
            "GO:0006275        1\n",
            "GO:0044406        1\n",
            "GO:0032954        1\n",
            "GO:0042391        1\n",
            "Name: balanced_label, Length: 373, dtype: int64\n",
            "0.9872878813135523\n",
            "165\n",
            "GO:0009987    12782\n",
            "GO:0048856     7356\n",
            "GO:0050794     7088\n",
            "GO:0008152     5992\n",
            "GO:0032501     5295\n",
            "              ...  \n",
            "GO:0044848        1\n",
            "GO:0051701        1\n",
            "GO:0019751        1\n",
            "GO:0044036        1\n",
            "GO:0002699        1\n",
            "Name: balanced_label, Length: 253, dtype: int64\n",
            "0.9966527754625771\n",
            "165\n",
            "GO:0009987    13360\n",
            "GO:0048856     7356\n",
            "GO:0050794     7161\n",
            "GO:0008152     6276\n",
            "GO:0044237     5510\n",
            "              ...  \n",
            "GO:0044403        1\n",
            "GO:0044260        1\n",
            "GO:0044848        1\n",
            "GO:0006066        1\n",
            "GO:0002684        1\n",
            "Name: balanced_label, Length: 205, dtype: int64\n",
            "0.9989364894149024\n",
            "165\n",
            "GO:0009987    13383\n",
            "GO:0048856     7356\n",
            "GO:0050794     7216\n",
            "GO:0008152     6309\n",
            "GO:0044237     5907\n",
            "              ...  \n",
            "GO:0001775        3\n",
            "GO:0031347        2\n",
            "GO:0044848        1\n",
            "GO:0044281        1\n",
            "GO:0008217        1\n",
            "Name: balanced_label, Length: 181, dtype: int64\n",
            "0.9998199699949991\n",
            "165\n",
            "GO:0009987    13386\n",
            "GO:0048856     7356\n",
            "GO:0050794     7216\n",
            "GO:0008152     6310\n",
            "GO:0044237     6031\n",
            "              ...  \n",
            "GO:0051703       16\n",
            "GO:0023052       12\n",
            "GO:0006082        8\n",
            "GO:0080134        2\n",
            "GO:0044848        1\n",
            "Name: balanced_label, Length: 175, dtype: int64\n",
            "1.0\n",
            "165\n",
            "GO:0009987    13413\n",
            "GO:0048856     7356\n",
            "GO:0050794     7216\n",
            "GO:0008152     6310\n",
            "GO:0044237     6039\n",
            "              ...  \n",
            "GO:0043473      183\n",
            "GO:0098754      153\n",
            "GO:0051703       16\n",
            "GO:0023052       12\n",
            "GO:0044848        1\n",
            "Name: balanced_label, Length: 171, dtype: int64\n"
          ]
        }
      ]
    },
    {
      "cell_type": "markdown",
      "metadata": {
        "id": "1nUmpeIoH-PH"
      },
      "source": [
        "## Classify selected nodes of CCO"
      ]
    },
    {
      "cell_type": "code",
      "execution_count": null,
      "metadata": {
        "id": "glJt_XKeCmtw"
      },
      "outputs": [],
      "source": [
        "from sklearn.model_selection import train_test_split"
      ]
    },
    {
      "cell_type": "code",
      "execution_count": null,
      "metadata": {
        "id": "JajEKGU4IB-a"
      },
      "outputs": [],
      "source": [
        "def get_labels_df(balanced_label_df):\n",
        "  ohe_df = pd.get_dummies(balanced_label_df, prefix=['balanced_label'], columns=['balanced_label'], drop_first=True)\n",
        "  label_cols = [c for c in ohe_df.columns if 'balanced_label_' in c]\n",
        "  label_df = ohe_df.groupby('protein').sum(numeric_only=True)[label_cols].clip(0,1)\n",
        "  label_values = list(label_df.values)\n",
        "  label_ids = list(label_df.index)\n",
        "  labels_df = pd.DataFrame(data={\"EntryID\": label_ids, \"labels_vect\": label_values})\n",
        "  return labels_df, label_cols\n",
        "\n",
        "CCO_labels_df, CCO_label_cols = get_labels_df(new_CCO_df)\n",
        "MFO_labels_df, MFO_label_cols = get_labels_df(new_MFO_df)\n",
        "BPO_labels_df, BPO_label_cols = get_labels_df(new_BPO_df)\n",
        "# Split into train, val, test\n",
        "# X_train, X_test, y_train, y_test = train_test_split(label_ids,\n",
        "#                                                     label_values,\n",
        "#                                                     test_size = 0.2)\n",
        "# print(\"Train label\", len(y_train))\n",
        "# print(\"Test label\", len(y_test))"
      ]
    },
    {
      "cell_type": "code",
      "execution_count": null,
      "metadata": {
        "id": "t2hK1aL8JClo"
      },
      "outputs": [],
      "source": [
        "# Directories for the different embedding vectors :\n",
        "embeds_map = {\n",
        "    \"T5\" : \"t5embeds\",\n",
        "    \"ProtBERT\" : \"protbert-embeddings-for-cafa5\",\n",
        "    \"ESM2\" : \"cafa-5-ems-2-embeddings-numpy\"\n",
        "}\n",
        "\n",
        "# Length of the different embedding vectors :\n",
        "embeds_dim = {\n",
        "    \"T5\" : 1024,\n",
        "    \"ProtBERT\" : 1024,\n",
        "    \"ESM2\" : 1280,\n",
        "    \"Concat\": 1280+1024,\n",
        "}"
      ]
    },
    {
      "cell_type": "code",
      "execution_count": null,
      "metadata": {
        "id": "tvDhStmfJHbA"
      },
      "outputs": [],
      "source": [
        "class ProteinSequenceDataset(Dataset):\n",
        "\n",
        "    def __init__(self, datatype, embeddings_source, subontology):\n",
        "        super(ProteinSequenceDataset).__init__()\n",
        "        self.datatype = datatype\n",
        "        self.subontology = subontology\n",
        "\n",
        "        if embeddings_source in [\"ProtBERT\", \"ESM2\"]:\n",
        "            embeds = np.load(f\"{content_dir}/\"+embeds_map[embeddings_source]+\"/\"+datatype+\"_embeddings.npy\")\n",
        "            ids = np.load(f\"{content_dir}/\"+embeds_map[embeddings_source]+\"/\"+datatype+\"_ids.npy\")\n",
        "\n",
        "        if embeddings_source == \"T5\":\n",
        "            embeds = np.load(f\"{content_dir}/\"+embeds_map[embeddings_source]+\"/\"+datatype+\"_embeds.npy\")\n",
        "            ids = np.load(f\"{content_dir}/\"+embeds_map[embeddings_source]+\"/\"+datatype+\"_ids.npy\")\n",
        "\n",
        "        if embeddings_source == \"Concat\":\n",
        "            bert_embeds = np.load(f\"{content_dir}/\"+embeds_map[\"ProtBERT\"]+\"/\"+datatype+\"_embeddings.npy\")\n",
        "            bert_ids = np.load(f\"{content_dir}/\"+embeds_map[\"ProtBERT\"]+\"/\"+datatype+\"_ids.npy\")\n",
        "            esm2_embeds = np.load(f\"{content_dir}/\"+embeds_map[\"ESM2\"]+\"/\"+datatype+\"_embeddings.npy\")\n",
        "            esm2_ids = np.load(f\"{content_dir}/\"+embeds_map[\"ESM2\"]+\"/\"+datatype+\"_ids.npy\")\n",
        "            t5_embeds = np.load(f\"{content_dir}/\"+embeds_map[\"T5\"]+\"/\"+datatype+\"_embeds.npy\")\n",
        "            t5_ids = np.load(f\"{content_dir}/\"+embeds_map[\"T5\"]+\"/\"+datatype+\"_ids.npy\")\n",
        "            esm2_sorted_ids, esm2_sorted_embeds = map(list,zip(*list(sorted(zip(esm2_ids, esm2_embeds), key=lambda x: x[0]))))\n",
        "            t5_sorted_ids, t5_sorted_embeds = map(list,zip(*list(sorted(zip(t5_ids, t5_embeds), key=lambda x: x[0]))))\n",
        "            # t5 includes the same embedding twic\n",
        "            if datatype == \"test\":\n",
        "              del t5_sorted_ids[632]\n",
        "              del t5_sorted_embeds[632]\n",
        "            embeds = np.concatenate([esm2_sorted_embeds, t5_sorted_embeds], axis=1)\n",
        "            embeds_list = []\n",
        "            for l in range(embeds.shape[0]):\n",
        "                embeds_list.append(embeds[l,:])\n",
        "            self.df = pd.DataFrame(data={\"EntryID\": t5_sorted_ids, \"embed\" : embeds_list})\n",
        "        else:\n",
        "            embeds_list = []\n",
        "            for l in range(embeds.shape[0]):\n",
        "                embeds_list.append(embeds[l,:])\n",
        "            self.df = pd.DataFrame(data={\"EntryID\": ids, \"embed\" : embeds_list})\n",
        "\n",
        "\n",
        "        if subontology==\"CCO\":\n",
        "            self.df = self.df.merge(CCO_labels_df, on=\"EntryID\")\n",
        "        if subontology==\"MFO\":\n",
        "            self.df = self.df.merge(MFO_labels_df, on=\"EntryID\")\n",
        "        if subontology==\"BPO\":\n",
        "            self.df = self.df.merge(BPO_labels_df, on=\"EntryID\")\n",
        "\n",
        "    def __len__(self):\n",
        "        return len(self.df)\n",
        "\n",
        "    def __getitem__(self, index):\n",
        "        embed = torch.tensor(self.df.iloc[index][\"embed\"] , dtype = torch.float32)\n",
        "        if self.datatype==\"train\":\n",
        "            targets = torch.tensor(self.df.iloc[index][\"labels_vect\"], dtype = torch.float32)\n",
        "            return embed, targets\n",
        "        if self.datatype==\"test\":\n",
        "            id = self.df.iloc[index][\"EntryID\"]\n",
        "            return embed, id"
      ]
    },
    {
      "cell_type": "code",
      "execution_count": null,
      "metadata": {
        "id": "Vgq_exbhgDxR"
      },
      "outputs": [],
      "source": [
        "datatype = \"test\"\n",
        "bert_embeds = np.load(f\"{content_dir}/\"+embeds_map[\"ProtBERT\"]+\"/\"+datatype+\"_embeddings.npy\")\n",
        "bert_ids = np.load(f\"{content_dir}/\"+embeds_map[\"ProtBERT\"]+\"/\"+datatype+\"_ids.npy\")\n",
        "esm2_embeds = np.load(f\"{content_dir}/\"+embeds_map[\"ESM2\"]+\"/\"+datatype+\"_embeddings.npy\")\n",
        "esm2_ids = np.load(f\"{content_dir}/\"+embeds_map[\"ESM2\"]+\"/\"+datatype+\"_ids.npy\")\n",
        "t5_embeds = np.load(f\"{content_dir}/\"+embeds_map[\"T5\"]+\"/\"+datatype+\"_embeds.npy\")\n",
        "t5_ids = np.load(f\"{content_dir}/\"+embeds_map[\"T5\"]+\"/\"+datatype+\"_ids.npy\")"
      ]
    },
    {
      "cell_type": "code",
      "execution_count": null,
      "metadata": {
        "id": "tOpvVYZYgu5_"
      },
      "outputs": [],
      "source": [
        "esm2_sorted_ids, esm2_sorted_embeds = map(list,zip(*list(sorted(zip(esm2_ids, esm2_embeds), key=lambda x: x[0]))))\n",
        "t5_sorted_ids, t5_sorted_embeds = map(list,zip(*list(sorted(zip(t5_ids, t5_embeds), key=lambda x: x[0]))))"
      ]
    },
    {
      "cell_type": "code",
      "execution_count": null,
      "metadata": {
        "colab": {
          "base_uri": "https://localhost:8080/"
        },
        "id": "ZgXE3G_kgTOE",
        "outputId": "ed8cf199-3a38-474c-ca6f-cbb348e53314"
      },
      "outputs": [
        {
          "output_type": "stream",
          "name": "stdout",
          "text": [
            "141864\n",
            "141865\n"
          ]
        }
      ],
      "source": [
        "print(len(esm2_sorted_ids))\n",
        "print(len(t5_sorted_ids))"
      ]
    },
    {
      "cell_type": "code",
      "execution_count": null,
      "metadata": {
        "id": "ifMl7POS0eDo"
      },
      "outputs": [],
      "source": [
        "class MultiLayerPerceptron(torch.nn.Module):\n",
        "\n",
        "    def __init__(self, input_dim, num_classes, p):\n",
        "        super(MultiLayerPerceptron, self).__init__()\n",
        "\n",
        "        self.linear1 = torch.nn.Linear(input_dim, 4*1012)\n",
        "        self.activation1 = torch.nn.ReLU()\n",
        "        self.dropout1 = torch.nn.Dropout(p)\n",
        "        self.linear2 = torch.nn.Linear(4*1012, 4*712)\n",
        "        self.activation2 = torch.nn.ReLU()\n",
        "        self.dropout2 = torch.nn.Dropout(p)\n",
        "        self.linear3 = torch.nn.Linear(4*712, num_classes)\n",
        "\n",
        "    def forward(self, x):\n",
        "        x = self.linear1(x)\n",
        "        x = self.activation1(x)\n",
        "        x = self.dropout1(x)\n",
        "        x = self.linear2(x)\n",
        "        x = self.activation2(x)\n",
        "        x = self.dropout2(x)\n",
        "        x = self.linear3(x)\n",
        "        return x\n",
        "\n",
        "\n",
        "class CNN1D(nn.Module):\n",
        "    def __init__(self, input_dim, num_classes):\n",
        "        super(CNN1D, self).__init__()\n",
        "        # (batch_size, channels, embed_size)\n",
        "        self.conv1 = nn.Conv1d(in_channels=1, out_channels=3, kernel_size=3, dilation=1, padding=1, stride=1)\n",
        "        # (batch_size, 3, embed_size)\n",
        "        self.pool1 = nn.MaxPool1d(kernel_size=2, stride=2)\n",
        "        # (batch_size, 3, embed_size/2 = 512)\n",
        "        self.conv2 = nn.Conv1d(in_channels=3, out_channels=8, kernel_size=3, dilation=1, padding=1, stride=1)\n",
        "        # (batch_size, 8, embed_size/2 = 512)\n",
        "        self.pool2 = nn.MaxPool1d(kernel_size=2, stride=2)\n",
        "        # (batch_size, 8, embed_size/4 = 256)\n",
        "        self.fc1 = nn.Linear(in_features=int(8 * input_dim/4), out_features=128)\n",
        "        self.fc2 = nn.Linear(in_features=128, out_features=num_classes)\n",
        "\n",
        "    def forward(self, x):\n",
        "        x = x.reshape(x.shape[0], 1, x.shape[1])\n",
        "        x = self.pool1(nn.functional.relu(self.conv1(x)))\n",
        "        x = self.pool2(nn.functional.relu(self.conv2(x)))\n",
        "        x = torch.flatten(x, 1)\n",
        "        x = nn.functional.relu(self.fc1(x))\n",
        "        x = self.fc2(x)\n",
        "        return x"
      ]
    },
    {
      "cell_type": "code",
      "execution_count": null,
      "metadata": {
        "id": "GqSXiM2I5nvr"
      },
      "outputs": [],
      "source": [
        "def train_model(embeddings_source, subontology, num_labels, model_type=\"linear\", train_size=0.9):\n",
        "\n",
        "    train_dataset = ProteinSequenceDataset(datatype=\"train\", embeddings_source = embeddings_source, subontology=subontology)\n",
        "\n",
        "    train_set, val_set = random_split(train_dataset, lengths = [int(len(train_dataset)*train_size), len(train_dataset)-int(len(train_dataset)*train_size)])\n",
        "    train_dataloader = torch.utils.data.DataLoader(train_set, batch_size=CFG.batch_size, shuffle=True)\n",
        "    val_dataloader = torch.utils.data.DataLoader(val_set, batch_size=CFG.batch_size, shuffle=True)\n",
        "\n",
        "    if model_type == \"linear\":\n",
        "        model = MultiLayerPerceptron(input_dim=embeds_dim[embeddings_source], num_classes=num_labels, p=0.2).to(CFG.device)\n",
        "    if model_type == \"convolutional\":\n",
        "        model = CNN1D(input_dim=embeds_dim[embeddings_source], num_classes=num_labels).to(CFG.device)\n",
        "\n",
        "    optimizer = torch.optim.Adam(model.parameters(), lr = CFG.lr)\n",
        "    scheduler = ReduceLROnPlateau(optimizer, factor=0.1, patience=1)\n",
        "    CrossEntropy = torch.nn.CrossEntropyLoss()\n",
        "    f1_score = MultilabelF1Score(num_labels=num_labels).to(CFG.device)\n",
        "    n_epochs = CFG.n_epochs\n",
        "\n",
        "    print(\"BEGIN TRAINING...\")\n",
        "    train_loss_history=[]\n",
        "    val_loss_history=[]\n",
        "\n",
        "    train_f1score_history=[]\n",
        "    val_f1score_history=[]\n",
        "    for epoch in range(n_epochs):\n",
        "        print(\"EPOCH \", epoch+1)\n",
        "        ## TRAIN PHASE :\n",
        "        losses = []\n",
        "        scores = []\n",
        "        for embed, targets in tqdm(train_dataloader):\n",
        "            embed, targets = embed.to(CFG.device), targets.to(CFG.device)\n",
        "            optimizer.zero_grad()\n",
        "            preds = model(embed)\n",
        "            loss= CrossEntropy(preds, targets)\n",
        "            score=f1_score(preds, targets)\n",
        "            losses.append(loss.item())\n",
        "            scores.append(score.item())\n",
        "            loss.backward()\n",
        "            optimizer.step()\n",
        "        avg_loss = np.mean(losses)\n",
        "        avg_score = np.mean(scores)\n",
        "        print(\"Running Average TRAIN Loss : \", avg_loss)\n",
        "        print(\"Running Average TRAIN F1-Score : \", avg_score)\n",
        "        train_loss_history.append(avg_loss)\n",
        "        train_f1score_history.append(avg_score)\n",
        "\n",
        "        ## VALIDATION PHASE :\n",
        "        losses = []\n",
        "        scores = []\n",
        "        for embed, targets in val_dataloader:\n",
        "            embed, targets = embed.to(CFG.device), targets.to(CFG.device)\n",
        "            preds = model(embed)\n",
        "            loss= CrossEntropy(preds, targets)\n",
        "            score=f1_score(preds, targets)\n",
        "            losses.append(loss.item())\n",
        "            scores.append(score.item())\n",
        "        avg_loss = np.mean(losses)\n",
        "        avg_score = np.mean(scores)\n",
        "        print(\"Running Average VAL Loss : \", avg_loss)\n",
        "        print(\"Running Average VAL F1-Score : \", avg_score)\n",
        "        val_loss_history.append(avg_loss)\n",
        "        val_f1score_history.append(avg_score)\n",
        "\n",
        "        scheduler.step(avg_loss)\n",
        "        print(\"\\n\")\n",
        "\n",
        "    print(\"TRAINING FINISHED\")\n",
        "    print(\"FINAL TRAINING SCORE : \", train_f1score_history[-1])\n",
        "    print(\"FINAL VALIDATION SCORE : \", val_f1score_history[-1])\n",
        "\n",
        "    losses_history = {\"train\" : train_loss_history, \"val\" : val_loss_history}\n",
        "    scores_history = {\"train\" : train_f1score_history, \"val\" : val_f1score_history}\n",
        "\n",
        "    return model, losses_history, scores_history"
      ]
    },
    {
      "cell_type": "code",
      "execution_count": null,
      "metadata": {
        "id": "uaHlxFm7hUtr"
      },
      "outputs": [],
      "source": [
        "# cat_CCO_model, cat_CCO_losses, cat_CCO_scores = train_model(embeddings_source=\"Concat\", subontology=\"CCO\", num_labels=CCO_num_labels, model_type=\"linear\")"
      ]
    },
    {
      "cell_type": "code",
      "execution_count": null,
      "metadata": {
        "id": "w3VdssHq5v-F"
      },
      "outputs": [],
      "source": [
        "# esm2_model, esm2_losses, esm2_scores = train_model(embeddings_source=\"ESM2\",model_type=\"linear\")"
      ]
    },
    {
      "cell_type": "code",
      "execution_count": null,
      "metadata": {
        "id": "I6HJs1Qb514B"
      },
      "outputs": [],
      "source": [
        "# Weighted F1 Score?"
      ]
    },
    {
      "cell_type": "code",
      "execution_count": null,
      "metadata": {
        "colab": {
          "base_uri": "https://localhost:8080/"
        },
        "id": "gvkZkKba9cmH",
        "outputId": "5309a3f5-4662-4ec7-f259-fbc3ffc72930"
      },
      "outputs": [
        {
          "output_type": "stream",
          "name": "stdout",
          "text": [
            "BEGIN TRAINING...\n",
            "EPOCH  1\n"
          ]
        },
        {
          "output_type": "stream",
          "name": "stderr",
          "text": [
            "100%|██████████| 654/654 [00:14<00:00, 45.58it/s]\n"
          ]
        },
        {
          "output_type": "stream",
          "name": "stdout",
          "text": [
            "Running Average TRAIN Loss :  5.412046439057097\n",
            "Running Average TRAIN F1-Score :  0.11094137997187059\n",
            "Running Average VAL Loss :  5.156589103071657\n",
            "Running Average VAL F1-Score :  0.13395949738891158\n",
            "\n",
            "\n",
            "EPOCH  2\n"
          ]
        },
        {
          "output_type": "stream",
          "name": "stderr",
          "text": [
            "100%|██████████| 654/654 [00:13<00:00, 48.83it/s]\n"
          ]
        },
        {
          "output_type": "stream",
          "name": "stdout",
          "text": [
            "Running Average TRAIN Loss :  4.968950069643307\n",
            "Running Average TRAIN F1-Score :  0.14103314429749408\n",
            "Running Average VAL Loss :  5.015792817285616\n",
            "Running Average VAL F1-Score :  0.14722686495682966\n",
            "\n",
            "\n",
            "EPOCH  3\n"
          ]
        },
        {
          "output_type": "stream",
          "name": "stderr",
          "text": [
            "100%|██████████| 654/654 [00:13<00:00, 47.91it/s]\n"
          ]
        },
        {
          "output_type": "stream",
          "name": "stdout",
          "text": [
            "Running Average TRAIN Loss :  4.77484155867807\n",
            "Running Average TRAIN F1-Score :  0.15611739143364656\n",
            "Running Average VAL Loss :  4.912569646965967\n",
            "Running Average VAL F1-Score :  0.15824369320722476\n",
            "\n",
            "\n",
            "EPOCH  4\n"
          ]
        },
        {
          "output_type": "stream",
          "name": "stderr",
          "text": [
            "100%|██████████| 654/654 [00:13<00:00, 48.45it/s]\n"
          ]
        },
        {
          "output_type": "stream",
          "name": "stdout",
          "text": [
            "Running Average TRAIN Loss :  4.607885552108835\n",
            "Running Average TRAIN F1-Score :  0.17002645694289004\n",
            "Running Average VAL Loss :  4.841535747867741\n",
            "Running Average VAL F1-Score :  0.16845796777777475\n",
            "\n",
            "\n",
            "EPOCH  5\n"
          ]
        },
        {
          "output_type": "stream",
          "name": "stderr",
          "text": [
            "100%|██████████| 654/654 [00:13<00:00, 49.31it/s]\n"
          ]
        },
        {
          "output_type": "stream",
          "name": "stdout",
          "text": [
            "Running Average TRAIN Loss :  4.446308870563449\n",
            "Running Average TRAIN F1-Score :  0.1837742944854662\n",
            "Running Average VAL Loss :  4.814108391330667\n",
            "Running Average VAL F1-Score :  0.1775106477410826\n",
            "\n",
            "\n",
            "EPOCH  6\n"
          ]
        },
        {
          "output_type": "stream",
          "name": "stderr",
          "text": [
            "100%|██████████| 654/654 [00:13<00:00, 49.63it/s]\n"
          ]
        },
        {
          "output_type": "stream",
          "name": "stdout",
          "text": [
            "Running Average TRAIN Loss :  4.287282025777601\n",
            "Running Average TRAIN F1-Score :  0.198020880466572\n",
            "Running Average VAL Loss :  4.7583798055779445\n",
            "Running Average VAL F1-Score :  0.18404023328872576\n",
            "\n",
            "\n",
            "EPOCH  7\n"
          ]
        },
        {
          "output_type": "stream",
          "name": "stderr",
          "text": [
            "100%|██████████| 654/654 [00:13<00:00, 48.77it/s]\n"
          ]
        },
        {
          "output_type": "stream",
          "name": "stdout",
          "text": [
            "Running Average TRAIN Loss :  4.132655911489365\n",
            "Running Average TRAIN F1-Score :  0.2119762712935789\n",
            "Running Average VAL Loss :  4.734621626057037\n",
            "Running Average VAL F1-Score :  0.19362546809732098\n",
            "\n",
            "\n",
            "EPOCH  8\n"
          ]
        },
        {
          "output_type": "stream",
          "name": "stderr",
          "text": [
            "100%|██████████| 654/654 [00:13<00:00, 48.94it/s]\n"
          ]
        },
        {
          "output_type": "stream",
          "name": "stdout",
          "text": [
            "Running Average TRAIN Loss :  3.9828943681279454\n",
            "Running Average TRAIN F1-Score :  0.22574755025383894\n",
            "Running Average VAL Loss :  4.7390658104256405\n",
            "Running Average VAL F1-Score :  0.199109407116289\n",
            "\n",
            "\n",
            "EPOCH  9\n"
          ]
        },
        {
          "output_type": "stream",
          "name": "stderr",
          "text": [
            "100%|██████████| 654/654 [00:13<00:00, 49.44it/s]\n"
          ]
        },
        {
          "output_type": "stream",
          "name": "stdout",
          "text": [
            "Running Average TRAIN Loss :  3.8449024567181183\n",
            "Running Average TRAIN F1-Score :  0.2382654747057034\n",
            "Running Average VAL Loss :  4.780625163692317\n",
            "Running Average VAL F1-Score :  0.20220068097114563\n",
            "\n",
            "\n",
            "EPOCH  10\n"
          ]
        },
        {
          "output_type": "stream",
          "name": "stderr",
          "text": [
            "100%|██████████| 654/654 [00:13<00:00, 49.10it/s]\n"
          ]
        },
        {
          "output_type": "stream",
          "name": "stdout",
          "text": [
            "Running Average TRAIN Loss :  3.519554696680938\n",
            "Running Average TRAIN F1-Score :  0.2568447693772272\n",
            "Running Average VAL Loss :  4.757363975864568\n",
            "Running Average VAL F1-Score :  0.21536776382629186\n",
            "\n",
            "\n",
            "EPOCH  11\n"
          ]
        },
        {
          "output_type": "stream",
          "name": "stderr",
          "text": [
            "100%|██████████| 654/654 [00:13<00:00, 49.18it/s]\n"
          ]
        },
        {
          "output_type": "stream",
          "name": "stdout",
          "text": [
            "Running Average TRAIN Loss :  3.4348227131986473\n",
            "Running Average TRAIN F1-Score :  0.2649772945757306\n",
            "Running Average VAL Loss :  4.770903430572928\n",
            "Running Average VAL F1-Score :  0.2192058893915725\n",
            "\n",
            "\n",
            "EPOCH  12\n"
          ]
        },
        {
          "output_type": "stream",
          "name": "stderr",
          "text": [
            "100%|██████████| 654/654 [00:13<00:00, 49.10it/s]\n"
          ]
        },
        {
          "output_type": "stream",
          "name": "stdout",
          "text": [
            "Running Average TRAIN Loss :  3.3753168134514344\n",
            "Running Average TRAIN F1-Score :  0.2695406407391259\n",
            "Running Average VAL Loss :  4.761899761957665\n",
            "Running Average VAL F1-Score :  0.2206306861688013\n",
            "\n",
            "\n",
            "EPOCH  13\n"
          ]
        },
        {
          "output_type": "stream",
          "name": "stderr",
          "text": [
            "100%|██████████| 654/654 [00:13<00:00, 48.62it/s]\n"
          ]
        },
        {
          "output_type": "stream",
          "name": "stdout",
          "text": [
            "Running Average TRAIN Loss :  3.3733228918973825\n",
            "Running Average TRAIN F1-Score :  0.2701009607415316\n",
            "Running Average VAL Loss :  4.776605073719809\n",
            "Running Average VAL F1-Score :  0.22022908762709736\n",
            "\n",
            "\n",
            "EPOCH  14\n"
          ]
        },
        {
          "output_type": "stream",
          "name": "stderr",
          "text": [
            "100%|██████████| 654/654 [00:13<00:00, 49.09it/s]\n"
          ]
        },
        {
          "output_type": "stream",
          "name": "stdout",
          "text": [
            "Running Average TRAIN Loss :  3.363084751167064\n",
            "Running Average TRAIN F1-Score :  0.2715473543476621\n",
            "Running Average VAL Loss :  4.7607394701814\n",
            "Running Average VAL F1-Score :  0.21924697597549386\n",
            "\n",
            "\n",
            "TRAINING FINISHED\n",
            "FINAL TRAINING SCORE :  0.2715473543476621\n",
            "FINAL VALIDATION SCORE :  0.21924697597549386\n"
          ]
        }
      ],
      "source": [
        "t5_CCO_model, t5_CCO_losses, t5_CCO_scores = train_model(embeddings_source=\"T5\", subontology=\"CCO\", num_labels=CCO_num_labels, model_type=\"linear\")"
      ]
    },
    {
      "cell_type": "code",
      "execution_count": null,
      "metadata": {
        "id": "ep6Wpyo69k96"
      },
      "outputs": [],
      "source": [
        "# protbert_model, protbert_losses, protbert_scores = train_model(embeddings_source=\"T5\",model_type=\"linear\")"
      ]
    },
    {
      "cell_type": "code",
      "execution_count": 50,
      "metadata": {
        "colab": {
          "base_uri": "https://localhost:8080/",
          "height": 813
        },
        "id": "zz6-sk7v99QX",
        "outputId": "fdcbe305-a21a-4c36-c8e6-1abef9875580"
      },
      "outputs": [
        {
          "output_type": "display_data",
          "data": {
            "text/plain": [
              "<Figure size 1000x400 with 1 Axes>"
            ],
            "image/png": "[encoded data removed]"
          },
          "metadata": {}
        },
        {
          "output_type": "display_data",
          "data": {
            "text/plain": [
              "<Figure size 1000x400 with 1 Axes>"
            ],
            "image/png": "[encoded data removed]"
          },
          "metadata": {}
        }
      ],
      "source": [
        "plt.figure(figsize = (10, 4))\n",
        "# plt.plot(esm2_losses[\"val\"], label = \"ESM2\")\n",
        "plt.plot(t5_CCO_losses[\"val\"], label = \"T5\")\n",
        "# plt.plot(protbert_losses[\"val\"], label = \"ProtBERT\")\n",
        "# plt.plot(cat_CCO_losses[\"val\"], label = \"Concat\")\n",
        "plt.title(\"CCO Validation Losses for # Vector Embeddings\")\n",
        "plt.xlabel(\"Epochs\")\n",
        "plt.ylabel(\"Average Loss\")\n",
        "plt.legend()\n",
        "plt.show()\n",
        "\n",
        "plt.figure(figsize = (10, 4))\n",
        "# plt.plot(esm2_scores[\"val\"], label = \"ESM2\")\n",
        "plt.plot(t5_CCO_scores[\"val\"], label = \"T5\")\n",
        "# plt.plot(protbert_scores[\"val\"], label = \"ProtBERT\")\n",
        "# plt.plot(cat_CCO_scores[\"val\"], label = \"Concat\")\n",
        "plt.title(\"CCO Validation F1-Scores for # Vector Embeddings\")\n",
        "plt.xlabel(\"Epochs\")\n",
        "plt.ylabel(\"Average F1-Score\")\n",
        "plt.legend()\n",
        "plt.show()"
      ]
    },
    {
      "cell_type": "code",
      "source": [
        "# cat_MFO_model, cat_MFO_losses, cat_MFO_scores = train_model(embeddings_source=\"Concat\", subontology=\"MFO\", num_labels=MFO_num_labels, model_type=\"linear\")"
      ],
      "metadata": {
        "id": "UtPn2_mXPDyl"
      },
      "execution_count": null,
      "outputs": []
    },
    {
      "cell_type": "code",
      "source": [
        "t5_MFO_model, t5_MFO_losses, t5_MFO_scores = train_model(embeddings_source=\"T5\", subontology=\"MFO\", num_labels=MFO_num_labels, model_type=\"linear\")"
      ],
      "metadata": {
        "colab": {
          "base_uri": "https://localhost:8080/"
        },
        "id": "aNmaqU5JPIvq",
        "outputId": "901d5f83-6e82-428a-8b66-d6bff4f1349a"
      },
      "execution_count": null,
      "outputs": [
        {
          "output_type": "stream",
          "name": "stdout",
          "text": [
            "BEGIN TRAINING...\n",
            "EPOCH  1\n"
          ]
        },
        {
          "output_type": "stream",
          "name": "stderr",
          "text": [
            "100%|██████████| 422/422 [00:08<00:00, 48.52it/s]\n"
          ]
        },
        {
          "output_type": "stream",
          "name": "stdout",
          "text": [
            "Running Average TRAIN Loss :  4.846190390993634\n",
            "Running Average TRAIN F1-Score :  0.089207178493741\n",
            "Running Average VAL Loss :  4.343475362087818\n",
            "Running Average VAL F1-Score :  0.11410809070505995\n",
            "\n",
            "\n",
            "EPOCH  2\n"
          ]
        },
        {
          "output_type": "stream",
          "name": "stderr",
          "text": [
            "100%|██████████| 422/422 [00:08<00:00, 48.29it/s]\n"
          ]
        },
        {
          "output_type": "stream",
          "name": "stdout",
          "text": [
            "Running Average TRAIN Loss :  4.144495994558832\n",
            "Running Average TRAIN F1-Score :  0.1253398197451474\n",
            "Running Average VAL Loss :  4.1015363500473345\n",
            "Running Average VAL F1-Score :  0.13439899223281981\n",
            "\n",
            "\n",
            "EPOCH  3\n"
          ]
        },
        {
          "output_type": "stream",
          "name": "stderr",
          "text": [
            "100%|██████████| 422/422 [00:08<00:00, 47.79it/s]\n"
          ]
        },
        {
          "output_type": "stream",
          "name": "stdout",
          "text": [
            "Running Average TRAIN Loss :  3.907630997246476\n",
            "Running Average TRAIN F1-Score :  0.14614402430388035\n",
            "Running Average VAL Loss :  3.969674343758441\n",
            "Running Average VAL F1-Score :  0.15325326012804152\n",
            "\n",
            "\n",
            "EPOCH  4\n"
          ]
        },
        {
          "output_type": "stream",
          "name": "stderr",
          "text": [
            "100%|██████████| 422/422 [00:08<00:00, 49.31it/s]\n"
          ]
        },
        {
          "output_type": "stream",
          "name": "stdout",
          "text": [
            "Running Average TRAIN Loss :  3.7340881061779942\n",
            "Running Average TRAIN F1-Score :  0.16436030000660093\n",
            "Running Average VAL Loss :  3.873750575045322\n",
            "Running Average VAL F1-Score :  0.16649386064803345\n",
            "\n",
            "\n",
            "EPOCH  5\n"
          ]
        },
        {
          "output_type": "stream",
          "name": "stderr",
          "text": [
            "100%|██████████| 422/422 [00:08<00:00, 48.86it/s]\n"
          ]
        },
        {
          "output_type": "stream",
          "name": "stdout",
          "text": [
            "Running Average TRAIN Loss :  3.5681370937428767\n",
            "Running Average TRAIN F1-Score :  0.17973997071385384\n",
            "Running Average VAL Loss :  3.8024638510764914\n",
            "Running Average VAL F1-Score :  0.18357025181993525\n",
            "\n",
            "\n",
            "EPOCH  6\n"
          ]
        },
        {
          "output_type": "stream",
          "name": "stderr",
          "text": [
            "100%|██████████| 422/422 [00:08<00:00, 48.57it/s]\n"
          ]
        },
        {
          "output_type": "stream",
          "name": "stdout",
          "text": [
            "Running Average TRAIN Loss :  3.436686015242084\n",
            "Running Average TRAIN F1-Score :  0.19450576970645037\n",
            "Running Average VAL Loss :  3.780393960628104\n",
            "Running Average VAL F1-Score :  0.19244089278768986\n",
            "\n",
            "\n",
            "EPOCH  7\n"
          ]
        },
        {
          "output_type": "stream",
          "name": "stderr",
          "text": [
            "100%|██████████| 422/422 [00:08<00:00, 48.93it/s]\n"
          ]
        },
        {
          "output_type": "stream",
          "name": "stdout",
          "text": [
            "Running Average TRAIN Loss :  3.3025905515345353\n",
            "Running Average TRAIN F1-Score :  0.2075913786817501\n",
            "Running Average VAL Loss :  3.744429978918522\n",
            "Running Average VAL F1-Score :  0.20181930160268824\n",
            "\n",
            "\n",
            "EPOCH  8\n"
          ]
        },
        {
          "output_type": "stream",
          "name": "stderr",
          "text": [
            "100%|██████████| 422/422 [00:08<00:00, 48.47it/s]\n"
          ]
        },
        {
          "output_type": "stream",
          "name": "stdout",
          "text": [
            "Running Average TRAIN Loss :  3.180596465748068\n",
            "Running Average TRAIN F1-Score :  0.22221159126380044\n",
            "Running Average VAL Loss :  3.7499879623981234\n",
            "Running Average VAL F1-Score :  0.2112328936444952\n",
            "\n",
            "\n",
            "EPOCH  9\n"
          ]
        },
        {
          "output_type": "stream",
          "name": "stderr",
          "text": [
            "100%|██████████| 422/422 [00:08<00:00, 48.48it/s]\n"
          ]
        },
        {
          "output_type": "stream",
          "name": "stdout",
          "text": [
            "Running Average TRAIN Loss :  3.065075227434601\n",
            "Running Average TRAIN F1-Score :  0.23368264845974074\n",
            "Running Average VAL Loss :  3.7534394213493836\n",
            "Running Average VAL F1-Score :  0.22848064785308025\n",
            "\n",
            "\n",
            "EPOCH  10\n"
          ]
        },
        {
          "output_type": "stream",
          "name": "stderr",
          "text": [
            "100%|██████████| 422/422 [00:08<00:00, 49.06it/s]\n"
          ]
        },
        {
          "output_type": "stream",
          "name": "stdout",
          "text": [
            "Running Average TRAIN Loss :  2.8060820088567326\n",
            "Running Average TRAIN F1-Score :  0.24853968789792175\n",
            "Running Average VAL Loss :  3.6983805768033293\n",
            "Running Average VAL F1-Score :  0.23082842630274752\n",
            "\n",
            "\n",
            "EPOCH  11\n"
          ]
        },
        {
          "output_type": "stream",
          "name": "stderr",
          "text": [
            "100%|██████████| 422/422 [00:08<00:00, 49.31it/s]\n"
          ]
        },
        {
          "output_type": "stream",
          "name": "stdout",
          "text": [
            "Running Average TRAIN Loss :  2.7345637580229774\n",
            "Running Average TRAIN F1-Score :  0.2536667884985135\n",
            "Running Average VAL Loss :  3.6950690188306443\n",
            "Running Average VAL F1-Score :  0.235632542282977\n",
            "\n",
            "\n",
            "EPOCH  12\n"
          ]
        },
        {
          "output_type": "stream",
          "name": "stderr",
          "text": [
            "100%|██████████| 422/422 [00:08<00:00, 49.19it/s]\n"
          ]
        },
        {
          "output_type": "stream",
          "name": "stdout",
          "text": [
            "Running Average TRAIN Loss :  2.70378496127106\n",
            "Running Average TRAIN F1-Score :  0.2574629331828576\n",
            "Running Average VAL Loss :  3.698305018404697\n",
            "Running Average VAL F1-Score :  0.23757692315477005\n",
            "\n",
            "\n",
            "EPOCH  13\n"
          ]
        },
        {
          "output_type": "stream",
          "name": "stderr",
          "text": [
            "100%|██████████| 422/422 [00:08<00:00, 48.98it/s]\n"
          ]
        },
        {
          "output_type": "stream",
          "name": "stdout",
          "text": [
            "Running Average TRAIN Loss :  2.6774359325662043\n",
            "Running Average TRAIN F1-Score :  0.2607253175493665\n",
            "Running Average VAL Loss :  3.7027238987861795\n",
            "Running Average VAL F1-Score :  0.23687629465093005\n",
            "\n",
            "\n",
            "EPOCH  14\n"
          ]
        },
        {
          "output_type": "stream",
          "name": "stderr",
          "text": [
            "100%|██████████| 422/422 [00:08<00:00, 47.92it/s]\n"
          ]
        },
        {
          "output_type": "stream",
          "name": "stdout",
          "text": [
            "Running Average TRAIN Loss :  2.6419053382783138\n",
            "Running Average TRAIN F1-Score :  0.2624590328025027\n",
            "Running Average VAL Loss :  3.698994753208566\n",
            "Running Average VAL F1-Score :  0.24102230877318281\n",
            "\n",
            "\n",
            "TRAINING FINISHED\n",
            "FINAL TRAINING SCORE :  0.2624590328025027\n",
            "FINAL VALIDATION SCORE :  0.24102230877318281\n"
          ]
        }
      ]
    },
    {
      "cell_type": "code",
      "source": [
        "plt.figure(figsize = (10, 4))\n",
        "# plt.plot(esm2_losses[\"val\"], label = \"ESM2\")\n",
        "plt.plot(t5_MFO_losses[\"val\"], label = \"T5\")\n",
        "# plt.plot(protbert_losses[\"val\"], label = \"ProtBERT\")\n",
        "# plt.plot(cat_MFO_losses[\"val\"], label = \"Concat\")\n",
        "plt.title(\"MFO Validation Losses for # Vector Embeddings\")\n",
        "plt.xlabel(\"Epochs\")\n",
        "plt.ylabel(\"Average Loss\")\n",
        "plt.legend()\n",
        "plt.show()\n",
        "\n",
        "plt.figure(figsize = (10, 4))\n",
        "# plt.plot(esm2_scores[\"val\"], label = \"ESM2\")\n",
        "plt.plot(t5_MFO_scores[\"val\"], label = \"T5\")\n",
        "# plt.plot(protbert_scores[\"val\"], label = \"ProtBERT\")\n",
        "# plt.plot(cat_MFO_scores[\"val\"], label = \"Concat\")\n",
        "plt.title(\"MFO Validation F1-Scores for # Vector Embeddings\")\n",
        "plt.xlabel(\"Epochs\")\n",
        "plt.ylabel(\"Average F1-Score\")\n",
        "plt.legend()\n",
        "plt.show()"
      ],
      "metadata": {
        "colab": {
          "base_uri": "https://localhost:8080/",
          "height": 813
        },
        "id": "5zm5M7jEPIiv",
        "outputId": "3c1f5e54-b15e-4a5e-d65f-0a5e5b9da3e5"
      },
      "execution_count": 51,
      "outputs": [
        {
          "output_type": "display_data",
          "data": {
            "text/plain": [
              "<Figure size 1000x400 with 1 Axes>"
            ],
            "image/png": "[encoded data removed]"
          },
          "metadata": {}
        },
        {
          "output_type": "display_data",
          "data": {
            "text/plain": [
              "<Figure size 1000x400 with 1 Axes>"
            ],
            "image/png": "[encoded data removed]"
          },
          "metadata": {}
        }
      ]
    },
    {
      "cell_type": "code",
      "source": [
        "# cat_BPO_model, cat_BPO_losses, cat_BPO_scores = train_model(embeddings_source=\"Concat\", subontology=\"BPO\", num_labels=BPO_num_labels, model_type=\"linear\")"
      ],
      "metadata": {
        "id": "z8ahwrK6uN_w"
      },
      "execution_count": null,
      "outputs": []
    },
    {
      "cell_type": "code",
      "source": [
        "t5_BPO_model, t5_BPO_losses, t5_BPO_scores = train_model(embeddings_source=\"T5\", subontology=\"BPO\", num_labels=BPO_num_labels, model_type=\"linear\")"
      ],
      "metadata": {
        "colab": {
          "base_uri": "https://localhost:8080/"
        },
        "id": "H33TXtcjuSlZ",
        "outputId": "3f2a6c60-6e5a-406d-ec84-16aae3c3cd82"
      },
      "execution_count": null,
      "outputs": [
        {
          "output_type": "stream",
          "name": "stdout",
          "text": [
            "BEGIN TRAINING...\n",
            "EPOCH  1\n"
          ]
        },
        {
          "output_type": "stream",
          "name": "stderr",
          "text": [
            "100%|██████████| 649/649 [00:13<00:00, 47.55it/s]\n"
          ]
        },
        {
          "output_type": "stream",
          "name": "stdout",
          "text": [
            "Running Average TRAIN Loss :  12.31424660675331\n",
            "Running Average TRAIN F1-Score :  0.07240037802888083\n",
            "Running Average VAL Loss :  11.620701776791925\n",
            "Running Average VAL F1-Score :  0.08454348672538588\n",
            "\n",
            "\n",
            "EPOCH  2\n"
          ]
        },
        {
          "output_type": "stream",
          "name": "stderr",
          "text": [
            "100%|██████████| 649/649 [00:13<00:00, 48.44it/s]\n"
          ]
        },
        {
          "output_type": "stream",
          "name": "stdout",
          "text": [
            "Running Average TRAIN Loss :  11.63371453924429\n",
            "Running Average TRAIN F1-Score :  0.09368222263083435\n",
            "Running Average VAL Loss :  11.430063495897267\n",
            "Running Average VAL F1-Score :  0.09415327941309916\n",
            "\n",
            "\n",
            "EPOCH  3\n"
          ]
        },
        {
          "output_type": "stream",
          "name": "stderr",
          "text": [
            "100%|██████████| 649/649 [00:13<00:00, 48.11it/s]\n"
          ]
        },
        {
          "output_type": "stream",
          "name": "stdout",
          "text": [
            "Running Average TRAIN Loss :  11.299854014063103\n",
            "Running Average TRAIN F1-Score :  0.10473473521612459\n",
            "Running Average VAL Loss :  11.270485642838151\n",
            "Running Average VAL F1-Score :  0.10356467477466962\n",
            "\n",
            "\n",
            "EPOCH  4\n"
          ]
        },
        {
          "output_type": "stream",
          "name": "stderr",
          "text": [
            "100%|██████████| 649/649 [00:13<00:00, 48.43it/s]\n"
          ]
        },
        {
          "output_type": "stream",
          "name": "stdout",
          "text": [
            "Running Average TRAIN Loss :  10.997012073710813\n",
            "Running Average TRAIN F1-Score :  0.11558627811345187\n",
            "Running Average VAL Loss :  11.040953851725957\n",
            "Running Average VAL F1-Score :  0.11172291593090312\n",
            "\n",
            "\n",
            "EPOCH  5\n"
          ]
        },
        {
          "output_type": "stream",
          "name": "stderr",
          "text": [
            "100%|██████████| 649/649 [00:13<00:00, 48.56it/s]\n"
          ]
        },
        {
          "output_type": "stream",
          "name": "stdout",
          "text": [
            "Running Average TRAIN Loss :  10.70484582227992\n",
            "Running Average TRAIN F1-Score :  0.12696536215960705\n",
            "Running Average VAL Loss :  10.930039542995088\n",
            "Running Average VAL F1-Score :  0.11881172118631944\n",
            "\n",
            "\n",
            "EPOCH  6\n"
          ]
        },
        {
          "output_type": "stream",
          "name": "stderr",
          "text": [
            "100%|██████████| 649/649 [00:13<00:00, 47.73it/s]\n"
          ]
        },
        {
          "output_type": "stream",
          "name": "stdout",
          "text": [
            "Running Average TRAIN Loss :  10.407460189196287\n",
            "Running Average TRAIN F1-Score :  0.139065226118076\n",
            "Running Average VAL Loss :  10.871041219528408\n",
            "Running Average VAL F1-Score :  0.12540398298265182\n",
            "\n",
            "\n",
            "EPOCH  7\n"
          ]
        },
        {
          "output_type": "stream",
          "name": "stderr",
          "text": [
            "100%|██████████| 649/649 [00:13<00:00, 48.05it/s]\n"
          ]
        },
        {
          "output_type": "stream",
          "name": "stdout",
          "text": [
            "Running Average TRAIN Loss :  10.120922431740077\n",
            "Running Average TRAIN F1-Score :  0.15160361826649432\n",
            "Running Average VAL Loss :  10.883802139595764\n",
            "Running Average VAL F1-Score :  0.13345493223160915\n",
            "\n",
            "\n",
            "EPOCH  8\n"
          ]
        },
        {
          "output_type": "stream",
          "name": "stderr",
          "text": [
            "100%|██████████| 649/649 [00:13<00:00, 48.72it/s]\n"
          ]
        },
        {
          "output_type": "stream",
          "name": "stdout",
          "text": [
            "Running Average TRAIN Loss :  9.842113419196272\n",
            "Running Average TRAIN F1-Score :  0.16422909323717302\n",
            "Running Average VAL Loss :  10.675456857028072\n",
            "Running Average VAL F1-Score :  0.14031462146811288\n",
            "\n",
            "\n",
            "EPOCH  9\n"
          ]
        },
        {
          "output_type": "stream",
          "name": "stderr",
          "text": [
            "100%|██████████| 649/649 [00:13<00:00, 47.57it/s]\n"
          ]
        },
        {
          "output_type": "stream",
          "name": "stdout",
          "text": [
            "Running Average TRAIN Loss :  9.577103755874516\n",
            "Running Average TRAIN F1-Score :  0.1765365594386687\n",
            "Running Average VAL Loss :  10.669486385502227\n",
            "Running Average VAL F1-Score :  0.1458298523642429\n",
            "\n",
            "\n",
            "EPOCH  10\n"
          ]
        },
        {
          "output_type": "stream",
          "name": "stderr",
          "text": [
            "100%|██████████| 649/649 [00:13<00:00, 48.27it/s]\n"
          ]
        },
        {
          "output_type": "stream",
          "name": "stdout",
          "text": [
            "Running Average TRAIN Loss :  9.328628664207752\n",
            "Running Average TRAIN F1-Score :  0.18849368065090502\n",
            "Running Average VAL Loss :  10.631015490179193\n",
            "Running Average VAL F1-Score :  0.15194617347051836\n",
            "\n",
            "\n",
            "EPOCH  11\n"
          ]
        },
        {
          "output_type": "stream",
          "name": "stderr",
          "text": [
            "100%|██████████| 649/649 [00:13<00:00, 47.99it/s]\n"
          ]
        },
        {
          "output_type": "stream",
          "name": "stdout",
          "text": [
            "Running Average TRAIN Loss :  9.089387142052084\n",
            "Running Average TRAIN F1-Score :  0.19948340424312097\n",
            "Running Average VAL Loss :  10.719729083858125\n",
            "Running Average VAL F1-Score :  0.15793548738711502\n",
            "\n",
            "\n",
            "EPOCH  12\n"
          ]
        },
        {
          "output_type": "stream",
          "name": "stderr",
          "text": [
            "100%|██████████| 649/649 [00:13<00:00, 47.79it/s]\n"
          ]
        },
        {
          "output_type": "stream",
          "name": "stdout",
          "text": [
            "Running Average TRAIN Loss :  8.873048520786185\n",
            "Running Average TRAIN F1-Score :  0.21054305037474963\n",
            "Running Average VAL Loss :  10.741849866631913\n",
            "Running Average VAL F1-Score :  0.16085500356881585\n",
            "\n",
            "\n",
            "EPOCH  13\n"
          ]
        },
        {
          "output_type": "stream",
          "name": "stderr",
          "text": [
            "100%|██████████| 649/649 [00:13<00:00, 48.00it/s]\n"
          ]
        },
        {
          "output_type": "stream",
          "name": "stdout",
          "text": [
            "Running Average TRAIN Loss :  8.34411796546313\n",
            "Running Average TRAIN F1-Score :  0.22649843623439778\n",
            "Running Average VAL Loss :  10.740546631486449\n",
            "Running Average VAL F1-Score :  0.16785198506223012\n",
            "\n",
            "\n",
            "EPOCH  14\n"
          ]
        },
        {
          "output_type": "stream",
          "name": "stderr",
          "text": [
            "100%|██████████| 649/649 [00:13<00:00, 48.48it/s]\n"
          ]
        },
        {
          "output_type": "stream",
          "name": "stdout",
          "text": [
            "Running Average TRAIN Loss :  8.234833078134592\n",
            "Running Average TRAIN F1-Score :  0.23353356173482992\n",
            "Running Average VAL Loss :  10.66758307365522\n",
            "Running Average VAL F1-Score :  0.17177356233539648\n",
            "\n",
            "\n",
            "TRAINING FINISHED\n",
            "FINAL TRAINING SCORE :  0.23353356173482992\n",
            "FINAL VALIDATION SCORE :  0.17177356233539648\n"
          ]
        }
      ]
    },
    {
      "cell_type": "code",
      "source": [
        "plt.figure(figsize = (10, 4))\n",
        "# plt.plot(esm2_losses[\"val\"], label = \"ESM2\")\n",
        "plt.plot(t5_BPO_losses[\"val\"], label = \"T5\")\n",
        "# plt.plot(protbert_losses[\"val\"], label = \"ProtBERT\")\n",
        "# plt.plot(cat_BPO_losses[\"val\"], label = \"Concat\")\n",
        "plt.title(\"BPO Validation Losses for # Vector Embeddings\")\n",
        "plt.xlabel(\"Epochs\")\n",
        "plt.ylabel(\"Average Loss\")\n",
        "plt.legend()\n",
        "plt.show()\n",
        "\n",
        "plt.figure(figsize = (10, 4))\n",
        "# plt.plot(esm2_scores[\"val\"], label = \"ESM2\")\n",
        "plt.plot(t5_BPO_scores[\"val\"], label = \"T5\")\n",
        "# plt.plot(protbert_scores[\"val\"], label = \"ProtBERT\")\n",
        "# plt.plot(cat_BPO_scores[\"val\"], label = \"Concat\")\n",
        "plt.title(\"BPO Validation F1-Scores for # Vector Embeddings\")\n",
        "plt.xlabel(\"Epochs\")\n",
        "plt.ylabel(\"Average F1-Score\")\n",
        "plt.legend()\n",
        "plt.show()"
      ],
      "metadata": {
        "colab": {
          "base_uri": "https://localhost:8080/",
          "height": 813
        },
        "id": "eQAzWeyAuSaI",
        "outputId": "0f20f985-91b2-40c8-bdb6-91767fb4056c"
      },
      "execution_count": 52,
      "outputs": [
        {
          "output_type": "display_data",
          "data": {
            "text/plain": [
              "<Figure size 1000x400 with 1 Axes>"
            ],
            "image/png": "[encoded data removed]"
          },
          "metadata": {}
        },
        {
          "output_type": "display_data",
          "data": {
            "text/plain": [
              "<Figure size 1000x400 with 1 Axes>"
            ],
            "image/png": "[encoded data removed]"
          },
          "metadata": {}
        }
      ]
    },
    {
      "cell_type": "markdown",
      "metadata": {
        "id": "dnh-ResZD_mp"
      },
      "source": [
        "## Make Predictions"
      ]
    },
    {
      "cell_type": "code",
      "source": [
        "model_map = {\n",
        "    \"CCO\": {\n",
        "        \"T5\": t5_CCO_model,\n",
        "        # \"ProtBERT\": protbert_CCO_model,\n",
        "        # \"ESM2\": esm2_CCO_model,\n",
        "        # \"Concat\": cat_CCO_model,\n",
        "        \"labels\": CCO_label_cols,\n",
        "        \"num_labels\": CCO_num_labels,\n",
        "    },\n",
        "    \"MFO\": {\n",
        "        \"T5\": t5_MFO_model,\n",
        "        # \"ProtBERT\": protbert_MFO_model,\n",
        "        # \"ESM2\": esm2_MFO_model,\n",
        "        # \"Concat\": cat_MFO_model,\n",
        "        \"labels\": MFO_label_cols,\n",
        "        \"num_labels\": MFO_num_labels,\n",
        "    },\n",
        "    \"BPO\": {\n",
        "        \"T5\": t5_BPO_model,\n",
        "        # \"ProtBERT\": protbert_MFO_model,\n",
        "        # \"ESM2\": esm2_MFO_model,\n",
        "        # \"Concat\": cat_BPO_model,\n",
        "        \"labels\": BPO_label_cols,\n",
        "        \"num_labels\": BPO_num_labels,\n",
        "    }\n",
        "}"
      ],
      "metadata": {
        "id": "O0aMuV6UqSth"
      },
      "execution_count": null,
      "outputs": []
    },
    {
      "cell_type": "code",
      "execution_count": null,
      "metadata": {
        "id": "3mTGiX1QMhLp"
      },
      "outputs": [],
      "source": [
        "def predict(embeddings_source, subontology):\n",
        "\n",
        "    test_dataset = ProteinSequenceDataset(datatype=\"test\", embeddings_source = embeddings_source, subontology=subontology)\n",
        "    test_dataloader = torch.utils.data.DataLoader(test_dataset, batch_size=1, shuffle=False)\n",
        "\n",
        "    model = model_map[subontology][embeddings_source]\n",
        "    label_cols = model_map[subontology][\"labels\"]\n",
        "    num_labels = model_map[subontology][\"num_labels\"]\n",
        "\n",
        "    model.eval()\n",
        "\n",
        "    labels = pd.read_csv(CFG.train_terms_path, sep = \"\\t\")\n",
        "    top_terms = labels.groupby(\"term\")[\"EntryID\"].count().sort_values(ascending=False)\n",
        "    labels_names = [label.split('_')[-1] for label in label_cols]\n",
        "    print(\"GENERATE PREDICTION FOR TEST SET...\")\n",
        "\n",
        "    ids_ = np.empty(shape=(len(test_dataloader)*num_labels,), dtype=object)\n",
        "    go_terms_ = np.empty(shape=(len(test_dataloader)*num_labels,), dtype=object)\n",
        "    confs_ = np.empty(shape=(len(test_dataloader)*num_labels,), dtype=np.float32)\n",
        "\n",
        "    for i, (embed, id) in tqdm(enumerate(test_dataloader)):\n",
        "        embed = embed.to(CFG.device)\n",
        "        confs_[i*num_labels:(i+1)*num_labels] = torch.nn.functional.sigmoid(model(embed)).squeeze().detach().cpu().numpy()\n",
        "        ids_[i*num_labels:(i+1)*num_labels] = id[0]\n",
        "        go_terms_[i*num_labels:(i+1)*num_labels] = labels_names\n",
        "\n",
        "    submission_df = pd.DataFrame(data={\"Id\" : ids_, \"GO term\" : go_terms_, \"Confidence\" : confs_})\n",
        "    print(\"PREDICTIONS DONE\")\n",
        "    return submission_df"
      ]
    },
    {
      "cell_type": "code",
      "execution_count": null,
      "metadata": {
        "colab": {
          "base_uri": "https://localhost:8080/",
          "height": 300
        },
        "id": "-d0LIp9-EBm5",
        "outputId": "ff695da7-6eff-4f57-bf73-f065d08d67ec"
      },
      "outputs": [
        {
          "output_type": "stream",
          "name": "stdout",
          "text": [
            "GENERATE PREDICTION FOR TEST SET...\n"
          ]
        },
        {
          "output_type": "stream",
          "name": "stderr",
          "text": [
            "55581it [00:44, 1257.21it/s]\n"
          ]
        },
        {
          "output_type": "stream",
          "name": "stdout",
          "text": [
            "PREDICTIONS DONE\n",
            "4057413\n",
            "73\n"
          ]
        },
        {
          "output_type": "execute_result",
          "data": {
            "text/plain": [
              "       Id     GO term  Confidence\n",
              "0  Q9CQV8  GO:0000325    0.012230\n",
              "1  Q9CQV8  GO:0000785    0.022415\n",
              "2  Q9CQV8  GO:0005576    0.102638\n",
              "3  Q9CQV8  GO:0005615    0.378559\n",
              "4  Q9CQV8  GO:0005618    0.033643"
            ],
            "text/html": [
              "\n",
              "  <div id=\"df-8901a340-a3dc-497c-88e1-7a5c87b880ce\">\n",
              "    <div class=\"colab-df-container\">\n",
              "      <div>\n",
              "<style scoped>\n",
              "    .dataframe tbody tr th:only-of-type {\n",
              "        vertical-align: middle;\n",
              "    }\n",
              "\n",
              "    .dataframe tbody tr th {\n",
              "        vertical-align: top;\n",
              "    }\n",
              "\n",
              "    .dataframe thead th {\n",
              "        text-align: right;\n",
              "    }\n",
              "</style>\n",
              "<table border=\"1\" class=\"dataframe\">\n",
              "  <thead>\n",
              "    <tr style=\"text-align: right;\">\n",
              "      <th></th>\n",
              "      <th>Id</th>\n",
              "      <th>GO term</th>\n",
              "      <th>Confidence</th>\n",
              "    </tr>\n",
              "  </thead>\n",
              "  <tbody>\n",
              "    <tr>\n",
              "      <th>0</th>\n",
              "      <td>Q9CQV8</td>\n",
              "      <td>GO:0000325</td>\n",
              "      <td>0.012230</td>\n",
              "    </tr>\n",
              "    <tr>\n",
              "      <th>1</th>\n",
              "      <td>Q9CQV8</td>\n",
              "      <td>GO:0000785</td>\n",
              "      <td>0.022415</td>\n",
              "    </tr>\n",
              "    <tr>\n",
              "      <th>2</th>\n",
              "      <td>Q9CQV8</td>\n",
              "      <td>GO:0005576</td>\n",
              "      <td>0.102638</td>\n",
              "    </tr>\n",
              "    <tr>\n",
              "      <th>3</th>\n",
              "      <td>Q9CQV8</td>\n",
              "      <td>GO:0005615</td>\n",
              "      <td>0.378559</td>\n",
              "    </tr>\n",
              "    <tr>\n",
              "      <th>4</th>\n",
              "      <td>Q9CQV8</td>\n",
              "      <td>GO:0005618</td>\n",
              "      <td>0.033643</td>\n",
              "    </tr>\n",
              "  </tbody>\n",
              "</table>\n",
              "</div>\n",
              "      <button class=\"colab-df-convert\" onclick=\"convertToInteractive('df-8901a340-a3dc-497c-88e1-7a5c87b880ce')\"\n",
              "              title=\"Convert this dataframe to an interactive table.\"\n",
              "              style=\"display:none;\">\n",
              "        \n",
              "  <svg xmlns=\"http://www.w3.org/2000/svg\" height=\"24px\"viewBox=\"0 0 24 24\"\n",
              "       width=\"24px\">\n",
              "    <path d=\"M0 0h24v24H0V0z\" fill=\"none\"/>\n",
              "    <path d=\"M18.56 5.44l.94 2.06.94-2.06 2.06-.94-2.06-.94-.94-2.06-.94 2.06-2.06.94zm-11 1L8.5 8.5l.94-2.06 2.06-.94-2.06-.94L8.5 2.5l-.94 2.06-2.06.94zm10 10l.94 2.06.94-2.06 2.06-.94-2.06-.94-.94-2.06-.94 2.06-2.06.94z\"/><path d=\"M17.41 7.96l-1.37-1.37c-.4-.4-.92-.59-1.43-.59-.52 0-1.04.2-1.43.59L10.3 9.45l-7.72 7.72c-.78.78-.78 2.05 0 2.83L4 21.41c.39.39.9.59 1.41.59.51 0 1.02-.2 1.41-.59l7.78-7.78 2.81-2.81c.8-.78.8-2.07 0-2.86zM5.41 20L4 18.59l7.72-7.72 1.47 1.35L5.41 20z\"/>\n",
              "  </svg>\n",
              "      </button>\n",
              "      \n",
              "  <style>\n",
              "    .colab-df-container {\n",
              "      display:flex;\n",
              "      flex-wrap:wrap;\n",
              "      gap: 12px;\n",
              "    }\n",
              "\n",
              "    .colab-df-convert {\n",
              "      background-color: #E8F0FE;\n",
              "      border: none;\n",
              "      border-radius: 50%;\n",
              "      cursor: pointer;\n",
              "      display: none;\n",
              "      fill: #1967D2;\n",
              "      height: 32px;\n",
              "      padding: 0 0 0 0;\n",
              "      width: 32px;\n",
              "    }\n",
              "\n",
              "    .colab-df-convert:hover {\n",
              "      background-color: #E2EBFA;\n",
              "      box-shadow: 0px 1px 2px rgba(60, 64, 67, 0.3), 0px 1px 3px 1px rgba(60, 64, 67, 0.15);\n",
              "      fill: #174EA6;\n",
              "    }\n",
              "\n",
              "    [theme=dark] .colab-df-convert {\n",
              "      background-color: #3B4455;\n",
              "      fill: #D2E3FC;\n",
              "    }\n",
              "\n",
              "    [theme=dark] .colab-df-convert:hover {\n",
              "      background-color: #434B5C;\n",
              "      box-shadow: 0px 1px 3px 1px rgba(0, 0, 0, 0.15);\n",
              "      filter: drop-shadow(0px 1px 2px rgba(0, 0, 0, 0.3));\n",
              "      fill: #FFFFFF;\n",
              "    }\n",
              "  </style>\n",
              "\n",
              "      <script>\n",
              "        const buttonEl =\n",
              "          document.querySelector('#df-8901a340-a3dc-497c-88e1-7a5c87b880ce button.colab-df-convert');\n",
              "        buttonEl.style.display =\n",
              "          google.colab.kernel.accessAllowed ? 'block' : 'none';\n",
              "\n",
              "        async function convertToInteractive(key) {\n",
              "          const element = document.querySelector('#df-8901a340-a3dc-497c-88e1-7a5c87b880ce');\n",
              "          const dataTable =\n",
              "            await google.colab.kernel.invokeFunction('convertToInteractive',\n",
              "                                                     [key], {});\n",
              "          if (!dataTable) return;\n",
              "\n",
              "          const docLinkHtml = 'Like what you see? Visit the ' +\n",
              "            '<a target=\"_blank\" href=https://colab.research.google.com/notebooks/data_table.ipynb>data table notebook</a>'\n",
              "            + ' to learn more about interactive tables.';\n",
              "          element.innerHTML = '';\n",
              "          dataTable['output_type'] = 'display_data';\n",
              "          await google.colab.output.renderOutput(dataTable, element);\n",
              "          const docLink = document.createElement('div');\n",
              "          docLink.innerHTML = docLinkHtml;\n",
              "          element.appendChild(docLink);\n",
              "        }\n",
              "      </script>\n",
              "    </div>\n",
              "  </div>\n",
              "  "
            ]
          },
          "metadata": {},
          "execution_count": 38
        }
      ],
      "source": [
        "CCO_submission_df = predict(\"T5\", \"CCO\")\n",
        "print(len(CCO_submission_df))\n",
        "print(len(CCO_submission_df[\"GO term\"].unique()))\n",
        "CCO_submission_df.head()"
      ]
    },
    {
      "cell_type": "code",
      "source": [
        "MFO_submission_df = predict(\"T5\", \"MFO\")\n",
        "print(len(MFO_submission_df))\n",
        "print(len(MFO_submission_df[\"GO term\"].unique()))\n",
        "MFO_submission_df.head()"
      ],
      "metadata": {
        "colab": {
          "base_uri": "https://localhost:8080/",
          "height": 300
        },
        "id": "AQlGn3o_97y3",
        "outputId": "bf848389-1645-41e3-e01b-b28a14b14149"
      },
      "execution_count": null,
      "outputs": [
        {
          "output_type": "stream",
          "name": "stdout",
          "text": [
            "GENERATE PREDICTION FOR TEST SET...\n"
          ]
        },
        {
          "output_type": "stream",
          "name": "stderr",
          "text": [
            "39741it [00:32, 1234.38it/s]\n"
          ]
        },
        {
          "output_type": "stream",
          "name": "stdout",
          "text": [
            "PREDICTIONS DONE\n",
            "3377985\n",
            "85\n"
          ]
        },
        {
          "output_type": "execute_result",
          "data": {
            "text/plain": [
              "       Id     GO term  Confidence\n",
              "0  Q9CQV8  GO:0000976    0.268112\n",
              "1  Q9CQV8  GO:0000978    0.180540\n",
              "2  Q9CQV8  GO:0000981    0.030541\n",
              "3  Q9CQV8  GO:0001228    0.014568\n",
              "4  Q9CQV8  GO:0003677    0.680044"
            ],
            "text/html": [
              "\n",
              "  <div id=\"df-35e3a330-3498-4c54-bd86-3b805b17239b\">\n",
              "    <div class=\"colab-df-container\">\n",
              "      <div>\n",
              "<style scoped>\n",
              "    .dataframe tbody tr th:only-of-type {\n",
              "        vertical-align: middle;\n",
              "    }\n",
              "\n",
              "    .dataframe tbody tr th {\n",
              "        vertical-align: top;\n",
              "    }\n",
              "\n",
              "    .dataframe thead th {\n",
              "        text-align: right;\n",
              "    }\n",
              "</style>\n",
              "<table border=\"1\" class=\"dataframe\">\n",
              "  <thead>\n",
              "    <tr style=\"text-align: right;\">\n",
              "      <th></th>\n",
              "      <th>Id</th>\n",
              "      <th>GO term</th>\n",
              "      <th>Confidence</th>\n",
              "    </tr>\n",
              "  </thead>\n",
              "  <tbody>\n",
              "    <tr>\n",
              "      <th>0</th>\n",
              "      <td>Q9CQV8</td>\n",
              "      <td>GO:0000976</td>\n",
              "      <td>0.268112</td>\n",
              "    </tr>\n",
              "    <tr>\n",
              "      <th>1</th>\n",
              "      <td>Q9CQV8</td>\n",
              "      <td>GO:0000978</td>\n",
              "      <td>0.180540</td>\n",
              "    </tr>\n",
              "    <tr>\n",
              "      <th>2</th>\n",
              "      <td>Q9CQV8</td>\n",
              "      <td>GO:0000981</td>\n",
              "      <td>0.030541</td>\n",
              "    </tr>\n",
              "    <tr>\n",
              "      <th>3</th>\n",
              "      <td>Q9CQV8</td>\n",
              "      <td>GO:0001228</td>\n",
              "      <td>0.014568</td>\n",
              "    </tr>\n",
              "    <tr>\n",
              "      <th>4</th>\n",
              "      <td>Q9CQV8</td>\n",
              "      <td>GO:0003677</td>\n",
              "      <td>0.680044</td>\n",
              "    </tr>\n",
              "  </tbody>\n",
              "</table>\n",
              "</div>\n",
              "      <button class=\"colab-df-convert\" onclick=\"convertToInteractive('df-35e3a330-3498-4c54-bd86-3b805b17239b')\"\n",
              "              title=\"Convert this dataframe to an interactive table.\"\n",
              "              style=\"display:none;\">\n",
              "        \n",
              "  <svg xmlns=\"http://www.w3.org/2000/svg\" height=\"24px\"viewBox=\"0 0 24 24\"\n",
              "       width=\"24px\">\n",
              "    <path d=\"M0 0h24v24H0V0z\" fill=\"none\"/>\n",
              "    <path d=\"M18.56 5.44l.94 2.06.94-2.06 2.06-.94-2.06-.94-.94-2.06-.94 2.06-2.06.94zm-11 1L8.5 8.5l.94-2.06 2.06-.94-2.06-.94L8.5 2.5l-.94 2.06-2.06.94zm10 10l.94 2.06.94-2.06 2.06-.94-2.06-.94-.94-2.06-.94 2.06-2.06.94z\"/><path d=\"M17.41 7.96l-1.37-1.37c-.4-.4-.92-.59-1.43-.59-.52 0-1.04.2-1.43.59L10.3 9.45l-7.72 7.72c-.78.78-.78 2.05 0 2.83L4 21.41c.39.39.9.59 1.41.59.51 0 1.02-.2 1.41-.59l7.78-7.78 2.81-2.81c.8-.78.8-2.07 0-2.86zM5.41 20L4 18.59l7.72-7.72 1.47 1.35L5.41 20z\"/>\n",
              "  </svg>\n",
              "      </button>\n",
              "      \n",
              "  <style>\n",
              "    .colab-df-container {\n",
              "      display:flex;\n",
              "      flex-wrap:wrap;\n",
              "      gap: 12px;\n",
              "    }\n",
              "\n",
              "    .colab-df-convert {\n",
              "      background-color: #E8F0FE;\n",
              "      border: none;\n",
              "      border-radius: 50%;\n",
              "      cursor: pointer;\n",
              "      display: none;\n",
              "      fill: #1967D2;\n",
              "      height: 32px;\n",
              "      padding: 0 0 0 0;\n",
              "      width: 32px;\n",
              "    }\n",
              "\n",
              "    .colab-df-convert:hover {\n",
              "      background-color: #E2EBFA;\n",
              "      box-shadow: 0px 1px 2px rgba(60, 64, 67, 0.3), 0px 1px 3px 1px rgba(60, 64, 67, 0.15);\n",
              "      fill: #174EA6;\n",
              "    }\n",
              "\n",
              "    [theme=dark] .colab-df-convert {\n",
              "      background-color: #3B4455;\n",
              "      fill: #D2E3FC;\n",
              "    }\n",
              "\n",
              "    [theme=dark] .colab-df-convert:hover {\n",
              "      background-color: #434B5C;\n",
              "      box-shadow: 0px 1px 3px 1px rgba(0, 0, 0, 0.15);\n",
              "      filter: drop-shadow(0px 1px 2px rgba(0, 0, 0, 0.3));\n",
              "      fill: #FFFFFF;\n",
              "    }\n",
              "  </style>\n",
              "\n",
              "      <script>\n",
              "        const buttonEl =\n",
              "          document.querySelector('#df-35e3a330-3498-4c54-bd86-3b805b17239b button.colab-df-convert');\n",
              "        buttonEl.style.display =\n",
              "          google.colab.kernel.accessAllowed ? 'block' : 'none';\n",
              "\n",
              "        async function convertToInteractive(key) {\n",
              "          const element = document.querySelector('#df-35e3a330-3498-4c54-bd86-3b805b17239b');\n",
              "          const dataTable =\n",
              "            await google.colab.kernel.invokeFunction('convertToInteractive',\n",
              "                                                     [key], {});\n",
              "          if (!dataTable) return;\n",
              "\n",
              "          const docLinkHtml = 'Like what you see? Visit the ' +\n",
              "            '<a target=\"_blank\" href=https://colab.research.google.com/notebooks/data_table.ipynb>data table notebook</a>'\n",
              "            + ' to learn more about interactive tables.';\n",
              "          element.innerHTML = '';\n",
              "          dataTable['output_type'] = 'display_data';\n",
              "          await google.colab.output.renderOutput(dataTable, element);\n",
              "          const docLink = document.createElement('div');\n",
              "          docLink.innerHTML = docLinkHtml;\n",
              "          element.appendChild(docLink);\n",
              "        }\n",
              "      </script>\n",
              "    </div>\n",
              "  </div>\n",
              "  "
            ]
          },
          "metadata": {},
          "execution_count": 39
        }
      ]
    },
    {
      "cell_type": "code",
      "source": [
        "BPO_submission_df = predict(\"T5\", \"BPO\")\n",
        "print(len(BPO_submission_df))\n",
        "print(len(BPO_submission_df[\"GO term\"].unique()))\n",
        "BPO_submission_df.head()"
      ],
      "metadata": {
        "colab": {
          "base_uri": "https://localhost:8080/",
          "height": 300
        },
        "id": "xHwkdLIq10Ns",
        "outputId": "5f2101ea-94f8-4d69-91f8-12112cd38052"
      },
      "execution_count": null,
      "outputs": [
        {
          "output_type": "stream",
          "name": "stdout",
          "text": [
            "GENERATE PREDICTION FOR TEST SET...\n"
          ]
        },
        {
          "output_type": "stream",
          "name": "stderr",
          "text": [
            "53593it [00:44, 1210.04it/s]\n"
          ]
        },
        {
          "output_type": "stream",
          "name": "stdout",
          "text": [
            "PREDICTIONS DONE\n",
            "9110810\n",
            "170\n"
          ]
        },
        {
          "output_type": "execute_result",
          "data": {
            "text/plain": [
              "       Id     GO term  Confidence\n",
              "0  Q9CQV8  GO:0000122    0.649941\n",
              "1  Q9CQV8  GO:0000904    0.440541\n",
              "2  Q9CQV8  GO:0001666    0.020515\n",
              "3  Q9CQV8  GO:0001817    0.008107\n",
              "4  Q9CQV8  GO:0001819    0.054463"
            ],
            "text/html": [
              "\n",
              "  <div id=\"df-e0659132-ae60-481e-aac7-e005a9853ef4\">\n",
              "    <div class=\"colab-df-container\">\n",
              "      <div>\n",
              "<style scoped>\n",
              "    .dataframe tbody tr th:only-of-type {\n",
              "        vertical-align: middle;\n",
              "    }\n",
              "\n",
              "    .dataframe tbody tr th {\n",
              "        vertical-align: top;\n",
              "    }\n",
              "\n",
              "    .dataframe thead th {\n",
              "        text-align: right;\n",
              "    }\n",
              "</style>\n",
              "<table border=\"1\" class=\"dataframe\">\n",
              "  <thead>\n",
              "    <tr style=\"text-align: right;\">\n",
              "      <th></th>\n",
              "      <th>Id</th>\n",
              "      <th>GO term</th>\n",
              "      <th>Confidence</th>\n",
              "    </tr>\n",
              "  </thead>\n",
              "  <tbody>\n",
              "    <tr>\n",
              "      <th>0</th>\n",
              "      <td>Q9CQV8</td>\n",
              "      <td>GO:0000122</td>\n",
              "      <td>0.649941</td>\n",
              "    </tr>\n",
              "    <tr>\n",
              "      <th>1</th>\n",
              "      <td>Q9CQV8</td>\n",
              "      <td>GO:0000904</td>\n",
              "      <td>0.440541</td>\n",
              "    </tr>\n",
              "    <tr>\n",
              "      <th>2</th>\n",
              "      <td>Q9CQV8</td>\n",
              "      <td>GO:0001666</td>\n",
              "      <td>0.020515</td>\n",
              "    </tr>\n",
              "    <tr>\n",
              "      <th>3</th>\n",
              "      <td>Q9CQV8</td>\n",
              "      <td>GO:0001817</td>\n",
              "      <td>0.008107</td>\n",
              "    </tr>\n",
              "    <tr>\n",
              "      <th>4</th>\n",
              "      <td>Q9CQV8</td>\n",
              "      <td>GO:0001819</td>\n",
              "      <td>0.054463</td>\n",
              "    </tr>\n",
              "  </tbody>\n",
              "</table>\n",
              "</div>\n",
              "      <button class=\"colab-df-convert\" onclick=\"convertToInteractive('df-e0659132-ae60-481e-aac7-e005a9853ef4')\"\n",
              "              title=\"Convert this dataframe to an interactive table.\"\n",
              "              style=\"display:none;\">\n",
              "        \n",
              "  <svg xmlns=\"http://www.w3.org/2000/svg\" height=\"24px\"viewBox=\"0 0 24 24\"\n",
              "       width=\"24px\">\n",
              "    <path d=\"M0 0h24v24H0V0z\" fill=\"none\"/>\n",
              "    <path d=\"M18.56 5.44l.94 2.06.94-2.06 2.06-.94-2.06-.94-.94-2.06-.94 2.06-2.06.94zm-11 1L8.5 8.5l.94-2.06 2.06-.94-2.06-.94L8.5 2.5l-.94 2.06-2.06.94zm10 10l.94 2.06.94-2.06 2.06-.94-2.06-.94-.94-2.06-.94 2.06-2.06.94z\"/><path d=\"M17.41 7.96l-1.37-1.37c-.4-.4-.92-.59-1.43-.59-.52 0-1.04.2-1.43.59L10.3 9.45l-7.72 7.72c-.78.78-.78 2.05 0 2.83L4 21.41c.39.39.9.59 1.41.59.51 0 1.02-.2 1.41-.59l7.78-7.78 2.81-2.81c.8-.78.8-2.07 0-2.86zM5.41 20L4 18.59l7.72-7.72 1.47 1.35L5.41 20z\"/>\n",
              "  </svg>\n",
              "      </button>\n",
              "      \n",
              "  <style>\n",
              "    .colab-df-container {\n",
              "      display:flex;\n",
              "      flex-wrap:wrap;\n",
              "      gap: 12px;\n",
              "    }\n",
              "\n",
              "    .colab-df-convert {\n",
              "      background-color: #E8F0FE;\n",
              "      border: none;\n",
              "      border-radius: 50%;\n",
              "      cursor: pointer;\n",
              "      display: none;\n",
              "      fill: #1967D2;\n",
              "      height: 32px;\n",
              "      padding: 0 0 0 0;\n",
              "      width: 32px;\n",
              "    }\n",
              "\n",
              "    .colab-df-convert:hover {\n",
              "      background-color: #E2EBFA;\n",
              "      box-shadow: 0px 1px 2px rgba(60, 64, 67, 0.3), 0px 1px 3px 1px rgba(60, 64, 67, 0.15);\n",
              "      fill: #174EA6;\n",
              "    }\n",
              "\n",
              "    [theme=dark] .colab-df-convert {\n",
              "      background-color: #3B4455;\n",
              "      fill: #D2E3FC;\n",
              "    }\n",
              "\n",
              "    [theme=dark] .colab-df-convert:hover {\n",
              "      background-color: #434B5C;\n",
              "      box-shadow: 0px 1px 3px 1px rgba(0, 0, 0, 0.15);\n",
              "      filter: drop-shadow(0px 1px 2px rgba(0, 0, 0, 0.3));\n",
              "      fill: #FFFFFF;\n",
              "    }\n",
              "  </style>\n",
              "\n",
              "      <script>\n",
              "        const buttonEl =\n",
              "          document.querySelector('#df-e0659132-ae60-481e-aac7-e005a9853ef4 button.colab-df-convert');\n",
              "        buttonEl.style.display =\n",
              "          google.colab.kernel.accessAllowed ? 'block' : 'none';\n",
              "\n",
              "        async function convertToInteractive(key) {\n",
              "          const element = document.querySelector('#df-e0659132-ae60-481e-aac7-e005a9853ef4');\n",
              "          const dataTable =\n",
              "            await google.colab.kernel.invokeFunction('convertToInteractive',\n",
              "                                                     [key], {});\n",
              "          if (!dataTable) return;\n",
              "\n",
              "          const docLinkHtml = 'Like what you see? Visit the ' +\n",
              "            '<a target=\"_blank\" href=https://colab.research.google.com/notebooks/data_table.ipynb>data table notebook</a>'\n",
              "            + ' to learn more about interactive tables.';\n",
              "          element.innerHTML = '';\n",
              "          dataTable['output_type'] = 'display_data';\n",
              "          await google.colab.output.renderOutput(dataTable, element);\n",
              "          const docLink = document.createElement('div');\n",
              "          docLink.innerHTML = docLinkHtml;\n",
              "          element.appendChild(docLink);\n",
              "        }\n",
              "      </script>\n",
              "    </div>\n",
              "  </div>\n",
              "  "
            ]
          },
          "metadata": {},
          "execution_count": 40
        }
      ]
    },
    {
      "cell_type": "code",
      "source": [
        "id_list = []\n",
        "go_term_list = []\n",
        "confidence_list = []\n",
        "for rw in CCO_submission_df.values:\n",
        "  edges = CCO_ordered_edges[rw[1]]\n",
        "  for edge in edges:\n",
        "    id_list.append(rw[0])\n",
        "    go_term_list.append(edge)\n",
        "    confidence_list.append(rw[2])\n",
        "additional_labels = pd.DataFrame({'Id': id_list, 'GO term': go_term_list, 'Confidence': confidence_list})"
      ],
      "metadata": {
        "id": "d78dRJCRFhIb"
      },
      "execution_count": null,
      "outputs": []
    },
    {
      "cell_type": "code",
      "source": [
        "submission_df = pd.concat([CCO_submission_df, MFO_submission_df, BPO_submission_df,]).drop_duplicates(['Id', 'GO term']).reset_index(drop=True)"
      ],
      "metadata": {
        "id": "IqseLdHKGRKn"
      },
      "execution_count": null,
      "outputs": []
    },
    {
      "cell_type": "code",
      "source": [
        "print(len(submission_df))\n",
        "print(len(submission_df[\"GO term\"].unique()))\n",
        "submission_df.head()"
      ],
      "metadata": {
        "colab": {
          "base_uri": "https://localhost:8080/",
          "height": 244
        },
        "id": "VDgTTFPGGeMs",
        "outputId": "199c378f-29e4-4868-a83b-a0fe3046ef3b"
      },
      "execution_count": null,
      "outputs": [
        {
          "output_type": "stream",
          "name": "stdout",
          "text": [
            "16546208\n",
            "328\n"
          ]
        },
        {
          "output_type": "execute_result",
          "data": {
            "text/plain": [
              "       Id     GO term  Confidence\n",
              "0  Q9CQV8  GO:0000325    0.012230\n",
              "1  Q9CQV8  GO:0000785    0.022415\n",
              "2  Q9CQV8  GO:0005576    0.102638\n",
              "3  Q9CQV8  GO:0005615    0.378559\n",
              "4  Q9CQV8  GO:0005618    0.033643"
            ],
            "text/html": [
              "\n",
              "  <div id=\"df-773943a7-3c89-4508-a944-37f7baedacca\">\n",
              "    <div class=\"colab-df-container\">\n",
              "      <div>\n",
              "<style scoped>\n",
              "    .dataframe tbody tr th:only-of-type {\n",
              "        vertical-align: middle;\n",
              "    }\n",
              "\n",
              "    .dataframe tbody tr th {\n",
              "        vertical-align: top;\n",
              "    }\n",
              "\n",
              "    .dataframe thead th {\n",
              "        text-align: right;\n",
              "    }\n",
              "</style>\n",
              "<table border=\"1\" class=\"dataframe\">\n",
              "  <thead>\n",
              "    <tr style=\"text-align: right;\">\n",
              "      <th></th>\n",
              "      <th>Id</th>\n",
              "      <th>GO term</th>\n",
              "      <th>Confidence</th>\n",
              "    </tr>\n",
              "  </thead>\n",
              "  <tbody>\n",
              "    <tr>\n",
              "      <th>0</th>\n",
              "      <td>Q9CQV8</td>\n",
              "      <td>GO:0000325</td>\n",
              "      <td>0.012230</td>\n",
              "    </tr>\n",
              "    <tr>\n",
              "      <th>1</th>\n",
              "      <td>Q9CQV8</td>\n",
              "      <td>GO:0000785</td>\n",
              "      <td>0.022415</td>\n",
              "    </tr>\n",
              "    <tr>\n",
              "      <th>2</th>\n",
              "      <td>Q9CQV8</td>\n",
              "      <td>GO:0005576</td>\n",
              "      <td>0.102638</td>\n",
              "    </tr>\n",
              "    <tr>\n",
              "      <th>3</th>\n",
              "      <td>Q9CQV8</td>\n",
              "      <td>GO:0005615</td>\n",
              "      <td>0.378559</td>\n",
              "    </tr>\n",
              "    <tr>\n",
              "      <th>4</th>\n",
              "      <td>Q9CQV8</td>\n",
              "      <td>GO:0005618</td>\n",
              "      <td>0.033643</td>\n",
              "    </tr>\n",
              "  </tbody>\n",
              "</table>\n",
              "</div>\n",
              "      <button class=\"colab-df-convert\" onclick=\"convertToInteractive('df-773943a7-3c89-4508-a944-37f7baedacca')\"\n",
              "              title=\"Convert this dataframe to an interactive table.\"\n",
              "              style=\"display:none;\">\n",
              "        \n",
              "  <svg xmlns=\"http://www.w3.org/2000/svg\" height=\"24px\"viewBox=\"0 0 24 24\"\n",
              "       width=\"24px\">\n",
              "    <path d=\"M0 0h24v24H0V0z\" fill=\"none\"/>\n",
              "    <path d=\"M18.56 5.44l.94 2.06.94-2.06 2.06-.94-2.06-.94-.94-2.06-.94 2.06-2.06.94zm-11 1L8.5 8.5l.94-2.06 2.06-.94-2.06-.94L8.5 2.5l-.94 2.06-2.06.94zm10 10l.94 2.06.94-2.06 2.06-.94-2.06-.94-.94-2.06-.94 2.06-2.06.94z\"/><path d=\"M17.41 7.96l-1.37-1.37c-.4-.4-.92-.59-1.43-.59-.52 0-1.04.2-1.43.59L10.3 9.45l-7.72 7.72c-.78.78-.78 2.05 0 2.83L4 21.41c.39.39.9.59 1.41.59.51 0 1.02-.2 1.41-.59l7.78-7.78 2.81-2.81c.8-.78.8-2.07 0-2.86zM5.41 20L4 18.59l7.72-7.72 1.47 1.35L5.41 20z\"/>\n",
              "  </svg>\n",
              "      </button>\n",
              "      \n",
              "  <style>\n",
              "    .colab-df-container {\n",
              "      display:flex;\n",
              "      flex-wrap:wrap;\n",
              "      gap: 12px;\n",
              "    }\n",
              "\n",
              "    .colab-df-convert {\n",
              "      background-color: #E8F0FE;\n",
              "      border: none;\n",
              "      border-radius: 50%;\n",
              "      cursor: pointer;\n",
              "      display: none;\n",
              "      fill: #1967D2;\n",
              "      height: 32px;\n",
              "      padding: 0 0 0 0;\n",
              "      width: 32px;\n",
              "    }\n",
              "\n",
              "    .colab-df-convert:hover {\n",
              "      background-color: #E2EBFA;\n",
              "      box-shadow: 0px 1px 2px rgba(60, 64, 67, 0.3), 0px 1px 3px 1px rgba(60, 64, 67, 0.15);\n",
              "      fill: #174EA6;\n",
              "    }\n",
              "\n",
              "    [theme=dark] .colab-df-convert {\n",
              "      background-color: #3B4455;\n",
              "      fill: #D2E3FC;\n",
              "    }\n",
              "\n",
              "    [theme=dark] .colab-df-convert:hover {\n",
              "      background-color: #434B5C;\n",
              "      box-shadow: 0px 1px 3px 1px rgba(0, 0, 0, 0.15);\n",
              "      filter: drop-shadow(0px 1px 2px rgba(0, 0, 0, 0.3));\n",
              "      fill: #FFFFFF;\n",
              "    }\n",
              "  </style>\n",
              "\n",
              "      <script>\n",
              "        const buttonEl =\n",
              "          document.querySelector('#df-773943a7-3c89-4508-a944-37f7baedacca button.colab-df-convert');\n",
              "        buttonEl.style.display =\n",
              "          google.colab.kernel.accessAllowed ? 'block' : 'none';\n",
              "\n",
              "        async function convertToInteractive(key) {\n",
              "          const element = document.querySelector('#df-773943a7-3c89-4508-a944-37f7baedacca');\n",
              "          const dataTable =\n",
              "            await google.colab.kernel.invokeFunction('convertToInteractive',\n",
              "                                                     [key], {});\n",
              "          if (!dataTable) return;\n",
              "\n",
              "          const docLinkHtml = 'Like what you see? Visit the ' +\n",
              "            '<a target=\"_blank\" href=https://colab.research.google.com/notebooks/data_table.ipynb>data table notebook</a>'\n",
              "            + ' to learn more about interactive tables.';\n",
              "          element.innerHTML = '';\n",
              "          dataTable['output_type'] = 'display_data';\n",
              "          await google.colab.output.renderOutput(dataTable, element);\n",
              "          const docLink = document.createElement('div');\n",
              "          docLink.innerHTML = docLinkHtml;\n",
              "          element.appendChild(docLink);\n",
              "        }\n",
              "      </script>\n",
              "    </div>\n",
              "  </div>\n",
              "  "
            ]
          },
          "metadata": {},
          "execution_count": 43
        }
      ]
    },
    {
      "cell_type": "code",
      "source": [
        "submission_df['Id'].unique()[:5]"
      ],
      "metadata": {
        "colab": {
          "base_uri": "https://localhost:8080/"
        },
        "id": "bsmbvtm5JEYM",
        "outputId": "208e93ae-2f92-4ff6-e5e9-c9cd0e33893c"
      },
      "execution_count": null,
      "outputs": [
        {
          "output_type": "execute_result",
          "data": {
            "text/plain": [
              "array(['Q9CQV8', 'P62259', 'P68510', 'P61982', 'O70456'], dtype=object)"
            ]
          },
          "metadata": {},
          "execution_count": 44
        }
      ]
    },
    {
      "cell_type": "code",
      "source": [
        "protein_id = 'P68510'\n",
        "subset_df = submission_df[submission_df['Id'] == protein_id].reset_index(drop=True)"
      ],
      "metadata": {
        "id": "5jSzB5P8KnrD"
      },
      "execution_count": null,
      "outputs": []
    },
    {
      "cell_type": "code",
      "source": [
        "subset_df.loc[subset_df['Confidence'].argmax()]"
      ],
      "metadata": {
        "colab": {
          "base_uri": "https://localhost:8080/"
        },
        "id": "Se1hlgylHp2e",
        "outputId": "5e90c3f7-7cef-4778-cdbf-b6d08a06ca32"
      },
      "execution_count": null,
      "outputs": [
        {
          "output_type": "execute_result",
          "data": {
            "text/plain": [
              "Id                P68510\n",
              "GO term       GO:0005515\n",
              "Confidence      0.943715\n",
              "Name: 95, dtype: object"
            ]
          },
          "metadata": {},
          "execution_count": 46
        }
      ]
    },
    {
      "cell_type": "code",
      "source": [
        "subset_df.sort_values(['Confidence'], ascending=False).head(7)"
      ],
      "metadata": {
        "colab": {
          "base_uri": "https://localhost:8080/",
          "height": 269
        },
        "id": "VtTBn_RrLf9Y",
        "outputId": "dd17deca-6359-4572-8efe-a52cc3db9114"
      },
      "execution_count": null,
      "outputs": [
        {
          "output_type": "execute_result",
          "data": {
            "text/plain": [
              "         Id     GO term  Confidence\n",
              "95   P68510  GO:0005515    0.943715\n",
              "122  P68510  GO:0019904    0.903426\n",
              "120  P68510  GO:0019899    0.900047\n",
              "22   P68510  GO:0005829    0.880448\n",
              "68   P68510  GO:0110165    0.857196\n",
              "140  P68510  GO:0046982    0.852274\n",
              "5    P68510  GO:0005634    0.839800"
            ],
            "text/html": [
              "\n",
              "  <div id=\"df-fb8bec44-80fa-427c-b895-ff080b81a153\">\n",
              "    <div class=\"colab-df-container\">\n",
              "      <div>\n",
              "<style scoped>\n",
              "    .dataframe tbody tr th:only-of-type {\n",
              "        vertical-align: middle;\n",
              "    }\n",
              "\n",
              "    .dataframe tbody tr th {\n",
              "        vertical-align: top;\n",
              "    }\n",
              "\n",
              "    .dataframe thead th {\n",
              "        text-align: right;\n",
              "    }\n",
              "</style>\n",
              "<table border=\"1\" class=\"dataframe\">\n",
              "  <thead>\n",
              "    <tr style=\"text-align: right;\">\n",
              "      <th></th>\n",
              "      <th>Id</th>\n",
              "      <th>GO term</th>\n",
              "      <th>Confidence</th>\n",
              "    </tr>\n",
              "  </thead>\n",
              "  <tbody>\n",
              "    <tr>\n",
              "      <th>95</th>\n",
              "      <td>P68510</td>\n",
              "      <td>GO:0005515</td>\n",
              "      <td>0.943715</td>\n",
              "    </tr>\n",
              "    <tr>\n",
              "      <th>122</th>\n",
              "      <td>P68510</td>\n",
              "      <td>GO:0019904</td>\n",
              "      <td>0.903426</td>\n",
              "    </tr>\n",
              "    <tr>\n",
              "      <th>120</th>\n",
              "      <td>P68510</td>\n",
              "      <td>GO:0019899</td>\n",
              "      <td>0.900047</td>\n",
              "    </tr>\n",
              "    <tr>\n",
              "      <th>22</th>\n",
              "      <td>P68510</td>\n",
              "      <td>GO:0005829</td>\n",
              "      <td>0.880448</td>\n",
              "    </tr>\n",
              "    <tr>\n",
              "      <th>68</th>\n",
              "      <td>P68510</td>\n",
              "      <td>GO:0110165</td>\n",
              "      <td>0.857196</td>\n",
              "    </tr>\n",
              "    <tr>\n",
              "      <th>140</th>\n",
              "      <td>P68510</td>\n",
              "      <td>GO:0046982</td>\n",
              "      <td>0.852274</td>\n",
              "    </tr>\n",
              "    <tr>\n",
              "      <th>5</th>\n",
              "      <td>P68510</td>\n",
              "      <td>GO:0005634</td>\n",
              "      <td>0.839800</td>\n",
              "    </tr>\n",
              "  </tbody>\n",
              "</table>\n",
              "</div>\n",
              "      <button class=\"colab-df-convert\" onclick=\"convertToInteractive('df-fb8bec44-80fa-427c-b895-ff080b81a153')\"\n",
              "              title=\"Convert this dataframe to an interactive table.\"\n",
              "              style=\"display:none;\">\n",
              "        \n",
              "  <svg xmlns=\"http://www.w3.org/2000/svg\" height=\"24px\"viewBox=\"0 0 24 24\"\n",
              "       width=\"24px\">\n",
              "    <path d=\"M0 0h24v24H0V0z\" fill=\"none\"/>\n",
              "    <path d=\"M18.56 5.44l.94 2.06.94-2.06 2.06-.94-2.06-.94-.94-2.06-.94 2.06-2.06.94zm-11 1L8.5 8.5l.94-2.06 2.06-.94-2.06-.94L8.5 2.5l-.94 2.06-2.06.94zm10 10l.94 2.06.94-2.06 2.06-.94-2.06-.94-.94-2.06-.94 2.06-2.06.94z\"/><path d=\"M17.41 7.96l-1.37-1.37c-.4-.4-.92-.59-1.43-.59-.52 0-1.04.2-1.43.59L10.3 9.45l-7.72 7.72c-.78.78-.78 2.05 0 2.83L4 21.41c.39.39.9.59 1.41.59.51 0 1.02-.2 1.41-.59l7.78-7.78 2.81-2.81c.8-.78.8-2.07 0-2.86zM5.41 20L4 18.59l7.72-7.72 1.47 1.35L5.41 20z\"/>\n",
              "  </svg>\n",
              "      </button>\n",
              "      \n",
              "  <style>\n",
              "    .colab-df-container {\n",
              "      display:flex;\n",
              "      flex-wrap:wrap;\n",
              "      gap: 12px;\n",
              "    }\n",
              "\n",
              "    .colab-df-convert {\n",
              "      background-color: #E8F0FE;\n",
              "      border: none;\n",
              "      border-radius: 50%;\n",
              "      cursor: pointer;\n",
              "      display: none;\n",
              "      fill: #1967D2;\n",
              "      height: 32px;\n",
              "      padding: 0 0 0 0;\n",
              "      width: 32px;\n",
              "    }\n",
              "\n",
              "    .colab-df-convert:hover {\n",
              "      background-color: #E2EBFA;\n",
              "      box-shadow: 0px 1px 2px rgba(60, 64, 67, 0.3), 0px 1px 3px 1px rgba(60, 64, 67, 0.15);\n",
              "      fill: #174EA6;\n",
              "    }\n",
              "\n",
              "    [theme=dark] .colab-df-convert {\n",
              "      background-color: #3B4455;\n",
              "      fill: #D2E3FC;\n",
              "    }\n",
              "\n",
              "    [theme=dark] .colab-df-convert:hover {\n",
              "      background-color: #434B5C;\n",
              "      box-shadow: 0px 1px 3px 1px rgba(0, 0, 0, 0.15);\n",
              "      filter: drop-shadow(0px 1px 2px rgba(0, 0, 0, 0.3));\n",
              "      fill: #FFFFFF;\n",
              "    }\n",
              "  </style>\n",
              "\n",
              "      <script>\n",
              "        const buttonEl =\n",
              "          document.querySelector('#df-fb8bec44-80fa-427c-b895-ff080b81a153 button.colab-df-convert');\n",
              "        buttonEl.style.display =\n",
              "          google.colab.kernel.accessAllowed ? 'block' : 'none';\n",
              "\n",
              "        async function convertToInteractive(key) {\n",
              "          const element = document.querySelector('#df-fb8bec44-80fa-427c-b895-ff080b81a153');\n",
              "          const dataTable =\n",
              "            await google.colab.kernel.invokeFunction('convertToInteractive',\n",
              "                                                     [key], {});\n",
              "          if (!dataTable) return;\n",
              "\n",
              "          const docLinkHtml = 'Like what you see? Visit the ' +\n",
              "            '<a target=\"_blank\" href=https://colab.research.google.com/notebooks/data_table.ipynb>data table notebook</a>'\n",
              "            + ' to learn more about interactive tables.';\n",
              "          element.innerHTML = '';\n",
              "          dataTable['output_type'] = 'display_data';\n",
              "          await google.colab.output.renderOutput(dataTable, element);\n",
              "          const docLink = document.createElement('div');\n",
              "          docLink.innerHTML = docLinkHtml;\n",
              "          element.appendChild(docLink);\n",
              "        }\n",
              "      </script>\n",
              "    </div>\n",
              "  </div>\n",
              "  "
            ]
          },
          "metadata": {},
          "execution_count": 47
        }
      ]
    },
    {
      "cell_type": "code",
      "source": [
        "train_terms[(train_terms['EntryID'] == protein_id) & (train_terms['aspect'] == 'CCO')]"
      ],
      "metadata": {
        "colab": {
          "base_uri": "https://localhost:8080/",
          "height": 614
        },
        "id": "t4xWWYC-H3Ot",
        "outputId": "dd504b42-550e-4ea2-d06f-c9fe0e4e7c83"
      },
      "execution_count": null,
      "outputs": [
        {
          "output_type": "execute_result",
          "data": {
            "text/plain": [
              "        EntryID        term aspect        ia\n",
              "4032360  P68510  GO:0005622    CCO  0.366945\n",
              "4032361  P68510  GO:0060076    CCO  4.520144\n",
              "4032362  P68510  GO:0014704    CCO  0.525320\n",
              "4032363  P68510  GO:0044291    CCO  3.752804\n",
              "4032364  P68510  GO:0005575    CCO  0.000000\n",
              "4032365  P68510  GO:0098984    CCO  2.297752\n",
              "4032366  P68510  GO:0098978    CCO  1.802445\n",
              "4032367  P68510  GO:0032279    CCO  0.102393\n",
              "4032368  P68510  GO:0005829    CCO  1.545978\n",
              "4032369  P68510  GO:0150048    CCO  1.415037\n",
              "4032370  P68510  GO:0098793    CCO  1.272733\n",
              "4032371  P68510  GO:0110165    CCO  0.025471\n",
              "4032372  P68510  GO:0045202    CCO  0.896962\n",
              "4032373  P68510  GO:0070161    CCO  1.194188\n",
              "4032374  P68510  GO:0005911    CCO  0.403000\n",
              "4032375  P68510  GO:0005737    CCO  0.412201\n",
              "4032376  P68510  GO:0030054    CCO  3.861343\n",
              "4032377  P68510  GO:0098985    CCO  1.297681"
            ],
            "text/html": [
              "\n",
              "  <div id=\"df-08b78c21-6a63-4580-8324-36588de27b1e\">\n",
              "    <div class=\"colab-df-container\">\n",
              "      <div>\n",
              "<style scoped>\n",
              "    .dataframe tbody tr th:only-of-type {\n",
              "        vertical-align: middle;\n",
              "    }\n",
              "\n",
              "    .dataframe tbody tr th {\n",
              "        vertical-align: top;\n",
              "    }\n",
              "\n",
              "    .dataframe thead th {\n",
              "        text-align: right;\n",
              "    }\n",
              "</style>\n",
              "<table border=\"1\" class=\"dataframe\">\n",
              "  <thead>\n",
              "    <tr style=\"text-align: right;\">\n",
              "      <th></th>\n",
              "      <th>EntryID</th>\n",
              "      <th>term</th>\n",
              "      <th>aspect</th>\n",
              "      <th>ia</th>\n",
              "    </tr>\n",
              "  </thead>\n",
              "  <tbody>\n",
              "    <tr>\n",
              "      <th>4032360</th>\n",
              "      <td>P68510</td>\n",
              "      <td>GO:0005622</td>\n",
              "      <td>CCO</td>\n",
              "      <td>0.366945</td>\n",
              "    </tr>\n",
              "    <tr>\n",
              "      <th>4032361</th>\n",
              "      <td>P68510</td>\n",
              "      <td>GO:0060076</td>\n",
              "      <td>CCO</td>\n",
              "      <td>4.520144</td>\n",
              "    </tr>\n",
              "    <tr>\n",
              "      <th>4032362</th>\n",
              "      <td>P68510</td>\n",
              "      <td>GO:0014704</td>\n",
              "      <td>CCO</td>\n",
              "      <td>0.525320</td>\n",
              "    </tr>\n",
              "    <tr>\n",
              "      <th>4032363</th>\n",
              "      <td>P68510</td>\n",
              "      <td>GO:0044291</td>\n",
              "      <td>CCO</td>\n",
              "      <td>3.752804</td>\n",
              "    </tr>\n",
              "    <tr>\n",
              "      <th>4032364</th>\n",
              "      <td>P68510</td>\n",
              "      <td>GO:0005575</td>\n",
              "      <td>CCO</td>\n",
              "      <td>0.000000</td>\n",
              "    </tr>\n",
              "    <tr>\n",
              "      <th>4032365</th>\n",
              "      <td>P68510</td>\n",
              "      <td>GO:0098984</td>\n",
              "      <td>CCO</td>\n",
              "      <td>2.297752</td>\n",
              "    </tr>\n",
              "    <tr>\n",
              "      <th>4032366</th>\n",
              "      <td>P68510</td>\n",
              "      <td>GO:0098978</td>\n",
              "      <td>CCO</td>\n",
              "      <td>1.802445</td>\n",
              "    </tr>\n",
              "    <tr>\n",
              "      <th>4032367</th>\n",
              "      <td>P68510</td>\n",
              "      <td>GO:0032279</td>\n",
              "      <td>CCO</td>\n",
              "      <td>0.102393</td>\n",
              "    </tr>\n",
              "    <tr>\n",
              "      <th>4032368</th>\n",
              "      <td>P68510</td>\n",
              "      <td>GO:0005829</td>\n",
              "      <td>CCO</td>\n",
              "      <td>1.545978</td>\n",
              "    </tr>\n",
              "    <tr>\n",
              "      <th>4032369</th>\n",
              "      <td>P68510</td>\n",
              "      <td>GO:0150048</td>\n",
              "      <td>CCO</td>\n",
              "      <td>1.415037</td>\n",
              "    </tr>\n",
              "    <tr>\n",
              "      <th>4032370</th>\n",
              "      <td>P68510</td>\n",
              "      <td>GO:0098793</td>\n",
              "      <td>CCO</td>\n",
              "      <td>1.272733</td>\n",
              "    </tr>\n",
              "    <tr>\n",
              "      <th>4032371</th>\n",
              "      <td>P68510</td>\n",
              "      <td>GO:0110165</td>\n",
              "      <td>CCO</td>\n",
              "      <td>0.025471</td>\n",
              "    </tr>\n",
              "    <tr>\n",
              "      <th>4032372</th>\n",
              "      <td>P68510</td>\n",
              "      <td>GO:0045202</td>\n",
              "      <td>CCO</td>\n",
              "      <td>0.896962</td>\n",
              "    </tr>\n",
              "    <tr>\n",
              "      <th>4032373</th>\n",
              "      <td>P68510</td>\n",
              "      <td>GO:0070161</td>\n",
              "      <td>CCO</td>\n",
              "      <td>1.194188</td>\n",
              "    </tr>\n",
              "    <tr>\n",
              "      <th>4032374</th>\n",
              "      <td>P68510</td>\n",
              "      <td>GO:0005911</td>\n",
              "      <td>CCO</td>\n",
              "      <td>0.403000</td>\n",
              "    </tr>\n",
              "    <tr>\n",
              "      <th>4032375</th>\n",
              "      <td>P68510</td>\n",
              "      <td>GO:0005737</td>\n",
              "      <td>CCO</td>\n",
              "      <td>0.412201</td>\n",
              "    </tr>\n",
              "    <tr>\n",
              "      <th>4032376</th>\n",
              "      <td>P68510</td>\n",
              "      <td>GO:0030054</td>\n",
              "      <td>CCO</td>\n",
              "      <td>3.861343</td>\n",
              "    </tr>\n",
              "    <tr>\n",
              "      <th>4032377</th>\n",
              "      <td>P68510</td>\n",
              "      <td>GO:0098985</td>\n",
              "      <td>CCO</td>\n",
              "      <td>1.297681</td>\n",
              "    </tr>\n",
              "  </tbody>\n",
              "</table>\n",
              "</div>\n",
              "      <button class=\"colab-df-convert\" onclick=\"convertToInteractive('df-08b78c21-6a63-4580-8324-36588de27b1e')\"\n",
              "              title=\"Convert this dataframe to an interactive table.\"\n",
              "              style=\"display:none;\">\n",
              "        \n",
              "  <svg xmlns=\"http://www.w3.org/2000/svg\" height=\"24px\"viewBox=\"0 0 24 24\"\n",
              "       width=\"24px\">\n",
              "    <path d=\"M0 0h24v24H0V0z\" fill=\"none\"/>\n",
              "    <path d=\"M18.56 5.44l.94 2.06.94-2.06 2.06-.94-2.06-.94-.94-2.06-.94 2.06-2.06.94zm-11 1L8.5 8.5l.94-2.06 2.06-.94-2.06-.94L8.5 2.5l-.94 2.06-2.06.94zm10 10l.94 2.06.94-2.06 2.06-.94-2.06-.94-.94-2.06-.94 2.06-2.06.94z\"/><path d=\"M17.41 7.96l-1.37-1.37c-.4-.4-.92-.59-1.43-.59-.52 0-1.04.2-1.43.59L10.3 9.45l-7.72 7.72c-.78.78-.78 2.05 0 2.83L4 21.41c.39.39.9.59 1.41.59.51 0 1.02-.2 1.41-.59l7.78-7.78 2.81-2.81c.8-.78.8-2.07 0-2.86zM5.41 20L4 18.59l7.72-7.72 1.47 1.35L5.41 20z\"/>\n",
              "  </svg>\n",
              "      </button>\n",
              "      \n",
              "  <style>\n",
              "    .colab-df-container {\n",
              "      display:flex;\n",
              "      flex-wrap:wrap;\n",
              "      gap: 12px;\n",
              "    }\n",
              "\n",
              "    .colab-df-convert {\n",
              "      background-color: #E8F0FE;\n",
              "      border: none;\n",
              "      border-radius: 50%;\n",
              "      cursor: pointer;\n",
              "      display: none;\n",
              "      fill: #1967D2;\n",
              "      height: 32px;\n",
              "      padding: 0 0 0 0;\n",
              "      width: 32px;\n",
              "    }\n",
              "\n",
              "    .colab-df-convert:hover {\n",
              "      background-color: #E2EBFA;\n",
              "      box-shadow: 0px 1px 2px rgba(60, 64, 67, 0.3), 0px 1px 3px 1px rgba(60, 64, 67, 0.15);\n",
              "      fill: #174EA6;\n",
              "    }\n",
              "\n",
              "    [theme=dark] .colab-df-convert {\n",
              "      background-color: #3B4455;\n",
              "      fill: #D2E3FC;\n",
              "    }\n",
              "\n",
              "    [theme=dark] .colab-df-convert:hover {\n",
              "      background-color: #434B5C;\n",
              "      box-shadow: 0px 1px 3px 1px rgba(0, 0, 0, 0.15);\n",
              "      filter: drop-shadow(0px 1px 2px rgba(0, 0, 0, 0.3));\n",
              "      fill: #FFFFFF;\n",
              "    }\n",
              "  </style>\n",
              "\n",
              "      <script>\n",
              "        const buttonEl =\n",
              "          document.querySelector('#df-08b78c21-6a63-4580-8324-36588de27b1e button.colab-df-convert');\n",
              "        buttonEl.style.display =\n",
              "          google.colab.kernel.accessAllowed ? 'block' : 'none';\n",
              "\n",
              "        async function convertToInteractive(key) {\n",
              "          const element = document.querySelector('#df-08b78c21-6a63-4580-8324-36588de27b1e');\n",
              "          const dataTable =\n",
              "            await google.colab.kernel.invokeFunction('convertToInteractive',\n",
              "                                                     [key], {});\n",
              "          if (!dataTable) return;\n",
              "\n",
              "          const docLinkHtml = 'Like what you see? Visit the ' +\n",
              "            '<a target=\"_blank\" href=https://colab.research.google.com/notebooks/data_table.ipynb>data table notebook</a>'\n",
              "            + ' to learn more about interactive tables.';\n",
              "          element.innerHTML = '';\n",
              "          dataTable['output_type'] = 'display_data';\n",
              "          await google.colab.output.renderOutput(dataTable, element);\n",
              "          const docLink = document.createElement('div');\n",
              "          docLink.innerHTML = docLinkHtml;\n",
              "          element.appendChild(docLink);\n",
              "        }\n",
              "      </script>\n",
              "    </div>\n",
              "  </div>\n",
              "  "
            ]
          },
          "metadata": {},
          "execution_count": 48
        }
      ]
    },
    {
      "cell_type": "code",
      "execution_count": null,
      "metadata": {
        "id": "kjTYlB0HGYs7"
      },
      "outputs": [],
      "source": [
        "submission_df.to_csv('submission.tsv', sep='\\t', index=False)"
      ]
    },
    {
      "cell_type": "code",
      "source": [],
      "metadata": {
        "id": "a-QuZsMDIU2Z"
      },
      "execution_count": null,
      "outputs": []
    }
  ],
  "metadata": {
    "accelerator": "GPU",
    "colab": {
      "machine_shape": "hm",
      "provenance": [],
      "authorship_tag": "ABX9TyMCqRWguLmtrneBHS7zP6ZH",
      "include_colab_link": true
    },
    "kernelspec": {
      "display_name": "Python 3",
      "name": "python3"
    },
    "language_info": {
      "name": "python"
    }
  },
  "nbformat": 4,
  "nbformat_minor": 0
}