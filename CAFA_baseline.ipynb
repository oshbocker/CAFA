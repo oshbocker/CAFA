{
  "cells": [
    {
      "cell_type": "markdown",
      "metadata": {
        "id": "view-in-github",
        "colab_type": "text"
      },
      "source": [
        "<a href=\"https://colab.research.google.com/github/oshbocker/CAFA/blob/main/CAFA_baseline.ipynb\" target=\"_parent\"><img src=\"https://colab.research.google.com/assets/colab-badge.svg\" alt=\"Open In Colab\"/></a>"
      ]
    },
    {
      "cell_type": "code",
      "execution_count": 2,
      "metadata": {
        "id": "UFWWnN7G68P7"
      },
      "outputs": [],
      "source": [
        "!mkdir ~/.kaggle\n",
        "!touch ~/.kaggle/kaggle.json\n",
        "\n",
        "api_token = {\"username\":\"oshbocker\",\"key\":\"bb9c6a60ba5c39e689d8cf8d15cb8bca\"}\n",
        "\n",
        "import json\n",
        "\n",
        "with open('/root/.kaggle/kaggle.json', 'w') as file:\n",
        "    json.dump(api_token, file)\n",
        "\n",
        "!chmod 600 ~/.kaggle/kaggle.json"
      ]
    },
    {
      "cell_type": "code",
      "execution_count": 3,
      "metadata": {
        "colab": {
          "base_uri": "https://localhost:8080/"
        },
        "id": "DNK1P6aAAVR3",
        "outputId": "e691d4c4-7c7c-4356-a6bd-5cf26665ef75"
      },
      "outputs": [
        {
          "output_type": "stream",
          "name": "stdout",
          "text": [
            "\u001b[2K     \u001b[90m━━━━━━━━━━━━━━━━━━━━━━━━━━━━━━━━━━━━━━━━\u001b[0m \u001b[32m3.1/3.1 MB\u001b[0m \u001b[31m69.0 MB/s\u001b[0m eta \u001b[36m0:00:00\u001b[0m\n",
            "\u001b[2K     \u001b[90m━━━━━━━━━━━━━━━━━━━━━━━━━━━━━━━━━━━━━━\u001b[0m \u001b[32m519.2/519.2 kB\u001b[0m \u001b[31m38.2 MB/s\u001b[0m eta \u001b[36m0:00:00\u001b[0m\n",
            "\u001b[?25h"
          ]
        }
      ],
      "source": [
        "!pip install obonet -q\n",
        "!pip install biopython -q\n",
        "!pip install torchmetrics -q"
      ]
    },
    {
      "cell_type": "code",
      "execution_count": 4,
      "metadata": {
        "id": "WSawJTx67Cgs"
      },
      "outputs": [],
      "source": [
        "import os\n",
        "import torch\n",
        "\n",
        "from pathlib import Path\n",
        "\n",
        "\n",
        "iskaggle = os.environ.get('KAGGLE_KERNEL_RUN_TYPE', '')\n",
        "\n",
        "cafa_main_path = Path(\"cafa-5-protein-function-prediction\")\n",
        "cafa_clean_fasta_path = Path(\"viktorfairuschin/cafa-5-fasta-files\")\n",
        "esm2_path = Path(\"viktorfairuschin/cafa-5-ems-2-embeddings-numpy\")\n",
        "protbert_path = Path(\"henriupton/protbert-embeddings-for-cafa5\")\n",
        "t5_path = Path(\"sergeifironov/t5embeds\")\n",
        "\n",
        "data_paths = [cafa_clean_fasta_path, esm2_path, protbert_path, t5_path]\n",
        "\n",
        "if iskaggle:\n",
        "  content_dir = \"/kaggle/input\"\n",
        "else:\n",
        "  content_dir = \"/content\"\n",
        "\n",
        "class CFG:\n",
        "    train_go_obo_path: str = f\"{content_dir}/cafa-5-protein-function-prediction/Train/go-basic.obo\"\n",
        "    train_seq_fasta_path: str = f\"{content_dir}/cafa-5-protein-function-prediction/Train/train_sequences.fasta\"\n",
        "    train_terms_path: str = f\"{content_dir}/cafa-5-protein-function-prediction/Train/train_terms.tsv\"\n",
        "    train_taxonomy_path: str = f\"{content_dir}/cafa-5-protein-function-prediction/Train/train_taxonomy.tsv\"\n",
        "    train_ia_path: str = f\"{content_dir}/cafa-5-protein-function-prediction/IA.txt\"\n",
        "    test_sequences_path: str = f\"{content_dir}/Test (Targets)/testsuperset.fasta\"\n",
        "\n",
        "    num_labels = 500\n",
        "    n_epochs = 15\n",
        "    batch_size = 128\n",
        "    lr = 0.001\n",
        "\n",
        "    device = torch.device('cuda' if torch.cuda.is_available() else 'cpu')\n"
      ]
    },
    {
      "cell_type": "code",
      "execution_count": 5,
      "metadata": {
        "colab": {
          "base_uri": "https://localhost:8080/"
        },
        "id": "Pj8wOdbQ_Vvt",
        "outputId": "ae208442-302a-4b7b-dcbb-641a054f0a71"
      },
      "outputs": [
        {
          "output_type": "stream",
          "name": "stdout",
          "text": [
            "cafa-5-protein-function-prediction\n",
            "Downloading cafa-5-protein-function-prediction.zip to /content\n"
          ]
        },
        {
          "output_type": "stream",
          "name": "stderr",
          "text": [
            "100%|██████████| 115M/115M [00:07<00:00, 15.7MB/s]\n"
          ]
        },
        {
          "output_type": "stream",
          "name": "stdout",
          "text": [
            "\n",
            "viktorfairuschin/cafa-5-fasta-files\n",
            "viktorfairuschin/cafa-5-ems-2-embeddings-numpy\n",
            "henriupton/protbert-embeddings-for-cafa5\n",
            "sergeifironov/t5embeds\n"
          ]
        }
      ],
      "source": [
        "if not iskaggle:\n",
        "  import zipfile,kaggle\n",
        "  if not cafa_main_path.exists():\n",
        "    print(cafa_main_path)\n",
        "    kaggle.api.competition_download_cli(str(cafa_main_path))\n",
        "    zipfile.ZipFile(f'{cafa_main_path}.zip').extractall(cafa_main_path)\n",
        "  for data_path in data_paths:\n",
        "    if not data_path.exists():\n",
        "      print(data_path)\n",
        "      kaggle.api.dataset_download_files(str(data_path))\n",
        "      zipfile.ZipFile(f'{data_path.name}.zip').extractall(data_path.name)"
      ]
    },
    {
      "cell_type": "code",
      "execution_count": 6,
      "metadata": {
        "id": "3aXZhbD2BZ-5"
      },
      "outputs": [],
      "source": [
        "import obonet\n",
        "import time\n",
        "\n",
        "import networkx as nx\n",
        "import pandas as pd\n",
        "import numpy as np\n",
        "from Bio import SeqIO\n",
        "from tqdm import tqdm\n",
        "import matplotlib.pyplot as plt\n",
        "plt.style.use('ggplot')\n",
        "\n",
        "# TORCH MODULES FOR METRICS COMPUTATION :\n",
        "import torch\n",
        "from torch.utils.data import Dataset\n",
        "from torch import nn\n",
        "from torch.utils.data import random_split\n",
        "from torch.optim.lr_scheduler import ReduceLROnPlateau\n",
        "from torchmetrics.classification import MultilabelF1Score\n",
        "from torchmetrics.classification import MultilabelAccuracy"
      ]
    },
    {
      "cell_type": "code",
      "execution_count": 7,
      "metadata": {
        "id": "sEKYAk-F_SNB"
      },
      "outputs": [],
      "source": [
        "graph = obonet.read_obo(CFG.train_go_obo_path)"
      ]
    },
    {
      "cell_type": "code",
      "execution_count": 8,
      "metadata": {
        "id": "WeE95EkqAyJt"
      },
      "outputs": [],
      "source": [
        "# Information Accretion values for terms\n",
        "ia_dict = {}\n",
        "with open(CFG.train_ia_path) as f:\n",
        "    for line in f:\n",
        "        (key, value) = line.split(\"\\t\")\n",
        "        ia_dict[key] = float(value.replace(\"\\n\",\"\"))"
      ]
    },
    {
      "cell_type": "code",
      "execution_count": 9,
      "metadata": {
        "colab": {
          "base_uri": "https://localhost:8080/"
        },
        "id": "DbYo5BvpBUq6",
        "outputId": "64906100-2caa-4135-8788-c9167f27d75f"
      },
      "outputs": [
        {
          "output_type": "stream",
          "name": "stdout",
          "text": [
            "27941 4042 11262 43245\n"
          ]
        }
      ],
      "source": [
        "subontology_roots = {'BPO':'GO:0008150',\n",
        "                     'CCO':'GO:0005575',\n",
        "                     'MFO':'GO:0003674'}\n",
        "\n",
        "BPO_len = len(nx.ancestors(graph, subontology_roots['BPO']))\n",
        "CCO_len = len(nx.ancestors(graph, subontology_roots['CCO']))\n",
        "MFO_len = len(nx.ancestors(graph, subontology_roots['MFO']))\n",
        "print(BPO_len, CCO_len, MFO_len, BPO_len + CCO_len + MFO_len)"
      ]
    },
    {
      "cell_type": "code",
      "execution_count": 10,
      "metadata": {
        "colab": {
          "base_uri": "https://localhost:8080/",
          "height": 382
        },
        "id": "6IfEKF4KBX75",
        "outputId": "7e19dd5f-130b-4b34-f1ec-91663cd0341c"
      },
      "outputs": [
        {
          "output_type": "stream",
          "name": "stdout",
          "text": [
            "(5363863, 4)\n"
          ]
        },
        {
          "output_type": "execute_result",
          "data": {
            "text/plain": [
              "      EntryID        term aspect        ia\n",
              "0  A0A009IHW8  GO:0008152    BPO  1.598544\n",
              "1  A0A009IHW8  GO:0034655    BPO  0.042274\n",
              "2  A0A009IHW8  GO:0072523    BPO  0.083901\n",
              "3  A0A009IHW8  GO:0044270    BPO  0.281155\n",
              "4  A0A009IHW8  GO:0006753    BPO  0.013844\n",
              "5  A0A009IHW8  GO:1901292    BPO  0.000000\n",
              "6  A0A009IHW8  GO:0044237    BPO  0.103670\n",
              "7  A0A009IHW8  GO:1901360    BPO  1.237575\n",
              "8  A0A009IHW8  GO:0008150    BPO  0.000000\n",
              "9  A0A009IHW8  GO:1901564    BPO  0.557385"
            ],
            "text/html": [
              "\n",
              "  <div id=\"df-4a324c0d-c98a-4c4e-b619-edb61ada39bb\">\n",
              "    <div class=\"colab-df-container\">\n",
              "      <div>\n",
              "<style scoped>\n",
              "    .dataframe tbody tr th:only-of-type {\n",
              "        vertical-align: middle;\n",
              "    }\n",
              "\n",
              "    .dataframe tbody tr th {\n",
              "        vertical-align: top;\n",
              "    }\n",
              "\n",
              "    .dataframe thead th {\n",
              "        text-align: right;\n",
              "    }\n",
              "</style>\n",
              "<table border=\"1\" class=\"dataframe\">\n",
              "  <thead>\n",
              "    <tr style=\"text-align: right;\">\n",
              "      <th></th>\n",
              "      <th>EntryID</th>\n",
              "      <th>term</th>\n",
              "      <th>aspect</th>\n",
              "      <th>ia</th>\n",
              "    </tr>\n",
              "  </thead>\n",
              "  <tbody>\n",
              "    <tr>\n",
              "      <th>0</th>\n",
              "      <td>A0A009IHW8</td>\n",
              "      <td>GO:0008152</td>\n",
              "      <td>BPO</td>\n",
              "      <td>1.598544</td>\n",
              "    </tr>\n",
              "    <tr>\n",
              "      <th>1</th>\n",
              "      <td>A0A009IHW8</td>\n",
              "      <td>GO:0034655</td>\n",
              "      <td>BPO</td>\n",
              "      <td>0.042274</td>\n",
              "    </tr>\n",
              "    <tr>\n",
              "      <th>2</th>\n",
              "      <td>A0A009IHW8</td>\n",
              "      <td>GO:0072523</td>\n",
              "      <td>BPO</td>\n",
              "      <td>0.083901</td>\n",
              "    </tr>\n",
              "    <tr>\n",
              "      <th>3</th>\n",
              "      <td>A0A009IHW8</td>\n",
              "      <td>GO:0044270</td>\n",
              "      <td>BPO</td>\n",
              "      <td>0.281155</td>\n",
              "    </tr>\n",
              "    <tr>\n",
              "      <th>4</th>\n",
              "      <td>A0A009IHW8</td>\n",
              "      <td>GO:0006753</td>\n",
              "      <td>BPO</td>\n",
              "      <td>0.013844</td>\n",
              "    </tr>\n",
              "    <tr>\n",
              "      <th>5</th>\n",
              "      <td>A0A009IHW8</td>\n",
              "      <td>GO:1901292</td>\n",
              "      <td>BPO</td>\n",
              "      <td>0.000000</td>\n",
              "    </tr>\n",
              "    <tr>\n",
              "      <th>6</th>\n",
              "      <td>A0A009IHW8</td>\n",
              "      <td>GO:0044237</td>\n",
              "      <td>BPO</td>\n",
              "      <td>0.103670</td>\n",
              "    </tr>\n",
              "    <tr>\n",
              "      <th>7</th>\n",
              "      <td>A0A009IHW8</td>\n",
              "      <td>GO:1901360</td>\n",
              "      <td>BPO</td>\n",
              "      <td>1.237575</td>\n",
              "    </tr>\n",
              "    <tr>\n",
              "      <th>8</th>\n",
              "      <td>A0A009IHW8</td>\n",
              "      <td>GO:0008150</td>\n",
              "      <td>BPO</td>\n",
              "      <td>0.000000</td>\n",
              "    </tr>\n",
              "    <tr>\n",
              "      <th>9</th>\n",
              "      <td>A0A009IHW8</td>\n",
              "      <td>GO:1901564</td>\n",
              "      <td>BPO</td>\n",
              "      <td>0.557385</td>\n",
              "    </tr>\n",
              "  </tbody>\n",
              "</table>\n",
              "</div>\n",
              "      <button class=\"colab-df-convert\" onclick=\"convertToInteractive('df-4a324c0d-c98a-4c4e-b619-edb61ada39bb')\"\n",
              "              title=\"Convert this dataframe to an interactive table.\"\n",
              "              style=\"display:none;\">\n",
              "        \n",
              "  <svg xmlns=\"http://www.w3.org/2000/svg\" height=\"24px\"viewBox=\"0 0 24 24\"\n",
              "       width=\"24px\">\n",
              "    <path d=\"M0 0h24v24H0V0z\" fill=\"none\"/>\n",
              "    <path d=\"M18.56 5.44l.94 2.06.94-2.06 2.06-.94-2.06-.94-.94-2.06-.94 2.06-2.06.94zm-11 1L8.5 8.5l.94-2.06 2.06-.94-2.06-.94L8.5 2.5l-.94 2.06-2.06.94zm10 10l.94 2.06.94-2.06 2.06-.94-2.06-.94-.94-2.06-.94 2.06-2.06.94z\"/><path d=\"M17.41 7.96l-1.37-1.37c-.4-.4-.92-.59-1.43-.59-.52 0-1.04.2-1.43.59L10.3 9.45l-7.72 7.72c-.78.78-.78 2.05 0 2.83L4 21.41c.39.39.9.59 1.41.59.51 0 1.02-.2 1.41-.59l7.78-7.78 2.81-2.81c.8-.78.8-2.07 0-2.86zM5.41 20L4 18.59l7.72-7.72 1.47 1.35L5.41 20z\"/>\n",
              "  </svg>\n",
              "      </button>\n",
              "      \n",
              "  <style>\n",
              "    .colab-df-container {\n",
              "      display:flex;\n",
              "      flex-wrap:wrap;\n",
              "      gap: 12px;\n",
              "    }\n",
              "\n",
              "    .colab-df-convert {\n",
              "      background-color: #E8F0FE;\n",
              "      border: none;\n",
              "      border-radius: 50%;\n",
              "      cursor: pointer;\n",
              "      display: none;\n",
              "      fill: #1967D2;\n",
              "      height: 32px;\n",
              "      padding: 0 0 0 0;\n",
              "      width: 32px;\n",
              "    }\n",
              "\n",
              "    .colab-df-convert:hover {\n",
              "      background-color: #E2EBFA;\n",
              "      box-shadow: 0px 1px 2px rgba(60, 64, 67, 0.3), 0px 1px 3px 1px rgba(60, 64, 67, 0.15);\n",
              "      fill: #174EA6;\n",
              "    }\n",
              "\n",
              "    [theme=dark] .colab-df-convert {\n",
              "      background-color: #3B4455;\n",
              "      fill: #D2E3FC;\n",
              "    }\n",
              "\n",
              "    [theme=dark] .colab-df-convert:hover {\n",
              "      background-color: #434B5C;\n",
              "      box-shadow: 0px 1px 3px 1px rgba(0, 0, 0, 0.15);\n",
              "      filter: drop-shadow(0px 1px 2px rgba(0, 0, 0, 0.3));\n",
              "      fill: #FFFFFF;\n",
              "    }\n",
              "  </style>\n",
              "\n",
              "      <script>\n",
              "        const buttonEl =\n",
              "          document.querySelector('#df-4a324c0d-c98a-4c4e-b619-edb61ada39bb button.colab-df-convert');\n",
              "        buttonEl.style.display =\n",
              "          google.colab.kernel.accessAllowed ? 'block' : 'none';\n",
              "\n",
              "        async function convertToInteractive(key) {\n",
              "          const element = document.querySelector('#df-4a324c0d-c98a-4c4e-b619-edb61ada39bb');\n",
              "          const dataTable =\n",
              "            await google.colab.kernel.invokeFunction('convertToInteractive',\n",
              "                                                     [key], {});\n",
              "          if (!dataTable) return;\n",
              "\n",
              "          const docLinkHtml = 'Like what you see? Visit the ' +\n",
              "            '<a target=\"_blank\" href=https://colab.research.google.com/notebooks/data_table.ipynb>data table notebook</a>'\n",
              "            + ' to learn more about interactive tables.';\n",
              "          element.innerHTML = '';\n",
              "          dataTable['output_type'] = 'display_data';\n",
              "          await google.colab.output.renderOutput(dataTable, element);\n",
              "          const docLink = document.createElement('div');\n",
              "          docLink.innerHTML = docLinkHtml;\n",
              "          element.appendChild(docLink);\n",
              "        }\n",
              "      </script>\n",
              "    </div>\n",
              "  </div>\n",
              "  "
            ]
          },
          "metadata": {},
          "execution_count": 10
        }
      ],
      "source": [
        "train_terms = pd.read_csv(CFG.train_terms_path, sep=\"\\t\")\n",
        "train_terms['ia'] = train_terms['term'].apply(lambda x: ia_dict[x])\n",
        "print(train_terms.shape)\n",
        "train_terms.head(10)"
      ]
    },
    {
      "cell_type": "markdown",
      "metadata": {
        "id": "T7AYt0PhBt9M"
      },
      "source": [
        "## Get the leaf predictions for each protein\n",
        "A leaf prediction is a GO term that doesn't have any children that are also predictions for the protein."
      ]
    },
    {
      "cell_type": "code",
      "execution_count": 11,
      "metadata": {
        "id": "l9mcM5F6BfEC"
      },
      "outputs": [],
      "source": [
        "def get_leaf_labels(train_terms, aspect):\n",
        "    # Group by protein and get a list of all go term predictions\n",
        "    protein_list_go_term = train_terms[train_terms['aspect'] == aspect].groupby('EntryID')['term'].apply(list)\n",
        "\n",
        "    leaf_labels = {}\n",
        "    for i, protein in enumerate(protein_list_go_term.index):\n",
        "        test_terms = set(protein_list_go_term[protein])\n",
        "        descendants = set()\n",
        "        for term in test_terms:\n",
        "            descendants.update(nx.descendants(graph, term))\n",
        "\n",
        "        specific_labels = test_terms.difference(descendants)\n",
        "        leaf_labels[protein] = list(specific_labels)\n",
        "\n",
        "    return leaf_labels\n",
        "\n",
        "from collections import deque\n",
        "\n",
        "# Get ordered list of all ancestors\n",
        "def leaf_label_ancestors(graph, leaf_labels):\n",
        "    ordered_edges_dict = {}\n",
        "    for label in leaf_labels:\n",
        "        # Get ancestors\n",
        "        ordered_edges = deque()\n",
        "        node_is_root = False\n",
        "        prev_node_id = label\n",
        "        while node_is_root == False:\n",
        "            node = graph.nodes[prev_node_id]\n",
        "            node_is_root = 'is_a' not in node\n",
        "            if not node_is_root:\n",
        "                prev_node_id = node['is_a'][0]\n",
        "                ordered_edges.appendleft(prev_node_id)\n",
        "        ordered_edges_dict[label] = ordered_edges\n",
        "\n",
        "    return ordered_edges_dict"
      ]
    },
    {
      "cell_type": "code",
      "execution_count": 12,
      "metadata": {
        "colab": {
          "base_uri": "https://localhost:8080/"
        },
        "id": "R_L8bA1lB6U1",
        "outputId": "4f5f8e78-d1cd-43ac-8080-8e26dead3097"
      },
      "outputs": [
        {
          "output_type": "stream",
          "name": "stdout",
          "text": [
            "92912\n",
            "2763\n"
          ]
        }
      ],
      "source": [
        "CCO_leaf_labels = get_leaf_labels(train_terms, 'CCO')\n",
        "print(len(CCO_leaf_labels.values()))\n",
        "CCO_all_leaf_labels = np.unique(np.concatenate(list(CCO_leaf_labels.values())))\n",
        "print(len(CCO_all_leaf_labels))\n",
        "CCO_nodes = [n for n,v in graph.nodes(data=True) if v['namespace'] == 'cellular_component']\n",
        "CCO_ordered_edges = leaf_label_ancestors(graph, CCO_nodes)"
      ]
    },
    {
      "cell_type": "code",
      "source": [
        "graph.nodes['GO:0000001']"
      ],
      "metadata": {
        "colab": {
          "base_uri": "https://localhost:8080/"
        },
        "id": "jhyfy8aWDDLh",
        "outputId": "3e3c746e-3df2-4d45-e49e-f6d5012b951f"
      },
      "execution_count": 13,
      "outputs": [
        {
          "output_type": "execute_result",
          "data": {
            "text/plain": [
              "{'name': 'mitochondrion inheritance',\n",
              " 'namespace': 'biological_process',\n",
              " 'def': '\"The distribution of mitochondria, including the mitochondrial genome, into daughter cells after mitosis or meiosis, mediated by interactions between mitochondria and the cytoskeleton.\" [GOC:mcc, PMID:10873824, PMID:11389764]',\n",
              " 'synonym': ['\"mitochondrial inheritance\" EXACT []'],\n",
              " 'is_a': ['GO:0048308', 'GO:0048311']}"
            ]
          },
          "metadata": {},
          "execution_count": 13
        }
      ]
    },
    {
      "cell_type": "code",
      "source": [],
      "metadata": {
        "id": "NS47-ouTCymJ"
      },
      "execution_count": 13,
      "outputs": []
    },
    {
      "cell_type": "code",
      "execution_count": 14,
      "metadata": {
        "id": "w4wXROcOCCxH"
      },
      "outputs": [],
      "source": [
        "# Get the first node label\n",
        "data_with_labels = []\n",
        "# Get all CCO labeled proteins with leaf labels\n",
        "for protein, label_list in CCO_leaf_labels.items():\n",
        "    for label in label_list:\n",
        "        data_with_labels.append({'protein': protein,\n",
        "                                 'label': label,\n",
        "                                 'ordered_edges': CCO_ordered_edges[label]})"
      ]
    },
    {
      "cell_type": "code",
      "execution_count": 15,
      "metadata": {
        "id": "tvLok2i0CHNz"
      },
      "outputs": [],
      "source": [
        "def get_next_label(rw, depth=1):\n",
        "    if not rw['labeled'] and len(rw['ordered_edges']) > depth:\n",
        "        return rw['ordered_edges'][-depth]\n",
        "    else:\n",
        "        return rw['balanced_label']\n",
        "\n",
        "def is_final_balanced_label(rw, balanced_labels, depth=1):\n",
        "    if not rw['labeled']:\n",
        "        return (rw['balanced_label'] in balanced_labels) or (len(rw['ordered_edges']) == depth)\n",
        "    else:\n",
        "        return True\n",
        "\n",
        "def get_balanced_labels(label_df, label_count_threshold):\n",
        "    df = label_df.copy()\n",
        "    balanced_labels = set([label for label, count in df['label'].value_counts().items()\n",
        "                           if count >= label_count_threshold])\n",
        "    df['labeled'] = df['label'].apply(lambda x: x in balanced_labels)\n",
        "    df['balanced_label'] = df['label'] # df.apply(lambda x: x['label'] if x['labeled'] == True else None, axis=1)\n",
        "    print(sum(df['labeled'])/df.shape[0])\n",
        "    print(len(balanced_labels))\n",
        "    print(df['balanced_label'].value_counts())\n",
        "    depth = 1\n",
        "    while sum(df['labeled'])/df.shape[0] < 1:\n",
        "        df['balanced_label'] = df.apply(lambda x: get_next_label(x, depth=depth), axis=1)\n",
        "        balanced_labels = set([label for label, count in df['balanced_label'].value_counts().items()\n",
        "                                   if count >= label_count_threshold])\n",
        "        df['labeled'] = df.apply(lambda x: is_final_balanced_label(x, balanced_labels, depth=depth), axis=1)\n",
        "        depth += 1\n",
        "        print(sum(df['labeled'])/df.shape[0])\n",
        "        print(len(balanced_labels))\n",
        "        print(df['balanced_label'].value_counts())\n",
        "\n",
        "    return df"
      ]
    },
    {
      "cell_type": "code",
      "execution_count": 16,
      "metadata": {
        "colab": {
          "base_uri": "https://localhost:8080/"
        },
        "id": "Fj7-8sgYCj45",
        "outputId": "adfce88c-7c0f-4a9f-fb79-180f66df5e01"
      },
      "outputs": [
        {
          "output_type": "stream",
          "name": "stdout",
          "text": [
            "0.46988094968653105\n",
            "14\n",
            "GO:0005829    16981\n",
            "GO:0005634    12661\n",
            "GO:0005886    11509\n",
            "GO:0005737     8335\n",
            "GO:0005654     8160\n",
            "              ...  \n",
            "GO:1990332        1\n",
            "GO:0009316        1\n",
            "GO:0099571        1\n",
            "GO:0044186        1\n",
            "GO:0071202        1\n",
            "Name: balanced_label, Length: 2763, dtype: int64\n",
            "0.6748296856256931\n",
            "26\n",
            "GO:0005829    16981\n",
            "GO:0110165    12989\n",
            "GO:0005634    12725\n",
            "GO:0005886    11823\n",
            "GO:0005737     8932\n",
            "              ...  \n",
            "GO:0032160        1\n",
            "GO:0055035        1\n",
            "GO:0031002        1\n",
            "GO:0030929        1\n",
            "GO:0098539        1\n",
            "Name: balanced_label, Length: 678, dtype: int64\n",
            "0.8399723875698798\n",
            "29\n",
            "GO:0110165    21336\n",
            "GO:0005829    17050\n",
            "GO:0005634    12910\n",
            "GO:0005886    11823\n",
            "GO:0005737     8948\n",
            "              ...  \n",
            "GO:0099572        1\n",
            "GO:0033176        1\n",
            "GO:0097518        1\n",
            "GO:0005788        1\n",
            "GO:0042170        1\n",
            "Name: balanced_label, Length: 272, dtype: int64\n",
            "0.9202521331733925\n",
            "29\n",
            "GO:0110165    25516\n",
            "GO:0005829    17050\n",
            "GO:0005634    12938\n",
            "GO:0005886    11823\n",
            "GO:0032991    10919\n",
            "              ...  \n",
            "GO:0030139        1\n",
            "GO:0032432        1\n",
            "GO:0016469        1\n",
            "GO:0032838        1\n",
            "GO:0031312        1\n",
            "Name: balanced_label, Length: 132, dtype: int64\n",
            "0.9661181902541701\n",
            "29\n",
            "GO:0110165    27993\n",
            "GO:0005829    17050\n",
            "GO:0032991    14061\n",
            "GO:0005634    12938\n",
            "GO:0005886    11823\n",
            "              ...  \n",
            "GO:0033646        3\n",
            "GO:0042571        3\n",
            "GO:1902562        3\n",
            "GO:0120025        3\n",
            "GO:0099568        1\n",
            "Name: balanced_label, Length: 70, dtype: int64\n",
            "0.989124776497748\n",
            "29\n",
            "GO:0110165    28952\n",
            "GO:0005829    17050\n",
            "GO:0032991    15498\n",
            "GO:0005634    12938\n",
            "GO:0005886    11823\n",
            "GO:0005737     9992\n",
            "GO:0005654     8160\n",
            "GO:0031090     7103\n",
            "GO:0005739     5803\n",
            "GO:0043232     5209\n",
            "GO:0043231     4913\n",
            "GO:0016020     3591\n",
            "GO:0043226     3568\n",
            "GO:0005783     3402\n",
            "GO:0098590     3329\n",
            "GO:0005576     3247\n",
            "GO:0140513     3049\n",
            "GO:0005615     2789\n",
            "GO:0030312     2777\n",
            "GO:0005730     2604\n",
            "GO:0031410     2512\n",
            "GO:0070013     2337\n",
            "GO:0005794     2327\n",
            "GO:0070062     2197\n",
            "GO:0043005     2106\n",
            "GO:0045202     2089\n",
            "GO:0005911     1898\n",
            "GO:0005815     1853\n",
            "GO:0009986     1395\n",
            "GO:0099080      316\n",
            "GO:0044423      299\n",
            "GO:0099081      255\n",
            "GO:0098796      250\n",
            "GO:1902494      247\n",
            "GO:1990234      228\n",
            "GO:0018995      201\n",
            "GO:0031974      145\n",
            "GO:0140535      123\n",
            "GO:1902495       43\n",
            "GO:0005773       33\n",
            "GO:0099512       27\n",
            "GO:0019898       18\n",
            "GO:0061695        8\n",
            "GO:0043235        6\n",
            "GO:0031248        6\n",
            "GO:0043233        4\n",
            "GO:0033643        3\n",
            "GO:0019814        3\n",
            "GO:0000123        3\n",
            "GO:0042995        3\n",
            "Name: balanced_label, dtype: int64\n",
            "0.9967351696353801\n",
            "29\n",
            "GO:0110165    29635\n",
            "GO:0005829    17050\n",
            "GO:0032991    16127\n",
            "GO:0005634    12938\n",
            "GO:0005886    11823\n",
            "GO:0005737     9992\n",
            "GO:0005654     8160\n",
            "GO:0031090     7103\n",
            "GO:0005739     5803\n",
            "GO:0043232     5209\n",
            "GO:0043231     4946\n",
            "GO:0016020     3591\n",
            "GO:0043226     3568\n",
            "GO:0005783     3402\n",
            "GO:0098590     3329\n",
            "GO:0005576     3247\n",
            "GO:0140513     3049\n",
            "GO:0005615     2789\n",
            "GO:0030312     2777\n",
            "GO:0005730     2604\n",
            "GO:0031410     2512\n",
            "GO:0070013     2337\n",
            "GO:0005794     2327\n",
            "GO:0070062     2197\n",
            "GO:0043005     2106\n",
            "GO:0045202     2089\n",
            "GO:0005911     1898\n",
            "GO:0005815     1853\n",
            "GO:0009986     1395\n",
            "GO:0044423      299\n",
            "GO:0099080      255\n",
            "GO:1902494      228\n",
            "GO:0098796       43\n",
            "GO:0099081       27\n",
            "GO:1990234        8\n",
            "GO:0140535        6\n",
            "GO:0031974        4\n",
            "GO:0018995        3\n",
            "GO:0031248        3\n",
            "Name: balanced_label, dtype: int64\n",
            "0.9997849851752937\n",
            "29\n",
            "GO:0110165    29897\n",
            "GO:0005829    17050\n",
            "GO:0032991    16404\n",
            "GO:0005634    12938\n",
            "GO:0005886    11823\n",
            "GO:0005737     9992\n",
            "GO:0005654     8160\n",
            "GO:0031090     7103\n",
            "GO:0005739     5803\n",
            "GO:0043232     5209\n",
            "GO:0043231     4946\n",
            "GO:0016020     3591\n",
            "GO:0043226     3568\n",
            "GO:0005783     3402\n",
            "GO:0098590     3329\n",
            "GO:0005576     3247\n",
            "GO:0140513     3049\n",
            "GO:0005615     2789\n",
            "GO:0030312     2777\n",
            "GO:0005730     2604\n",
            "GO:0031410     2512\n",
            "GO:0070013     2337\n",
            "GO:0005794     2327\n",
            "GO:0070062     2197\n",
            "GO:0043005     2106\n",
            "GO:0045202     2089\n",
            "GO:0005911     1898\n",
            "GO:0005815     1853\n",
            "GO:0009986     1395\n",
            "GO:0044423      299\n",
            "GO:0099080       27\n",
            "GO:1902494        8\n",
            "GO:0140535        3\n",
            "Name: balanced_label, dtype: int64\n",
            "1.0\n",
            "29\n",
            "GO:0110165    29924\n",
            "GO:0005829    17050\n",
            "GO:0032991    16415\n",
            "GO:0005634    12938\n",
            "GO:0005886    11823\n",
            "GO:0005737     9992\n",
            "GO:0005654     8160\n",
            "GO:0031090     7103\n",
            "GO:0005739     5803\n",
            "GO:0043232     5209\n",
            "GO:0043231     4946\n",
            "GO:0016020     3591\n",
            "GO:0043226     3568\n",
            "GO:0005783     3402\n",
            "GO:0098590     3329\n",
            "GO:0005576     3247\n",
            "GO:0140513     3049\n",
            "GO:0005615     2789\n",
            "GO:0030312     2777\n",
            "GO:0005730     2604\n",
            "GO:0031410     2512\n",
            "GO:0070013     2337\n",
            "GO:0005794     2327\n",
            "GO:0070062     2197\n",
            "GO:0043005     2106\n",
            "GO:0045202     2089\n",
            "GO:0005911     1898\n",
            "GO:0005815     1853\n",
            "GO:0009986     1395\n",
            "GO:0044423      299\n",
            "Name: balanced_label, dtype: int64\n"
          ]
        }
      ],
      "source": [
        "CCO_df = pd.DataFrame(data_with_labels)\n",
        "\n",
        "new_CCO_df = get_balanced_labels(CCO_df, 1358)"
      ]
    },
    {
      "cell_type": "markdown",
      "metadata": {
        "id": "1nUmpeIoH-PH"
      },
      "source": [
        "## Classify selected nodes of CCO"
      ]
    },
    {
      "cell_type": "code",
      "execution_count": 17,
      "metadata": {
        "id": "glJt_XKeCmtw"
      },
      "outputs": [],
      "source": [
        "from sklearn.model_selection import train_test_split"
      ]
    },
    {
      "cell_type": "code",
      "execution_count": 18,
      "metadata": {
        "colab": {
          "base_uri": "https://localhost:8080/"
        },
        "id": "JajEKGU4IB-a",
        "outputId": "c491c7c6-9546-4dcf-957c-cfce67e0833c"
      },
      "outputs": [
        {
          "output_type": "stream",
          "name": "stdout",
          "text": [
            "Train label 74329\n",
            "Test label 18583\n"
          ]
        }
      ],
      "source": [
        "ohe_CCO_df = pd.get_dummies(new_CCO_df, prefix=['balanced_label'], columns=['balanced_label'], drop_first=True)\n",
        "label_cols = [c for c in ohe_CCO_df.columns if 'balanced_label_' in c]\n",
        "label_df = ohe_CCO_df.groupby('protein').sum(numeric_only=True)[label_cols].clip(0,1)\n",
        "label_values = list(label_df.values)\n",
        "label_ids = list(label_df.index)\n",
        "labels_df = pd.DataFrame(data={\"EntryID\": label_ids, \"labels_vect\": label_values})\n",
        "\n",
        "# Split into train, val, test\n",
        "X_train, X_test, y_train, y_test = train_test_split(label_ids,\n",
        "                                                    label_values,\n",
        "                                                    test_size = 0.2)\n",
        "print(\"Train label\", len(y_train))\n",
        "print(\"Test label\", len(y_test))"
      ]
    },
    {
      "cell_type": "code",
      "execution_count": 19,
      "metadata": {
        "id": "t2hK1aL8JClo"
      },
      "outputs": [],
      "source": [
        "# Directories for the different embedding vectors :\n",
        "embeds_map = {\n",
        "    \"T5\" : \"t5embeds\",\n",
        "    \"ProtBERT\" : \"protbert-embeddings-for-cafa5\",\n",
        "    \"ESM2\" : \"cafa-5-ems-2-embeddings-numpy\"\n",
        "}\n",
        "\n",
        "# Length of the different embedding vectors :\n",
        "embeds_dim = {\n",
        "    \"T5\" : 1024,\n",
        "    \"ProtBERT\" : 1024,\n",
        "    \"ESM2\" : 1280,\n",
        "    \"Concat\": 1024+1024,\n",
        "}"
      ]
    },
    {
      "cell_type": "code",
      "execution_count": 20,
      "metadata": {
        "id": "tvDhStmfJHbA"
      },
      "outputs": [],
      "source": [
        "class ProteinSequenceDataset(Dataset):\n",
        "\n",
        "    def __init__(self, datatype, embeddings_source):\n",
        "        super(ProteinSequenceDataset).__init__()\n",
        "        self.datatype = datatype\n",
        "\n",
        "        if embeddings_source in [\"ProtBERT\", \"ESM2\"]:\n",
        "            embeds = np.load(f\"{content_dir}/\"+embeds_map[embeddings_source]+\"/\"+datatype+\"_embeddings.npy\")\n",
        "            ids = np.load(f\"{content_dir}/\"+embeds_map[embeddings_source]+\"/\"+datatype+\"_ids.npy\")\n",
        "\n",
        "        if embeddings_source == \"T5\":\n",
        "            embeds = np.load(f\"{content_dir}/\"+embeds_map[embeddings_source]+\"/\"+datatype+\"_embeds.npy\")\n",
        "            ids = np.load(f\"{content_dir}/\"+embeds_map[embeddings_source]+\"/\"+datatype+\"_ids.npy\")\n",
        "\n",
        "        if embeddings_source == \"Concat\":\n",
        "            bert_embeds = np.load(f\"{content_dir}/\"+embeds_map[\"ProtBERT\"]+\"/\"+datatype+\"_embeddings.npy\")\n",
        "            bert_ids = np.load(f\"{content_dir}/\"+embeds_map[\"ProtBERT\"]+\"/\"+datatype+\"_ids.npy\")\n",
        "            esm2_embeds = np.load(f\"{content_dir}/\"+embeds_map[\"ESM2\"]+\"/\"+datatype+\"_embeddings.npy\")\n",
        "            esm2_ids = np.load(f\"{content_dir}/\"+embeds_map[\"ESM2\"]+\"/\"+datatype+\"_ids.npy\")\n",
        "            t5_embeds = np.load(f\"{content_dir}/\"+embeds_map[\"T5\"]+\"/\"+datatype+\"_embeds.npy\")\n",
        "            t5_ids = np.load(f\"{content_dir}/\"+embeds_map[\"T5\"]+\"/\"+datatype+\"_ids.npy\")\n",
        "            embeds = np.concatenate([bert_embeds, t5_embeds], axis=1)\n",
        "            embeds_list = []\n",
        "            for l in range(embeds.shape[0]):\n",
        "                embeds_list.append(embeds[l,:])\n",
        "            self.df = pd.DataFrame(data={\"EntryID\": t5_ids, \"embed\" : embeds_list})\n",
        "        else:\n",
        "            embeds_list = []\n",
        "            for l in range(embeds.shape[0]):\n",
        "                embeds_list.append(embeds[l,:])\n",
        "            self.df = pd.DataFrame(data={\"EntryID\": ids, \"embed\" : embeds_list})\n",
        "\n",
        "\n",
        "        if datatype==\"train\":\n",
        "            self.df = self.df.merge(labels_df, on=\"EntryID\")\n",
        "\n",
        "    def __len__(self):\n",
        "        return len(self.df)\n",
        "\n",
        "    def __getitem__(self, index):\n",
        "        embed = torch.tensor(self.df.iloc[index][\"embed\"] , dtype = torch.float32)\n",
        "        if self.datatype==\"train\":\n",
        "            targets = torch.tensor(self.df.iloc[index][\"labels_vect\"], dtype = torch.float32)\n",
        "            return embed, targets\n",
        "        if self.datatype==\"test\":\n",
        "            id = self.df.iloc[index][\"EntryID\"]\n",
        "            return embed, id"
      ]
    },
    {
      "cell_type": "code",
      "execution_count": 21,
      "metadata": {
        "id": "Vgq_exbhgDxR"
      },
      "outputs": [],
      "source": [
        "datatype = \"train\"\n",
        "bert_embeds = np.load(f\"{content_dir}/\"+embeds_map[\"ProtBERT\"]+\"/\"+datatype+\"_embeddings.npy\")\n",
        "bert_ids = np.load(f\"{content_dir}/\"+embeds_map[\"ProtBERT\"]+\"/\"+datatype+\"_ids.npy\")\n",
        "esm2_embeds = np.load(f\"{content_dir}/\"+embeds_map[\"ESM2\"]+\"/\"+datatype+\"_embeddings.npy\")\n",
        "esm2_ids = np.load(f\"{content_dir}/\"+embeds_map[\"ESM2\"]+\"/\"+datatype+\"_ids.npy\")\n",
        "t5_embeds = np.load(f\"{content_dir}/\"+embeds_map[\"T5\"]+\"/\"+datatype+\"_embeds.npy\")\n",
        "t5_ids = np.load(f\"{content_dir}/\"+embeds_map[\"T5\"]+\"/\"+datatype+\"_ids.npy\")"
      ]
    },
    {
      "cell_type": "code",
      "execution_count": 22,
      "metadata": {
        "colab": {
          "base_uri": "https://localhost:8080/"
        },
        "id": "tOpvVYZYgu5_",
        "outputId": "f812cf8a-867f-4606-d181-0a77d3b5088c"
      },
      "outputs": [
        {
          "output_type": "execute_result",
          "data": {
            "text/plain": [
              "(142246, 1024)"
            ]
          },
          "metadata": {},
          "execution_count": 22
        }
      ],
      "source": [
        "bert_embeds.shape"
      ]
    },
    {
      "cell_type": "code",
      "execution_count": 23,
      "metadata": {
        "colab": {
          "base_uri": "https://localhost:8080/"
        },
        "id": "ezVxLjd3gyOT",
        "outputId": "70b49e30-c159-4573-9a33-a227ac6c6757"
      },
      "outputs": [
        {
          "output_type": "execute_result",
          "data": {
            "text/plain": [
              "(142246, 2048)"
            ]
          },
          "metadata": {},
          "execution_count": 23
        }
      ],
      "source": [
        "np.concatenate([bert_embeds, t5_embeds], axis=1).shape"
      ]
    },
    {
      "cell_type": "code",
      "execution_count": 24,
      "metadata": {
        "colab": {
          "base_uri": "https://localhost:8080/"
        },
        "id": "ZgXE3G_kgTOE",
        "outputId": "29161656-183b-4219-bb49-90085392501a"
      },
      "outputs": [
        {
          "output_type": "stream",
          "name": "stdout",
          "text": [
            "['P20536' 'O73864' 'O95231' 'A0A0B4J1F4' 'P54366']\n",
            "['Q9ZSA8' 'P25353' 'A0A2R8YCW8' 'G3V5N8' 'A0A140LFN4']\n",
            "['P20536' 'O73864' 'O95231' 'A0A0B4J1F4' 'P54366']\n"
          ]
        }
      ],
      "source": [
        "print(bert_ids[:5])\n",
        "print(esm2_ids[:5])\n",
        "print(t5_ids[:5])"
      ]
    },
    {
      "cell_type": "code",
      "execution_count": 25,
      "metadata": {
        "id": "ifMl7POS0eDo"
      },
      "outputs": [],
      "source": [
        "class MultiLayerPerceptron(torch.nn.Module):\n",
        "\n",
        "    def __init__(self, input_dim, num_classes):\n",
        "        super(MultiLayerPerceptron, self).__init__()\n",
        "\n",
        "        self.linear1 = torch.nn.Linear(input_dim, 4*1012)\n",
        "        self.activation1 = torch.nn.ReLU()\n",
        "        self.linear2 = torch.nn.Linear(4*1012, 4*712)\n",
        "        self.activation2 = torch.nn.ReLU()\n",
        "        self.linear3 = torch.nn.Linear(4*712, num_classes)\n",
        "\n",
        "    def forward(self, x):\n",
        "        x = self.linear1(x)\n",
        "        x = self.activation1(x)\n",
        "        x = self.linear2(x)\n",
        "        x = self.activation2(x)\n",
        "        x = self.linear3(x)\n",
        "        return x\n",
        "\n",
        "\n",
        "class CNN1D(nn.Module):\n",
        "    def __init__(self, input_dim, num_classes):\n",
        "        super(CNN1D, self).__init__()\n",
        "        # (batch_size, channels, embed_size)\n",
        "        self.conv1 = nn.Conv1d(in_channels=1, out_channels=3, kernel_size=3, dilation=1, padding=1, stride=1)\n",
        "        # (batch_size, 3, embed_size)\n",
        "        self.pool1 = nn.MaxPool1d(kernel_size=2, stride=2)\n",
        "        # (batch_size, 3, embed_size/2 = 512)\n",
        "        self.conv2 = nn.Conv1d(in_channels=3, out_channels=8, kernel_size=3, dilation=1, padding=1, stride=1)\n",
        "        # (batch_size, 8, embed_size/2 = 512)\n",
        "        self.pool2 = nn.MaxPool1d(kernel_size=2, stride=2)\n",
        "        # (batch_size, 8, embed_size/4 = 256)\n",
        "        self.fc1 = nn.Linear(in_features=int(8 * input_dim/4), out_features=128)\n",
        "        self.fc2 = nn.Linear(in_features=128, out_features=num_classes)\n",
        "\n",
        "    def forward(self, x):\n",
        "        x = x.reshape(x.shape[0], 1, x.shape[1])\n",
        "        x = self.pool1(nn.functional.relu(self.conv1(x)))\n",
        "        x = self.pool2(nn.functional.relu(self.conv2(x)))\n",
        "        x = torch.flatten(x, 1)\n",
        "        x = nn.functional.relu(self.fc1(x))\n",
        "        x = self.fc2(x)\n",
        "        return x"
      ]
    },
    {
      "cell_type": "code",
      "execution_count": 26,
      "metadata": {
        "id": "GqSXiM2I5nvr"
      },
      "outputs": [],
      "source": [
        "def train_model(embeddings_source, model_type=\"linear\", train_size=0.9):\n",
        "\n",
        "    train_dataset = ProteinSequenceDataset(datatype=\"train\", embeddings_source = embeddings_source)\n",
        "\n",
        "    train_set, val_set = random_split(train_dataset, lengths = [int(len(train_dataset)*train_size), len(train_dataset)-int(len(train_dataset)*train_size)])\n",
        "    train_dataloader = torch.utils.data.DataLoader(train_set, batch_size=CFG.batch_size, shuffle=True)\n",
        "    val_dataloader = torch.utils.data.DataLoader(val_set, batch_size=CFG.batch_size, shuffle=True)\n",
        "\n",
        "    if model_type == \"linear\":\n",
        "        model = MultiLayerPerceptron(input_dim=embeds_dim[embeddings_source], num_classes=CFG.num_labels).to(CFG.device)\n",
        "    if model_type == \"convolutional\":\n",
        "        model = CNN1D(input_dim=embeds_dim[embeddings_source], num_classes=CFG.num_labels).to(CFG.device)\n",
        "\n",
        "    optimizer = torch.optim.Adam(model.parameters(), lr = CFG.lr)\n",
        "    scheduler = ReduceLROnPlateau(optimizer, factor=0.1, patience=1)\n",
        "    CrossEntropy = torch.nn.CrossEntropyLoss()\n",
        "    f1_score = MultilabelF1Score(num_labels=CFG.num_labels).to(CFG.device)\n",
        "    n_epochs = CFG.n_epochs\n",
        "\n",
        "    print(\"BEGIN TRAINING...\")\n",
        "    train_loss_history=[]\n",
        "    val_loss_history=[]\n",
        "\n",
        "    train_f1score_history=[]\n",
        "    val_f1score_history=[]\n",
        "    for epoch in range(n_epochs):\n",
        "        print(\"EPOCH \", epoch+1)\n",
        "        ## TRAIN PHASE :\n",
        "        losses = []\n",
        "        scores = []\n",
        "        for embed, targets in tqdm(train_dataloader):\n",
        "            embed, targets = embed.to(CFG.device), targets.to(CFG.device)\n",
        "            optimizer.zero_grad()\n",
        "            preds = model(embed)\n",
        "            loss= CrossEntropy(preds, targets)\n",
        "            score=f1_score(preds, targets)\n",
        "            losses.append(loss.item())\n",
        "            scores.append(score.item())\n",
        "            loss.backward()\n",
        "            optimizer.step()\n",
        "        avg_loss = np.mean(losses)\n",
        "        avg_score = np.mean(scores)\n",
        "        print(\"Running Average TRAIN Loss : \", avg_loss)\n",
        "        print(\"Running Average TRAIN F1-Score : \", avg_score)\n",
        "        train_loss_history.append(avg_loss)\n",
        "        train_f1score_history.append(avg_score)\n",
        "\n",
        "        ## VALIDATION PHASE :\n",
        "        losses = []\n",
        "        scores = []\n",
        "        for embed, targets in val_dataloader:\n",
        "            embed, targets = embed.to(CFG.device), targets.to(CFG.device)\n",
        "            preds = model(embed)\n",
        "            loss= CrossEntropy(preds, targets)\n",
        "            score=f1_score(preds, targets)\n",
        "            losses.append(loss.item())\n",
        "            scores.append(score.item())\n",
        "        avg_loss = np.mean(losses)\n",
        "        avg_score = np.mean(scores)\n",
        "        print(\"Running Average VAL Loss : \", avg_loss)\n",
        "        print(\"Running Average VAL F1-Score : \", avg_score)\n",
        "        val_loss_history.append(avg_loss)\n",
        "        val_f1score_history.append(avg_score)\n",
        "\n",
        "        scheduler.step(avg_loss)\n",
        "        print(\"\\n\")\n",
        "\n",
        "    print(\"TRAINING FINISHED\")\n",
        "    print(\"FINAL TRAINING SCORE : \", train_f1score_history[-1])\n",
        "    print(\"FINAL VALIDATION SCORE : \", val_f1score_history[-1])\n",
        "\n",
        "    losses_history = {\"train\" : train_loss_history, \"val\" : val_loss_history}\n",
        "    scores_history = {\"train\" : train_f1score_history, \"val\" : val_f1score_history}\n",
        "\n",
        "    return model, losses_history, scores_history"
      ]
    },
    {
      "cell_type": "code",
      "execution_count": 27,
      "metadata": {
        "id": "NOoTKm_X7yFz"
      },
      "outputs": [],
      "source": [
        "train_dataset = ProteinSequenceDataset(datatype=\"train\", embeddings_source = \"ESM2\")\n",
        "CFG.num_labels = train_dataset[0][1].shape[0]"
      ]
    },
    {
      "cell_type": "code",
      "execution_count": 28,
      "metadata": {
        "colab": {
          "base_uri": "https://localhost:8080/"
        },
        "id": "uaHlxFm7hUtr",
        "outputId": "4f2189e8-0453-40c3-e0b3-3557817e0794"
      },
      "outputs": [
        {
          "output_type": "stream",
          "name": "stdout",
          "text": [
            "BEGIN TRAINING...\n",
            "EPOCH  1\n"
          ]
        },
        {
          "output_type": "stream",
          "name": "stderr",
          "text": [
            "100%|██████████| 654/654 [00:16<00:00, 39.40it/s]\n"
          ]
        },
        {
          "output_type": "stream",
          "name": "stdout",
          "text": [
            "Running Average TRAIN Loss :  4.30169092843292\n",
            "Running Average TRAIN F1-Score :  0.1889490393255282\n",
            "Running Average VAL Loss :  4.103079416980482\n",
            "Running Average VAL F1-Score :  0.20986565988357753\n",
            "\n",
            "\n",
            "EPOCH  2\n"
          ]
        },
        {
          "output_type": "stream",
          "name": "stderr",
          "text": [
            "100%|██████████| 654/654 [00:13<00:00, 47.89it/s]\n"
          ]
        },
        {
          "output_type": "stream",
          "name": "stdout",
          "text": [
            "Running Average TRAIN Loss :  4.033902499653878\n",
            "Running Average TRAIN F1-Score :  0.22452347857780777\n",
            "Running Average VAL Loss :  3.9708605531143815\n",
            "Running Average VAL F1-Score :  0.22238785987847473\n",
            "\n",
            "\n",
            "EPOCH  3\n"
          ]
        },
        {
          "output_type": "stream",
          "name": "stderr",
          "text": [
            "100%|██████████| 654/654 [00:13<00:00, 48.31it/s]\n"
          ]
        },
        {
          "output_type": "stream",
          "name": "stdout",
          "text": [
            "Running Average TRAIN Loss :  3.9207509890973387\n",
            "Running Average TRAIN F1-Score :  0.2399654848449821\n",
            "Running Average VAL Loss :  3.923627784807388\n",
            "Running Average VAL F1-Score :  0.24115504610211883\n",
            "\n",
            "\n",
            "EPOCH  4\n"
          ]
        },
        {
          "output_type": "stream",
          "name": "stderr",
          "text": [
            "100%|██████████| 654/654 [00:13<00:00, 47.99it/s]\n"
          ]
        },
        {
          "output_type": "stream",
          "name": "stdout",
          "text": [
            "Running Average TRAIN Loss :  3.8266090894693265\n",
            "Running Average TRAIN F1-Score :  0.2516456075263315\n",
            "Running Average VAL Loss :  3.8894156658486145\n",
            "Running Average VAL F1-Score :  0.24621668070146482\n",
            "\n",
            "\n",
            "EPOCH  5\n"
          ]
        },
        {
          "output_type": "stream",
          "name": "stderr",
          "text": [
            "100%|██████████| 654/654 [00:14<00:00, 46.24it/s]\n"
          ]
        },
        {
          "output_type": "stream",
          "name": "stdout",
          "text": [
            "Running Average TRAIN Loss :  3.7365559776988597\n",
            "Running Average TRAIN F1-Score :  0.26440984580312665\n",
            "Running Average VAL Loss :  3.843437959070075\n",
            "Running Average VAL F1-Score :  0.2490933706907377\n",
            "\n",
            "\n",
            "EPOCH  6\n"
          ]
        },
        {
          "output_type": "stream",
          "name": "stderr",
          "text": [
            "100%|██████████| 654/654 [00:13<00:00, 46.75it/s]\n"
          ]
        },
        {
          "output_type": "stream",
          "name": "stdout",
          "text": [
            "Running Average TRAIN Loss :  3.645634442658964\n",
            "Running Average TRAIN F1-Score :  0.2765117310192607\n",
            "Running Average VAL Loss :  3.832031687645063\n",
            "Running Average VAL F1-Score :  0.2601083398681797\n",
            "\n",
            "\n",
            "EPOCH  7\n"
          ]
        },
        {
          "output_type": "stream",
          "name": "stderr",
          "text": [
            "100%|██████████| 654/654 [00:14<00:00, 46.37it/s]\n"
          ]
        },
        {
          "output_type": "stream",
          "name": "stdout",
          "text": [
            "Running Average TRAIN Loss :  3.5520782244679396\n",
            "Running Average TRAIN F1-Score :  0.28867905910499964\n",
            "Running Average VAL Loss :  3.8597992642285073\n",
            "Running Average VAL F1-Score :  0.26902275665165626\n",
            "\n",
            "\n",
            "EPOCH  8\n"
          ]
        },
        {
          "output_type": "stream",
          "name": "stderr",
          "text": [
            "100%|██████████| 654/654 [00:14<00:00, 46.34it/s]\n"
          ]
        },
        {
          "output_type": "stream",
          "name": "stdout",
          "text": [
            "Running Average TRAIN Loss :  3.461721529654407\n",
            "Running Average TRAIN F1-Score :  0.3007661062734207\n",
            "Running Average VAL Loss :  3.8038092769988596\n",
            "Running Average VAL F1-Score :  0.27739147943993137\n",
            "\n",
            "\n",
            "EPOCH  9\n"
          ]
        },
        {
          "output_type": "stream",
          "name": "stderr",
          "text": [
            "100%|██████████| 654/654 [00:13<00:00, 46.92it/s]\n"
          ]
        },
        {
          "output_type": "stream",
          "name": "stdout",
          "text": [
            "Running Average TRAIN Loss :  3.366000982599521\n",
            "Running Average TRAIN F1-Score :  0.31482350639429296\n",
            "Running Average VAL Loss :  3.842307045035166\n",
            "Running Average VAL F1-Score :  0.2794368899848363\n",
            "\n",
            "\n",
            "EPOCH  10\n"
          ]
        },
        {
          "output_type": "stream",
          "name": "stderr",
          "text": [
            "100%|██████████| 654/654 [00:13<00:00, 47.53it/s]\n"
          ]
        },
        {
          "output_type": "stream",
          "name": "stdout",
          "text": [
            "Running Average TRAIN Loss :  3.269770879628826\n",
            "Running Average TRAIN F1-Score :  0.3274562275692228\n",
            "Running Average VAL Loss :  3.856898278406222\n",
            "Running Average VAL F1-Score :  0.2872881379029522\n",
            "\n",
            "\n",
            "EPOCH  11\n"
          ]
        },
        {
          "output_type": "stream",
          "name": "stderr",
          "text": [
            "100%|██████████| 654/654 [00:13<00:00, 47.06it/s]\n"
          ]
        },
        {
          "output_type": "stream",
          "name": "stdout",
          "text": [
            "Running Average TRAIN Loss :  2.9916001226559326\n",
            "Running Average TRAIN F1-Score :  0.35137332046250686\n",
            "Running Average VAL Loss :  3.816302769804654\n",
            "Running Average VAL F1-Score :  0.2961813560495638\n",
            "\n",
            "\n",
            "EPOCH  12\n"
          ]
        },
        {
          "output_type": "stream",
          "name": "stderr",
          "text": [
            "100%|██████████| 654/654 [00:13<00:00, 47.43it/s]\n"
          ]
        },
        {
          "output_type": "stream",
          "name": "stdout",
          "text": [
            "Running Average TRAIN Loss :  2.9167257306772636\n",
            "Running Average TRAIN F1-Score :  0.35776843759444876\n",
            "Running Average VAL Loss :  3.842448296612256\n",
            "Running Average VAL F1-Score :  0.29967141069778025\n",
            "\n",
            "\n",
            "EPOCH  13\n"
          ]
        },
        {
          "output_type": "stream",
          "name": "stderr",
          "text": [
            "100%|██████████| 654/654 [00:13<00:00, 46.94it/s]\n"
          ]
        },
        {
          "output_type": "stream",
          "name": "stdout",
          "text": [
            "Running Average TRAIN Loss :  2.8613213661613814\n",
            "Running Average TRAIN F1-Score :  0.36281526881620424\n",
            "Running Average VAL Loss :  3.8407474674590647\n",
            "Running Average VAL F1-Score :  0.2984908535464169\n",
            "\n",
            "\n",
            "EPOCH  14\n"
          ]
        },
        {
          "output_type": "stream",
          "name": "stderr",
          "text": [
            "100%|██████████| 654/654 [00:13<00:00, 48.44it/s]\n"
          ]
        },
        {
          "output_type": "stream",
          "name": "stdout",
          "text": [
            "Running Average TRAIN Loss :  2.8549812350433537\n",
            "Running Average TRAIN F1-Score :  0.3628040819631075\n",
            "Running Average VAL Loss :  3.847822522463864\n",
            "Running Average VAL F1-Score :  0.29840583180728025\n",
            "\n",
            "\n",
            "EPOCH  15\n"
          ]
        },
        {
          "output_type": "stream",
          "name": "stderr",
          "text": [
            "100%|██████████| 654/654 [00:13<00:00, 47.68it/s]\n"
          ]
        },
        {
          "output_type": "stream",
          "name": "stdout",
          "text": [
            "Running Average TRAIN Loss :  2.847251395566748\n",
            "Running Average TRAIN F1-Score :  0.36384478922283975\n",
            "Running Average VAL Loss :  3.8469613218960697\n",
            "Running Average VAL F1-Score :  0.3014106201390698\n",
            "\n",
            "\n",
            "TRAINING FINISHED\n",
            "FINAL TRAINING SCORE :  0.36384478922283975\n",
            "FINAL VALIDATION SCORE :  0.3014106201390698\n"
          ]
        }
      ],
      "source": [
        "cat_model, cat_losses,cat_scores = train_model(embeddings_source=\"Concat\",model_type=\"linear\")"
      ]
    },
    {
      "cell_type": "code",
      "execution_count": 29,
      "metadata": {
        "colab": {
          "base_uri": "https://localhost:8080/"
        },
        "id": "w3VdssHq5v-F",
        "outputId": "d64efef6-179d-42e5-f112-4b4662e3b154"
      },
      "outputs": [
        {
          "output_type": "stream",
          "name": "stdout",
          "text": [
            "BEGIN TRAINING...\n",
            "EPOCH  1\n"
          ]
        },
        {
          "output_type": "stream",
          "name": "stderr",
          "text": [
            "100%|██████████| 654/654 [00:12<00:00, 52.39it/s]\n"
          ]
        },
        {
          "output_type": "stream",
          "name": "stdout",
          "text": [
            "Running Average TRAIN Loss :  4.296176616569542\n",
            "Running Average TRAIN F1-Score :  0.19399657177906882\n",
            "Running Average VAL Loss :  4.156033127275232\n",
            "Running Average VAL F1-Score :  0.2169266792192851\n",
            "\n",
            "\n",
            "EPOCH  2\n"
          ]
        },
        {
          "output_type": "stream",
          "name": "stderr",
          "text": [
            "100%|██████████| 654/654 [00:12<00:00, 51.73it/s]\n"
          ]
        },
        {
          "output_type": "stream",
          "name": "stdout",
          "text": [
            "Running Average TRAIN Loss :  4.034048943344606\n",
            "Running Average TRAIN F1-Score :  0.22925645090206684\n",
            "Running Average VAL Loss :  4.061596008196269\n",
            "Running Average VAL F1-Score :  0.23366681129148562\n",
            "\n",
            "\n",
            "EPOCH  3\n"
          ]
        },
        {
          "output_type": "stream",
          "name": "stderr",
          "text": [
            "100%|██████████| 654/654 [00:12<00:00, 52.05it/s]\n"
          ]
        },
        {
          "output_type": "stream",
          "name": "stdout",
          "text": [
            "Running Average TRAIN Loss :  3.9046436238361792\n",
            "Running Average TRAIN F1-Score :  0.2462356239785113\n",
            "Running Average VAL Loss :  3.9862237858445675\n",
            "Running Average VAL F1-Score :  0.24618555829949576\n",
            "\n",
            "\n",
            "EPOCH  4\n"
          ]
        },
        {
          "output_type": "stream",
          "name": "stderr",
          "text": [
            "100%|██████████| 654/654 [00:12<00:00, 52.19it/s]\n"
          ]
        },
        {
          "output_type": "stream",
          "name": "stdout",
          "text": [
            "Running Average TRAIN Loss :  3.7837900411827485\n",
            "Running Average TRAIN F1-Score :  0.26207987002641053\n",
            "Running Average VAL Loss :  3.9457636630698425\n",
            "Running Average VAL F1-Score :  0.25489175482972026\n",
            "\n",
            "\n",
            "EPOCH  5\n"
          ]
        },
        {
          "output_type": "stream",
          "name": "stderr",
          "text": [
            "100%|██████████| 654/654 [00:12<00:00, 52.80it/s]\n"
          ]
        },
        {
          "output_type": "stream",
          "name": "stdout",
          "text": [
            "Running Average TRAIN Loss :  3.6636265414205895\n",
            "Running Average TRAIN F1-Score :  0.2784776467066657\n",
            "Running Average VAL Loss :  3.9384305019901222\n",
            "Running Average VAL F1-Score :  0.2634311414336505\n",
            "\n",
            "\n",
            "EPOCH  6\n"
          ]
        },
        {
          "output_type": "stream",
          "name": "stderr",
          "text": [
            "100%|██████████| 654/654 [00:12<00:00, 51.78it/s]\n"
          ]
        },
        {
          "output_type": "stream",
          "name": "stdout",
          "text": [
            "Running Average TRAIN Loss :  3.5346593546940284\n",
            "Running Average TRAIN F1-Score :  0.2946227259182055\n",
            "Running Average VAL Loss :  3.89642002157969\n",
            "Running Average VAL F1-Score :  0.27544117280065195\n",
            "\n",
            "\n",
            "EPOCH  7\n"
          ]
        },
        {
          "output_type": "stream",
          "name": "stderr",
          "text": [
            "100%|██████████| 654/654 [00:12<00:00, 52.49it/s]\n"
          ]
        },
        {
          "output_type": "stream",
          "name": "stdout",
          "text": [
            "Running Average TRAIN Loss :  3.402657754559765\n",
            "Running Average TRAIN F1-Score :  0.31338527987765247\n",
            "Running Average VAL Loss :  3.9046233386209566\n",
            "Running Average VAL F1-Score :  0.2808048343413497\n",
            "\n",
            "\n",
            "EPOCH  8\n"
          ]
        },
        {
          "output_type": "stream",
          "name": "stderr",
          "text": [
            "100%|██████████| 654/654 [00:12<00:00, 52.76it/s]\n"
          ]
        },
        {
          "output_type": "stream",
          "name": "stdout",
          "text": [
            "Running Average TRAIN Loss :  3.267142102259015\n",
            "Running Average TRAIN F1-Score :  0.3313377294062839\n",
            "Running Average VAL Loss :  3.896822063890222\n",
            "Running Average VAL F1-Score :  0.2945119222141292\n",
            "\n",
            "\n",
            "EPOCH  9\n"
          ]
        },
        {
          "output_type": "stream",
          "name": "stderr",
          "text": [
            "100%|██████████| 654/654 [00:12<00:00, 52.26it/s]\n"
          ]
        },
        {
          "output_type": "stream",
          "name": "stdout",
          "text": [
            "Running Average TRAIN Loss :  2.9165146321696245\n",
            "Running Average TRAIN F1-Score :  0.3612262304040635\n",
            "Running Average VAL Loss :  3.8992465914112246\n",
            "Running Average VAL F1-Score :  0.3009430384390975\n",
            "\n",
            "\n",
            "EPOCH  10\n"
          ]
        },
        {
          "output_type": "stream",
          "name": "stderr",
          "text": [
            "100%|██████████| 654/654 [00:12<00:00, 52.03it/s]\n"
          ]
        },
        {
          "output_type": "stream",
          "name": "stdout",
          "text": [
            "Running Average TRAIN Loss :  2.820667920127192\n",
            "Running Average TRAIN F1-Score :  0.3709218106958844\n",
            "Running Average VAL Loss :  3.9015828844619125\n",
            "Running Average VAL F1-Score :  0.3024213440614204\n",
            "\n",
            "\n",
            "EPOCH  11\n"
          ]
        },
        {
          "output_type": "stream",
          "name": "stderr",
          "text": [
            "100%|██████████| 654/654 [00:12<00:00, 52.69it/s]\n"
          ]
        },
        {
          "output_type": "stream",
          "name": "stdout",
          "text": [
            "Running Average TRAIN Loss :  2.7491066993558806\n",
            "Running Average TRAIN F1-Score :  0.3787525036921924\n",
            "Running Average VAL Loss :  3.9085642115710533\n",
            "Running Average VAL F1-Score :  0.30419607582974106\n",
            "\n",
            "\n",
            "EPOCH  12\n"
          ]
        },
        {
          "output_type": "stream",
          "name": "stderr",
          "text": [
            "100%|██████████| 654/654 [00:12<00:00, 52.72it/s]\n"
          ]
        },
        {
          "output_type": "stream",
          "name": "stdout",
          "text": [
            "Running Average TRAIN Loss :  2.739822334105815\n",
            "Running Average TRAIN F1-Score :  0.37942093018362644\n",
            "Running Average VAL Loss :  3.917344677938174\n",
            "Running Average VAL F1-Score :  0.30511362054576613\n",
            "\n",
            "\n",
            "EPOCH  13\n"
          ]
        },
        {
          "output_type": "stream",
          "name": "stderr",
          "text": [
            "100%|██████████| 654/654 [00:12<00:00, 52.42it/s]\n"
          ]
        },
        {
          "output_type": "stream",
          "name": "stdout",
          "text": [
            "Running Average TRAIN Loss :  2.7311179382720856\n",
            "Running Average TRAIN F1-Score :  0.38017779661610224\n",
            "Running Average VAL Loss :  3.9169883956647897\n",
            "Running Average VAL F1-Score :  0.30652832699148624\n",
            "\n",
            "\n",
            "EPOCH  14\n"
          ]
        },
        {
          "output_type": "stream",
          "name": "stderr",
          "text": [
            "100%|██████████| 654/654 [00:12<00:00, 52.93it/s]\n"
          ]
        },
        {
          "output_type": "stream",
          "name": "stdout",
          "text": [
            "Running Average TRAIN Loss :  2.7307684567361066\n",
            "Running Average TRAIN F1-Score :  0.3812217038432392\n",
            "Running Average VAL Loss :  3.9170794748280144\n",
            "Running Average VAL F1-Score :  0.30450814962387085\n",
            "\n",
            "\n",
            "EPOCH  15\n"
          ]
        },
        {
          "output_type": "stream",
          "name": "stderr",
          "text": [
            "100%|██████████| 654/654 [00:12<00:00, 52.20it/s]\n"
          ]
        },
        {
          "output_type": "stream",
          "name": "stdout",
          "text": [
            "Running Average TRAIN Loss :  2.729771591472334\n",
            "Running Average TRAIN F1-Score :  0.3805014941305925\n",
            "Running Average VAL Loss :  3.916634393064943\n",
            "Running Average VAL F1-Score :  0.30318297547836826\n",
            "\n",
            "\n",
            "TRAINING FINISHED\n",
            "FINAL TRAINING SCORE :  0.3805014941305925\n",
            "FINAL VALIDATION SCORE :  0.30318297547836826\n"
          ]
        }
      ],
      "source": [
        "esm2_model, esm2_losses, esm2_scores = train_model(embeddings_source=\"ESM2\",model_type=\"linear\")"
      ]
    },
    {
      "cell_type": "code",
      "execution_count": 30,
      "metadata": {
        "id": "I6HJs1Qb514B"
      },
      "outputs": [],
      "source": [
        "# Weighted F1 Score?"
      ]
    },
    {
      "cell_type": "code",
      "execution_count": 31,
      "metadata": {
        "colab": {
          "base_uri": "https://localhost:8080/"
        },
        "id": "gvkZkKba9cmH",
        "outputId": "e60acb07-68c9-482a-e416-3a28f69cb725"
      },
      "outputs": [
        {
          "output_type": "stream",
          "name": "stdout",
          "text": [
            "BEGIN TRAINING...\n",
            "EPOCH  1\n"
          ]
        },
        {
          "output_type": "stream",
          "name": "stderr",
          "text": [
            "100%|██████████| 654/654 [00:13<00:00, 48.29it/s]\n"
          ]
        },
        {
          "output_type": "stream",
          "name": "stdout",
          "text": [
            "Running Average TRAIN Loss :  4.1727093811793425\n",
            "Running Average TRAIN F1-Score :  0.20372711680259908\n",
            "Running Average VAL Loss :  3.992551712140645\n",
            "Running Average VAL F1-Score :  0.22545042981023658\n",
            "\n",
            "\n",
            "EPOCH  2\n"
          ]
        },
        {
          "output_type": "stream",
          "name": "stderr",
          "text": [
            "100%|██████████| 654/654 [00:13<00:00, 48.50it/s]\n"
          ]
        },
        {
          "output_type": "stream",
          "name": "stdout",
          "text": [
            "Running Average TRAIN Loss :  3.871548890338396\n",
            "Running Average TRAIN F1-Score :  0.24281156552949812\n",
            "Running Average VAL Loss :  3.8588907228757257\n",
            "Running Average VAL F1-Score :  0.24105007293289654\n",
            "\n",
            "\n",
            "EPOCH  3\n"
          ]
        },
        {
          "output_type": "stream",
          "name": "stderr",
          "text": [
            "100%|██████████| 654/654 [00:13<00:00, 48.30it/s]\n"
          ]
        },
        {
          "output_type": "stream",
          "name": "stdout",
          "text": [
            "Running Average TRAIN Loss :  3.681215969065278\n",
            "Running Average TRAIN F1-Score :  0.26683716817733344\n",
            "Running Average VAL Loss :  3.7975370230740064\n",
            "Running Average VAL F1-Score :  0.25606727640922755\n",
            "\n",
            "\n",
            "EPOCH  4\n"
          ]
        },
        {
          "output_type": "stream",
          "name": "stderr",
          "text": [
            "100%|██████████| 654/654 [00:13<00:00, 47.97it/s]\n"
          ]
        },
        {
          "output_type": "stream",
          "name": "stdout",
          "text": [
            "Running Average TRAIN Loss :  3.489656923378644\n",
            "Running Average TRAIN F1-Score :  0.2896629549585716\n",
            "Running Average VAL Loss :  3.770350593410126\n",
            "Running Average VAL F1-Score :  0.27025477179925733\n",
            "\n",
            "\n",
            "EPOCH  5\n"
          ]
        },
        {
          "output_type": "stream",
          "name": "stderr",
          "text": [
            "100%|██████████| 654/654 [00:13<00:00, 49.28it/s]\n"
          ]
        },
        {
          "output_type": "stream",
          "name": "stdout",
          "text": [
            "Running Average TRAIN Loss :  3.2939773382396873\n",
            "Running Average TRAIN F1-Score :  0.31195235753642675\n",
            "Running Average VAL Loss :  3.779873015129403\n",
            "Running Average VAL F1-Score :  0.28388329483058355\n",
            "\n",
            "\n",
            "EPOCH  6\n"
          ]
        },
        {
          "output_type": "stream",
          "name": "stderr",
          "text": [
            "100%|██████████| 654/654 [00:13<00:00, 48.07it/s]\n"
          ]
        },
        {
          "output_type": "stream",
          "name": "stdout",
          "text": [
            "Running Average TRAIN Loss :  3.103117217346798\n",
            "Running Average TRAIN F1-Score :  0.33640485897158995\n",
            "Running Average VAL Loss :  3.807657156905083\n",
            "Running Average VAL F1-Score :  0.293620838490251\n",
            "\n",
            "\n",
            "EPOCH  7\n"
          ]
        },
        {
          "output_type": "stream",
          "name": "stderr",
          "text": [
            "100%|██████████| 654/654 [00:13<00:00, 48.89it/s]\n"
          ]
        },
        {
          "output_type": "stream",
          "name": "stdout",
          "text": [
            "Running Average TRAIN Loss :  2.706022516303106\n",
            "Running Average TRAIN F1-Score :  0.3687949285412418\n",
            "Running Average VAL Loss :  3.8346664415646905\n",
            "Running Average VAL F1-Score :  0.30873467762992807\n",
            "\n",
            "\n",
            "EPOCH  8\n"
          ]
        },
        {
          "output_type": "stream",
          "name": "stderr",
          "text": [
            "100%|██████████| 654/654 [00:13<00:00, 47.88it/s]\n"
          ]
        },
        {
          "output_type": "stream",
          "name": "stdout",
          "text": [
            "Running Average TRAIN Loss :  2.5838336414153424\n",
            "Running Average TRAIN F1-Score :  0.3820135995335535\n",
            "Running Average VAL Loss :  3.8765082849215156\n",
            "Running Average VAL F1-Score :  0.3119549294040628\n",
            "\n",
            "\n",
            "EPOCH  9\n"
          ]
        },
        {
          "output_type": "stream",
          "name": "stderr",
          "text": [
            "100%|██████████| 654/654 [00:13<00:00, 47.95it/s]\n"
          ]
        },
        {
          "output_type": "stream",
          "name": "stdout",
          "text": [
            "Running Average TRAIN Loss :  2.4940948205621236\n",
            "Running Average TRAIN F1-Score :  0.3910818562959677\n",
            "Running Average VAL Loss :  3.914780989085158\n",
            "Running Average VAL F1-Score :  0.31405699293907374\n",
            "\n",
            "\n",
            "EPOCH  10\n"
          ]
        },
        {
          "output_type": "stream",
          "name": "stderr",
          "text": [
            "100%|██████████| 654/654 [00:13<00:00, 49.22it/s]\n"
          ]
        },
        {
          "output_type": "stream",
          "name": "stdout",
          "text": [
            "Running Average TRAIN Loss :  2.4831861199224394\n",
            "Running Average TRAIN F1-Score :  0.39268842180023134\n",
            "Running Average VAL Loss :  3.9192299189632887\n",
            "Running Average VAL F1-Score :  0.31426139849506013\n",
            "\n",
            "\n",
            "EPOCH  11\n"
          ]
        },
        {
          "output_type": "stream",
          "name": "stderr",
          "text": [
            "100%|██████████| 654/654 [00:12<00:00, 50.57it/s]\n"
          ]
        },
        {
          "output_type": "stream",
          "name": "stdout",
          "text": [
            "Running Average TRAIN Loss :  2.4729000450274268\n",
            "Running Average TRAIN F1-Score :  0.39334656717398114\n",
            "Running Average VAL Loss :  3.9226530088137275\n",
            "Running Average VAL F1-Score :  0.31403410842973895\n",
            "\n",
            "\n",
            "EPOCH  12\n"
          ]
        },
        {
          "output_type": "stream",
          "name": "stderr",
          "text": [
            "100%|██████████| 654/654 [00:13<00:00, 48.12it/s]\n"
          ]
        },
        {
          "output_type": "stream",
          "name": "stdout",
          "text": [
            "Running Average TRAIN Loss :  2.472246291805116\n",
            "Running Average TRAIN F1-Score :  0.3946318836933976\n",
            "Running Average VAL Loss :  3.9288328347140795\n",
            "Running Average VAL F1-Score :  0.31426188063948124\n",
            "\n",
            "\n",
            "EPOCH  13\n"
          ]
        },
        {
          "output_type": "stream",
          "name": "stderr",
          "text": [
            "100%|██████████| 654/654 [00:13<00:00, 48.47it/s]\n"
          ]
        },
        {
          "output_type": "stream",
          "name": "stdout",
          "text": [
            "Running Average TRAIN Loss :  2.470559235924245\n",
            "Running Average TRAIN F1-Score :  0.39372627883693856\n",
            "Running Average VAL Loss :  3.9223191640148425\n",
            "Running Average VAL F1-Score :  0.3159299276462973\n",
            "\n",
            "\n",
            "EPOCH  14\n"
          ]
        },
        {
          "output_type": "stream",
          "name": "stderr",
          "text": [
            "100%|██████████| 654/654 [00:13<00:00, 48.24it/s]\n"
          ]
        },
        {
          "output_type": "stream",
          "name": "stdout",
          "text": [
            "Running Average TRAIN Loss :  2.4705880118437133\n",
            "Running Average TRAIN F1-Score :  0.39309270930581863\n",
            "Running Average VAL Loss :  3.9196829991797877\n",
            "Running Average VAL F1-Score :  0.31554466975878365\n",
            "\n",
            "\n",
            "EPOCH  15\n"
          ]
        },
        {
          "output_type": "stream",
          "name": "stderr",
          "text": [
            "100%|██████████| 654/654 [00:13<00:00, 48.78it/s]\n"
          ]
        },
        {
          "output_type": "stream",
          "name": "stdout",
          "text": [
            "Running Average TRAIN Loss :  2.470989865265126\n",
            "Running Average TRAIN F1-Score :  0.39371224048487635\n",
            "Running Average VAL Loss :  3.9274638744249737\n",
            "Running Average VAL F1-Score :  0.3141600252830819\n",
            "\n",
            "\n",
            "TRAINING FINISHED\n",
            "FINAL TRAINING SCORE :  0.39371224048487635\n",
            "FINAL VALIDATION SCORE :  0.3141600252830819\n"
          ]
        }
      ],
      "source": [
        "t5_model, t5_losses, t5_scores = train_model(embeddings_source=\"T5\",model_type=\"linear\")"
      ]
    },
    {
      "cell_type": "code",
      "execution_count": 32,
      "metadata": {
        "colab": {
          "base_uri": "https://localhost:8080/"
        },
        "id": "ep6Wpyo69k96",
        "outputId": "b40e5c09-7ce4-4f92-e89f-df2f9b94bcd9"
      },
      "outputs": [
        {
          "output_type": "stream",
          "name": "stdout",
          "text": [
            "BEGIN TRAINING...\n",
            "EPOCH  1\n"
          ]
        },
        {
          "output_type": "stream",
          "name": "stderr",
          "text": [
            "100%|██████████| 654/654 [00:13<00:00, 48.24it/s]\n"
          ]
        },
        {
          "output_type": "stream",
          "name": "stdout",
          "text": [
            "Running Average TRAIN Loss :  4.165585340345307\n",
            "Running Average TRAIN F1-Score :  0.20382051442148852\n",
            "Running Average VAL Loss :  4.0556814997163535\n",
            "Running Average VAL F1-Score :  0.2316154760040649\n",
            "\n",
            "\n",
            "EPOCH  2\n"
          ]
        },
        {
          "output_type": "stream",
          "name": "stderr",
          "text": [
            "100%|██████████| 654/654 [00:13<00:00, 49.72it/s]\n"
          ]
        },
        {
          "output_type": "stream",
          "name": "stdout",
          "text": [
            "Running Average TRAIN Loss :  3.863043064735716\n",
            "Running Average TRAIN F1-Score :  0.24302400067585325\n",
            "Running Average VAL Loss :  3.9255108082131165\n",
            "Running Average VAL F1-Score :  0.24766041889582593\n",
            "\n",
            "\n",
            "EPOCH  3\n"
          ]
        },
        {
          "output_type": "stream",
          "name": "stderr",
          "text": [
            "100%|██████████| 654/654 [00:13<00:00, 48.49it/s]\n"
          ]
        },
        {
          "output_type": "stream",
          "name": "stdout",
          "text": [
            "Running Average TRAIN Loss :  3.673370156448551\n",
            "Running Average TRAIN F1-Score :  0.2661111918292279\n",
            "Running Average VAL Loss :  3.84974623379642\n",
            "Running Average VAL F1-Score :  0.2654753121202939\n",
            "\n",
            "\n",
            "EPOCH  4\n"
          ]
        },
        {
          "output_type": "stream",
          "name": "stderr",
          "text": [
            "100%|██████████| 654/654 [00:13<00:00, 47.60it/s]\n"
          ]
        },
        {
          "output_type": "stream",
          "name": "stdout",
          "text": [
            "Running Average TRAIN Loss :  3.48045401726294\n",
            "Running Average TRAIN F1-Score :  0.29001277616811455\n",
            "Running Average VAL Loss :  3.8106006432885993\n",
            "Running Average VAL F1-Score :  0.2791578471660614\n",
            "\n",
            "\n",
            "EPOCH  5\n"
          ]
        },
        {
          "output_type": "stream",
          "name": "stderr",
          "text": [
            "100%|██████████| 654/654 [00:13<00:00, 48.09it/s]\n"
          ]
        },
        {
          "output_type": "stream",
          "name": "stdout",
          "text": [
            "Running Average TRAIN Loss :  3.282890927900962\n",
            "Running Average TRAIN F1-Score :  0.31278595592632935\n",
            "Running Average VAL Loss :  3.818926406233278\n",
            "Running Average VAL F1-Score :  0.28465061930760943\n",
            "\n",
            "\n",
            "EPOCH  6\n"
          ]
        },
        {
          "output_type": "stream",
          "name": "stderr",
          "text": [
            "100%|██████████| 654/654 [00:13<00:00, 48.52it/s]\n"
          ]
        },
        {
          "output_type": "stream",
          "name": "stdout",
          "text": [
            "Running Average TRAIN Loss :  3.0899919442809685\n",
            "Running Average TRAIN F1-Score :  0.3361241019555917\n",
            "Running Average VAL Loss :  3.858202924467113\n",
            "Running Average VAL F1-Score :  0.2982659262337097\n",
            "\n",
            "\n",
            "EPOCH  7\n"
          ]
        },
        {
          "output_type": "stream",
          "name": "stderr",
          "text": [
            "100%|██████████| 654/654 [00:13<00:00, 48.51it/s]\n"
          ]
        },
        {
          "output_type": "stream",
          "name": "stdout",
          "text": [
            "Running Average TRAIN Loss :  2.6909699558482623\n",
            "Running Average TRAIN F1-Score :  0.3700725831752159\n",
            "Running Average VAL Loss :  3.881934691781867\n",
            "Running Average VAL F1-Score :  0.3097008127872258\n",
            "\n",
            "\n",
            "EPOCH  8\n"
          ]
        },
        {
          "output_type": "stream",
          "name": "stderr",
          "text": [
            "100%|██████████| 654/654 [00:13<00:00, 47.05it/s]\n"
          ]
        },
        {
          "output_type": "stream",
          "name": "stdout",
          "text": [
            "Running Average TRAIN Loss :  2.567834773924008\n",
            "Running Average TRAIN F1-Score :  0.38292432651607267\n",
            "Running Average VAL Loss :  3.9270316542011416\n",
            "Running Average VAL F1-Score :  0.3164827329655216\n",
            "\n",
            "\n",
            "EPOCH  9\n"
          ]
        },
        {
          "output_type": "stream",
          "name": "stderr",
          "text": [
            "100%|██████████| 654/654 [00:13<00:00, 46.78it/s]\n"
          ]
        },
        {
          "output_type": "stream",
          "name": "stdout",
          "text": [
            "Running Average TRAIN Loss :  2.4794026813740393\n",
            "Running Average TRAIN F1-Score :  0.39243823276200424\n",
            "Running Average VAL Loss :  3.9555672717421024\n",
            "Running Average VAL F1-Score :  0.31848572990665697\n",
            "\n",
            "\n",
            "EPOCH  10\n"
          ]
        },
        {
          "output_type": "stream",
          "name": "stderr",
          "text": [
            "100%|██████████| 654/654 [00:13<00:00, 48.06it/s]\n"
          ]
        },
        {
          "output_type": "stream",
          "name": "stdout",
          "text": [
            "Running Average TRAIN Loss :  2.4681954010181837\n",
            "Running Average TRAIN F1-Score :  0.3939020379420814\n",
            "Running Average VAL Loss :  3.9607422449817395\n",
            "Running Average VAL F1-Score :  0.31821973029881306\n",
            "\n",
            "\n",
            "EPOCH  11\n"
          ]
        },
        {
          "output_type": "stream",
          "name": "stderr",
          "text": [
            "100%|██████████| 654/654 [00:13<00:00, 48.33it/s]\n"
          ]
        },
        {
          "output_type": "stream",
          "name": "stdout",
          "text": [
            "Running Average TRAIN Loss :  2.456712278568781\n",
            "Running Average TRAIN F1-Score :  0.39478586213122085\n",
            "Running Average VAL Loss :  3.967636526447453\n",
            "Running Average VAL F1-Score :  0.3196690723504106\n",
            "\n",
            "\n",
            "EPOCH  12\n"
          ]
        },
        {
          "output_type": "stream",
          "name": "stderr",
          "text": [
            "100%|██████████| 654/654 [00:13<00:00, 49.10it/s]\n"
          ]
        },
        {
          "output_type": "stream",
          "name": "stdout",
          "text": [
            "Running Average TRAIN Loss :  2.456894441482124\n",
            "Running Average TRAIN F1-Score :  0.3953939213756392\n",
            "Running Average VAL Loss :  3.96445290683067\n",
            "Running Average VAL F1-Score :  0.3200668943663166\n",
            "\n",
            "\n",
            "EPOCH  13\n"
          ]
        },
        {
          "output_type": "stream",
          "name": "stderr",
          "text": [
            "100%|██████████| 654/654 [00:13<00:00, 48.79it/s]\n"
          ]
        },
        {
          "output_type": "stream",
          "name": "stdout",
          "text": [
            "Running Average TRAIN Loss :  2.455391075997542\n",
            "Running Average TRAIN F1-Score :  0.3958772041290907\n",
            "Running Average VAL Loss :  3.969772218024894\n",
            "Running Average VAL F1-Score :  0.31912881421716244\n",
            "\n",
            "\n",
            "EPOCH  14\n"
          ]
        },
        {
          "output_type": "stream",
          "name": "stderr",
          "text": [
            "100%|██████████| 654/654 [00:13<00:00, 48.62it/s]\n"
          ]
        },
        {
          "output_type": "stream",
          "name": "stdout",
          "text": [
            "Running Average TRAIN Loss :  2.4549161494689615\n",
            "Running Average TRAIN F1-Score :  0.395369091301883\n",
            "Running Average VAL Loss :  3.9655438188004166\n",
            "Running Average VAL F1-Score :  0.31886712084077806\n",
            "\n",
            "\n",
            "EPOCH  15\n"
          ]
        },
        {
          "output_type": "stream",
          "name": "stderr",
          "text": [
            "100%|██████████| 654/654 [00:13<00:00, 48.16it/s]\n"
          ]
        },
        {
          "output_type": "stream",
          "name": "stdout",
          "text": [
            "Running Average TRAIN Loss :  2.4558892359427356\n",
            "Running Average TRAIN F1-Score :  0.3953366469626033\n",
            "Running Average VAL Loss :  3.966418452458839\n",
            "Running Average VAL F1-Score :  0.3216650024668811\n",
            "\n",
            "\n",
            "TRAINING FINISHED\n",
            "FINAL TRAINING SCORE :  0.3953366469626033\n",
            "FINAL VALIDATION SCORE :  0.3216650024668811\n"
          ]
        }
      ],
      "source": [
        "protbert_model, protbert_losses, protbert_scores = train_model(embeddings_source=\"T5\",model_type=\"linear\")"
      ]
    },
    {
      "cell_type": "code",
      "execution_count": 43,
      "metadata": {
        "colab": {
          "base_uri": "https://localhost:8080/",
          "height": 813
        },
        "id": "zz6-sk7v99QX",
        "outputId": "74bf587d-0ca6-481b-ab3d-07ab961c2d33"
      },
      "outputs": [
        {
          "output_type": "display_data",
          "data": {
            "text/plain": [
              "<Figure size 1000x400 with 1 Axes>"
            ],
            "image/png": "[encoded data removed]"
          },
          "metadata": {}
        },
        {
          "output_type": "display_data",
          "data": {
            "text/plain": [
              "<Figure size 1000x400 with 1 Axes>"
            ],
            "image/png": "[encoded data removed]"
          },
          "metadata": {}
        }
      ],
      "source": [
        "plt.figure(figsize = (10, 4))\n",
        "plt.plot(esm2_losses[\"val\"], label = \"ESM2\")\n",
        "plt.plot(t5_losses[\"val\"], label = \"T5\")\n",
        "plt.plot(protbert_losses[\"val\"], label = \"ProtBERT\")\n",
        "plt.plot(cat_losses[\"val\"], label = \"Concat\")\n",
        "plt.title(\"Validation Losses for # Vector Embeddings\")\n",
        "plt.xlabel(\"Epochs\")\n",
        "plt.ylabel(\"Average Loss\")\n",
        "plt.legend()\n",
        "plt.show()\n",
        "\n",
        "plt.figure(figsize = (10, 4))\n",
        "plt.plot(esm2_scores[\"val\"], label = \"ESM2\")\n",
        "plt.plot(t5_scores[\"val\"], label = \"T5\")\n",
        "plt.plot(protbert_scores[\"val\"], label = \"ProtBERT\")\n",
        "plt.plot(cat_scores[\"val\"], label = \"Concat\")\n",
        "plt.title(\"Validation F1-Scores for # Vector Embeddings\")\n",
        "plt.xlabel(\"Epochs\")\n",
        "plt.ylabel(\"Average F1-Score\")\n",
        "plt.legend()\n",
        "plt.show()"
      ]
    },
    {
      "cell_type": "markdown",
      "metadata": {
        "id": "dnh-ResZD_mp"
      },
      "source": [
        "## Make Predictions"
      ]
    },
    {
      "cell_type": "code",
      "execution_count": 34,
      "metadata": {
        "id": "3mTGiX1QMhLp"
      },
      "outputs": [],
      "source": [
        "def predict(embeddings_source):\n",
        "\n",
        "    test_dataset = ProteinSequenceDataset(datatype=\"test\", embeddings_source = embeddings_source)\n",
        "    test_dataloader = torch.utils.data.DataLoader(test_dataset, batch_size=1, shuffle=False)\n",
        "\n",
        "    if embeddings_source == \"T5\":\n",
        "        model = t5_model\n",
        "    if embeddings_source == \"ProtBERT\":\n",
        "        model = protbert_model\n",
        "    if embeddings_source == \"EMS2\":\n",
        "        model = esm2_model\n",
        "    if embeddings_source == \"Concat\":\n",
        "        model = cat_model\n",
        "\n",
        "    model.eval()\n",
        "\n",
        "    labels = pd.read_csv(CFG.train_terms_path, sep = \"\\t\")\n",
        "    top_terms = labels.groupby(\"term\")[\"EntryID\"].count().sort_values(ascending=False)\n",
        "    labels_names = [label.split('_')[-1] for label in label_cols]\n",
        "    print(\"GENERATE PREDICTION FOR TEST SET...\")\n",
        "\n",
        "    ids_ = np.empty(shape=(len(test_dataloader)*CFG.num_labels,), dtype=object)\n",
        "    go_terms_ = np.empty(shape=(len(test_dataloader)*CFG.num_labels,), dtype=object)\n",
        "    confs_ = np.empty(shape=(len(test_dataloader)*CFG.num_labels,), dtype=np.float32)\n",
        "\n",
        "    for i, (embed, id) in tqdm(enumerate(test_dataloader)):\n",
        "        embed = embed.to(CFG.device)\n",
        "        confs_[i*CFG.num_labels:(i+1)*CFG.num_labels] = torch.nn.functional.sigmoid(model(embed)).squeeze().detach().cpu().numpy()\n",
        "        ids_[i*CFG.num_labels:(i+1)*CFG.num_labels] = id[0]\n",
        "        go_terms_[i*CFG.num_labels:(i+1)*CFG.num_labels] = labels_names\n",
        "\n",
        "    submission_df = pd.DataFrame(data={\"Id\" : ids_, \"GO term\" : go_terms_, \"Confidence\" : confs_})\n",
        "    print(\"PREDICTIONS DONE\")\n",
        "    return submission_df"
      ]
    },
    {
      "cell_type": "code",
      "execution_count": 35,
      "metadata": {
        "colab": {
          "base_uri": "https://localhost:8080/"
        },
        "id": "-d0LIp9-EBm5",
        "outputId": "992362ba-cc28-45a1-8b7d-7cc236904673"
      },
      "outputs": [
        {
          "output_type": "stream",
          "name": "stdout",
          "text": [
            "GENERATE PREDICTION FOR TEST SET...\n"
          ]
        },
        {
          "output_type": "stream",
          "name": "stderr",
          "text": [
            "141865it [01:47, 1315.72it/s]\n"
          ]
        },
        {
          "output_type": "stream",
          "name": "stdout",
          "text": [
            "PREDICTIONS DONE\n"
          ]
        }
      ],
      "source": [
        "submission_df = predict(\"Concat\")"
      ]
    },
    {
      "cell_type": "code",
      "source": [
        "print(len(submission_df))\n",
        "print(len(submission_df[\"GO term\"].unique()))\n",
        "submission_df.head()"
      ],
      "metadata": {
        "colab": {
          "base_uri": "https://localhost:8080/",
          "height": 244
        },
        "id": "AQlGn3o_97y3",
        "outputId": "52f0bc05-ad63-41c4-8a83-eae4470fb47c"
      },
      "execution_count": 36,
      "outputs": [
        {
          "output_type": "stream",
          "name": "stdout",
          "text": [
            "4114085\n",
            "29\n"
          ]
        },
        {
          "output_type": "execute_result",
          "data": {
            "text/plain": [
              "       Id     GO term  Confidence\n",
              "0  Q9CQV8  GO:0005615    0.253148\n",
              "1  Q9CQV8  GO:0005634    0.780635\n",
              "2  Q9CQV8  GO:0005654    0.350068\n",
              "3  Q9CQV8  GO:0005730    0.013435\n",
              "4  Q9CQV8  GO:0005737    0.420651"
            ],
            "text/html": [
              "\n",
              "  <div id=\"df-22256011-f935-449e-9b25-d993855a5036\">\n",
              "    <div class=\"colab-df-container\">\n",
              "      <div>\n",
              "<style scoped>\n",
              "    .dataframe tbody tr th:only-of-type {\n",
              "        vertical-align: middle;\n",
              "    }\n",
              "\n",
              "    .dataframe tbody tr th {\n",
              "        vertical-align: top;\n",
              "    }\n",
              "\n",
              "    .dataframe thead th {\n",
              "        text-align: right;\n",
              "    }\n",
              "</style>\n",
              "<table border=\"1\" class=\"dataframe\">\n",
              "  <thead>\n",
              "    <tr style=\"text-align: right;\">\n",
              "      <th></th>\n",
              "      <th>Id</th>\n",
              "      <th>GO term</th>\n",
              "      <th>Confidence</th>\n",
              "    </tr>\n",
              "  </thead>\n",
              "  <tbody>\n",
              "    <tr>\n",
              "      <th>0</th>\n",
              "      <td>Q9CQV8</td>\n",
              "      <td>GO:0005615</td>\n",
              "      <td>0.253148</td>\n",
              "    </tr>\n",
              "    <tr>\n",
              "      <th>1</th>\n",
              "      <td>Q9CQV8</td>\n",
              "      <td>GO:0005634</td>\n",
              "      <td>0.780635</td>\n",
              "    </tr>\n",
              "    <tr>\n",
              "      <th>2</th>\n",
              "      <td>Q9CQV8</td>\n",
              "      <td>GO:0005654</td>\n",
              "      <td>0.350068</td>\n",
              "    </tr>\n",
              "    <tr>\n",
              "      <th>3</th>\n",
              "      <td>Q9CQV8</td>\n",
              "      <td>GO:0005730</td>\n",
              "      <td>0.013435</td>\n",
              "    </tr>\n",
              "    <tr>\n",
              "      <th>4</th>\n",
              "      <td>Q9CQV8</td>\n",
              "      <td>GO:0005737</td>\n",
              "      <td>0.420651</td>\n",
              "    </tr>\n",
              "  </tbody>\n",
              "</table>\n",
              "</div>\n",
              "      <button class=\"colab-df-convert\" onclick=\"convertToInteractive('df-22256011-f935-449e-9b25-d993855a5036')\"\n",
              "              title=\"Convert this dataframe to an interactive table.\"\n",
              "              style=\"display:none;\">\n",
              "        \n",
              "  <svg xmlns=\"http://www.w3.org/2000/svg\" height=\"24px\"viewBox=\"0 0 24 24\"\n",
              "       width=\"24px\">\n",
              "    <path d=\"M0 0h24v24H0V0z\" fill=\"none\"/>\n",
              "    <path d=\"M18.56 5.44l.94 2.06.94-2.06 2.06-.94-2.06-.94-.94-2.06-.94 2.06-2.06.94zm-11 1L8.5 8.5l.94-2.06 2.06-.94-2.06-.94L8.5 2.5l-.94 2.06-2.06.94zm10 10l.94 2.06.94-2.06 2.06-.94-2.06-.94-.94-2.06-.94 2.06-2.06.94z\"/><path d=\"M17.41 7.96l-1.37-1.37c-.4-.4-.92-.59-1.43-.59-.52 0-1.04.2-1.43.59L10.3 9.45l-7.72 7.72c-.78.78-.78 2.05 0 2.83L4 21.41c.39.39.9.59 1.41.59.51 0 1.02-.2 1.41-.59l7.78-7.78 2.81-2.81c.8-.78.8-2.07 0-2.86zM5.41 20L4 18.59l7.72-7.72 1.47 1.35L5.41 20z\"/>\n",
              "  </svg>\n",
              "      </button>\n",
              "      \n",
              "  <style>\n",
              "    .colab-df-container {\n",
              "      display:flex;\n",
              "      flex-wrap:wrap;\n",
              "      gap: 12px;\n",
              "    }\n",
              "\n",
              "    .colab-df-convert {\n",
              "      background-color: #E8F0FE;\n",
              "      border: none;\n",
              "      border-radius: 50%;\n",
              "      cursor: pointer;\n",
              "      display: none;\n",
              "      fill: #1967D2;\n",
              "      height: 32px;\n",
              "      padding: 0 0 0 0;\n",
              "      width: 32px;\n",
              "    }\n",
              "\n",
              "    .colab-df-convert:hover {\n",
              "      background-color: #E2EBFA;\n",
              "      box-shadow: 0px 1px 2px rgba(60, 64, 67, 0.3), 0px 1px 3px 1px rgba(60, 64, 67, 0.15);\n",
              "      fill: #174EA6;\n",
              "    }\n",
              "\n",
              "    [theme=dark] .colab-df-convert {\n",
              "      background-color: #3B4455;\n",
              "      fill: #D2E3FC;\n",
              "    }\n",
              "\n",
              "    [theme=dark] .colab-df-convert:hover {\n",
              "      background-color: #434B5C;\n",
              "      box-shadow: 0px 1px 3px 1px rgba(0, 0, 0, 0.15);\n",
              "      filter: drop-shadow(0px 1px 2px rgba(0, 0, 0, 0.3));\n",
              "      fill: #FFFFFF;\n",
              "    }\n",
              "  </style>\n",
              "\n",
              "      <script>\n",
              "        const buttonEl =\n",
              "          document.querySelector('#df-22256011-f935-449e-9b25-d993855a5036 button.colab-df-convert');\n",
              "        buttonEl.style.display =\n",
              "          google.colab.kernel.accessAllowed ? 'block' : 'none';\n",
              "\n",
              "        async function convertToInteractive(key) {\n",
              "          const element = document.querySelector('#df-22256011-f935-449e-9b25-d993855a5036');\n",
              "          const dataTable =\n",
              "            await google.colab.kernel.invokeFunction('convertToInteractive',\n",
              "                                                     [key], {});\n",
              "          if (!dataTable) return;\n",
              "\n",
              "          const docLinkHtml = 'Like what you see? Visit the ' +\n",
              "            '<a target=\"_blank\" href=https://colab.research.google.com/notebooks/data_table.ipynb>data table notebook</a>'\n",
              "            + ' to learn more about interactive tables.';\n",
              "          element.innerHTML = '';\n",
              "          dataTable['output_type'] = 'display_data';\n",
              "          await google.colab.output.renderOutput(dataTable, element);\n",
              "          const docLink = document.createElement('div');\n",
              "          docLink.innerHTML = docLinkHtml;\n",
              "          element.appendChild(docLink);\n",
              "        }\n",
              "      </script>\n",
              "    </div>\n",
              "  </div>\n",
              "  "
            ]
          },
          "metadata": {},
          "execution_count": 36
        }
      ]
    },
    {
      "cell_type": "code",
      "source": [
        "id_list = []\n",
        "go_term_list = []\n",
        "confidence_list = []\n",
        "for rw in submission_df.values:\n",
        "  edges = CCO_ordered_edges[rw[1]]\n",
        "  for edge in edges:\n",
        "    id_list.append(rw[0])\n",
        "    go_term_list.append(edge)\n",
        "    confidence_list.append(rw[2])"
      ],
      "metadata": {
        "id": "d78dRJCRFhIb"
      },
      "execution_count": 37,
      "outputs": []
    },
    {
      "cell_type": "code",
      "source": [
        "additional_labels = pd.DataFrame({'Id': id_list, 'GO term': go_term_list, 'Confidence': confidence_list})"
      ],
      "metadata": {
        "id": "HzCP3gbmBr-H"
      },
      "execution_count": 38,
      "outputs": []
    },
    {
      "cell_type": "code",
      "source": [
        "submission_df = pd.concat([submission_df, additional_labels]).drop_duplicates()"
      ],
      "metadata": {
        "id": "IqseLdHKGRKn"
      },
      "execution_count": 39,
      "outputs": []
    },
    {
      "cell_type": "code",
      "source": [
        "print(len(submission_df))\n",
        "print(len(submission_df[\"GO term\"].unique()))\n",
        "submission_df.head()"
      ],
      "metadata": {
        "colab": {
          "base_uri": "https://localhost:8080/",
          "height": 244
        },
        "id": "VDgTTFPGGeMs",
        "outputId": "2fb35f44-6cde-4e9f-938d-afdd416edbf8"
      },
      "execution_count": 40,
      "outputs": [
        {
          "output_type": "stream",
          "name": "stdout",
          "text": [
            "17165539\n",
            "41\n"
          ]
        },
        {
          "output_type": "execute_result",
          "data": {
            "text/plain": [
              "       Id     GO term  Confidence\n",
              "0  Q9CQV8  GO:0005615    0.253148\n",
              "1  Q9CQV8  GO:0005634    0.780635\n",
              "2  Q9CQV8  GO:0005654    0.350068\n",
              "3  Q9CQV8  GO:0005730    0.013435\n",
              "4  Q9CQV8  GO:0005737    0.420651"
            ],
            "text/html": [
              "\n",
              "  <div id=\"df-8e9ea924-6c8f-4bab-8fe8-e077f0b302a9\">\n",
              "    <div class=\"colab-df-container\">\n",
              "      <div>\n",
              "<style scoped>\n",
              "    .dataframe tbody tr th:only-of-type {\n",
              "        vertical-align: middle;\n",
              "    }\n",
              "\n",
              "    .dataframe tbody tr th {\n",
              "        vertical-align: top;\n",
              "    }\n",
              "\n",
              "    .dataframe thead th {\n",
              "        text-align: right;\n",
              "    }\n",
              "</style>\n",
              "<table border=\"1\" class=\"dataframe\">\n",
              "  <thead>\n",
              "    <tr style=\"text-align: right;\">\n",
              "      <th></th>\n",
              "      <th>Id</th>\n",
              "      <th>GO term</th>\n",
              "      <th>Confidence</th>\n",
              "    </tr>\n",
              "  </thead>\n",
              "  <tbody>\n",
              "    <tr>\n",
              "      <th>0</th>\n",
              "      <td>Q9CQV8</td>\n",
              "      <td>GO:0005615</td>\n",
              "      <td>0.253148</td>\n",
              "    </tr>\n",
              "    <tr>\n",
              "      <th>1</th>\n",
              "      <td>Q9CQV8</td>\n",
              "      <td>GO:0005634</td>\n",
              "      <td>0.780635</td>\n",
              "    </tr>\n",
              "    <tr>\n",
              "      <th>2</th>\n",
              "      <td>Q9CQV8</td>\n",
              "      <td>GO:0005654</td>\n",
              "      <td>0.350068</td>\n",
              "    </tr>\n",
              "    <tr>\n",
              "      <th>3</th>\n",
              "      <td>Q9CQV8</td>\n",
              "      <td>GO:0005730</td>\n",
              "      <td>0.013435</td>\n",
              "    </tr>\n",
              "    <tr>\n",
              "      <th>4</th>\n",
              "      <td>Q9CQV8</td>\n",
              "      <td>GO:0005737</td>\n",
              "      <td>0.420651</td>\n",
              "    </tr>\n",
              "  </tbody>\n",
              "</table>\n",
              "</div>\n",
              "      <button class=\"colab-df-convert\" onclick=\"convertToInteractive('df-8e9ea924-6c8f-4bab-8fe8-e077f0b302a9')\"\n",
              "              title=\"Convert this dataframe to an interactive table.\"\n",
              "              style=\"display:none;\">\n",
              "        \n",
              "  <svg xmlns=\"http://www.w3.org/2000/svg\" height=\"24px\"viewBox=\"0 0 24 24\"\n",
              "       width=\"24px\">\n",
              "    <path d=\"M0 0h24v24H0V0z\" fill=\"none\"/>\n",
              "    <path d=\"M18.56 5.44l.94 2.06.94-2.06 2.06-.94-2.06-.94-.94-2.06-.94 2.06-2.06.94zm-11 1L8.5 8.5l.94-2.06 2.06-.94-2.06-.94L8.5 2.5l-.94 2.06-2.06.94zm10 10l.94 2.06.94-2.06 2.06-.94-2.06-.94-.94-2.06-.94 2.06-2.06.94z\"/><path d=\"M17.41 7.96l-1.37-1.37c-.4-.4-.92-.59-1.43-.59-.52 0-1.04.2-1.43.59L10.3 9.45l-7.72 7.72c-.78.78-.78 2.05 0 2.83L4 21.41c.39.39.9.59 1.41.59.51 0 1.02-.2 1.41-.59l7.78-7.78 2.81-2.81c.8-.78.8-2.07 0-2.86zM5.41 20L4 18.59l7.72-7.72 1.47 1.35L5.41 20z\"/>\n",
              "  </svg>\n",
              "      </button>\n",
              "      \n",
              "  <style>\n",
              "    .colab-df-container {\n",
              "      display:flex;\n",
              "      flex-wrap:wrap;\n",
              "      gap: 12px;\n",
              "    }\n",
              "\n",
              "    .colab-df-convert {\n",
              "      background-color: #E8F0FE;\n",
              "      border: none;\n",
              "      border-radius: 50%;\n",
              "      cursor: pointer;\n",
              "      display: none;\n",
              "      fill: #1967D2;\n",
              "      height: 32px;\n",
              "      padding: 0 0 0 0;\n",
              "      width: 32px;\n",
              "    }\n",
              "\n",
              "    .colab-df-convert:hover {\n",
              "      background-color: #E2EBFA;\n",
              "      box-shadow: 0px 1px 2px rgba(60, 64, 67, 0.3), 0px 1px 3px 1px rgba(60, 64, 67, 0.15);\n",
              "      fill: #174EA6;\n",
              "    }\n",
              "\n",
              "    [theme=dark] .colab-df-convert {\n",
              "      background-color: #3B4455;\n",
              "      fill: #D2E3FC;\n",
              "    }\n",
              "\n",
              "    [theme=dark] .colab-df-convert:hover {\n",
              "      background-color: #434B5C;\n",
              "      box-shadow: 0px 1px 3px 1px rgba(0, 0, 0, 0.15);\n",
              "      filter: drop-shadow(0px 1px 2px rgba(0, 0, 0, 0.3));\n",
              "      fill: #FFFFFF;\n",
              "    }\n",
              "  </style>\n",
              "\n",
              "      <script>\n",
              "        const buttonEl =\n",
              "          document.querySelector('#df-8e9ea924-6c8f-4bab-8fe8-e077f0b302a9 button.colab-df-convert');\n",
              "        buttonEl.style.display =\n",
              "          google.colab.kernel.accessAllowed ? 'block' : 'none';\n",
              "\n",
              "        async function convertToInteractive(key) {\n",
              "          const element = document.querySelector('#df-8e9ea924-6c8f-4bab-8fe8-e077f0b302a9');\n",
              "          const dataTable =\n",
              "            await google.colab.kernel.invokeFunction('convertToInteractive',\n",
              "                                                     [key], {});\n",
              "          if (!dataTable) return;\n",
              "\n",
              "          const docLinkHtml = 'Like what you see? Visit the ' +\n",
              "            '<a target=\"_blank\" href=https://colab.research.google.com/notebooks/data_table.ipynb>data table notebook</a>'\n",
              "            + ' to learn more about interactive tables.';\n",
              "          element.innerHTML = '';\n",
              "          dataTable['output_type'] = 'display_data';\n",
              "          await google.colab.output.renderOutput(dataTable, element);\n",
              "          const docLink = document.createElement('div');\n",
              "          docLink.innerHTML = docLinkHtml;\n",
              "          element.appendChild(docLink);\n",
              "        }\n",
              "      </script>\n",
              "    </div>\n",
              "  </div>\n",
              "  "
            ]
          },
          "metadata": {},
          "execution_count": 40
        }
      ]
    },
    {
      "cell_type": "code",
      "execution_count": 41,
      "metadata": {
        "id": "kjTYlB0HGYs7"
      },
      "outputs": [],
      "source": [
        "submission_df.to_csv('submission.tsv', sep='\\t', index=False)"
      ]
    },
    {
      "cell_type": "code",
      "source": [],
      "metadata": {
        "id": "a-QuZsMDIU2Z"
      },
      "execution_count": 41,
      "outputs": []
    }
  ],
  "metadata": {
    "accelerator": "GPU",
    "colab": {
      "machine_shape": "hm",
      "provenance": [],
      "authorship_tag": "ABX9TyOu5efwvjtzRQAOi5hs2Z2g",
      "include_colab_link": true
    },
    "kernelspec": {
      "display_name": "Python 3",
      "name": "python3"
    },
    "language_info": {
      "name": "python"
    }
  },
  "nbformat": 4,
  "nbformat_minor": 0
}