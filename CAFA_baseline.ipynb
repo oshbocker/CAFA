{
  "cells": [
    {
      "cell_type": "markdown",
      "metadata": {
        "id": "view-in-github",
        "colab_type": "text"
      },
      "source": [
        "<a href=\"https://colab.research.google.com/github/oshbocker/CAFA/blob/main/CAFA_baseline.ipynb\" target=\"_parent\"><img src=\"https://colab.research.google.com/assets/colab-badge.svg\" alt=\"Open In Colab\"/></a>"
      ]
    },
    {
      "cell_type": "code",
      "execution_count": null,
      "metadata": {
        "id": "UFWWnN7G68P7"
      },
      "outputs": [],
      "source": [
        "!mkdir ~/.kaggle\n",
        "!touch ~/.kaggle/kaggle.json\n",
        "\n",
        "api_token = {\"username\":\"oshbocker\",\"key\":\"bb9c6a60ba5c39e689d8cf8d15cb8bca\"}\n",
        "\n",
        "import json\n",
        "\n",
        "with open('/root/.kaggle/kaggle.json', 'w') as file:\n",
        "    json.dump(api_token, file)\n",
        "\n",
        "!chmod 600 ~/.kaggle/kaggle.json"
      ]
    },
    {
      "cell_type": "code",
      "execution_count": null,
      "metadata": {
        "colab": {
          "base_uri": "https://localhost:8080/"
        },
        "id": "DNK1P6aAAVR3",
        "outputId": "25682c8f-2d62-46ac-9f1e-273abd710b4c"
      },
      "outputs": [
        {
          "output_type": "stream",
          "name": "stdout",
          "text": [
            "\u001b[2K     \u001b[90m━━━━━━━━━━━━━━━━━━━━━━━━━━━━━━━━━━━━━━━━\u001b[0m \u001b[32m3.1/3.1 MB\u001b[0m \u001b[31m57.9 MB/s\u001b[0m eta \u001b[36m0:00:00\u001b[0m\n",
            "\u001b[2K     \u001b[90m━━━━━━━━━━━━━━━━━━━━━━━━━━━━━━━━━━━━━━\u001b[0m \u001b[32m519.2/519.2 kB\u001b[0m \u001b[31m31.8 MB/s\u001b[0m eta \u001b[36m0:00:00\u001b[0m\n",
            "\u001b[?25h"
          ]
        }
      ],
      "source": [
        "!pip install obonet -q\n",
        "!pip install biopython -q\n",
        "!pip install torchmetrics -q"
      ]
    },
    {
      "cell_type": "code",
      "execution_count": null,
      "metadata": {
        "id": "WSawJTx67Cgs"
      },
      "outputs": [],
      "source": [
        "import os\n",
        "import torch\n",
        "\n",
        "from pathlib import Path\n",
        "\n",
        "\n",
        "iskaggle = os.environ.get('KAGGLE_KERNEL_RUN_TYPE', '')\n",
        "\n",
        "cafa_main_path = Path(\"cafa-5-protein-function-prediction\")\n",
        "cafa_clean_fasta_path = Path(\"viktorfairuschin/cafa-5-fasta-files\")\n",
        "esm2_path = Path(\"viktorfairuschin/cafa-5-ems-2-embeddings-numpy\")\n",
        "protbert_path = Path(\"henriupton/protbert-embeddings-for-cafa5\")\n",
        "t5_path = Path(\"sergeifironov/t5embeds\")\n",
        "\n",
        "data_paths = [cafa_clean_fasta_path, esm2_path, protbert_path, t5_path]\n",
        "\n",
        "if iskaggle:\n",
        "  content_dir = \"/kaggle/input\"\n",
        "else:\n",
        "  content_dir = \"/content\"\n",
        "\n",
        "class CFG:\n",
        "    train_go_obo_path: str = f\"{content_dir}/cafa-5-protein-function-prediction/Train/go-basic.obo\"\n",
        "    train_seq_fasta_path: str = f\"{content_dir}/cafa-5-protein-function-prediction/Train/train_sequences.fasta\"\n",
        "    train_terms_path: str = f\"{content_dir}/cafa-5-protein-function-prediction/Train/train_terms.tsv\"\n",
        "    train_taxonomy_path: str = f\"{content_dir}/cafa-5-protein-function-prediction/Train/train_taxonomy.tsv\"\n",
        "    train_ia_path: str = f\"{content_dir}/cafa-5-protein-function-prediction/IA.txt\"\n",
        "    test_sequences_path: str = f\"{content_dir}/Test (Targets)/testsuperset.fasta\"\n",
        "\n",
        "    num_labels = 500\n",
        "    n_epochs = 20\n",
        "    batch_size = 128\n",
        "    lr = 0.0005\n",
        "\n",
        "    device = torch.device('cuda' if torch.cuda.is_available() else 'cpu')\n"
      ]
    },
    {
      "cell_type": "code",
      "execution_count": null,
      "metadata": {
        "colab": {
          "base_uri": "https://localhost:8080/"
        },
        "id": "Pj8wOdbQ_Vvt",
        "outputId": "b760dfcd-2dfa-43b1-e3e2-763635a0bad8"
      },
      "outputs": [
        {
          "output_type": "stream",
          "name": "stdout",
          "text": [
            "cafa-5-protein-function-prediction\n",
            "Downloading cafa-5-protein-function-prediction.zip to /content\n"
          ]
        },
        {
          "output_type": "stream",
          "name": "stderr",
          "text": [
            "100%|██████████| 115M/115M [00:07<00:00, 16.5MB/s]\n"
          ]
        },
        {
          "output_type": "stream",
          "name": "stdout",
          "text": [
            "\n",
            "viktorfairuschin/cafa-5-fasta-files\n",
            "viktorfairuschin/cafa-5-ems-2-embeddings-numpy\n",
            "henriupton/protbert-embeddings-for-cafa5\n",
            "sergeifironov/t5embeds\n"
          ]
        }
      ],
      "source": [
        "if not iskaggle:\n",
        "  import zipfile,kaggle\n",
        "  if not cafa_main_path.exists():\n",
        "    print(cafa_main_path)\n",
        "    kaggle.api.competition_download_cli(str(cafa_main_path))\n",
        "    zipfile.ZipFile(f'{cafa_main_path}.zip').extractall(cafa_main_path)\n",
        "  for data_path in data_paths:\n",
        "    if not data_path.exists():\n",
        "      print(data_path)\n",
        "      kaggle.api.dataset_download_files(str(data_path))\n",
        "      zipfile.ZipFile(f'{data_path.name}.zip').extractall(data_path.name)"
      ]
    },
    {
      "cell_type": "code",
      "execution_count": null,
      "metadata": {
        "id": "3aXZhbD2BZ-5"
      },
      "outputs": [],
      "source": [
        "import obonet\n",
        "import time\n",
        "\n",
        "import networkx as nx\n",
        "import pandas as pd\n",
        "import numpy as np\n",
        "from Bio import SeqIO\n",
        "from tqdm import tqdm\n",
        "import matplotlib.pyplot as plt\n",
        "plt.style.use('ggplot')\n",
        "\n",
        "# TORCH MODULES FOR METRICS COMPUTATION :\n",
        "import torch\n",
        "from torch.utils.data import Dataset\n",
        "from torch import nn\n",
        "from torch.utils.data import random_split\n",
        "from torch.optim.lr_scheduler import ReduceLROnPlateau\n",
        "from torchmetrics.classification import MultilabelF1Score\n",
        "from torchmetrics.classification import MultilabelAccuracy"
      ]
    },
    {
      "cell_type": "code",
      "execution_count": null,
      "metadata": {
        "id": "sEKYAk-F_SNB"
      },
      "outputs": [],
      "source": [
        "graph = obonet.read_obo(CFG.train_go_obo_path)"
      ]
    },
    {
      "cell_type": "code",
      "execution_count": null,
      "metadata": {
        "id": "WeE95EkqAyJt"
      },
      "outputs": [],
      "source": [
        "# Information Accretion values for terms\n",
        "ia_dict = {}\n",
        "with open(CFG.train_ia_path) as f:\n",
        "    for line in f:\n",
        "        (key, value) = line.split(\"\\t\")\n",
        "        ia_dict[key] = float(value.replace(\"\\n\",\"\"))"
      ]
    },
    {
      "cell_type": "code",
      "execution_count": null,
      "metadata": {
        "colab": {
          "base_uri": "https://localhost:8080/"
        },
        "id": "DbYo5BvpBUq6",
        "outputId": "50b7f85a-3448-4cb9-c52c-75c072afed76"
      },
      "outputs": [
        {
          "output_type": "stream",
          "name": "stdout",
          "text": [
            "27941 4042 11262 43245\n"
          ]
        }
      ],
      "source": [
        "subontology_roots = {'BPO':'GO:0008150',\n",
        "                     'CCO':'GO:0005575',\n",
        "                     'MFO':'GO:0003674'}\n",
        "\n",
        "BPO_len = len(nx.ancestors(graph, subontology_roots['BPO']))\n",
        "CCO_len = len(nx.ancestors(graph, subontology_roots['CCO']))\n",
        "MFO_len = len(nx.ancestors(graph, subontology_roots['MFO']))\n",
        "print(BPO_len, CCO_len, MFO_len, BPO_len + CCO_len + MFO_len)"
      ]
    },
    {
      "cell_type": "code",
      "execution_count": null,
      "metadata": {
        "colab": {
          "base_uri": "https://localhost:8080/",
          "height": 382
        },
        "id": "6IfEKF4KBX75",
        "outputId": "31fc43f1-2dce-4073-d62c-5bbca95a4e94"
      },
      "outputs": [
        {
          "output_type": "stream",
          "name": "stdout",
          "text": [
            "(5363863, 4)\n"
          ]
        },
        {
          "output_type": "execute_result",
          "data": {
            "text/plain": [
              "      EntryID        term aspect        ia\n",
              "0  A0A009IHW8  GO:0008152    BPO  1.598544\n",
              "1  A0A009IHW8  GO:0034655    BPO  0.042274\n",
              "2  A0A009IHW8  GO:0072523    BPO  0.083901\n",
              "3  A0A009IHW8  GO:0044270    BPO  0.281155\n",
              "4  A0A009IHW8  GO:0006753    BPO  0.013844\n",
              "5  A0A009IHW8  GO:1901292    BPO  0.000000\n",
              "6  A0A009IHW8  GO:0044237    BPO  0.103670\n",
              "7  A0A009IHW8  GO:1901360    BPO  1.237575\n",
              "8  A0A009IHW8  GO:0008150    BPO  0.000000\n",
              "9  A0A009IHW8  GO:1901564    BPO  0.557385"
            ],
            "text/html": [
              "\n",
              "  <div id=\"df-f9544458-ac91-4c14-9f54-104e16b94ad3\">\n",
              "    <div class=\"colab-df-container\">\n",
              "      <div>\n",
              "<style scoped>\n",
              "    .dataframe tbody tr th:only-of-type {\n",
              "        vertical-align: middle;\n",
              "    }\n",
              "\n",
              "    .dataframe tbody tr th {\n",
              "        vertical-align: top;\n",
              "    }\n",
              "\n",
              "    .dataframe thead th {\n",
              "        text-align: right;\n",
              "    }\n",
              "</style>\n",
              "<table border=\"1\" class=\"dataframe\">\n",
              "  <thead>\n",
              "    <tr style=\"text-align: right;\">\n",
              "      <th></th>\n",
              "      <th>EntryID</th>\n",
              "      <th>term</th>\n",
              "      <th>aspect</th>\n",
              "      <th>ia</th>\n",
              "    </tr>\n",
              "  </thead>\n",
              "  <tbody>\n",
              "    <tr>\n",
              "      <th>0</th>\n",
              "      <td>A0A009IHW8</td>\n",
              "      <td>GO:0008152</td>\n",
              "      <td>BPO</td>\n",
              "      <td>1.598544</td>\n",
              "    </tr>\n",
              "    <tr>\n",
              "      <th>1</th>\n",
              "      <td>A0A009IHW8</td>\n",
              "      <td>GO:0034655</td>\n",
              "      <td>BPO</td>\n",
              "      <td>0.042274</td>\n",
              "    </tr>\n",
              "    <tr>\n",
              "      <th>2</th>\n",
              "      <td>A0A009IHW8</td>\n",
              "      <td>GO:0072523</td>\n",
              "      <td>BPO</td>\n",
              "      <td>0.083901</td>\n",
              "    </tr>\n",
              "    <tr>\n",
              "      <th>3</th>\n",
              "      <td>A0A009IHW8</td>\n",
              "      <td>GO:0044270</td>\n",
              "      <td>BPO</td>\n",
              "      <td>0.281155</td>\n",
              "    </tr>\n",
              "    <tr>\n",
              "      <th>4</th>\n",
              "      <td>A0A009IHW8</td>\n",
              "      <td>GO:0006753</td>\n",
              "      <td>BPO</td>\n",
              "      <td>0.013844</td>\n",
              "    </tr>\n",
              "    <tr>\n",
              "      <th>5</th>\n",
              "      <td>A0A009IHW8</td>\n",
              "      <td>GO:1901292</td>\n",
              "      <td>BPO</td>\n",
              "      <td>0.000000</td>\n",
              "    </tr>\n",
              "    <tr>\n",
              "      <th>6</th>\n",
              "      <td>A0A009IHW8</td>\n",
              "      <td>GO:0044237</td>\n",
              "      <td>BPO</td>\n",
              "      <td>0.103670</td>\n",
              "    </tr>\n",
              "    <tr>\n",
              "      <th>7</th>\n",
              "      <td>A0A009IHW8</td>\n",
              "      <td>GO:1901360</td>\n",
              "      <td>BPO</td>\n",
              "      <td>1.237575</td>\n",
              "    </tr>\n",
              "    <tr>\n",
              "      <th>8</th>\n",
              "      <td>A0A009IHW8</td>\n",
              "      <td>GO:0008150</td>\n",
              "      <td>BPO</td>\n",
              "      <td>0.000000</td>\n",
              "    </tr>\n",
              "    <tr>\n",
              "      <th>9</th>\n",
              "      <td>A0A009IHW8</td>\n",
              "      <td>GO:1901564</td>\n",
              "      <td>BPO</td>\n",
              "      <td>0.557385</td>\n",
              "    </tr>\n",
              "  </tbody>\n",
              "</table>\n",
              "</div>\n",
              "      <button class=\"colab-df-convert\" onclick=\"convertToInteractive('df-f9544458-ac91-4c14-9f54-104e16b94ad3')\"\n",
              "              title=\"Convert this dataframe to an interactive table.\"\n",
              "              style=\"display:none;\">\n",
              "        \n",
              "  <svg xmlns=\"http://www.w3.org/2000/svg\" height=\"24px\"viewBox=\"0 0 24 24\"\n",
              "       width=\"24px\">\n",
              "    <path d=\"M0 0h24v24H0V0z\" fill=\"none\"/>\n",
              "    <path d=\"M18.56 5.44l.94 2.06.94-2.06 2.06-.94-2.06-.94-.94-2.06-.94 2.06-2.06.94zm-11 1L8.5 8.5l.94-2.06 2.06-.94-2.06-.94L8.5 2.5l-.94 2.06-2.06.94zm10 10l.94 2.06.94-2.06 2.06-.94-2.06-.94-.94-2.06-.94 2.06-2.06.94z\"/><path d=\"M17.41 7.96l-1.37-1.37c-.4-.4-.92-.59-1.43-.59-.52 0-1.04.2-1.43.59L10.3 9.45l-7.72 7.72c-.78.78-.78 2.05 0 2.83L4 21.41c.39.39.9.59 1.41.59.51 0 1.02-.2 1.41-.59l7.78-7.78 2.81-2.81c.8-.78.8-2.07 0-2.86zM5.41 20L4 18.59l7.72-7.72 1.47 1.35L5.41 20z\"/>\n",
              "  </svg>\n",
              "      </button>\n",
              "      \n",
              "  <style>\n",
              "    .colab-df-container {\n",
              "      display:flex;\n",
              "      flex-wrap:wrap;\n",
              "      gap: 12px;\n",
              "    }\n",
              "\n",
              "    .colab-df-convert {\n",
              "      background-color: #E8F0FE;\n",
              "      border: none;\n",
              "      border-radius: 50%;\n",
              "      cursor: pointer;\n",
              "      display: none;\n",
              "      fill: #1967D2;\n",
              "      height: 32px;\n",
              "      padding: 0 0 0 0;\n",
              "      width: 32px;\n",
              "    }\n",
              "\n",
              "    .colab-df-convert:hover {\n",
              "      background-color: #E2EBFA;\n",
              "      box-shadow: 0px 1px 2px rgba(60, 64, 67, 0.3), 0px 1px 3px 1px rgba(60, 64, 67, 0.15);\n",
              "      fill: #174EA6;\n",
              "    }\n",
              "\n",
              "    [theme=dark] .colab-df-convert {\n",
              "      background-color: #3B4455;\n",
              "      fill: #D2E3FC;\n",
              "    }\n",
              "\n",
              "    [theme=dark] .colab-df-convert:hover {\n",
              "      background-color: #434B5C;\n",
              "      box-shadow: 0px 1px 3px 1px rgba(0, 0, 0, 0.15);\n",
              "      filter: drop-shadow(0px 1px 2px rgba(0, 0, 0, 0.3));\n",
              "      fill: #FFFFFF;\n",
              "    }\n",
              "  </style>\n",
              "\n",
              "      <script>\n",
              "        const buttonEl =\n",
              "          document.querySelector('#df-f9544458-ac91-4c14-9f54-104e16b94ad3 button.colab-df-convert');\n",
              "        buttonEl.style.display =\n",
              "          google.colab.kernel.accessAllowed ? 'block' : 'none';\n",
              "\n",
              "        async function convertToInteractive(key) {\n",
              "          const element = document.querySelector('#df-f9544458-ac91-4c14-9f54-104e16b94ad3');\n",
              "          const dataTable =\n",
              "            await google.colab.kernel.invokeFunction('convertToInteractive',\n",
              "                                                     [key], {});\n",
              "          if (!dataTable) return;\n",
              "\n",
              "          const docLinkHtml = 'Like what you see? Visit the ' +\n",
              "            '<a target=\"_blank\" href=https://colab.research.google.com/notebooks/data_table.ipynb>data table notebook</a>'\n",
              "            + ' to learn more about interactive tables.';\n",
              "          element.innerHTML = '';\n",
              "          dataTable['output_type'] = 'display_data';\n",
              "          await google.colab.output.renderOutput(dataTable, element);\n",
              "          const docLink = document.createElement('div');\n",
              "          docLink.innerHTML = docLinkHtml;\n",
              "          element.appendChild(docLink);\n",
              "        }\n",
              "      </script>\n",
              "    </div>\n",
              "  </div>\n",
              "  "
            ]
          },
          "metadata": {},
          "execution_count": 9
        }
      ],
      "source": [
        "train_terms = pd.read_csv(CFG.train_terms_path, sep=\"\\t\")\n",
        "train_terms['ia'] = train_terms['term'].apply(lambda x: ia_dict[x])\n",
        "print(train_terms.shape)\n",
        "train_terms.head(10)"
      ]
    },
    {
      "cell_type": "markdown",
      "metadata": {
        "id": "T7AYt0PhBt9M"
      },
      "source": [
        "## Get the leaf predictions for each protein\n",
        "A leaf prediction is a GO term that doesn't have any children that are also predictions for the protein."
      ]
    },
    {
      "cell_type": "code",
      "execution_count": null,
      "metadata": {
        "id": "l9mcM5F6BfEC"
      },
      "outputs": [],
      "source": [
        "def get_leaf_labels(train_terms, aspect):\n",
        "    # Group by protein and get a list of all go term predictions\n",
        "    protein_list_go_term = train_terms[train_terms['aspect'] == aspect].groupby('EntryID')['term'].apply(list)\n",
        "\n",
        "    leaf_labels = {}\n",
        "    for i, protein in enumerate(protein_list_go_term.index):\n",
        "        test_terms = set(protein_list_go_term[protein])\n",
        "        descendants = set()\n",
        "        for term in test_terms:\n",
        "            descendants.update(nx.descendants(graph, term))\n",
        "\n",
        "        specific_labels = test_terms.difference(descendants)\n",
        "        leaf_labels[protein] = list(specific_labels)\n",
        "\n",
        "    return leaf_labels\n",
        "\n",
        "from collections import deque\n",
        "\n",
        "# Get ordered list of all ancestors\n",
        "def leaf_label_ancestors(graph, leaf_labels):\n",
        "    ordered_edges_dict = {}\n",
        "    for label in leaf_labels:\n",
        "        # Get ancestors\n",
        "        ordered_edges = deque()\n",
        "        node_is_root = False\n",
        "        prev_node_id = label\n",
        "        while node_is_root == False:\n",
        "            node = graph.nodes[prev_node_id]\n",
        "            node_is_root = 'is_a' not in node\n",
        "            if not node_is_root:\n",
        "                prev_node_id = node['is_a'][0]\n",
        "                ordered_edges.appendleft(prev_node_id)\n",
        "        ordered_edges_dict[label] = ordered_edges\n",
        "\n",
        "    return ordered_edges_dict"
      ]
    },
    {
      "cell_type": "code",
      "execution_count": null,
      "metadata": {
        "colab": {
          "base_uri": "https://localhost:8080/"
        },
        "id": "R_L8bA1lB6U1",
        "outputId": "8854f3c6-fee2-4526-81cc-29535eaf05d5"
      },
      "outputs": [
        {
          "output_type": "stream",
          "name": "stdout",
          "text": [
            "92912\n",
            "2763\n"
          ]
        }
      ],
      "source": [
        "CCO_leaf_labels = get_leaf_labels(train_terms, 'CCO')\n",
        "print(len(CCO_leaf_labels.values()))\n",
        "CCO_all_leaf_labels = np.unique(np.concatenate(list(CCO_leaf_labels.values())))\n",
        "print(len(CCO_all_leaf_labels))\n",
        "CCO_nodes = [n for n,v in graph.nodes(data=True) if v['namespace'] == 'cellular_component']\n",
        "CCO_ordered_edges = leaf_label_ancestors(graph, CCO_nodes)"
      ]
    },
    {
      "cell_type": "code",
      "execution_count": null,
      "metadata": {
        "id": "w4wXROcOCCxH"
      },
      "outputs": [],
      "source": [
        "# Get the first node label\n",
        "data_with_labels = []\n",
        "# Get all CCO labeled proteins with leaf labels\n",
        "for protein, label_list in CCO_leaf_labels.items():\n",
        "    for label in label_list:\n",
        "        data_with_labels.append({'protein': protein,\n",
        "                                 'label': label,\n",
        "                                 'ordered_edges': CCO_ordered_edges[label]})"
      ]
    },
    {
      "cell_type": "code",
      "execution_count": null,
      "metadata": {
        "id": "tvLok2i0CHNz"
      },
      "outputs": [],
      "source": [
        "def get_next_label(rw, depth=1):\n",
        "    if not rw['labeled'] and len(rw['ordered_edges']) > depth:\n",
        "        return rw['ordered_edges'][-depth]\n",
        "    else:\n",
        "        return rw['balanced_label']\n",
        "\n",
        "def is_final_balanced_label(rw, balanced_labels, depth=1):\n",
        "    if not rw['labeled']:\n",
        "        return (rw['balanced_label'] in balanced_labels) or (len(rw['ordered_edges']) == depth)\n",
        "    else:\n",
        "        return True\n",
        "\n",
        "def get_balanced_labels(label_df, label_count_threshold):\n",
        "    df = label_df.copy()\n",
        "    balanced_labels = set([label for label, count in df['label'].value_counts().items()\n",
        "                           if count >= label_count_threshold])\n",
        "    df['labeled'] = df['label'].apply(lambda x: x in balanced_labels)\n",
        "    df['balanced_label'] = df['label'] # df.apply(lambda x: x['label'] if x['labeled'] == True else None, axis=1)\n",
        "    print(sum(df['labeled'])/df.shape[0])\n",
        "    print(len(balanced_labels))\n",
        "    print(df['balanced_label'].value_counts())\n",
        "    depth = 1\n",
        "    while sum(df['labeled'])/df.shape[0] < 1:\n",
        "        df['balanced_label'] = df.apply(lambda x: get_next_label(x, depth=depth), axis=1)\n",
        "        balanced_labels = set([label for label, count in df['balanced_label'].value_counts().items()\n",
        "                                   if count >= label_count_threshold])\n",
        "        df['labeled'] = df.apply(lambda x: is_final_balanced_label(x, balanced_labels, depth=depth), axis=1)\n",
        "        depth += 1\n",
        "        print(sum(df['labeled'])/df.shape[0])\n",
        "        print(len(balanced_labels))\n",
        "        print(df['balanced_label'].value_counts())\n",
        "\n",
        "    return df"
      ]
    },
    {
      "cell_type": "code",
      "execution_count": null,
      "metadata": {
        "colab": {
          "base_uri": "https://localhost:8080/"
        },
        "id": "Fj7-8sgYCj45",
        "outputId": "ec330cf5-9efc-464b-adcb-da4a12768710"
      },
      "outputs": [
        {
          "output_type": "stream",
          "name": "stdout",
          "text": [
            "0.612107597944911\n",
            "47\n",
            "GO:0005829    16981\n",
            "GO:0005634    12661\n",
            "GO:0005886    11509\n",
            "GO:0005737     8335\n",
            "GO:0005654     8160\n",
            "              ...  \n",
            "GO:1990332        1\n",
            "GO:0009316        1\n",
            "GO:0099571        1\n",
            "GO:0044186        1\n",
            "GO:0071202        1\n",
            "Name: balanced_label, Length: 2763, dtype: int64\n",
            "0.7935857682819184\n",
            "65\n",
            "GO:0005829    16981\n",
            "GO:0005634    12725\n",
            "GO:0005886    11823\n",
            "GO:0110165    10149\n",
            "GO:0005737     8406\n",
            "              ...  \n",
            "GO:0035449        1\n",
            "GO:0044174        1\n",
            "GO:0005879        1\n",
            "GO:0044384        1\n",
            "GO:0098539        1\n",
            "Name: balanced_label, Length: 690, dtype: int64\n",
            "0.9047031663762081\n",
            "71\n",
            "GO:0005829    17050\n",
            "GO:0110165    14188\n",
            "GO:0005634    12910\n",
            "GO:0005886    11823\n",
            "GO:0005737     8418\n",
            "              ...  \n",
            "GO:0031252        1\n",
            "GO:0032994        1\n",
            "GO:0035448        1\n",
            "GO:0033176        1\n",
            "GO:1990077        1\n",
            "Name: balanced_label, Length: 294, dtype: int64\n",
            "0.961806577190322\n",
            "72\n",
            "GO:0005829    17050\n",
            "GO:0110165    16038\n",
            "GO:0005634    12938\n",
            "GO:0005886    11823\n",
            "GO:0005737     8420\n",
            "              ...  \n",
            "GO:0032432        1\n",
            "GO:0030139        1\n",
            "GO:0016469        1\n",
            "GO:0032838        1\n",
            "GO:0031312        1\n",
            "Name: balanced_label, Length: 159, dtype: int64\n",
            "0.9891643844917729\n",
            "73\n",
            "GO:0110165    17985\n",
            "GO:0005829    17050\n",
            "GO:0005634    12938\n",
            "GO:0005886    11823\n",
            "GO:0032991     8793\n",
            "              ...  \n",
            "GO:0031983        4\n",
            "GO:0042571        3\n",
            "GO:0033646        3\n",
            "GO:1902562        3\n",
            "GO:0099568        1\n",
            "Name: balanced_label, Length: 101, dtype: int64\n",
            "0.9962202657130571\n",
            "73\n",
            "GO:0110165    18411\n",
            "GO:0005829    17050\n",
            "GO:0005634    12938\n",
            "GO:0005886    11823\n",
            "GO:0032991     8933\n",
            "              ...  \n",
            "GO:0031248        6\n",
            "GO:0043233        4\n",
            "GO:0033643        3\n",
            "GO:0019814        3\n",
            "GO:0000123        3\n",
            "Name: balanced_label, Length: 86, dtype: int64\n",
            "0.9998981508725076\n",
            "73\n",
            "GO:0110165    18775\n",
            "GO:0005829    17050\n",
            "GO:0005634    12938\n",
            "GO:0005886    11823\n",
            "GO:0032991     8942\n",
            "              ...  \n",
            "GO:0044423      299\n",
            "GO:1990234        8\n",
            "GO:0031974        4\n",
            "GO:0018995        3\n",
            "GO:0031248        3\n",
            "Name: balanced_label, Length: 78, dtype: int64\n",
            "1.0\n",
            "73\n",
            "GO:0110165    18782\n",
            "GO:0005829    17050\n",
            "GO:0005634    12938\n",
            "GO:0005886    11823\n",
            "GO:0032991     8942\n",
            "              ...  \n",
            "GO:0005759      554\n",
            "GO:0016323      538\n",
            "GO:0036064      527\n",
            "GO:0005802      524\n",
            "GO:0044423      299\n",
            "Name: balanced_label, Length: 74, dtype: int64\n"
          ]
        }
      ],
      "source": [
        "CCO_df = pd.DataFrame(data_with_labels)\n",
        "\n",
        "new_CCO_df = get_balanced_labels(CCO_df, 500)"
      ]
    },
    {
      "cell_type": "markdown",
      "metadata": {
        "id": "1nUmpeIoH-PH"
      },
      "source": [
        "## Classify selected nodes of CCO"
      ]
    },
    {
      "cell_type": "code",
      "execution_count": null,
      "metadata": {
        "id": "glJt_XKeCmtw"
      },
      "outputs": [],
      "source": [
        "from sklearn.model_selection import train_test_split"
      ]
    },
    {
      "cell_type": "code",
      "execution_count": null,
      "metadata": {
        "colab": {
          "base_uri": "https://localhost:8080/"
        },
        "id": "JajEKGU4IB-a",
        "outputId": "28185f9d-3b93-48eb-c2e8-e6f000d88a6b"
      },
      "outputs": [
        {
          "output_type": "stream",
          "name": "stdout",
          "text": [
            "Train label 74329\n",
            "Test label 18583\n"
          ]
        }
      ],
      "source": [
        "ohe_CCO_df = pd.get_dummies(new_CCO_df, prefix=['balanced_label'], columns=['balanced_label'], drop_first=True)\n",
        "label_cols = [c for c in ohe_CCO_df.columns if 'balanced_label_' in c]\n",
        "label_df = ohe_CCO_df.groupby('protein').sum(numeric_only=True)[label_cols].clip(0,1)\n",
        "label_values = list(label_df.values)\n",
        "label_ids = list(label_df.index)\n",
        "labels_df = pd.DataFrame(data={\"EntryID\": label_ids, \"labels_vect\": label_values})\n",
        "\n",
        "# Split into train, val, test\n",
        "# X_train, X_test, y_train, y_test = train_test_split(label_ids,\n",
        "#                                                     label_values,\n",
        "#                                                     test_size = 0.2)\n",
        "# print(\"Train label\", len(y_train))\n",
        "# print(\"Test label\", len(y_test))"
      ]
    },
    {
      "cell_type": "code",
      "execution_count": null,
      "metadata": {
        "id": "t2hK1aL8JClo"
      },
      "outputs": [],
      "source": [
        "# Directories for the different embedding vectors :\n",
        "embeds_map = {\n",
        "    \"T5\" : \"t5embeds\",\n",
        "    \"ProtBERT\" : \"protbert-embeddings-for-cafa5\",\n",
        "    \"ESM2\" : \"cafa-5-ems-2-embeddings-numpy\"\n",
        "}\n",
        "\n",
        "# Length of the different embedding vectors :\n",
        "embeds_dim = {\n",
        "    \"T5\" : 1024,\n",
        "    \"ProtBERT\" : 1024,\n",
        "    \"ESM2\" : 1280,\n",
        "    \"Concat\": 1024+1024,\n",
        "}"
      ]
    },
    {
      "cell_type": "code",
      "execution_count": null,
      "metadata": {
        "id": "tvDhStmfJHbA"
      },
      "outputs": [],
      "source": [
        "class ProteinSequenceDataset(Dataset):\n",
        "\n",
        "    def __init__(self, datatype, embeddings_source):\n",
        "        super(ProteinSequenceDataset).__init__()\n",
        "        self.datatype = datatype\n",
        "\n",
        "        if embeddings_source in [\"ProtBERT\", \"ESM2\"]:\n",
        "            embeds = np.load(f\"{content_dir}/\"+embeds_map[embeddings_source]+\"/\"+datatype+\"_embeddings.npy\")\n",
        "            ids = np.load(f\"{content_dir}/\"+embeds_map[embeddings_source]+\"/\"+datatype+\"_ids.npy\")\n",
        "\n",
        "        if embeddings_source == \"T5\":\n",
        "            embeds = np.load(f\"{content_dir}/\"+embeds_map[embeddings_source]+\"/\"+datatype+\"_embeds.npy\")\n",
        "            ids = np.load(f\"{content_dir}/\"+embeds_map[embeddings_source]+\"/\"+datatype+\"_ids.npy\")\n",
        "\n",
        "        if embeddings_source == \"Concat\":\n",
        "            bert_embeds = np.load(f\"{content_dir}/\"+embeds_map[\"ProtBERT\"]+\"/\"+datatype+\"_embeddings.npy\")\n",
        "            bert_ids = np.load(f\"{content_dir}/\"+embeds_map[\"ProtBERT\"]+\"/\"+datatype+\"_ids.npy\")\n",
        "            esm2_embeds = np.load(f\"{content_dir}/\"+embeds_map[\"ESM2\"]+\"/\"+datatype+\"_embeddings.npy\")\n",
        "            esm2_ids = np.load(f\"{content_dir}/\"+embeds_map[\"ESM2\"]+\"/\"+datatype+\"_ids.npy\")\n",
        "            t5_embeds = np.load(f\"{content_dir}/\"+embeds_map[\"T5\"]+\"/\"+datatype+\"_embeds.npy\")\n",
        "            t5_ids = np.load(f\"{content_dir}/\"+embeds_map[\"T5\"]+\"/\"+datatype+\"_ids.npy\")\n",
        "            embeds = np.concatenate([bert_embeds, t5_embeds], axis=1)\n",
        "            embeds_list = []\n",
        "            for l in range(embeds.shape[0]):\n",
        "                embeds_list.append(embeds[l,:])\n",
        "            self.df = pd.DataFrame(data={\"EntryID\": t5_ids, \"embed\" : embeds_list})\n",
        "        else:\n",
        "            embeds_list = []\n",
        "            for l in range(embeds.shape[0]):\n",
        "                embeds_list.append(embeds[l,:])\n",
        "            self.df = pd.DataFrame(data={\"EntryID\": ids, \"embed\" : embeds_list})\n",
        "\n",
        "\n",
        "        if datatype==\"train\":\n",
        "            self.df = self.df.merge(labels_df, on=\"EntryID\")\n",
        "\n",
        "    def __len__(self):\n",
        "        return len(self.df)\n",
        "\n",
        "    def __getitem__(self, index):\n",
        "        embed = torch.tensor(self.df.iloc[index][\"embed\"] , dtype = torch.float32)\n",
        "        if self.datatype==\"train\":\n",
        "            targets = torch.tensor(self.df.iloc[index][\"labels_vect\"], dtype = torch.float32)\n",
        "            return embed, targets\n",
        "        if self.datatype==\"test\":\n",
        "            id = self.df.iloc[index][\"EntryID\"]\n",
        "            return embed, id"
      ]
    },
    {
      "cell_type": "code",
      "execution_count": null,
      "metadata": {
        "id": "Vgq_exbhgDxR"
      },
      "outputs": [],
      "source": [
        "datatype = \"train\"\n",
        "bert_embeds = np.load(f\"{content_dir}/\"+embeds_map[\"ProtBERT\"]+\"/\"+datatype+\"_embeddings.npy\")\n",
        "bert_ids = np.load(f\"{content_dir}/\"+embeds_map[\"ProtBERT\"]+\"/\"+datatype+\"_ids.npy\")\n",
        "esm2_embeds = np.load(f\"{content_dir}/\"+embeds_map[\"ESM2\"]+\"/\"+datatype+\"_embeddings.npy\")\n",
        "esm2_ids = np.load(f\"{content_dir}/\"+embeds_map[\"ESM2\"]+\"/\"+datatype+\"_ids.npy\")\n",
        "t5_embeds = np.load(f\"{content_dir}/\"+embeds_map[\"T5\"]+\"/\"+datatype+\"_embeds.npy\")\n",
        "t5_ids = np.load(f\"{content_dir}/\"+embeds_map[\"T5\"]+\"/\"+datatype+\"_ids.npy\")"
      ]
    },
    {
      "cell_type": "code",
      "execution_count": null,
      "metadata": {
        "colab": {
          "base_uri": "https://localhost:8080/"
        },
        "id": "tOpvVYZYgu5_",
        "outputId": "575b1575-520e-4c91-8072-97cc12cb61df"
      },
      "outputs": [
        {
          "output_type": "execute_result",
          "data": {
            "text/plain": [
              "(142246, 1024)"
            ]
          },
          "metadata": {},
          "execution_count": 20
        }
      ],
      "source": [
        "bert_embeds.shape"
      ]
    },
    {
      "cell_type": "code",
      "execution_count": null,
      "metadata": {
        "colab": {
          "base_uri": "https://localhost:8080/"
        },
        "id": "ezVxLjd3gyOT",
        "outputId": "814999d1-c292-4413-be7a-8f983bf9e0e2"
      },
      "outputs": [
        {
          "output_type": "execute_result",
          "data": {
            "text/plain": [
              "(142246, 2048)"
            ]
          },
          "metadata": {},
          "execution_count": 21
        }
      ],
      "source": [
        "np.concatenate([bert_embeds, t5_embeds], axis=1).shape"
      ]
    },
    {
      "cell_type": "code",
      "execution_count": null,
      "metadata": {
        "colab": {
          "base_uri": "https://localhost:8080/"
        },
        "id": "ZgXE3G_kgTOE",
        "outputId": "5049264a-ceb5-4d98-fd8e-e80fd9cb1225"
      },
      "outputs": [
        {
          "output_type": "stream",
          "name": "stdout",
          "text": [
            "['P20536' 'O73864' 'O95231' 'A0A0B4J1F4' 'P54366']\n",
            "['Q9ZSA8' 'P25353' 'A0A2R8YCW8' 'G3V5N8' 'A0A140LFN4']\n",
            "['P20536' 'O73864' 'O95231' 'A0A0B4J1F4' 'P54366']\n"
          ]
        }
      ],
      "source": [
        "print(bert_ids[:5])\n",
        "print(esm2_ids[:5])\n",
        "print(t5_ids[:5])"
      ]
    },
    {
      "cell_type": "code",
      "execution_count": null,
      "metadata": {
        "id": "ifMl7POS0eDo"
      },
      "outputs": [],
      "source": [
        "class MultiLayerPerceptron(torch.nn.Module):\n",
        "\n",
        "    def __init__(self, input_dim, num_classes):\n",
        "        super(MultiLayerPerceptron, self).__init__()\n",
        "\n",
        "        self.linear1 = torch.nn.Linear(input_dim, 4*1012)\n",
        "        self.activation1 = torch.nn.ReLU()\n",
        "        self.linear2 = torch.nn.Linear(4*1012, 4*712)\n",
        "        self.activation2 = torch.nn.ReLU()\n",
        "        self.linear3 = torch.nn.Linear(4*712, num_classes)\n",
        "\n",
        "    def forward(self, x):\n",
        "        x = self.linear1(x)\n",
        "        x = self.activation1(x)\n",
        "        x = self.linear2(x)\n",
        "        x = self.activation2(x)\n",
        "        x = self.linear3(x)\n",
        "        return x\n",
        "\n",
        "\n",
        "class CNN1D(nn.Module):\n",
        "    def __init__(self, input_dim, num_classes):\n",
        "        super(CNN1D, self).__init__()\n",
        "        # (batch_size, channels, embed_size)\n",
        "        self.conv1 = nn.Conv1d(in_channels=1, out_channels=3, kernel_size=3, dilation=1, padding=1, stride=1)\n",
        "        # (batch_size, 3, embed_size)\n",
        "        self.pool1 = nn.MaxPool1d(kernel_size=2, stride=2)\n",
        "        # (batch_size, 3, embed_size/2 = 512)\n",
        "        self.conv2 = nn.Conv1d(in_channels=3, out_channels=8, kernel_size=3, dilation=1, padding=1, stride=1)\n",
        "        # (batch_size, 8, embed_size/2 = 512)\n",
        "        self.pool2 = nn.MaxPool1d(kernel_size=2, stride=2)\n",
        "        # (batch_size, 8, embed_size/4 = 256)\n",
        "        self.fc1 = nn.Linear(in_features=int(8 * input_dim/4), out_features=128)\n",
        "        self.fc2 = nn.Linear(in_features=128, out_features=num_classes)\n",
        "\n",
        "    def forward(self, x):\n",
        "        x = x.reshape(x.shape[0], 1, x.shape[1])\n",
        "        x = self.pool1(nn.functional.relu(self.conv1(x)))\n",
        "        x = self.pool2(nn.functional.relu(self.conv2(x)))\n",
        "        x = torch.flatten(x, 1)\n",
        "        x = nn.functional.relu(self.fc1(x))\n",
        "        x = self.fc2(x)\n",
        "        return x"
      ]
    },
    {
      "cell_type": "code",
      "execution_count": null,
      "metadata": {
        "id": "GqSXiM2I5nvr"
      },
      "outputs": [],
      "source": [
        "def train_model(embeddings_source, model_type=\"linear\", train_size=0.9):\n",
        "\n",
        "    train_dataset = ProteinSequenceDataset(datatype=\"train\", embeddings_source = embeddings_source)\n",
        "\n",
        "    train_set, val_set = random_split(train_dataset, lengths = [int(len(train_dataset)*train_size), len(train_dataset)-int(len(train_dataset)*train_size)])\n",
        "    train_dataloader = torch.utils.data.DataLoader(train_set, batch_size=CFG.batch_size, shuffle=True)\n",
        "    val_dataloader = torch.utils.data.DataLoader(val_set, batch_size=CFG.batch_size, shuffle=True)\n",
        "\n",
        "    if model_type == \"linear\":\n",
        "        model = MultiLayerPerceptron(input_dim=embeds_dim[embeddings_source], num_classes=CFG.num_labels).to(CFG.device)\n",
        "    if model_type == \"convolutional\":\n",
        "        model = CNN1D(input_dim=embeds_dim[embeddings_source], num_classes=CFG.num_labels).to(CFG.device)\n",
        "\n",
        "    optimizer = torch.optim.Adam(model.parameters(), lr = CFG.lr)\n",
        "    scheduler = ReduceLROnPlateau(optimizer, factor=0.1, patience=1)\n",
        "    CrossEntropy = torch.nn.CrossEntropyLoss()\n",
        "    f1_score = MultilabelF1Score(num_labels=CFG.num_labels).to(CFG.device)\n",
        "    n_epochs = CFG.n_epochs\n",
        "\n",
        "    print(\"BEGIN TRAINING...\")\n",
        "    train_loss_history=[]\n",
        "    val_loss_history=[]\n",
        "\n",
        "    train_f1score_history=[]\n",
        "    val_f1score_history=[]\n",
        "    for epoch in range(n_epochs):\n",
        "        print(\"EPOCH \", epoch+1)\n",
        "        ## TRAIN PHASE :\n",
        "        losses = []\n",
        "        scores = []\n",
        "        for embed, targets in tqdm(train_dataloader):\n",
        "            embed, targets = embed.to(CFG.device), targets.to(CFG.device)\n",
        "            optimizer.zero_grad()\n",
        "            preds = model(embed)\n",
        "            loss= CrossEntropy(preds, targets)\n",
        "            score=f1_score(preds, targets)\n",
        "            losses.append(loss.item())\n",
        "            scores.append(score.item())\n",
        "            loss.backward()\n",
        "            optimizer.step()\n",
        "        avg_loss = np.mean(losses)\n",
        "        avg_score = np.mean(scores)\n",
        "        print(\"Running Average TRAIN Loss : \", avg_loss)\n",
        "        print(\"Running Average TRAIN F1-Score : \", avg_score)\n",
        "        train_loss_history.append(avg_loss)\n",
        "        train_f1score_history.append(avg_score)\n",
        "\n",
        "        ## VALIDATION PHASE :\n",
        "        losses = []\n",
        "        scores = []\n",
        "        for embed, targets in val_dataloader:\n",
        "            embed, targets = embed.to(CFG.device), targets.to(CFG.device)\n",
        "            preds = model(embed)\n",
        "            loss= CrossEntropy(preds, targets)\n",
        "            score=f1_score(preds, targets)\n",
        "            losses.append(loss.item())\n",
        "            scores.append(score.item())\n",
        "        avg_loss = np.mean(losses)\n",
        "        avg_score = np.mean(scores)\n",
        "        print(\"Running Average VAL Loss : \", avg_loss)\n",
        "        print(\"Running Average VAL F1-Score : \", avg_score)\n",
        "        val_loss_history.append(avg_loss)\n",
        "        val_f1score_history.append(avg_score)\n",
        "\n",
        "        scheduler.step(avg_loss)\n",
        "        print(\"\\n\")\n",
        "\n",
        "    print(\"TRAINING FINISHED\")\n",
        "    print(\"FINAL TRAINING SCORE : \", train_f1score_history[-1])\n",
        "    print(\"FINAL VALIDATION SCORE : \", val_f1score_history[-1])\n",
        "\n",
        "    losses_history = {\"train\" : train_loss_history, \"val\" : val_loss_history}\n",
        "    scores_history = {\"train\" : train_f1score_history, \"val\" : val_f1score_history}\n",
        "\n",
        "    return model, losses_history, scores_history"
      ]
    },
    {
      "cell_type": "code",
      "execution_count": null,
      "metadata": {
        "id": "NOoTKm_X7yFz"
      },
      "outputs": [],
      "source": [
        "train_dataset = ProteinSequenceDataset(datatype=\"train\", embeddings_source = \"ESM2\")\n",
        "CFG.num_labels = train_dataset[0][1].shape[0]"
      ]
    },
    {
      "cell_type": "code",
      "execution_count": null,
      "metadata": {
        "colab": {
          "base_uri": "https://localhost:8080/"
        },
        "id": "uaHlxFm7hUtr",
        "outputId": "150aa6ea-2929-441e-dd02-a85e2adac1c3"
      },
      "outputs": [
        {
          "output_type": "stream",
          "name": "stdout",
          "text": [
            "BEGIN TRAINING...\n",
            "EPOCH  1\n"
          ]
        },
        {
          "output_type": "stream",
          "name": "stderr",
          "text": [
            "100%|██████████| 654/654 [00:16<00:00, 39.99it/s]\n"
          ]
        },
        {
          "output_type": "stream",
          "name": "stdout",
          "text": [
            "Running Average TRAIN Loss :  5.545166027290741\n",
            "Running Average TRAIN F1-Score :  0.09582354257378829\n",
            "Running Average VAL Loss :  5.239930577474098\n",
            "Running Average VAL F1-Score :  0.10879770819454977\n",
            "\n",
            "\n",
            "EPOCH  2\n"
          ]
        },
        {
          "output_type": "stream",
          "name": "stderr",
          "text": [
            "100%|██████████| 654/654 [00:13<00:00, 47.10it/s]\n"
          ]
        },
        {
          "output_type": "stream",
          "name": "stdout",
          "text": [
            "Running Average TRAIN Loss :  5.089897868830129\n",
            "Running Average TRAIN F1-Score :  0.12168551074620051\n",
            "Running Average VAL Loss :  5.098583417396023\n",
            "Running Average VAL F1-Score :  0.1212752715569653\n",
            "\n",
            "\n",
            "EPOCH  3\n"
          ]
        },
        {
          "output_type": "stream",
          "name": "stderr",
          "text": [
            "100%|██████████| 654/654 [00:13<00:00, 47.98it/s]\n"
          ]
        },
        {
          "output_type": "stream",
          "name": "stdout",
          "text": [
            "Running Average TRAIN Loss :  4.9255947847978785\n",
            "Running Average TRAIN F1-Score :  0.1349065764963809\n",
            "Running Average VAL Loss :  4.963403695250211\n",
            "Running Average VAL F1-Score :  0.13564468420123402\n",
            "\n",
            "\n",
            "EPOCH  4\n"
          ]
        },
        {
          "output_type": "stream",
          "name": "stderr",
          "text": [
            "100%|██████████| 654/654 [00:13<00:00, 47.63it/s]\n"
          ]
        },
        {
          "output_type": "stream",
          "name": "stdout",
          "text": [
            "Running Average TRAIN Loss :  4.7852013388175845\n",
            "Running Average TRAIN F1-Score :  0.14493168696806702\n",
            "Running Average VAL Loss :  4.9039269832715595\n",
            "Running Average VAL F1-Score :  0.14400518267122034\n",
            "\n",
            "\n",
            "EPOCH  5\n"
          ]
        },
        {
          "output_type": "stream",
          "name": "stderr",
          "text": [
            "100%|██████████| 654/654 [00:13<00:00, 47.39it/s]\n"
          ]
        },
        {
          "output_type": "stream",
          "name": "stdout",
          "text": [
            "Running Average TRAIN Loss :  4.657411544694813\n",
            "Running Average TRAIN F1-Score :  0.15459505929996115\n",
            "Running Average VAL Loss :  4.845578536595384\n",
            "Running Average VAL F1-Score :  0.15033762646864537\n",
            "\n",
            "\n",
            "EPOCH  6\n"
          ]
        },
        {
          "output_type": "stream",
          "name": "stderr",
          "text": [
            "100%|██████████| 654/654 [00:13<00:00, 47.52it/s]\n"
          ]
        },
        {
          "output_type": "stream",
          "name": "stdout",
          "text": [
            "Running Average TRAIN Loss :  4.5270781819608965\n",
            "Running Average TRAIN F1-Score :  0.1649796048048257\n",
            "Running Average VAL Loss :  4.81143679030954\n",
            "Running Average VAL F1-Score :  0.15852145105600357\n",
            "\n",
            "\n",
            "EPOCH  7\n"
          ]
        },
        {
          "output_type": "stream",
          "name": "stderr",
          "text": [
            "100%|██████████| 654/654 [00:13<00:00, 48.10it/s]\n"
          ]
        },
        {
          "output_type": "stream",
          "name": "stdout",
          "text": [
            "Running Average TRAIN Loss :  4.401632846677704\n",
            "Running Average TRAIN F1-Score :  0.17514640309303908\n",
            "Running Average VAL Loss :  4.795050056013342\n",
            "Running Average VAL F1-Score :  0.16569860197909891\n",
            "\n",
            "\n",
            "EPOCH  8\n"
          ]
        },
        {
          "output_type": "stream",
          "name": "stderr",
          "text": [
            "100%|██████████| 654/654 [00:13<00:00, 47.50it/s]\n"
          ]
        },
        {
          "output_type": "stream",
          "name": "stdout",
          "text": [
            "Running Average TRAIN Loss :  4.270980655964726\n",
            "Running Average TRAIN F1-Score :  0.18633019099359482\n",
            "Running Average VAL Loss :  4.799561121692396\n",
            "Running Average VAL F1-Score :  0.1715377534497274\n",
            "\n",
            "\n",
            "EPOCH  9\n"
          ]
        },
        {
          "output_type": "stream",
          "name": "stderr",
          "text": [
            "100%|██████████| 654/654 [00:14<00:00, 46.47it/s]\n"
          ]
        },
        {
          "output_type": "stream",
          "name": "stdout",
          "text": [
            "Running Average TRAIN Loss :  4.137000525763275\n",
            "Running Average TRAIN F1-Score :  0.19788648213177282\n",
            "Running Average VAL Loss :  4.7958225909977745\n",
            "Running Average VAL F1-Score :  0.17787074267047726\n",
            "\n",
            "\n",
            "EPOCH  10\n"
          ]
        },
        {
          "output_type": "stream",
          "name": "stderr",
          "text": [
            "100%|██████████| 654/654 [00:13<00:00, 48.00it/s]\n"
          ]
        },
        {
          "output_type": "stream",
          "name": "stdout",
          "text": [
            "Running Average TRAIN Loss :  3.8039920111314967\n",
            "Running Average TRAIN F1-Score :  0.2117982915622561\n",
            "Running Average VAL Loss :  4.723884755617951\n",
            "Running Average VAL F1-Score :  0.18620226603664763\n",
            "\n",
            "\n",
            "EPOCH  11\n"
          ]
        },
        {
          "output_type": "stream",
          "name": "stderr",
          "text": [
            "100%|██████████| 654/654 [00:13<00:00, 48.68it/s]\n"
          ]
        },
        {
          "output_type": "stream",
          "name": "stdout",
          "text": [
            "Running Average TRAIN Loss :  3.72912749529614\n",
            "Running Average TRAIN F1-Score :  0.21640000364740325\n",
            "Running Average VAL Loss :  4.72567441692091\n",
            "Running Average VAL F1-Score :  0.1860875950692451\n",
            "\n",
            "\n",
            "EPOCH  12\n"
          ]
        },
        {
          "output_type": "stream",
          "name": "stderr",
          "text": [
            "100%|██████████| 654/654 [00:13<00:00, 48.44it/s]\n"
          ]
        },
        {
          "output_type": "stream",
          "name": "stdout",
          "text": [
            "Running Average TRAIN Loss :  3.686535175058091\n",
            "Running Average TRAIN F1-Score :  0.21943247883327147\n",
            "Running Average VAL Loss :  4.724595729618857\n",
            "Running Average VAL F1-Score :  0.18684750040100045\n",
            "\n",
            "\n",
            "EPOCH  13\n"
          ]
        },
        {
          "output_type": "stream",
          "name": "stderr",
          "text": [
            "100%|██████████| 654/654 [00:13<00:00, 49.05it/s]\n"
          ]
        },
        {
          "output_type": "stream",
          "name": "stdout",
          "text": [
            "Running Average TRAIN Loss :  3.6314346739276107\n",
            "Running Average TRAIN F1-Score :  0.22171075320845351\n",
            "Running Average VAL Loss :  4.7331189913292455\n",
            "Running Average VAL F1-Score :  0.19003994497534346\n",
            "\n",
            "\n",
            "EPOCH  14\n"
          ]
        },
        {
          "output_type": "stream",
          "name": "stderr",
          "text": [
            "100%|██████████| 654/654 [00:13<00:00, 48.11it/s]\n"
          ]
        },
        {
          "output_type": "stream",
          "name": "stdout",
          "text": [
            "Running Average TRAIN Loss :  3.6256521087174023\n",
            "Running Average TRAIN F1-Score :  0.22341409626357053\n",
            "Running Average VAL Loss :  4.728352465041696\n",
            "Running Average VAL F1-Score :  0.18834805856012318\n",
            "\n",
            "\n",
            "EPOCH  15\n"
          ]
        },
        {
          "output_type": "stream",
          "name": "stderr",
          "text": [
            "100%|██████████| 654/654 [00:13<00:00, 48.64it/s]\n"
          ]
        },
        {
          "output_type": "stream",
          "name": "stdout",
          "text": [
            "Running Average TRAIN Loss :  3.6160184250694534\n",
            "Running Average TRAIN F1-Score :  0.22331166957769918\n",
            "Running Average VAL Loss :  4.73056530299252\n",
            "Running Average VAL F1-Score :  0.18941796152559046\n",
            "\n",
            "\n",
            "EPOCH  16\n"
          ]
        },
        {
          "output_type": "stream",
          "name": "stderr",
          "text": [
            "100%|██████████| 654/654 [00:13<00:00, 48.22it/s]\n"
          ]
        },
        {
          "output_type": "stream",
          "name": "stdout",
          "text": [
            "Running Average TRAIN Loss :  3.6165547651617533\n",
            "Running Average TRAIN F1-Score :  0.22375900676582203\n",
            "Running Average VAL Loss :  4.7321474748115016\n",
            "Running Average VAL F1-Score :  0.1901540170385413\n",
            "\n",
            "\n",
            "EPOCH  17\n"
          ]
        },
        {
          "output_type": "stream",
          "name": "stderr",
          "text": [
            "100%|██████████| 654/654 [00:13<00:00, 47.15it/s]\n"
          ]
        },
        {
          "output_type": "stream",
          "name": "stdout",
          "text": [
            "Running Average TRAIN Loss :  3.6148566795051646\n",
            "Running Average TRAIN F1-Score :  0.22350972852119977\n",
            "Running Average VAL Loss :  4.735517848027896\n",
            "Running Average VAL F1-Score :  0.18938011400503654\n",
            "\n",
            "\n",
            "EPOCH  18\n"
          ]
        },
        {
          "output_type": "stream",
          "name": "stderr",
          "text": [
            "100%|██████████| 654/654 [00:13<00:00, 48.07it/s]\n"
          ]
        },
        {
          "output_type": "stream",
          "name": "stdout",
          "text": [
            "Running Average TRAIN Loss :  3.6151650848738646\n",
            "Running Average TRAIN F1-Score :  0.22330217633043226\n",
            "Running Average VAL Loss :  4.727958587750996\n",
            "Running Average VAL F1-Score :  0.19084937196888335\n",
            "\n",
            "\n",
            "EPOCH  19\n"
          ]
        },
        {
          "output_type": "stream",
          "name": "stderr",
          "text": [
            "100%|██████████| 654/654 [00:13<00:00, 48.50it/s]\n"
          ]
        },
        {
          "output_type": "stream",
          "name": "stdout",
          "text": [
            "Running Average TRAIN Loss :  3.6143957759262224\n",
            "Running Average TRAIN F1-Score :  0.22370085172605805\n",
            "Running Average VAL Loss :  4.73603683628448\n",
            "Running Average VAL F1-Score :  0.19060051522842825\n",
            "\n",
            "\n",
            "EPOCH  20\n"
          ]
        },
        {
          "output_type": "stream",
          "name": "stderr",
          "text": [
            "100%|██████████| 654/654 [00:13<00:00, 48.04it/s]\n"
          ]
        },
        {
          "output_type": "stream",
          "name": "stdout",
          "text": [
            "Running Average TRAIN Loss :  3.614737290125739\n",
            "Running Average TRAIN F1-Score :  0.2236373680629497\n",
            "Running Average VAL Loss :  4.731059022145729\n",
            "Running Average VAL F1-Score :  0.1892646789959032\n",
            "\n",
            "\n",
            "TRAINING FINISHED\n",
            "FINAL TRAINING SCORE :  0.2236373680629497\n",
            "FINAL VALIDATION SCORE :  0.1892646789959032\n"
          ]
        }
      ],
      "source": [
        "cat_model, cat_losses,cat_scores = train_model(embeddings_source=\"Concat\",model_type=\"linear\")"
      ]
    },
    {
      "cell_type": "code",
      "execution_count": null,
      "metadata": {
        "colab": {
          "base_uri": "https://localhost:8080/"
        },
        "id": "w3VdssHq5v-F",
        "outputId": "8448500d-43d5-4c2a-8362-d283bb7b65fe"
      },
      "outputs": [
        {
          "output_type": "stream",
          "name": "stdout",
          "text": [
            "BEGIN TRAINING...\n",
            "EPOCH  1\n"
          ]
        },
        {
          "output_type": "stream",
          "name": "stderr",
          "text": [
            "100%|██████████| 654/654 [00:12<00:00, 52.14it/s]\n"
          ]
        },
        {
          "output_type": "stream",
          "name": "stdout",
          "text": [
            "Running Average TRAIN Loss :  5.545578141460361\n",
            "Running Average TRAIN F1-Score :  0.09913053967070051\n",
            "Running Average VAL Loss :  5.108647895185915\n",
            "Running Average VAL F1-Score :  0.1147561713236652\n",
            "\n",
            "\n",
            "EPOCH  2\n"
          ]
        },
        {
          "output_type": "stream",
          "name": "stderr",
          "text": [
            "100%|██████████| 654/654 [00:12<00:00, 52.08it/s]\n"
          ]
        },
        {
          "output_type": "stream",
          "name": "stdout",
          "text": [
            "Running Average TRAIN Loss :  5.128735861647019\n",
            "Running Average TRAIN F1-Score :  0.12621988464340522\n",
            "Running Average VAL Loss :  4.962376392050965\n",
            "Running Average VAL F1-Score :  0.13286239735475958\n",
            "\n",
            "\n",
            "EPOCH  3\n"
          ]
        },
        {
          "output_type": "stream",
          "name": "stderr",
          "text": [
            "100%|██████████| 654/654 [00:12<00:00, 53.35it/s]\n"
          ]
        },
        {
          "output_type": "stream",
          "name": "stdout",
          "text": [
            "Running Average TRAIN Loss :  4.940879307755637\n",
            "Running Average TRAIN F1-Score :  0.14069614761056157\n",
            "Running Average VAL Loss :  4.874879497371308\n",
            "Running Average VAL F1-Score :  0.13983722204623156\n",
            "\n",
            "\n",
            "EPOCH  4\n"
          ]
        },
        {
          "output_type": "stream",
          "name": "stderr",
          "text": [
            "100%|██████████| 654/654 [00:12<00:00, 53.48it/s]\n"
          ]
        },
        {
          "output_type": "stream",
          "name": "stdout",
          "text": [
            "Running Average TRAIN Loss :  4.775984905910784\n",
            "Running Average TRAIN F1-Score :  0.15383921745902537\n",
            "Running Average VAL Loss :  4.791860090543146\n",
            "Running Average VAL F1-Score :  0.15142157081871815\n",
            "\n",
            "\n",
            "EPOCH  5\n"
          ]
        },
        {
          "output_type": "stream",
          "name": "stderr",
          "text": [
            "100%|██████████| 654/654 [00:12<00:00, 51.21it/s]\n"
          ]
        },
        {
          "output_type": "stream",
          "name": "stdout",
          "text": [
            "Running Average TRAIN Loss :  4.619815618620006\n",
            "Running Average TRAIN F1-Score :  0.16681849997524822\n",
            "Running Average VAL Loss :  4.734265660586423\n",
            "Running Average VAL F1-Score :  0.1533142536470335\n",
            "\n",
            "\n",
            "EPOCH  6\n"
          ]
        },
        {
          "output_type": "stream",
          "name": "stderr",
          "text": [
            "100%|██████████| 654/654 [00:12<00:00, 52.15it/s]\n"
          ]
        },
        {
          "output_type": "stream",
          "name": "stdout",
          "text": [
            "Running Average TRAIN Loss :  4.45334329809253\n",
            "Running Average TRAIN F1-Score :  0.18026676033523834\n",
            "Running Average VAL Loss :  4.699103116989136\n",
            "Running Average VAL F1-Score :  0.16213372870259088\n",
            "\n",
            "\n",
            "EPOCH  7\n"
          ]
        },
        {
          "output_type": "stream",
          "name": "stderr",
          "text": [
            "100%|██████████| 654/654 [00:12<00:00, 52.55it/s]\n"
          ]
        },
        {
          "output_type": "stream",
          "name": "stdout",
          "text": [
            "Running Average TRAIN Loss :  4.28749944274214\n",
            "Running Average TRAIN F1-Score :  0.19464179515747485\n",
            "Running Average VAL Loss :  4.664919572333767\n",
            "Running Average VAL F1-Score :  0.17568793219246276\n",
            "\n",
            "\n",
            "EPOCH  8\n"
          ]
        },
        {
          "output_type": "stream",
          "name": "stderr",
          "text": [
            "100%|██████████| 654/654 [00:12<00:00, 52.19it/s]\n"
          ]
        },
        {
          "output_type": "stream",
          "name": "stdout",
          "text": [
            "Running Average TRAIN Loss :  4.117517753478584\n",
            "Running Average TRAIN F1-Score :  0.21018245203323685\n",
            "Running Average VAL Loss :  4.658080336165755\n",
            "Running Average VAL F1-Score :  0.17810573908564162\n",
            "\n",
            "\n",
            "EPOCH  9\n"
          ]
        },
        {
          "output_type": "stream",
          "name": "stderr",
          "text": [
            "100%|██████████| 654/654 [00:12<00:00, 51.90it/s]\n"
          ]
        },
        {
          "output_type": "stream",
          "name": "stdout",
          "text": [
            "Running Average TRAIN Loss :  3.948776304175001\n",
            "Running Average TRAIN F1-Score :  0.2261431053827662\n",
            "Running Average VAL Loss :  4.675903610987206\n",
            "Running Average VAL F1-Score :  0.19249204188993532\n",
            "\n",
            "\n",
            "EPOCH  10\n"
          ]
        },
        {
          "output_type": "stream",
          "name": "stderr",
          "text": [
            "100%|██████████| 654/654 [00:12<00:00, 51.85it/s]\n"
          ]
        },
        {
          "output_type": "stream",
          "name": "stdout",
          "text": [
            "Running Average TRAIN Loss :  3.782157161549326\n",
            "Running Average TRAIN F1-Score :  0.24309164686669632\n",
            "Running Average VAL Loss :  4.67801286423043\n",
            "Running Average VAL F1-Score :  0.19724666888583198\n",
            "\n",
            "\n",
            "EPOCH  11\n"
          ]
        },
        {
          "output_type": "stream",
          "name": "stderr",
          "text": [
            "100%|██████████| 654/654 [00:12<00:00, 52.08it/s]\n"
          ]
        },
        {
          "output_type": "stream",
          "name": "stdout",
          "text": [
            "Running Average TRAIN Loss :  3.3689134638608413\n",
            "Running Average TRAIN F1-Score :  0.26465287626883305\n",
            "Running Average VAL Loss :  4.657415723147458\n",
            "Running Average VAL F1-Score :  0.20727627938740875\n",
            "\n",
            "\n",
            "EPOCH  12\n"
          ]
        },
        {
          "output_type": "stream",
          "name": "stderr",
          "text": [
            "100%|██████████| 654/654 [00:12<00:00, 52.18it/s]\n"
          ]
        },
        {
          "output_type": "stream",
          "name": "stdout",
          "text": [
            "Running Average TRAIN Loss :  3.270042424172801\n",
            "Running Average TRAIN F1-Score :  0.2728920571209823\n",
            "Running Average VAL Loss :  4.669719653586819\n",
            "Running Average VAL F1-Score :  0.20951438929936658\n",
            "\n",
            "\n",
            "EPOCH  13\n"
          ]
        },
        {
          "output_type": "stream",
          "name": "stderr",
          "text": [
            "100%|██████████| 654/654 [00:12<00:00, 51.41it/s]\n"
          ]
        },
        {
          "output_type": "stream",
          "name": "stdout",
          "text": [
            "Running Average TRAIN Loss :  3.21956653040848\n",
            "Running Average TRAIN F1-Score :  0.27865609911694805\n",
            "Running Average VAL Loss :  4.684608975501909\n",
            "Running Average VAL F1-Score :  0.21174411720609013\n",
            "\n",
            "\n",
            "EPOCH  14\n"
          ]
        },
        {
          "output_type": "stream",
          "name": "stderr",
          "text": [
            "100%|██████████| 654/654 [00:12<00:00, 52.27it/s]\n"
          ]
        },
        {
          "output_type": "stream",
          "name": "stdout",
          "text": [
            "Running Average TRAIN Loss :  3.1535016637329663\n",
            "Running Average TRAIN F1-Score :  0.28394280266962285\n",
            "Running Average VAL Loss :  4.687724061208229\n",
            "Running Average VAL F1-Score :  0.21244328887495276\n",
            "\n",
            "\n",
            "EPOCH  15\n"
          ]
        },
        {
          "output_type": "stream",
          "name": "stderr",
          "text": [
            "100%|██████████| 654/654 [00:12<00:00, 50.45it/s]\n"
          ]
        },
        {
          "output_type": "stream",
          "name": "stdout",
          "text": [
            "Running Average TRAIN Loss :  3.1439243504031356\n",
            "Running Average TRAIN F1-Score :  0.28556402250896534\n",
            "Running Average VAL Loss :  4.693231984360577\n",
            "Running Average VAL F1-Score :  0.21561028961449452\n",
            "\n",
            "\n",
            "EPOCH  16\n"
          ]
        },
        {
          "output_type": "stream",
          "name": "stderr",
          "text": [
            "100%|██████████| 654/654 [00:12<00:00, 51.87it/s]\n"
          ]
        },
        {
          "output_type": "stream",
          "name": "stdout",
          "text": [
            "Running Average TRAIN Loss :  3.1360045737082807\n",
            "Running Average TRAIN F1-Score :  0.2857985546191533\n",
            "Running Average VAL Loss :  4.6930273624315655\n",
            "Running Average VAL F1-Score :  0.21549098214058027\n",
            "\n",
            "\n",
            "EPOCH  17\n"
          ]
        },
        {
          "output_type": "stream",
          "name": "stderr",
          "text": [
            "100%|██████████| 654/654 [00:12<00:00, 51.42it/s]\n"
          ]
        },
        {
          "output_type": "stream",
          "name": "stdout",
          "text": [
            "Running Average TRAIN Loss :  3.135296452665183\n",
            "Running Average TRAIN F1-Score :  0.2867678191501431\n",
            "Running Average VAL Loss :  4.695975104423418\n",
            "Running Average VAL F1-Score :  0.21420261243434802\n",
            "\n",
            "\n",
            "EPOCH  18\n"
          ]
        },
        {
          "output_type": "stream",
          "name": "stderr",
          "text": [
            "100%|██████████| 654/654 [00:12<00:00, 51.71it/s]\n"
          ]
        },
        {
          "output_type": "stream",
          "name": "stdout",
          "text": [
            "Running Average TRAIN Loss :  3.133976500333267\n",
            "Running Average TRAIN F1-Score :  0.28588401799628493\n",
            "Running Average VAL Loss :  4.698350436066928\n",
            "Running Average VAL F1-Score :  0.212846892949653\n",
            "\n",
            "\n",
            "EPOCH  19\n"
          ]
        },
        {
          "output_type": "stream",
          "name": "stderr",
          "text": [
            "100%|██████████| 654/654 [00:12<00:00, 52.91it/s]\n"
          ]
        },
        {
          "output_type": "stream",
          "name": "stdout",
          "text": [
            "Running Average TRAIN Loss :  3.134782487463878\n",
            "Running Average TRAIN F1-Score :  0.2859657310883569\n",
            "Running Average VAL Loss :  4.690958104721488\n",
            "Running Average VAL F1-Score :  0.213524973147536\n",
            "\n",
            "\n",
            "EPOCH  20\n"
          ]
        },
        {
          "output_type": "stream",
          "name": "stderr",
          "text": [
            "100%|██████████| 654/654 [00:12<00:00, 53.38it/s]\n"
          ]
        },
        {
          "output_type": "stream",
          "name": "stdout",
          "text": [
            "Running Average TRAIN Loss :  3.134247322694971\n",
            "Running Average TRAIN F1-Score :  0.28575169844182624\n",
            "Running Average VAL Loss :  4.695763692463914\n",
            "Running Average VAL F1-Score :  0.2145025281056966\n",
            "\n",
            "\n",
            "TRAINING FINISHED\n",
            "FINAL TRAINING SCORE :  0.28575169844182624\n",
            "FINAL VALIDATION SCORE :  0.2145025281056966\n"
          ]
        }
      ],
      "source": [
        "esm2_model, esm2_losses, esm2_scores = train_model(embeddings_source=\"ESM2\",model_type=\"linear\")"
      ]
    },
    {
      "cell_type": "code",
      "execution_count": null,
      "metadata": {
        "id": "I6HJs1Qb514B"
      },
      "outputs": [],
      "source": [
        "# Weighted F1 Score?"
      ]
    },
    {
      "cell_type": "code",
      "execution_count": null,
      "metadata": {
        "colab": {
          "base_uri": "https://localhost:8080/"
        },
        "id": "gvkZkKba9cmH",
        "outputId": "7eb4fdf2-c22e-4b71-fed7-1a0851269c22"
      },
      "outputs": [
        {
          "output_type": "stream",
          "name": "stdout",
          "text": [
            "BEGIN TRAINING...\n",
            "EPOCH  1\n"
          ]
        },
        {
          "output_type": "stream",
          "name": "stderr",
          "text": [
            "100%|██████████| 654/654 [00:13<00:00, 49.54it/s]\n"
          ]
        },
        {
          "output_type": "stream",
          "name": "stdout",
          "text": [
            "Running Average TRAIN Loss :  5.391881563612445\n",
            "Running Average TRAIN F1-Score :  0.10728233756742438\n",
            "Running Average VAL Loss :  5.120198582949704\n",
            "Running Average VAL F1-Score :  0.126314373253143\n",
            "\n",
            "\n",
            "EPOCH  2\n"
          ]
        },
        {
          "output_type": "stream",
          "name": "stderr",
          "text": [
            "100%|██████████| 654/654 [00:13<00:00, 49.07it/s]\n"
          ]
        },
        {
          "output_type": "stream",
          "name": "stdout",
          "text": [
            "Running Average TRAIN Loss :  4.930385328943212\n",
            "Running Average TRAIN F1-Score :  0.13590293681812943\n",
            "Running Average VAL Loss :  4.935800140851165\n",
            "Running Average VAL F1-Score :  0.14302804708889086\n",
            "\n",
            "\n",
            "EPOCH  3\n"
          ]
        },
        {
          "output_type": "stream",
          "name": "stderr",
          "text": [
            "100%|██████████| 654/654 [00:13<00:00, 48.59it/s]\n"
          ]
        },
        {
          "output_type": "stream",
          "name": "stdout",
          "text": [
            "Running Average TRAIN Loss :  4.712304858621836\n",
            "Running Average TRAIN F1-Score :  0.15320310021668035\n",
            "Running Average VAL Loss :  4.821727471808865\n",
            "Running Average VAL F1-Score :  0.15393989155553792\n",
            "\n",
            "\n",
            "EPOCH  4\n"
          ]
        },
        {
          "output_type": "stream",
          "name": "stderr",
          "text": [
            "100%|██████████| 654/654 [00:13<00:00, 49.90it/s]\n"
          ]
        },
        {
          "output_type": "stream",
          "name": "stdout",
          "text": [
            "Running Average TRAIN Loss :  4.513678512442002\n",
            "Running Average TRAIN F1-Score :  0.1672668613789643\n",
            "Running Average VAL Loss :  4.774706784993002\n",
            "Running Average VAL F1-Score :  0.16716847170705665\n",
            "\n",
            "\n",
            "EPOCH  5\n"
          ]
        },
        {
          "output_type": "stream",
          "name": "stderr",
          "text": [
            "100%|██████████| 654/654 [00:13<00:00, 48.98it/s]\n"
          ]
        },
        {
          "output_type": "stream",
          "name": "stdout",
          "text": [
            "Running Average TRAIN Loss :  4.313029373093118\n",
            "Running Average TRAIN F1-Score :  0.1836799532175064\n",
            "Running Average VAL Loss :  4.704157561472018\n",
            "Running Average VAL F1-Score :  0.1775154910267216\n",
            "\n",
            "\n",
            "EPOCH  6\n"
          ]
        },
        {
          "output_type": "stream",
          "name": "stderr",
          "text": [
            "100%|██████████| 654/654 [00:13<00:00, 47.94it/s]\n"
          ]
        },
        {
          "output_type": "stream",
          "name": "stdout",
          "text": [
            "Running Average TRAIN Loss :  4.1158644693707105\n",
            "Running Average TRAIN F1-Score :  0.19977936777499838\n",
            "Running Average VAL Loss :  4.676792961277374\n",
            "Running Average VAL F1-Score :  0.19051970929315645\n",
            "\n",
            "\n",
            "EPOCH  7\n"
          ]
        },
        {
          "output_type": "stream",
          "name": "stderr",
          "text": [
            "100%|██████████| 654/654 [00:13<00:00, 47.64it/s]\n"
          ]
        },
        {
          "output_type": "stream",
          "name": "stdout",
          "text": [
            "Running Average TRAIN Loss :  3.91944335542323\n",
            "Running Average TRAIN F1-Score :  0.2175443580072225\n",
            "Running Average VAL Loss :  4.681021772018851\n",
            "Running Average VAL F1-Score :  0.19774443258161414\n",
            "\n",
            "\n",
            "EPOCH  8\n"
          ]
        },
        {
          "output_type": "stream",
          "name": "stderr",
          "text": [
            "100%|██████████| 654/654 [00:13<00:00, 48.74it/s]\n"
          ]
        },
        {
          "output_type": "stream",
          "name": "stdout",
          "text": [
            "Running Average TRAIN Loss :  3.7245729206534337\n",
            "Running Average TRAIN F1-Score :  0.23428892944611907\n",
            "Running Average VAL Loss :  4.698496932852758\n",
            "Running Average VAL F1-Score :  0.20567471442157276\n",
            "\n",
            "\n",
            "EPOCH  9\n"
          ]
        },
        {
          "output_type": "stream",
          "name": "stderr",
          "text": [
            "100%|██████████| 654/654 [00:13<00:00, 48.59it/s]\n"
          ]
        },
        {
          "output_type": "stream",
          "name": "stdout",
          "text": [
            "Running Average TRAIN Loss :  3.311537489613991\n",
            "Running Average TRAIN F1-Score :  0.2566723514815354\n",
            "Running Average VAL Loss :  4.680388643317027\n",
            "Running Average VAL F1-Score :  0.2158855340660435\n",
            "\n",
            "\n",
            "EPOCH  10\n"
          ]
        },
        {
          "output_type": "stream",
          "name": "stderr",
          "text": [
            "100%|██████████| 654/654 [00:13<00:00, 48.07it/s]\n"
          ]
        },
        {
          "output_type": "stream",
          "name": "stdout",
          "text": [
            "Running Average TRAIN Loss :  3.2136653399248734\n",
            "Running Average TRAIN F1-Score :  0.2666549575985025\n",
            "Running Average VAL Loss :  4.700272217188796\n",
            "Running Average VAL F1-Score :  0.21853046956127636\n",
            "\n",
            "\n",
            "EPOCH  11\n"
          ]
        },
        {
          "output_type": "stream",
          "name": "stderr",
          "text": [
            "100%|██████████| 654/654 [00:13<00:00, 48.38it/s]\n"
          ]
        },
        {
          "output_type": "stream",
          "name": "stdout",
          "text": [
            "Running Average TRAIN Loss :  3.1408818015993916\n",
            "Running Average TRAIN F1-Score :  0.2725176625295517\n",
            "Running Average VAL Loss :  4.709671386300701\n",
            "Running Average VAL F1-Score :  0.2209518804942092\n",
            "\n",
            "\n",
            "EPOCH  12\n"
          ]
        },
        {
          "output_type": "stream",
          "name": "stderr",
          "text": [
            "100%|██████████| 654/654 [00:13<00:00, 48.77it/s]\n"
          ]
        },
        {
          "output_type": "stream",
          "name": "stdout",
          "text": [
            "Running Average TRAIN Loss :  3.1314810262907535\n",
            "Running Average TRAIN F1-Score :  0.27383447092151786\n",
            "Running Average VAL Loss :  4.709579072586478\n",
            "Running Average VAL F1-Score :  0.22223915914966635\n",
            "\n",
            "\n",
            "EPOCH  13\n"
          ]
        },
        {
          "output_type": "stream",
          "name": "stderr",
          "text": [
            "100%|██████████| 654/654 [00:13<00:00, 48.95it/s]\n"
          ]
        },
        {
          "output_type": "stream",
          "name": "stdout",
          "text": [
            "Running Average TRAIN Loss :  3.1255561878921787\n",
            "Running Average TRAIN F1-Score :  0.27428474675989295\n",
            "Running Average VAL Loss :  4.720775388691523\n",
            "Running Average VAL F1-Score :  0.2225228778711737\n",
            "\n",
            "\n",
            "EPOCH  14\n"
          ]
        },
        {
          "output_type": "stream",
          "name": "stderr",
          "text": [
            "100%|██████████| 654/654 [00:13<00:00, 48.97it/s]\n"
          ]
        },
        {
          "output_type": "stream",
          "name": "stdout",
          "text": [
            "Running Average TRAIN Loss :  3.123585212121316\n",
            "Running Average TRAIN F1-Score :  0.2743871821722853\n",
            "Running Average VAL Loss :  4.71714700084843\n",
            "Running Average VAL F1-Score :  0.22156868303475313\n",
            "\n",
            "\n",
            "EPOCH  15\n"
          ]
        },
        {
          "output_type": "stream",
          "name": "stderr",
          "text": [
            "100%|██████████| 654/654 [00:13<00:00, 48.91it/s]\n"
          ]
        },
        {
          "output_type": "stream",
          "name": "stdout",
          "text": [
            "Running Average TRAIN Loss :  3.122999621822929\n",
            "Running Average TRAIN F1-Score :  0.2751003884303096\n",
            "Running Average VAL Loss :  4.7068891296648\n",
            "Running Average VAL F1-Score :  0.22293017069770865\n",
            "\n",
            "\n",
            "EPOCH  16\n"
          ]
        },
        {
          "output_type": "stream",
          "name": "stderr",
          "text": [
            "100%|██████████| 654/654 [00:13<00:00, 49.05it/s]\n"
          ]
        },
        {
          "output_type": "stream",
          "name": "stdout",
          "text": [
            "Running Average TRAIN Loss :  3.1225910653397215\n",
            "Running Average TRAIN F1-Score :  0.2751321818349194\n",
            "Running Average VAL Loss :  4.713024622773471\n",
            "Running Average VAL F1-Score :  0.22479567176675144\n",
            "\n",
            "\n",
            "EPOCH  17\n"
          ]
        },
        {
          "output_type": "stream",
          "name": "stderr",
          "text": [
            "100%|██████████| 654/654 [00:13<00:00, 48.73it/s]\n"
          ]
        },
        {
          "output_type": "stream",
          "name": "stdout",
          "text": [
            "Running Average TRAIN Loss :  3.122622440714355\n",
            "Running Average TRAIN F1-Score :  0.2746453193850838\n",
            "Running Average VAL Loss :  4.712310170474118\n",
            "Running Average VAL F1-Score :  0.22045137763839878\n",
            "\n",
            "\n",
            "EPOCH  18\n"
          ]
        },
        {
          "output_type": "stream",
          "name": "stderr",
          "text": [
            "100%|██████████| 654/654 [00:13<00:00, 49.56it/s]\n"
          ]
        },
        {
          "output_type": "stream",
          "name": "stdout",
          "text": [
            "Running Average TRAIN Loss :  3.123021625232988\n",
            "Running Average TRAIN F1-Score :  0.2747608718066405\n",
            "Running Average VAL Loss :  4.717368573358614\n",
            "Running Average VAL F1-Score :  0.2222299136935848\n",
            "\n",
            "\n",
            "EPOCH  19\n"
          ]
        },
        {
          "output_type": "stream",
          "name": "stderr",
          "text": [
            "100%|██████████| 654/654 [00:13<00:00, 48.97it/s]\n"
          ]
        },
        {
          "output_type": "stream",
          "name": "stdout",
          "text": [
            "Running Average TRAIN Loss :  3.1218654103235366\n",
            "Running Average TRAIN F1-Score :  0.27436981122336984\n",
            "Running Average VAL Loss :  4.713330200273696\n",
            "Running Average VAL F1-Score :  0.22204061097478214\n",
            "\n",
            "\n",
            "EPOCH  20\n"
          ]
        },
        {
          "output_type": "stream",
          "name": "stderr",
          "text": [
            "100%|██████████| 654/654 [00:13<00:00, 49.24it/s]\n"
          ]
        },
        {
          "output_type": "stream",
          "name": "stdout",
          "text": [
            "Running Average TRAIN Loss :  3.1233980991060215\n",
            "Running Average TRAIN F1-Score :  0.27492414891081846\n",
            "Running Average VAL Loss :  4.714998114598941\n",
            "Running Average VAL F1-Score :  0.22153358304337278\n",
            "\n",
            "\n",
            "TRAINING FINISHED\n",
            "FINAL TRAINING SCORE :  0.27492414891081846\n",
            "FINAL VALIDATION SCORE :  0.22153358304337278\n"
          ]
        }
      ],
      "source": [
        "t5_model, t5_losses, t5_scores = train_model(embeddings_source=\"T5\",model_type=\"linear\")"
      ]
    },
    {
      "cell_type": "code",
      "execution_count": null,
      "metadata": {
        "colab": {
          "base_uri": "https://localhost:8080/"
        },
        "id": "ep6Wpyo69k96",
        "outputId": "cef1bd06-a265-4eda-ece8-300113b58c18"
      },
      "outputs": [
        {
          "output_type": "stream",
          "name": "stdout",
          "text": [
            "BEGIN TRAINING...\n",
            "EPOCH  1\n"
          ]
        },
        {
          "output_type": "stream",
          "name": "stderr",
          "text": [
            "100%|██████████| 654/654 [00:13<00:00, 48.04it/s]\n"
          ]
        },
        {
          "output_type": "stream",
          "name": "stdout",
          "text": [
            "Running Average TRAIN Loss :  5.380510315618019\n",
            "Running Average TRAIN F1-Score :  0.10960810876163776\n",
            "Running Average VAL Loss :  5.109397267642087\n",
            "Running Average VAL F1-Score :  0.12574740468639217\n",
            "\n",
            "\n",
            "EPOCH  2\n"
          ]
        },
        {
          "output_type": "stream",
          "name": "stderr",
          "text": [
            "100%|██████████| 654/654 [00:13<00:00, 48.65it/s]\n"
          ]
        },
        {
          "output_type": "stream",
          "name": "stdout",
          "text": [
            "Running Average TRAIN Loss :  4.926471546884706\n",
            "Running Average TRAIN F1-Score :  0.13879448299606642\n",
            "Running Average VAL Loss :  4.936730339102549\n",
            "Running Average VAL F1-Score :  0.14099581172204997\n",
            "\n",
            "\n",
            "EPOCH  3\n"
          ]
        },
        {
          "output_type": "stream",
          "name": "stderr",
          "text": [
            "100%|██████████| 654/654 [00:13<00:00, 49.77it/s]\n"
          ]
        },
        {
          "output_type": "stream",
          "name": "stdout",
          "text": [
            "Running Average TRAIN Loss :  4.7061055596086225\n",
            "Running Average TRAIN F1-Score :  0.15502608758867334\n",
            "Running Average VAL Loss :  4.861573310747539\n",
            "Running Average VAL F1-Score :  0.15111770889122192\n",
            "\n",
            "\n",
            "EPOCH  4\n"
          ]
        },
        {
          "output_type": "stream",
          "name": "stderr",
          "text": [
            "100%|██████████| 654/654 [00:13<00:00, 49.50it/s]\n"
          ]
        },
        {
          "output_type": "stream",
          "name": "stdout",
          "text": [
            "Running Average TRAIN Loss :  4.505582496296011\n",
            "Running Average TRAIN F1-Score :  0.1709451983919202\n",
            "Running Average VAL Loss :  4.769523088246176\n",
            "Running Average VAL F1-Score :  0.1635119282219508\n",
            "\n",
            "\n",
            "EPOCH  5\n"
          ]
        },
        {
          "output_type": "stream",
          "name": "stderr",
          "text": [
            "100%|██████████| 654/654 [00:12<00:00, 50.89it/s]\n"
          ]
        },
        {
          "output_type": "stream",
          "name": "stdout",
          "text": [
            "Running Average TRAIN Loss :  4.304399333962607\n",
            "Running Average TRAIN F1-Score :  0.18600215409691545\n",
            "Running Average VAL Loss :  4.738441186408474\n",
            "Running Average VAL F1-Score :  0.17663144677469175\n",
            "\n",
            "\n",
            "EPOCH  6\n"
          ]
        },
        {
          "output_type": "stream",
          "name": "stderr",
          "text": [
            "100%|██████████| 654/654 [00:13<00:00, 50.21it/s]\n"
          ]
        },
        {
          "output_type": "stream",
          "name": "stdout",
          "text": [
            "Running Average TRAIN Loss :  4.102145431603131\n",
            "Running Average TRAIN F1-Score :  0.20444322639466792\n",
            "Running Average VAL Loss :  4.717735715108375\n",
            "Running Average VAL F1-Score :  0.1879320209973479\n",
            "\n",
            "\n",
            "EPOCH  7\n"
          ]
        },
        {
          "output_type": "stream",
          "name": "stderr",
          "text": [
            "100%|██████████| 654/654 [00:13<00:00, 48.68it/s]\n"
          ]
        },
        {
          "output_type": "stream",
          "name": "stdout",
          "text": [
            "Running Average TRAIN Loss :  3.9035235187693837\n",
            "Running Average TRAIN F1-Score :  0.221018301875584\n",
            "Running Average VAL Loss :  4.729083799336054\n",
            "Running Average VAL F1-Score :  0.1972589270301061\n",
            "\n",
            "\n",
            "EPOCH  8\n"
          ]
        },
        {
          "output_type": "stream",
          "name": "stderr",
          "text": [
            "100%|██████████| 654/654 [00:13<00:00, 48.27it/s]\n"
          ]
        },
        {
          "output_type": "stream",
          "name": "stdout",
          "text": [
            "Running Average TRAIN Loss :  3.706835571049915\n",
            "Running Average TRAIN F1-Score :  0.2383333632796547\n",
            "Running Average VAL Loss :  4.7247714147175826\n",
            "Running Average VAL F1-Score :  0.20196290436672837\n",
            "\n",
            "\n",
            "EPOCH  9\n"
          ]
        },
        {
          "output_type": "stream",
          "name": "stderr",
          "text": [
            "100%|██████████| 654/654 [00:12<00:00, 50.33it/s]\n"
          ]
        },
        {
          "output_type": "stream",
          "name": "stdout",
          "text": [
            "Running Average TRAIN Loss :  3.2939880955109904\n",
            "Running Average TRAIN F1-Score :  0.26217221694255094\n",
            "Running Average VAL Loss :  4.71126947337634\n",
            "Running Average VAL F1-Score :  0.21491242026629515\n",
            "\n",
            "\n",
            "EPOCH  10\n"
          ]
        },
        {
          "output_type": "stream",
          "name": "stderr",
          "text": [
            "100%|██████████| 654/654 [00:13<00:00, 48.55it/s]\n"
          ]
        },
        {
          "output_type": "stream",
          "name": "stdout",
          "text": [
            "Running Average TRAIN Loss :  3.1949618850643846\n",
            "Running Average TRAIN F1-Score :  0.27313968694173596\n",
            "Running Average VAL Loss :  4.722400955957909\n",
            "Running Average VAL F1-Score :  0.2181674297133537\n",
            "\n",
            "\n",
            "EPOCH  11\n"
          ]
        },
        {
          "output_type": "stream",
          "name": "stderr",
          "text": [
            "100%|██████████| 654/654 [00:13<00:00, 48.41it/s]\n"
          ]
        },
        {
          "output_type": "stream",
          "name": "stdout",
          "text": [
            "Running Average TRAIN Loss :  3.141590927354422\n",
            "Running Average TRAIN F1-Score :  0.2789647308283625\n",
            "Running Average VAL Loss :  4.7536642355461645\n",
            "Running Average VAL F1-Score :  0.2220972039519924\n",
            "\n",
            "\n",
            "EPOCH  12\n"
          ]
        },
        {
          "output_type": "stream",
          "name": "stderr",
          "text": [
            "100%|██████████| 654/654 [00:13<00:00, 49.88it/s]\n"
          ]
        },
        {
          "output_type": "stream",
          "name": "stdout",
          "text": [
            "Running Average TRAIN Loss :  3.074884709597363\n",
            "Running Average TRAIN F1-Score :  0.2843685946014314\n",
            "Running Average VAL Loss :  4.753345411117762\n",
            "Running Average VAL F1-Score :  0.22061685687058594\n",
            "\n",
            "\n",
            "EPOCH  13\n"
          ]
        },
        {
          "output_type": "stream",
          "name": "stderr",
          "text": [
            "100%|██████████| 654/654 [00:13<00:00, 49.71it/s]\n"
          ]
        },
        {
          "output_type": "stream",
          "name": "stdout",
          "text": [
            "Running Average TRAIN Loss :  3.0678535171240475\n",
            "Running Average TRAIN F1-Score :  0.28560246442891773\n",
            "Running Average VAL Loss :  4.7567079426491095\n",
            "Running Average VAL F1-Score :  0.22286882343357556\n",
            "\n",
            "\n",
            "EPOCH  14\n"
          ]
        },
        {
          "output_type": "stream",
          "name": "stderr",
          "text": [
            "100%|██████████| 654/654 [00:13<00:00, 50.30it/s]\n"
          ]
        },
        {
          "output_type": "stream",
          "name": "stdout",
          "text": [
            "Running Average TRAIN Loss :  3.0601198385250314\n",
            "Running Average TRAIN F1-Score :  0.2872270378725609\n",
            "Running Average VAL Loss :  4.757319420984347\n",
            "Running Average VAL F1-Score :  0.22308668351336702\n",
            "\n",
            "\n",
            "EPOCH  15\n"
          ]
        },
        {
          "output_type": "stream",
          "name": "stderr",
          "text": [
            "100%|██████████| 654/654 [00:13<00:00, 49.34it/s]\n"
          ]
        },
        {
          "output_type": "stream",
          "name": "stdout",
          "text": [
            "Running Average TRAIN Loss :  3.059301207554085\n",
            "Running Average TRAIN F1-Score :  0.2871069089717457\n",
            "Running Average VAL Loss :  4.761035475012374\n",
            "Running Average VAL F1-Score :  0.22559839854501698\n",
            "\n",
            "\n",
            "EPOCH  16\n"
          ]
        },
        {
          "output_type": "stream",
          "name": "stderr",
          "text": [
            "100%|██████████| 654/654 [00:13<00:00, 49.11it/s]\n"
          ]
        },
        {
          "output_type": "stream",
          "name": "stdout",
          "text": [
            "Running Average TRAIN Loss :  3.0566206703856813\n",
            "Running Average TRAIN F1-Score :  0.28700730822046233\n",
            "Running Average VAL Loss :  4.752109883582755\n",
            "Running Average VAL F1-Score :  0.22268347605450511\n",
            "\n",
            "\n",
            "EPOCH  17\n"
          ]
        },
        {
          "output_type": "stream",
          "name": "stderr",
          "text": [
            "100%|██████████| 654/654 [00:13<00:00, 48.83it/s]\n"
          ]
        },
        {
          "output_type": "stream",
          "name": "stdout",
          "text": [
            "Running Average TRAIN Loss :  3.0571752841319513\n",
            "Running Average TRAIN F1-Score :  0.2870185047342507\n",
            "Running Average VAL Loss :  4.755090569796628\n",
            "Running Average VAL F1-Score :  0.2227098425365474\n",
            "\n",
            "\n",
            "EPOCH  18\n"
          ]
        },
        {
          "output_type": "stream",
          "name": "stderr",
          "text": [
            "100%|██████████| 654/654 [00:13<00:00, 48.97it/s]\n"
          ]
        },
        {
          "output_type": "stream",
          "name": "stdout",
          "text": [
            "Running Average TRAIN Loss :  3.0589638117256515\n",
            "Running Average TRAIN F1-Score :  0.2874091645355254\n",
            "Running Average VAL Loss :  4.762693166732788\n",
            "Running Average VAL F1-Score :  0.22162108898979344\n",
            "\n",
            "\n",
            "EPOCH  19\n"
          ]
        },
        {
          "output_type": "stream",
          "name": "stderr",
          "text": [
            "100%|██████████| 654/654 [00:13<00:00, 49.20it/s]\n"
          ]
        },
        {
          "output_type": "stream",
          "name": "stdout",
          "text": [
            "Running Average TRAIN Loss :  3.0573166173167916\n",
            "Running Average TRAIN F1-Score :  0.28645808555026303\n",
            "Running Average VAL Loss :  4.755567152206212\n",
            "Running Average VAL F1-Score :  0.22045215372353383\n",
            "\n",
            "\n",
            "EPOCH  20\n"
          ]
        },
        {
          "output_type": "stream",
          "name": "stderr",
          "text": [
            "100%|██████████| 654/654 [00:13<00:00, 49.44it/s]\n"
          ]
        },
        {
          "output_type": "stream",
          "name": "stdout",
          "text": [
            "Running Average TRAIN Loss :  3.0561429309553327\n",
            "Running Average TRAIN F1-Score :  0.28685405428894434\n",
            "Running Average VAL Loss :  4.7582635389615415\n",
            "Running Average VAL F1-Score :  0.22245458156278688\n",
            "\n",
            "\n",
            "TRAINING FINISHED\n",
            "FINAL TRAINING SCORE :  0.28685405428894434\n",
            "FINAL VALIDATION SCORE :  0.22245458156278688\n"
          ]
        }
      ],
      "source": [
        "protbert_model, protbert_losses, protbert_scores = train_model(embeddings_source=\"T5\",model_type=\"linear\")"
      ]
    },
    {
      "cell_type": "code",
      "execution_count": null,
      "metadata": {
        "colab": {
          "base_uri": "https://localhost:8080/",
          "height": 813
        },
        "id": "zz6-sk7v99QX",
        "outputId": "e8152776-95da-4ca0-81f0-937ff0c5c0f0"
      },
      "outputs": [
        {
          "output_type": "display_data",
          "data": {
            "text/plain": [
              "<Figure size 1000x400 with 1 Axes>"
            ],
            "image/png": "[encoded data removed]"
          },
          "metadata": {}
        },
        {
          "output_type": "display_data",
          "data": {
            "text/plain": [
              "<Figure size 1000x400 with 1 Axes>"
            ],
            "image/png": "[encoded data removed]"
          },
          "metadata": {}
        }
      ],
      "source": [
        "plt.figure(figsize = (10, 4))\n",
        "plt.plot(esm2_losses[\"val\"], label = \"ESM2\")\n",
        "plt.plot(t5_losses[\"val\"], label = \"T5\")\n",
        "plt.plot(protbert_losses[\"val\"], label = \"ProtBERT\")\n",
        "plt.plot(cat_losses[\"val\"], label = \"Concat\")\n",
        "plt.title(\"Validation Losses for # Vector Embeddings\")\n",
        "plt.xlabel(\"Epochs\")\n",
        "plt.ylabel(\"Average Loss\")\n",
        "plt.legend()\n",
        "plt.show()\n",
        "\n",
        "plt.figure(figsize = (10, 4))\n",
        "plt.plot(esm2_scores[\"val\"], label = \"ESM2\")\n",
        "plt.plot(t5_scores[\"val\"], label = \"T5\")\n",
        "plt.plot(protbert_scores[\"val\"], label = \"ProtBERT\")\n",
        "plt.plot(cat_scores[\"val\"], label = \"Concat\")\n",
        "plt.title(\"Validation F1-Scores for # Vector Embeddings\")\n",
        "plt.xlabel(\"Epochs\")\n",
        "plt.ylabel(\"Average F1-Score\")\n",
        "plt.legend()\n",
        "plt.show()"
      ]
    },
    {
      "cell_type": "markdown",
      "metadata": {
        "id": "dnh-ResZD_mp"
      },
      "source": [
        "## Make Predictions"
      ]
    },
    {
      "cell_type": "code",
      "execution_count": 32,
      "metadata": {
        "id": "3mTGiX1QMhLp"
      },
      "outputs": [],
      "source": [
        "def predict(embeddings_source):\n",
        "\n",
        "    test_dataset = ProteinSequenceDataset(datatype=\"test\", embeddings_source = embeddings_source)\n",
        "    test_dataloader = torch.utils.data.DataLoader(test_dataset, batch_size=1, shuffle=False)\n",
        "\n",
        "    if embeddings_source == \"T5\":\n",
        "        model = t5_model\n",
        "    if embeddings_source == \"ProtBERT\":\n",
        "        model = protbert_model\n",
        "    if embeddings_source == \"ESM2\":\n",
        "        model = esm2_model\n",
        "    if embeddings_source == \"Concat\":\n",
        "        model = cat_model\n",
        "\n",
        "    model.eval()\n",
        "\n",
        "    labels = pd.read_csv(CFG.train_terms_path, sep = \"\\t\")\n",
        "    top_terms = labels.groupby(\"term\")[\"EntryID\"].count().sort_values(ascending=False)\n",
        "    labels_names = [label.split('_')[-1] for label in label_cols]\n",
        "    print(\"GENERATE PREDICTION FOR TEST SET...\")\n",
        "\n",
        "    ids_ = np.empty(shape=(len(test_dataloader)*CFG.num_labels,), dtype=object)\n",
        "    go_terms_ = np.empty(shape=(len(test_dataloader)*CFG.num_labels,), dtype=object)\n",
        "    confs_ = np.empty(shape=(len(test_dataloader)*CFG.num_labels,), dtype=np.float32)\n",
        "\n",
        "    for i, (embed, id) in tqdm(enumerate(test_dataloader)):\n",
        "        embed = embed.to(CFG.device)\n",
        "        confs_[i*CFG.num_labels:(i+1)*CFG.num_labels] = torch.nn.functional.sigmoid(model(embed)).squeeze().detach().cpu().numpy()\n",
        "        ids_[i*CFG.num_labels:(i+1)*CFG.num_labels] = id[0]\n",
        "        go_terms_[i*CFG.num_labels:(i+1)*CFG.num_labels] = labels_names\n",
        "\n",
        "    submission_df = pd.DataFrame(data={\"Id\" : ids_, \"GO term\" : go_terms_, \"Confidence\" : confs_})\n",
        "    print(\"PREDICTIONS DONE\")\n",
        "    return submission_df"
      ]
    },
    {
      "cell_type": "code",
      "execution_count": 79,
      "metadata": {
        "colab": {
          "base_uri": "https://localhost:8080/"
        },
        "id": "-d0LIp9-EBm5",
        "outputId": "635523e0-6e54-4a37-833a-c9ac854bcec4"
      },
      "outputs": [
        {
          "output_type": "stream",
          "name": "stdout",
          "text": [
            "GENERATE PREDICTION FOR TEST SET...\n"
          ]
        },
        {
          "output_type": "stream",
          "name": "stderr",
          "text": [
            "141865it [01:35, 1482.84it/s]\n"
          ]
        },
        {
          "output_type": "stream",
          "name": "stdout",
          "text": [
            "PREDICTIONS DONE\n"
          ]
        }
      ],
      "source": [
        "initial_submission_df = predict(\"ProtBERT\")"
      ]
    },
    {
      "cell_type": "code",
      "source": [
        "print(len(initial_submission_df))\n",
        "print(len(initial_submission_df[\"GO term\"].unique()))\n",
        "initial_submission_df.head()"
      ],
      "metadata": {
        "colab": {
          "base_uri": "https://localhost:8080/",
          "height": 244
        },
        "id": "AQlGn3o_97y3",
        "outputId": "93314fad-c416-4d56-8e97-db8c9bf868aa"
      },
      "execution_count": 80,
      "outputs": [
        {
          "output_type": "stream",
          "name": "stdout",
          "text": [
            "10356145\n",
            "73\n"
          ]
        },
        {
          "output_type": "execute_result",
          "data": {
            "text/plain": [
              "       Id     GO term    Confidence\n",
              "0  Q9CQV8  GO:0000325  1.404903e-14\n",
              "1  Q9CQV8  GO:0000785  9.830178e-16\n",
              "2  Q9CQV8  GO:0005576  4.465114e-03\n",
              "3  Q9CQV8  GO:0005615  8.910729e-04\n",
              "4  Q9CQV8  GO:0005618  6.949610e-13"
            ],
            "text/html": [
              "\n",
              "  <div id=\"df-00d5e0c3-21b8-465a-b68d-b5c985d74fb8\">\n",
              "    <div class=\"colab-df-container\">\n",
              "      <div>\n",
              "<style scoped>\n",
              "    .dataframe tbody tr th:only-of-type {\n",
              "        vertical-align: middle;\n",
              "    }\n",
              "\n",
              "    .dataframe tbody tr th {\n",
              "        vertical-align: top;\n",
              "    }\n",
              "\n",
              "    .dataframe thead th {\n",
              "        text-align: right;\n",
              "    }\n",
              "</style>\n",
              "<table border=\"1\" class=\"dataframe\">\n",
              "  <thead>\n",
              "    <tr style=\"text-align: right;\">\n",
              "      <th></th>\n",
              "      <th>Id</th>\n",
              "      <th>GO term</th>\n",
              "      <th>Confidence</th>\n",
              "    </tr>\n",
              "  </thead>\n",
              "  <tbody>\n",
              "    <tr>\n",
              "      <th>0</th>\n",
              "      <td>Q9CQV8</td>\n",
              "      <td>GO:0000325</td>\n",
              "      <td>1.404903e-14</td>\n",
              "    </tr>\n",
              "    <tr>\n",
              "      <th>1</th>\n",
              "      <td>Q9CQV8</td>\n",
              "      <td>GO:0000785</td>\n",
              "      <td>9.830178e-16</td>\n",
              "    </tr>\n",
              "    <tr>\n",
              "      <th>2</th>\n",
              "      <td>Q9CQV8</td>\n",
              "      <td>GO:0005576</td>\n",
              "      <td>4.465114e-03</td>\n",
              "    </tr>\n",
              "    <tr>\n",
              "      <th>3</th>\n",
              "      <td>Q9CQV8</td>\n",
              "      <td>GO:0005615</td>\n",
              "      <td>8.910729e-04</td>\n",
              "    </tr>\n",
              "    <tr>\n",
              "      <th>4</th>\n",
              "      <td>Q9CQV8</td>\n",
              "      <td>GO:0005618</td>\n",
              "      <td>6.949610e-13</td>\n",
              "    </tr>\n",
              "  </tbody>\n",
              "</table>\n",
              "</div>\n",
              "      <button class=\"colab-df-convert\" onclick=\"convertToInteractive('df-00d5e0c3-21b8-465a-b68d-b5c985d74fb8')\"\n",
              "              title=\"Convert this dataframe to an interactive table.\"\n",
              "              style=\"display:none;\">\n",
              "        \n",
              "  <svg xmlns=\"http://www.w3.org/2000/svg\" height=\"24px\"viewBox=\"0 0 24 24\"\n",
              "       width=\"24px\">\n",
              "    <path d=\"M0 0h24v24H0V0z\" fill=\"none\"/>\n",
              "    <path d=\"M18.56 5.44l.94 2.06.94-2.06 2.06-.94-2.06-.94-.94-2.06-.94 2.06-2.06.94zm-11 1L8.5 8.5l.94-2.06 2.06-.94-2.06-.94L8.5 2.5l-.94 2.06-2.06.94zm10 10l.94 2.06.94-2.06 2.06-.94-2.06-.94-.94-2.06-.94 2.06-2.06.94z\"/><path d=\"M17.41 7.96l-1.37-1.37c-.4-.4-.92-.59-1.43-.59-.52 0-1.04.2-1.43.59L10.3 9.45l-7.72 7.72c-.78.78-.78 2.05 0 2.83L4 21.41c.39.39.9.59 1.41.59.51 0 1.02-.2 1.41-.59l7.78-7.78 2.81-2.81c.8-.78.8-2.07 0-2.86zM5.41 20L4 18.59l7.72-7.72 1.47 1.35L5.41 20z\"/>\n",
              "  </svg>\n",
              "      </button>\n",
              "      \n",
              "  <style>\n",
              "    .colab-df-container {\n",
              "      display:flex;\n",
              "      flex-wrap:wrap;\n",
              "      gap: 12px;\n",
              "    }\n",
              "\n",
              "    .colab-df-convert {\n",
              "      background-color: #E8F0FE;\n",
              "      border: none;\n",
              "      border-radius: 50%;\n",
              "      cursor: pointer;\n",
              "      display: none;\n",
              "      fill: #1967D2;\n",
              "      height: 32px;\n",
              "      padding: 0 0 0 0;\n",
              "      width: 32px;\n",
              "    }\n",
              "\n",
              "    .colab-df-convert:hover {\n",
              "      background-color: #E2EBFA;\n",
              "      box-shadow: 0px 1px 2px rgba(60, 64, 67, 0.3), 0px 1px 3px 1px rgba(60, 64, 67, 0.15);\n",
              "      fill: #174EA6;\n",
              "    }\n",
              "\n",
              "    [theme=dark] .colab-df-convert {\n",
              "      background-color: #3B4455;\n",
              "      fill: #D2E3FC;\n",
              "    }\n",
              "\n",
              "    [theme=dark] .colab-df-convert:hover {\n",
              "      background-color: #434B5C;\n",
              "      box-shadow: 0px 1px 3px 1px rgba(0, 0, 0, 0.15);\n",
              "      filter: drop-shadow(0px 1px 2px rgba(0, 0, 0, 0.3));\n",
              "      fill: #FFFFFF;\n",
              "    }\n",
              "  </style>\n",
              "\n",
              "      <script>\n",
              "        const buttonEl =\n",
              "          document.querySelector('#df-00d5e0c3-21b8-465a-b68d-b5c985d74fb8 button.colab-df-convert');\n",
              "        buttonEl.style.display =\n",
              "          google.colab.kernel.accessAllowed ? 'block' : 'none';\n",
              "\n",
              "        async function convertToInteractive(key) {\n",
              "          const element = document.querySelector('#df-00d5e0c3-21b8-465a-b68d-b5c985d74fb8');\n",
              "          const dataTable =\n",
              "            await google.colab.kernel.invokeFunction('convertToInteractive',\n",
              "                                                     [key], {});\n",
              "          if (!dataTable) return;\n",
              "\n",
              "          const docLinkHtml = 'Like what you see? Visit the ' +\n",
              "            '<a target=\"_blank\" href=https://colab.research.google.com/notebooks/data_table.ipynb>data table notebook</a>'\n",
              "            + ' to learn more about interactive tables.';\n",
              "          element.innerHTML = '';\n",
              "          dataTable['output_type'] = 'display_data';\n",
              "          await google.colab.output.renderOutput(dataTable, element);\n",
              "          const docLink = document.createElement('div');\n",
              "          docLink.innerHTML = docLinkHtml;\n",
              "          element.appendChild(docLink);\n",
              "        }\n",
              "      </script>\n",
              "    </div>\n",
              "  </div>\n",
              "  "
            ]
          },
          "metadata": {},
          "execution_count": 80
        }
      ]
    },
    {
      "cell_type": "code",
      "source": [
        "id_list = []\n",
        "go_term_list = []\n",
        "confidence_list = []\n",
        "for rw in initial_submission_df.values:\n",
        "  edges = CCO_ordered_edges[rw[1]]\n",
        "  for edge in edges:\n",
        "    id_list.append(rw[0])\n",
        "    go_term_list.append(edge)\n",
        "    confidence_list.append(rw[2])"
      ],
      "metadata": {
        "id": "d78dRJCRFhIb"
      },
      "execution_count": 81,
      "outputs": []
    },
    {
      "cell_type": "code",
      "source": [
        "additional_labels = pd.DataFrame({'Id': id_list, 'GO term': go_term_list, 'Confidence': confidence_list})"
      ],
      "metadata": {
        "id": "HzCP3gbmBr-H"
      },
      "execution_count": 82,
      "outputs": []
    },
    {
      "cell_type": "code",
      "source": [
        "submission_df = pd.concat([initial_submission_df, additional_labels]).drop_duplicates(['Id', 'GO term']).reset_index(drop=True)"
      ],
      "metadata": {
        "id": "IqseLdHKGRKn"
      },
      "execution_count": 83,
      "outputs": []
    },
    {
      "cell_type": "code",
      "source": [
        "print(len(submission_df))\n",
        "print(len(submission_df[\"GO term\"].unique()))\n",
        "submission_df.head()"
      ],
      "metadata": {
        "colab": {
          "base_uri": "https://localhost:8080/",
          "height": 244
        },
        "id": "VDgTTFPGGeMs",
        "outputId": "d833435b-1b93-446a-b5d7-85f1cca047da"
      },
      "execution_count": 84,
      "outputs": [
        {
          "output_type": "stream",
          "name": "stdout",
          "text": [
            "15037584\n",
            "106\n"
          ]
        },
        {
          "output_type": "execute_result",
          "data": {
            "text/plain": [
              "       Id     GO term    Confidence\n",
              "0  Q9CQV8  GO:0000325  1.404903e-14\n",
              "1  Q9CQV8  GO:0000785  9.830178e-16\n",
              "2  Q9CQV8  GO:0005576  4.465114e-03\n",
              "3  Q9CQV8  GO:0005615  8.910729e-04\n",
              "4  Q9CQV8  GO:0005618  6.949610e-13"
            ],
            "text/html": [
              "\n",
              "  <div id=\"df-0caa0e57-85ab-46ae-a94d-3ea5ecf9eb76\">\n",
              "    <div class=\"colab-df-container\">\n",
              "      <div>\n",
              "<style scoped>\n",
              "    .dataframe tbody tr th:only-of-type {\n",
              "        vertical-align: middle;\n",
              "    }\n",
              "\n",
              "    .dataframe tbody tr th {\n",
              "        vertical-align: top;\n",
              "    }\n",
              "\n",
              "    .dataframe thead th {\n",
              "        text-align: right;\n",
              "    }\n",
              "</style>\n",
              "<table border=\"1\" class=\"dataframe\">\n",
              "  <thead>\n",
              "    <tr style=\"text-align: right;\">\n",
              "      <th></th>\n",
              "      <th>Id</th>\n",
              "      <th>GO term</th>\n",
              "      <th>Confidence</th>\n",
              "    </tr>\n",
              "  </thead>\n",
              "  <tbody>\n",
              "    <tr>\n",
              "      <th>0</th>\n",
              "      <td>Q9CQV8</td>\n",
              "      <td>GO:0000325</td>\n",
              "      <td>1.404903e-14</td>\n",
              "    </tr>\n",
              "    <tr>\n",
              "      <th>1</th>\n",
              "      <td>Q9CQV8</td>\n",
              "      <td>GO:0000785</td>\n",
              "      <td>9.830178e-16</td>\n",
              "    </tr>\n",
              "    <tr>\n",
              "      <th>2</th>\n",
              "      <td>Q9CQV8</td>\n",
              "      <td>GO:0005576</td>\n",
              "      <td>4.465114e-03</td>\n",
              "    </tr>\n",
              "    <tr>\n",
              "      <th>3</th>\n",
              "      <td>Q9CQV8</td>\n",
              "      <td>GO:0005615</td>\n",
              "      <td>8.910729e-04</td>\n",
              "    </tr>\n",
              "    <tr>\n",
              "      <th>4</th>\n",
              "      <td>Q9CQV8</td>\n",
              "      <td>GO:0005618</td>\n",
              "      <td>6.949610e-13</td>\n",
              "    </tr>\n",
              "  </tbody>\n",
              "</table>\n",
              "</div>\n",
              "      <button class=\"colab-df-convert\" onclick=\"convertToInteractive('df-0caa0e57-85ab-46ae-a94d-3ea5ecf9eb76')\"\n",
              "              title=\"Convert this dataframe to an interactive table.\"\n",
              "              style=\"display:none;\">\n",
              "        \n",
              "  <svg xmlns=\"http://www.w3.org/2000/svg\" height=\"24px\"viewBox=\"0 0 24 24\"\n",
              "       width=\"24px\">\n",
              "    <path d=\"M0 0h24v24H0V0z\" fill=\"none\"/>\n",
              "    <path d=\"M18.56 5.44l.94 2.06.94-2.06 2.06-.94-2.06-.94-.94-2.06-.94 2.06-2.06.94zm-11 1L8.5 8.5l.94-2.06 2.06-.94-2.06-.94L8.5 2.5l-.94 2.06-2.06.94zm10 10l.94 2.06.94-2.06 2.06-.94-2.06-.94-.94-2.06-.94 2.06-2.06.94z\"/><path d=\"M17.41 7.96l-1.37-1.37c-.4-.4-.92-.59-1.43-.59-.52 0-1.04.2-1.43.59L10.3 9.45l-7.72 7.72c-.78.78-.78 2.05 0 2.83L4 21.41c.39.39.9.59 1.41.59.51 0 1.02-.2 1.41-.59l7.78-7.78 2.81-2.81c.8-.78.8-2.07 0-2.86zM5.41 20L4 18.59l7.72-7.72 1.47 1.35L5.41 20z\"/>\n",
              "  </svg>\n",
              "      </button>\n",
              "      \n",
              "  <style>\n",
              "    .colab-df-container {\n",
              "      display:flex;\n",
              "      flex-wrap:wrap;\n",
              "      gap: 12px;\n",
              "    }\n",
              "\n",
              "    .colab-df-convert {\n",
              "      background-color: #E8F0FE;\n",
              "      border: none;\n",
              "      border-radius: 50%;\n",
              "      cursor: pointer;\n",
              "      display: none;\n",
              "      fill: #1967D2;\n",
              "      height: 32px;\n",
              "      padding: 0 0 0 0;\n",
              "      width: 32px;\n",
              "    }\n",
              "\n",
              "    .colab-df-convert:hover {\n",
              "      background-color: #E2EBFA;\n",
              "      box-shadow: 0px 1px 2px rgba(60, 64, 67, 0.3), 0px 1px 3px 1px rgba(60, 64, 67, 0.15);\n",
              "      fill: #174EA6;\n",
              "    }\n",
              "\n",
              "    [theme=dark] .colab-df-convert {\n",
              "      background-color: #3B4455;\n",
              "      fill: #D2E3FC;\n",
              "    }\n",
              "\n",
              "    [theme=dark] .colab-df-convert:hover {\n",
              "      background-color: #434B5C;\n",
              "      box-shadow: 0px 1px 3px 1px rgba(0, 0, 0, 0.15);\n",
              "      filter: drop-shadow(0px 1px 2px rgba(0, 0, 0, 0.3));\n",
              "      fill: #FFFFFF;\n",
              "    }\n",
              "  </style>\n",
              "\n",
              "      <script>\n",
              "        const buttonEl =\n",
              "          document.querySelector('#df-0caa0e57-85ab-46ae-a94d-3ea5ecf9eb76 button.colab-df-convert');\n",
              "        buttonEl.style.display =\n",
              "          google.colab.kernel.accessAllowed ? 'block' : 'none';\n",
              "\n",
              "        async function convertToInteractive(key) {\n",
              "          const element = document.querySelector('#df-0caa0e57-85ab-46ae-a94d-3ea5ecf9eb76');\n",
              "          const dataTable =\n",
              "            await google.colab.kernel.invokeFunction('convertToInteractive',\n",
              "                                                     [key], {});\n",
              "          if (!dataTable) return;\n",
              "\n",
              "          const docLinkHtml = 'Like what you see? Visit the ' +\n",
              "            '<a target=\"_blank\" href=https://colab.research.google.com/notebooks/data_table.ipynb>data table notebook</a>'\n",
              "            + ' to learn more about interactive tables.';\n",
              "          element.innerHTML = '';\n",
              "          dataTable['output_type'] = 'display_data';\n",
              "          await google.colab.output.renderOutput(dataTable, element);\n",
              "          const docLink = document.createElement('div');\n",
              "          docLink.innerHTML = docLinkHtml;\n",
              "          element.appendChild(docLink);\n",
              "        }\n",
              "      </script>\n",
              "    </div>\n",
              "  </div>\n",
              "  "
            ]
          },
          "metadata": {},
          "execution_count": 84
        }
      ]
    },
    {
      "cell_type": "code",
      "source": [
        "submission_df['Id'].unique()[:5]"
      ],
      "metadata": {
        "colab": {
          "base_uri": "https://localhost:8080/"
        },
        "id": "bsmbvtm5JEYM",
        "outputId": "c44b2644-f333-4f10-ddf2-f609bb2617b2"
      },
      "execution_count": 85,
      "outputs": [
        {
          "output_type": "execute_result",
          "data": {
            "text/plain": [
              "array(['Q9CQV8', 'P62259', 'P68510', 'P61982', 'O70456'], dtype=object)"
            ]
          },
          "metadata": {},
          "execution_count": 85
        }
      ]
    },
    {
      "cell_type": "code",
      "source": [
        "protein_id = 'P68510'\n",
        "subset_df = submission_df[submission_df['Id'] == protein_id].reset_index(drop=True)"
      ],
      "metadata": {
        "id": "5jSzB5P8KnrD"
      },
      "execution_count": 86,
      "outputs": []
    },
    {
      "cell_type": "code",
      "source": [
        "subset_df.loc[subset_df['Confidence'].argmax()]"
      ],
      "metadata": {
        "colab": {
          "base_uri": "https://localhost:8080/"
        },
        "id": "Se1hlgylHp2e",
        "outputId": "7fb38753-87ea-4c60-d39d-1156fa8fc194"
      },
      "execution_count": 87,
      "outputs": [
        {
          "output_type": "execute_result",
          "data": {
            "text/plain": [
              "Id                P68510\n",
              "GO term       GO:0005829\n",
              "Confidence      0.999999\n",
              "Name: 22, dtype: object"
            ]
          },
          "metadata": {},
          "execution_count": 87
        }
      ]
    },
    {
      "cell_type": "code",
      "source": [
        "subset_df.sort_values(['Confidence'], ascending=False).head(7)"
      ],
      "metadata": {
        "colab": {
          "base_uri": "https://localhost:8080/",
          "height": 269
        },
        "id": "VtTBn_RrLf9Y",
        "outputId": "651df0b7-fa0c-4ea5-edcf-56a2108f387d"
      },
      "execution_count": 89,
      "outputs": [
        {
          "output_type": "execute_result",
          "data": {
            "text/plain": [
              "        Id     GO term  Confidence\n",
              "22  P68510  GO:0005829    0.999999\n",
              "68  P68510  GO:0110165    0.999804\n",
              "24  P68510  GO:0005886    0.998719\n",
              "49  P68510  GO:0043025    0.941316\n",
              "96  P68510  GO:0044297    0.941316\n",
              "79  P68510  GO:0031974    0.938896\n",
              "13  P68510  GO:0005759    0.938896"
            ],
            "text/html": [
              "\n",
              "  <div id=\"df-570d0af4-b784-4700-b7b4-60468e54c31f\">\n",
              "    <div class=\"colab-df-container\">\n",
              "      <div>\n",
              "<style scoped>\n",
              "    .dataframe tbody tr th:only-of-type {\n",
              "        vertical-align: middle;\n",
              "    }\n",
              "\n",
              "    .dataframe tbody tr th {\n",
              "        vertical-align: top;\n",
              "    }\n",
              "\n",
              "    .dataframe thead th {\n",
              "        text-align: right;\n",
              "    }\n",
              "</style>\n",
              "<table border=\"1\" class=\"dataframe\">\n",
              "  <thead>\n",
              "    <tr style=\"text-align: right;\">\n",
              "      <th></th>\n",
              "      <th>Id</th>\n",
              "      <th>GO term</th>\n",
              "      <th>Confidence</th>\n",
              "    </tr>\n",
              "  </thead>\n",
              "  <tbody>\n",
              "    <tr>\n",
              "      <th>22</th>\n",
              "      <td>P68510</td>\n",
              "      <td>GO:0005829</td>\n",
              "      <td>0.999999</td>\n",
              "    </tr>\n",
              "    <tr>\n",
              "      <th>68</th>\n",
              "      <td>P68510</td>\n",
              "      <td>GO:0110165</td>\n",
              "      <td>0.999804</td>\n",
              "    </tr>\n",
              "    <tr>\n",
              "      <th>24</th>\n",
              "      <td>P68510</td>\n",
              "      <td>GO:0005886</td>\n",
              "      <td>0.998719</td>\n",
              "    </tr>\n",
              "    <tr>\n",
              "      <th>49</th>\n",
              "      <td>P68510</td>\n",
              "      <td>GO:0043025</td>\n",
              "      <td>0.941316</td>\n",
              "    </tr>\n",
              "    <tr>\n",
              "      <th>96</th>\n",
              "      <td>P68510</td>\n",
              "      <td>GO:0044297</td>\n",
              "      <td>0.941316</td>\n",
              "    </tr>\n",
              "    <tr>\n",
              "      <th>79</th>\n",
              "      <td>P68510</td>\n",
              "      <td>GO:0031974</td>\n",
              "      <td>0.938896</td>\n",
              "    </tr>\n",
              "    <tr>\n",
              "      <th>13</th>\n",
              "      <td>P68510</td>\n",
              "      <td>GO:0005759</td>\n",
              "      <td>0.938896</td>\n",
              "    </tr>\n",
              "  </tbody>\n",
              "</table>\n",
              "</div>\n",
              "      <button class=\"colab-df-convert\" onclick=\"convertToInteractive('df-570d0af4-b784-4700-b7b4-60468e54c31f')\"\n",
              "              title=\"Convert this dataframe to an interactive table.\"\n",
              "              style=\"display:none;\">\n",
              "        \n",
              "  <svg xmlns=\"http://www.w3.org/2000/svg\" height=\"24px\"viewBox=\"0 0 24 24\"\n",
              "       width=\"24px\">\n",
              "    <path d=\"M0 0h24v24H0V0z\" fill=\"none\"/>\n",
              "    <path d=\"M18.56 5.44l.94 2.06.94-2.06 2.06-.94-2.06-.94-.94-2.06-.94 2.06-2.06.94zm-11 1L8.5 8.5l.94-2.06 2.06-.94-2.06-.94L8.5 2.5l-.94 2.06-2.06.94zm10 10l.94 2.06.94-2.06 2.06-.94-2.06-.94-.94-2.06-.94 2.06-2.06.94z\"/><path d=\"M17.41 7.96l-1.37-1.37c-.4-.4-.92-.59-1.43-.59-.52 0-1.04.2-1.43.59L10.3 9.45l-7.72 7.72c-.78.78-.78 2.05 0 2.83L4 21.41c.39.39.9.59 1.41.59.51 0 1.02-.2 1.41-.59l7.78-7.78 2.81-2.81c.8-.78.8-2.07 0-2.86zM5.41 20L4 18.59l7.72-7.72 1.47 1.35L5.41 20z\"/>\n",
              "  </svg>\n",
              "      </button>\n",
              "      \n",
              "  <style>\n",
              "    .colab-df-container {\n",
              "      display:flex;\n",
              "      flex-wrap:wrap;\n",
              "      gap: 12px;\n",
              "    }\n",
              "\n",
              "    .colab-df-convert {\n",
              "      background-color: #E8F0FE;\n",
              "      border: none;\n",
              "      border-radius: 50%;\n",
              "      cursor: pointer;\n",
              "      display: none;\n",
              "      fill: #1967D2;\n",
              "      height: 32px;\n",
              "      padding: 0 0 0 0;\n",
              "      width: 32px;\n",
              "    }\n",
              "\n",
              "    .colab-df-convert:hover {\n",
              "      background-color: #E2EBFA;\n",
              "      box-shadow: 0px 1px 2px rgba(60, 64, 67, 0.3), 0px 1px 3px 1px rgba(60, 64, 67, 0.15);\n",
              "      fill: #174EA6;\n",
              "    }\n",
              "\n",
              "    [theme=dark] .colab-df-convert {\n",
              "      background-color: #3B4455;\n",
              "      fill: #D2E3FC;\n",
              "    }\n",
              "\n",
              "    [theme=dark] .colab-df-convert:hover {\n",
              "      background-color: #434B5C;\n",
              "      box-shadow: 0px 1px 3px 1px rgba(0, 0, 0, 0.15);\n",
              "      filter: drop-shadow(0px 1px 2px rgba(0, 0, 0, 0.3));\n",
              "      fill: #FFFFFF;\n",
              "    }\n",
              "  </style>\n",
              "\n",
              "      <script>\n",
              "        const buttonEl =\n",
              "          document.querySelector('#df-570d0af4-b784-4700-b7b4-60468e54c31f button.colab-df-convert');\n",
              "        buttonEl.style.display =\n",
              "          google.colab.kernel.accessAllowed ? 'block' : 'none';\n",
              "\n",
              "        async function convertToInteractive(key) {\n",
              "          const element = document.querySelector('#df-570d0af4-b784-4700-b7b4-60468e54c31f');\n",
              "          const dataTable =\n",
              "            await google.colab.kernel.invokeFunction('convertToInteractive',\n",
              "                                                     [key], {});\n",
              "          if (!dataTable) return;\n",
              "\n",
              "          const docLinkHtml = 'Like what you see? Visit the ' +\n",
              "            '<a target=\"_blank\" href=https://colab.research.google.com/notebooks/data_table.ipynb>data table notebook</a>'\n",
              "            + ' to learn more about interactive tables.';\n",
              "          element.innerHTML = '';\n",
              "          dataTable['output_type'] = 'display_data';\n",
              "          await google.colab.output.renderOutput(dataTable, element);\n",
              "          const docLink = document.createElement('div');\n",
              "          docLink.innerHTML = docLinkHtml;\n",
              "          element.appendChild(docLink);\n",
              "        }\n",
              "      </script>\n",
              "    </div>\n",
              "  </div>\n",
              "  "
            ]
          },
          "metadata": {},
          "execution_count": 89
        }
      ]
    },
    {
      "cell_type": "code",
      "source": [
        "train_terms[(train_terms['EntryID'] == protein_id) & (train_terms['aspect'] == 'CCO')]"
      ],
      "metadata": {
        "colab": {
          "base_uri": "https://localhost:8080/",
          "height": 614
        },
        "id": "t4xWWYC-H3Ot",
        "outputId": "f9189227-b5ae-43b4-cd3d-19de7c0e3a25"
      },
      "execution_count": 75,
      "outputs": [
        {
          "output_type": "execute_result",
          "data": {
            "text/plain": [
              "        EntryID        term aspect        ia\n",
              "4032360  P68510  GO:0005622    CCO  0.366945\n",
              "4032361  P68510  GO:0060076    CCO  4.520144\n",
              "4032362  P68510  GO:0014704    CCO  0.525320\n",
              "4032363  P68510  GO:0044291    CCO  3.752804\n",
              "4032364  P68510  GO:0005575    CCO  0.000000\n",
              "4032365  P68510  GO:0098984    CCO  2.297752\n",
              "4032366  P68510  GO:0098978    CCO  1.802445\n",
              "4032367  P68510  GO:0032279    CCO  0.102393\n",
              "4032368  P68510  GO:0005829    CCO  1.545978\n",
              "4032369  P68510  GO:0150048    CCO  1.415037\n",
              "4032370  P68510  GO:0098793    CCO  1.272733\n",
              "4032371  P68510  GO:0110165    CCO  0.025471\n",
              "4032372  P68510  GO:0045202    CCO  0.896962\n",
              "4032373  P68510  GO:0070161    CCO  1.194188\n",
              "4032374  P68510  GO:0005911    CCO  0.403000\n",
              "4032375  P68510  GO:0005737    CCO  0.412201\n",
              "4032376  P68510  GO:0030054    CCO  3.861343\n",
              "4032377  P68510  GO:0098985    CCO  1.297681"
            ],
            "text/html": [
              "\n",
              "  <div id=\"df-816dabab-c0ff-4704-b4f5-106a0092dc54\">\n",
              "    <div class=\"colab-df-container\">\n",
              "      <div>\n",
              "<style scoped>\n",
              "    .dataframe tbody tr th:only-of-type {\n",
              "        vertical-align: middle;\n",
              "    }\n",
              "\n",
              "    .dataframe tbody tr th {\n",
              "        vertical-align: top;\n",
              "    }\n",
              "\n",
              "    .dataframe thead th {\n",
              "        text-align: right;\n",
              "    }\n",
              "</style>\n",
              "<table border=\"1\" class=\"dataframe\">\n",
              "  <thead>\n",
              "    <tr style=\"text-align: right;\">\n",
              "      <th></th>\n",
              "      <th>EntryID</th>\n",
              "      <th>term</th>\n",
              "      <th>aspect</th>\n",
              "      <th>ia</th>\n",
              "    </tr>\n",
              "  </thead>\n",
              "  <tbody>\n",
              "    <tr>\n",
              "      <th>4032360</th>\n",
              "      <td>P68510</td>\n",
              "      <td>GO:0005622</td>\n",
              "      <td>CCO</td>\n",
              "      <td>0.366945</td>\n",
              "    </tr>\n",
              "    <tr>\n",
              "      <th>4032361</th>\n",
              "      <td>P68510</td>\n",
              "      <td>GO:0060076</td>\n",
              "      <td>CCO</td>\n",
              "      <td>4.520144</td>\n",
              "    </tr>\n",
              "    <tr>\n",
              "      <th>4032362</th>\n",
              "      <td>P68510</td>\n",
              "      <td>GO:0014704</td>\n",
              "      <td>CCO</td>\n",
              "      <td>0.525320</td>\n",
              "    </tr>\n",
              "    <tr>\n",
              "      <th>4032363</th>\n",
              "      <td>P68510</td>\n",
              "      <td>GO:0044291</td>\n",
              "      <td>CCO</td>\n",
              "      <td>3.752804</td>\n",
              "    </tr>\n",
              "    <tr>\n",
              "      <th>4032364</th>\n",
              "      <td>P68510</td>\n",
              "      <td>GO:0005575</td>\n",
              "      <td>CCO</td>\n",
              "      <td>0.000000</td>\n",
              "    </tr>\n",
              "    <tr>\n",
              "      <th>4032365</th>\n",
              "      <td>P68510</td>\n",
              "      <td>GO:0098984</td>\n",
              "      <td>CCO</td>\n",
              "      <td>2.297752</td>\n",
              "    </tr>\n",
              "    <tr>\n",
              "      <th>4032366</th>\n",
              "      <td>P68510</td>\n",
              "      <td>GO:0098978</td>\n",
              "      <td>CCO</td>\n",
              "      <td>1.802445</td>\n",
              "    </tr>\n",
              "    <tr>\n",
              "      <th>4032367</th>\n",
              "      <td>P68510</td>\n",
              "      <td>GO:0032279</td>\n",
              "      <td>CCO</td>\n",
              "      <td>0.102393</td>\n",
              "    </tr>\n",
              "    <tr>\n",
              "      <th>4032368</th>\n",
              "      <td>P68510</td>\n",
              "      <td>GO:0005829</td>\n",
              "      <td>CCO</td>\n",
              "      <td>1.545978</td>\n",
              "    </tr>\n",
              "    <tr>\n",
              "      <th>4032369</th>\n",
              "      <td>P68510</td>\n",
              "      <td>GO:0150048</td>\n",
              "      <td>CCO</td>\n",
              "      <td>1.415037</td>\n",
              "    </tr>\n",
              "    <tr>\n",
              "      <th>4032370</th>\n",
              "      <td>P68510</td>\n",
              "      <td>GO:0098793</td>\n",
              "      <td>CCO</td>\n",
              "      <td>1.272733</td>\n",
              "    </tr>\n",
              "    <tr>\n",
              "      <th>4032371</th>\n",
              "      <td>P68510</td>\n",
              "      <td>GO:0110165</td>\n",
              "      <td>CCO</td>\n",
              "      <td>0.025471</td>\n",
              "    </tr>\n",
              "    <tr>\n",
              "      <th>4032372</th>\n",
              "      <td>P68510</td>\n",
              "      <td>GO:0045202</td>\n",
              "      <td>CCO</td>\n",
              "      <td>0.896962</td>\n",
              "    </tr>\n",
              "    <tr>\n",
              "      <th>4032373</th>\n",
              "      <td>P68510</td>\n",
              "      <td>GO:0070161</td>\n",
              "      <td>CCO</td>\n",
              "      <td>1.194188</td>\n",
              "    </tr>\n",
              "    <tr>\n",
              "      <th>4032374</th>\n",
              "      <td>P68510</td>\n",
              "      <td>GO:0005911</td>\n",
              "      <td>CCO</td>\n",
              "      <td>0.403000</td>\n",
              "    </tr>\n",
              "    <tr>\n",
              "      <th>4032375</th>\n",
              "      <td>P68510</td>\n",
              "      <td>GO:0005737</td>\n",
              "      <td>CCO</td>\n",
              "      <td>0.412201</td>\n",
              "    </tr>\n",
              "    <tr>\n",
              "      <th>4032376</th>\n",
              "      <td>P68510</td>\n",
              "      <td>GO:0030054</td>\n",
              "      <td>CCO</td>\n",
              "      <td>3.861343</td>\n",
              "    </tr>\n",
              "    <tr>\n",
              "      <th>4032377</th>\n",
              "      <td>P68510</td>\n",
              "      <td>GO:0098985</td>\n",
              "      <td>CCO</td>\n",
              "      <td>1.297681</td>\n",
              "    </tr>\n",
              "  </tbody>\n",
              "</table>\n",
              "</div>\n",
              "      <button class=\"colab-df-convert\" onclick=\"convertToInteractive('df-816dabab-c0ff-4704-b4f5-106a0092dc54')\"\n",
              "              title=\"Convert this dataframe to an interactive table.\"\n",
              "              style=\"display:none;\">\n",
              "        \n",
              "  <svg xmlns=\"http://www.w3.org/2000/svg\" height=\"24px\"viewBox=\"0 0 24 24\"\n",
              "       width=\"24px\">\n",
              "    <path d=\"M0 0h24v24H0V0z\" fill=\"none\"/>\n",
              "    <path d=\"M18.56 5.44l.94 2.06.94-2.06 2.06-.94-2.06-.94-.94-2.06-.94 2.06-2.06.94zm-11 1L8.5 8.5l.94-2.06 2.06-.94-2.06-.94L8.5 2.5l-.94 2.06-2.06.94zm10 10l.94 2.06.94-2.06 2.06-.94-2.06-.94-.94-2.06-.94 2.06-2.06.94z\"/><path d=\"M17.41 7.96l-1.37-1.37c-.4-.4-.92-.59-1.43-.59-.52 0-1.04.2-1.43.59L10.3 9.45l-7.72 7.72c-.78.78-.78 2.05 0 2.83L4 21.41c.39.39.9.59 1.41.59.51 0 1.02-.2 1.41-.59l7.78-7.78 2.81-2.81c.8-.78.8-2.07 0-2.86zM5.41 20L4 18.59l7.72-7.72 1.47 1.35L5.41 20z\"/>\n",
              "  </svg>\n",
              "      </button>\n",
              "      \n",
              "  <style>\n",
              "    .colab-df-container {\n",
              "      display:flex;\n",
              "      flex-wrap:wrap;\n",
              "      gap: 12px;\n",
              "    }\n",
              "\n",
              "    .colab-df-convert {\n",
              "      background-color: #E8F0FE;\n",
              "      border: none;\n",
              "      border-radius: 50%;\n",
              "      cursor: pointer;\n",
              "      display: none;\n",
              "      fill: #1967D2;\n",
              "      height: 32px;\n",
              "      padding: 0 0 0 0;\n",
              "      width: 32px;\n",
              "    }\n",
              "\n",
              "    .colab-df-convert:hover {\n",
              "      background-color: #E2EBFA;\n",
              "      box-shadow: 0px 1px 2px rgba(60, 64, 67, 0.3), 0px 1px 3px 1px rgba(60, 64, 67, 0.15);\n",
              "      fill: #174EA6;\n",
              "    }\n",
              "\n",
              "    [theme=dark] .colab-df-convert {\n",
              "      background-color: #3B4455;\n",
              "      fill: #D2E3FC;\n",
              "    }\n",
              "\n",
              "    [theme=dark] .colab-df-convert:hover {\n",
              "      background-color: #434B5C;\n",
              "      box-shadow: 0px 1px 3px 1px rgba(0, 0, 0, 0.15);\n",
              "      filter: drop-shadow(0px 1px 2px rgba(0, 0, 0, 0.3));\n",
              "      fill: #FFFFFF;\n",
              "    }\n",
              "  </style>\n",
              "\n",
              "      <script>\n",
              "        const buttonEl =\n",
              "          document.querySelector('#df-816dabab-c0ff-4704-b4f5-106a0092dc54 button.colab-df-convert');\n",
              "        buttonEl.style.display =\n",
              "          google.colab.kernel.accessAllowed ? 'block' : 'none';\n",
              "\n",
              "        async function convertToInteractive(key) {\n",
              "          const element = document.querySelector('#df-816dabab-c0ff-4704-b4f5-106a0092dc54');\n",
              "          const dataTable =\n",
              "            await google.colab.kernel.invokeFunction('convertToInteractive',\n",
              "                                                     [key], {});\n",
              "          if (!dataTable) return;\n",
              "\n",
              "          const docLinkHtml = 'Like what you see? Visit the ' +\n",
              "            '<a target=\"_blank\" href=https://colab.research.google.com/notebooks/data_table.ipynb>data table notebook</a>'\n",
              "            + ' to learn more about interactive tables.';\n",
              "          element.innerHTML = '';\n",
              "          dataTable['output_type'] = 'display_data';\n",
              "          await google.colab.output.renderOutput(dataTable, element);\n",
              "          const docLink = document.createElement('div');\n",
              "          docLink.innerHTML = docLinkHtml;\n",
              "          element.appendChild(docLink);\n",
              "        }\n",
              "      </script>\n",
              "    </div>\n",
              "  </div>\n",
              "  "
            ]
          },
          "metadata": {},
          "execution_count": 75
        }
      ]
    },
    {
      "cell_type": "code",
      "execution_count": null,
      "metadata": {
        "id": "kjTYlB0HGYs7"
      },
      "outputs": [],
      "source": [
        "submission_df.to_csv('submission.tsv', sep='\\t', index=False)"
      ]
    },
    {
      "cell_type": "code",
      "source": [],
      "metadata": {
        "id": "a-QuZsMDIU2Z"
      },
      "execution_count": null,
      "outputs": []
    }
  ],
  "metadata": {
    "accelerator": "GPU",
    "colab": {
      "machine_shape": "hm",
      "provenance": [],
      "authorship_tag": "ABX9TyPTqtHbpAKTyiGp1iJOl9sg",
      "include_colab_link": true
    },
    "kernelspec": {
      "display_name": "Python 3",
      "name": "python3"
    },
    "language_info": {
      "name": "python"
    }
  },
  "nbformat": 4,
  "nbformat_minor": 0
}