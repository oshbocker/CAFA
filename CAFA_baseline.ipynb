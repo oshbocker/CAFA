{
  "cells": [
    {
      "cell_type": "markdown",
      "metadata": {
        "id": "view-in-github",
        "colab_type": "text"
      },
      "source": [
        "<a href=\"https://colab.research.google.com/github/oshbocker/CAFA/blob/main/CAFA_baseline.ipynb\" target=\"_parent\"><img src=\"https://colab.research.google.com/assets/colab-badge.svg\" alt=\"Open In Colab\"/></a>"
      ]
    },
    {
      "cell_type": "code",
      "execution_count": 1,
      "metadata": {
        "id": "UFWWnN7G68P7"
      },
      "outputs": [],
      "source": [
        "!mkdir ~/.kaggle\n",
        "!touch ~/.kaggle/kaggle.json\n",
        "\n",
        "api_token = {\"username\":\"oshbocker\",\"key\":\"bb9c6a60ba5c39e689d8cf8d15cb8bca\"}\n",
        "\n",
        "import json\n",
        "\n",
        "with open('/root/.kaggle/kaggle.json', 'w') as file:\n",
        "    json.dump(api_token, file)\n",
        "\n",
        "!chmod 600 ~/.kaggle/kaggle.json"
      ]
    },
    {
      "cell_type": "code",
      "execution_count": 2,
      "metadata": {
        "id": "DNK1P6aAAVR3",
        "colab": {
          "base_uri": "https://localhost:8080/"
        },
        "outputId": "f79fa90a-6064-4aa2-f9de-b298109ff618"
      },
      "outputs": [
        {
          "output_type": "stream",
          "name": "stdout",
          "text": [
            "\u001b[2K     \u001b[90m━━━━━━━━━━━━━━━━━━━━━━━━━━━━━━━━━━━━━━━━\u001b[0m \u001b[32m3.1/3.1 MB\u001b[0m \u001b[31m64.8 MB/s\u001b[0m eta \u001b[36m0:00:00\u001b[0m\n",
            "\u001b[2K     \u001b[90m━━━━━━━━━━━━━━━━━━━━━━━━━━━━━━━━━━━━━━\u001b[0m \u001b[32m728.8/728.8 kB\u001b[0m \u001b[31m12.5 MB/s\u001b[0m eta \u001b[36m0:00:00\u001b[0m\n",
            "\u001b[?25h"
          ]
        }
      ],
      "source": [
        "!pip install obonet -q\n",
        "!pip install biopython -q\n",
        "!pip install torchmetrics -q"
      ]
    },
    {
      "cell_type": "code",
      "execution_count": 3,
      "metadata": {
        "id": "WSawJTx67Cgs"
      },
      "outputs": [],
      "source": [
        "import os\n",
        "import torch\n",
        "\n",
        "from pathlib import Path\n",
        "\n",
        "\n",
        "iskaggle = os.environ.get('KAGGLE_KERNEL_RUN_TYPE', '')\n",
        "\n",
        "cafa_main_path = Path(\"cafa-5-protein-function-prediction\")\n",
        "cafa_clean_fasta_path = Path(\"viktorfairuschin/cafa-5-fasta-files\")\n",
        "esm2_path = Path(\"viktorfairuschin/cafa-5-ems-2-embeddings-numpy\")\n",
        "protbert_path = Path(\"henriupton/protbert-embeddings-for-cafa5\")\n",
        "t5_path = Path(\"sergeifironov/t5embeds\")\n",
        "\n",
        "data_paths = [cafa_clean_fasta_path, esm2_path, protbert_path, t5_path]\n",
        "\n",
        "if iskaggle:\n",
        "  content_dir = \"/kaggle/input\"\n",
        "else:\n",
        "  content_dir = \"/content\"\n",
        "\n",
        "class CFG:\n",
        "    train_go_obo_path: str = f\"{content_dir}/cafa-5-protein-function-prediction/Train/go-basic.obo\"\n",
        "    train_seq_fasta_path: str = f\"{content_dir}/cafa-5-protein-function-prediction/Train/train_sequences.fasta\"\n",
        "    train_terms_path: str = f\"{content_dir}/cafa-5-protein-function-prediction/Train/train_terms.tsv\"\n",
        "    train_taxonomy_path: str = f\"{content_dir}/cafa-5-protein-function-prediction/Train/train_taxonomy.tsv\"\n",
        "    train_ia_path: str = f\"{content_dir}/cafa-5-protein-function-prediction/IA.txt\"\n",
        "    test_sequences_path: str = f\"{content_dir}/Test (Targets)/testsuperset.fasta\"\n",
        "\n",
        "    num_labels = 500\n",
        "    n_epochs = 14\n",
        "    batch_size = 128\n",
        "    lr = 0.0005\n",
        "\n",
        "    device = torch.device('cuda' if torch.cuda.is_available() else 'cpu')\n"
      ]
    },
    {
      "cell_type": "code",
      "execution_count": 4,
      "metadata": {
        "colab": {
          "base_uri": "https://localhost:8080/"
        },
        "id": "Pj8wOdbQ_Vvt",
        "outputId": "214c711b-5016-4e40-f73a-0897ba66f7b1"
      },
      "outputs": [
        {
          "output_type": "stream",
          "name": "stdout",
          "text": [
            "cafa-5-protein-function-prediction\n",
            "Downloading cafa-5-protein-function-prediction.zip to /content\n"
          ]
        },
        {
          "output_type": "stream",
          "name": "stderr",
          "text": [
            "100%|██████████| 115M/115M [00:06<00:00, 19.2MB/s]\n"
          ]
        },
        {
          "output_type": "stream",
          "name": "stdout",
          "text": [
            "\n",
            "viktorfairuschin/cafa-5-fasta-files\n",
            "viktorfairuschin/cafa-5-ems-2-embeddings-numpy\n",
            "henriupton/protbert-embeddings-for-cafa5\n",
            "sergeifironov/t5embeds\n"
          ]
        }
      ],
      "source": [
        "if not iskaggle:\n",
        "  import zipfile,kaggle\n",
        "  if not cafa_main_path.exists():\n",
        "    print(cafa_main_path)\n",
        "    kaggle.api.competition_download_cli(str(cafa_main_path))\n",
        "    zipfile.ZipFile(f'{cafa_main_path}.zip').extractall(cafa_main_path)\n",
        "  for data_path in data_paths:\n",
        "    if not data_path.exists():\n",
        "      print(data_path)\n",
        "      kaggle.api.dataset_download_files(str(data_path))\n",
        "      zipfile.ZipFile(f'{data_path.name}.zip').extractall(data_path.name)"
      ]
    },
    {
      "cell_type": "code",
      "execution_count": 5,
      "metadata": {
        "id": "3aXZhbD2BZ-5"
      },
      "outputs": [],
      "source": [
        "import obonet\n",
        "import time\n",
        "\n",
        "import networkx as nx\n",
        "import pandas as pd\n",
        "import numpy as np\n",
        "from Bio import SeqIO\n",
        "from tqdm import tqdm\n",
        "import matplotlib.pyplot as plt\n",
        "plt.style.use('ggplot')\n",
        "\n",
        "# TORCH MODULES FOR METRICS COMPUTATION :\n",
        "import torch\n",
        "from torch.utils.data import Dataset\n",
        "from torch import nn\n",
        "from torch.utils.data import random_split\n",
        "from torch.optim.lr_scheduler import ReduceLROnPlateau\n",
        "from torchmetrics.classification import MultilabelF1Score\n",
        "from torchmetrics.classification import MultilabelAccuracy"
      ]
    },
    {
      "cell_type": "code",
      "execution_count": 6,
      "metadata": {
        "id": "sEKYAk-F_SNB"
      },
      "outputs": [],
      "source": [
        "graph = obonet.read_obo(CFG.train_go_obo_path)"
      ]
    },
    {
      "cell_type": "code",
      "execution_count": 7,
      "metadata": {
        "id": "WeE95EkqAyJt"
      },
      "outputs": [],
      "source": [
        "# Information Accretion values for terms\n",
        "ia_dict = {}\n",
        "with open(CFG.train_ia_path) as f:\n",
        "    for line in f:\n",
        "        (key, value) = line.split(\"\\t\")\n",
        "        ia_dict[key] = float(value.replace(\"\\n\",\"\"))"
      ]
    },
    {
      "cell_type": "code",
      "execution_count": 8,
      "metadata": {
        "colab": {
          "base_uri": "https://localhost:8080/"
        },
        "id": "DbYo5BvpBUq6",
        "outputId": "e735255e-c676-4361-f021-72d78bd1376b"
      },
      "outputs": [
        {
          "output_type": "stream",
          "name": "stdout",
          "text": [
            "27941 4042 11262 43245\n"
          ]
        }
      ],
      "source": [
        "subontology_roots = {'BPO':'GO:0008150',\n",
        "                     'CCO':'GO:0005575',\n",
        "                     'MFO':'GO:0003674'}\n",
        "\n",
        "BPO_len = len(nx.ancestors(graph, subontology_roots['BPO']))\n",
        "CCO_len = len(nx.ancestors(graph, subontology_roots['CCO']))\n",
        "MFO_len = len(nx.ancestors(graph, subontology_roots['MFO']))\n",
        "print(BPO_len, CCO_len, MFO_len, BPO_len + CCO_len + MFO_len)"
      ]
    },
    {
      "cell_type": "code",
      "execution_count": 9,
      "metadata": {
        "colab": {
          "base_uri": "https://localhost:8080/",
          "height": 225
        },
        "id": "6IfEKF4KBX75",
        "outputId": "618e169b-33b7-4466-e677-12f520696d5d"
      },
      "outputs": [
        {
          "output_type": "stream",
          "name": "stdout",
          "text": [
            "(5363863, 4)\n"
          ]
        },
        {
          "output_type": "execute_result",
          "data": {
            "text/plain": [
              "      EntryID        term aspect        ia\n",
              "0  A0A009IHW8  GO:0008152    BPO  1.598544\n",
              "1  A0A009IHW8  GO:0034655    BPO  0.042274\n",
              "2  A0A009IHW8  GO:0072523    BPO  0.083901\n",
              "3  A0A009IHW8  GO:0044270    BPO  0.281155\n",
              "4  A0A009IHW8  GO:0006753    BPO  0.013844"
            ],
            "text/html": [
              "\n",
              "  <div id=\"df-cbd95c76-d543-42cc-98a9-534cdbabbf1e\">\n",
              "    <div class=\"colab-df-container\">\n",
              "      <div>\n",
              "<style scoped>\n",
              "    .dataframe tbody tr th:only-of-type {\n",
              "        vertical-align: middle;\n",
              "    }\n",
              "\n",
              "    .dataframe tbody tr th {\n",
              "        vertical-align: top;\n",
              "    }\n",
              "\n",
              "    .dataframe thead th {\n",
              "        text-align: right;\n",
              "    }\n",
              "</style>\n",
              "<table border=\"1\" class=\"dataframe\">\n",
              "  <thead>\n",
              "    <tr style=\"text-align: right;\">\n",
              "      <th></th>\n",
              "      <th>EntryID</th>\n",
              "      <th>term</th>\n",
              "      <th>aspect</th>\n",
              "      <th>ia</th>\n",
              "    </tr>\n",
              "  </thead>\n",
              "  <tbody>\n",
              "    <tr>\n",
              "      <th>0</th>\n",
              "      <td>A0A009IHW8</td>\n",
              "      <td>GO:0008152</td>\n",
              "      <td>BPO</td>\n",
              "      <td>1.598544</td>\n",
              "    </tr>\n",
              "    <tr>\n",
              "      <th>1</th>\n",
              "      <td>A0A009IHW8</td>\n",
              "      <td>GO:0034655</td>\n",
              "      <td>BPO</td>\n",
              "      <td>0.042274</td>\n",
              "    </tr>\n",
              "    <tr>\n",
              "      <th>2</th>\n",
              "      <td>A0A009IHW8</td>\n",
              "      <td>GO:0072523</td>\n",
              "      <td>BPO</td>\n",
              "      <td>0.083901</td>\n",
              "    </tr>\n",
              "    <tr>\n",
              "      <th>3</th>\n",
              "      <td>A0A009IHW8</td>\n",
              "      <td>GO:0044270</td>\n",
              "      <td>BPO</td>\n",
              "      <td>0.281155</td>\n",
              "    </tr>\n",
              "    <tr>\n",
              "      <th>4</th>\n",
              "      <td>A0A009IHW8</td>\n",
              "      <td>GO:0006753</td>\n",
              "      <td>BPO</td>\n",
              "      <td>0.013844</td>\n",
              "    </tr>\n",
              "  </tbody>\n",
              "</table>\n",
              "</div>\n",
              "      <button class=\"colab-df-convert\" onclick=\"convertToInteractive('df-cbd95c76-d543-42cc-98a9-534cdbabbf1e')\"\n",
              "              title=\"Convert this dataframe to an interactive table.\"\n",
              "              style=\"display:none;\">\n",
              "        \n",
              "  <svg xmlns=\"http://www.w3.org/2000/svg\" height=\"24px\"viewBox=\"0 0 24 24\"\n",
              "       width=\"24px\">\n",
              "    <path d=\"M0 0h24v24H0V0z\" fill=\"none\"/>\n",
              "    <path d=\"M18.56 5.44l.94 2.06.94-2.06 2.06-.94-2.06-.94-.94-2.06-.94 2.06-2.06.94zm-11 1L8.5 8.5l.94-2.06 2.06-.94-2.06-.94L8.5 2.5l-.94 2.06-2.06.94zm10 10l.94 2.06.94-2.06 2.06-.94-2.06-.94-.94-2.06-.94 2.06-2.06.94z\"/><path d=\"M17.41 7.96l-1.37-1.37c-.4-.4-.92-.59-1.43-.59-.52 0-1.04.2-1.43.59L10.3 9.45l-7.72 7.72c-.78.78-.78 2.05 0 2.83L4 21.41c.39.39.9.59 1.41.59.51 0 1.02-.2 1.41-.59l7.78-7.78 2.81-2.81c.8-.78.8-2.07 0-2.86zM5.41 20L4 18.59l7.72-7.72 1.47 1.35L5.41 20z\"/>\n",
              "  </svg>\n",
              "      </button>\n",
              "      \n",
              "  <style>\n",
              "    .colab-df-container {\n",
              "      display:flex;\n",
              "      flex-wrap:wrap;\n",
              "      gap: 12px;\n",
              "    }\n",
              "\n",
              "    .colab-df-convert {\n",
              "      background-color: #E8F0FE;\n",
              "      border: none;\n",
              "      border-radius: 50%;\n",
              "      cursor: pointer;\n",
              "      display: none;\n",
              "      fill: #1967D2;\n",
              "      height: 32px;\n",
              "      padding: 0 0 0 0;\n",
              "      width: 32px;\n",
              "    }\n",
              "\n",
              "    .colab-df-convert:hover {\n",
              "      background-color: #E2EBFA;\n",
              "      box-shadow: 0px 1px 2px rgba(60, 64, 67, 0.3), 0px 1px 3px 1px rgba(60, 64, 67, 0.15);\n",
              "      fill: #174EA6;\n",
              "    }\n",
              "\n",
              "    [theme=dark] .colab-df-convert {\n",
              "      background-color: #3B4455;\n",
              "      fill: #D2E3FC;\n",
              "    }\n",
              "\n",
              "    [theme=dark] .colab-df-convert:hover {\n",
              "      background-color: #434B5C;\n",
              "      box-shadow: 0px 1px 3px 1px rgba(0, 0, 0, 0.15);\n",
              "      filter: drop-shadow(0px 1px 2px rgba(0, 0, 0, 0.3));\n",
              "      fill: #FFFFFF;\n",
              "    }\n",
              "  </style>\n",
              "\n",
              "      <script>\n",
              "        const buttonEl =\n",
              "          document.querySelector('#df-cbd95c76-d543-42cc-98a9-534cdbabbf1e button.colab-df-convert');\n",
              "        buttonEl.style.display =\n",
              "          google.colab.kernel.accessAllowed ? 'block' : 'none';\n",
              "\n",
              "        async function convertToInteractive(key) {\n",
              "          const element = document.querySelector('#df-cbd95c76-d543-42cc-98a9-534cdbabbf1e');\n",
              "          const dataTable =\n",
              "            await google.colab.kernel.invokeFunction('convertToInteractive',\n",
              "                                                     [key], {});\n",
              "          if (!dataTable) return;\n",
              "\n",
              "          const docLinkHtml = 'Like what you see? Visit the ' +\n",
              "            '<a target=\"_blank\" href=https://colab.research.google.com/notebooks/data_table.ipynb>data table notebook</a>'\n",
              "            + ' to learn more about interactive tables.';\n",
              "          element.innerHTML = '';\n",
              "          dataTable['output_type'] = 'display_data';\n",
              "          await google.colab.output.renderOutput(dataTable, element);\n",
              "          const docLink = document.createElement('div');\n",
              "          docLink.innerHTML = docLinkHtml;\n",
              "          element.appendChild(docLink);\n",
              "        }\n",
              "      </script>\n",
              "    </div>\n",
              "  </div>\n",
              "  "
            ]
          },
          "metadata": {},
          "execution_count": 9
        }
      ],
      "source": [
        "train_terms = pd.read_csv(CFG.train_terms_path, sep=\"\\t\")\n",
        "train_terms['ia'] = train_terms['term'].apply(lambda x: ia_dict[x])\n",
        "print(train_terms.shape)\n",
        "train_terms.head(5)"
      ]
    },
    {
      "cell_type": "markdown",
      "metadata": {
        "id": "T7AYt0PhBt9M"
      },
      "source": [
        "## Get the leaf predictions for each protein\n",
        "A leaf prediction is a GO term that doesn't have any children that are also predictions for the protein."
      ]
    },
    {
      "cell_type": "code",
      "execution_count": 10,
      "metadata": {
        "id": "l9mcM5F6BfEC"
      },
      "outputs": [],
      "source": [
        "def get_leaf_labels(train_terms, aspect):\n",
        "    # Group by protein and get a list of all go term predictions\n",
        "    protein_list_go_term = train_terms[train_terms['aspect'] == aspect].groupby('EntryID')['term'].apply(list)\n",
        "\n",
        "    leaf_labels = {}\n",
        "    for i, protein in enumerate(protein_list_go_term.index):\n",
        "        test_terms = set(protein_list_go_term[protein])\n",
        "        descendants = set()\n",
        "        for term in test_terms:\n",
        "            descendants.update(nx.descendants(graph, term))\n",
        "\n",
        "        specific_labels = test_terms.difference(descendants)\n",
        "        leaf_labels[protein] = list(specific_labels)\n",
        "\n",
        "    return leaf_labels\n",
        "\n",
        "from collections import deque\n",
        "\n",
        "# Get ordered list of all ancestors\n",
        "def leaf_label_ancestors(graph, leaf_labels):\n",
        "    ordered_edges_dict = {}\n",
        "    for label in leaf_labels:\n",
        "        # Get ancestors\n",
        "        ordered_edges = deque()\n",
        "        node_is_root = False\n",
        "        prev_node_id = label\n",
        "        while node_is_root == False:\n",
        "            node = graph.nodes[prev_node_id]\n",
        "            node_is_root = 'is_a' not in node\n",
        "            if not node_is_root:\n",
        "                prev_node_id = node['is_a'][0]\n",
        "                ordered_edges.appendleft(prev_node_id)\n",
        "        ordered_edges_dict[label] = ordered_edges\n",
        "\n",
        "    return ordered_edges_dict"
      ]
    },
    {
      "cell_type": "code",
      "execution_count": 11,
      "metadata": {
        "id": "tvLok2i0CHNz"
      },
      "outputs": [],
      "source": [
        "def get_next_label(rw, depth=1):\n",
        "    if not rw['labeled'] and len(rw['ordered_edges']) > depth:\n",
        "        return rw['ordered_edges'][-depth]\n",
        "    else:\n",
        "        return rw['balanced_label']\n",
        "\n",
        "def is_final_balanced_label(rw, balanced_labels, depth=1):\n",
        "    if not rw['labeled']:\n",
        "        return (rw['balanced_label'] in balanced_labels) or (len(rw['ordered_edges']) == depth)\n",
        "    else:\n",
        "        return True\n",
        "\n",
        "def get_balanced_labels(label_df, label_count_threshold):\n",
        "    df = label_df.copy()\n",
        "    balanced_labels = set([label for label, count in df['label'].value_counts().items()\n",
        "                           if count >= label_count_threshold])\n",
        "    df['labeled'] = df['label'].apply(lambda x: x in balanced_labels)\n",
        "    df['balanced_label'] = df['label'] # df.apply(lambda x: x['label'] if x['labeled'] == True else None, axis=1)\n",
        "    print(sum(df['labeled'])/df.shape[0])\n",
        "    print(len(balanced_labels))\n",
        "    print(df['balanced_label'].value_counts())\n",
        "    depth = 1\n",
        "    while sum(df['labeled'])/df.shape[0] < 1:\n",
        "        df['balanced_label'] = df.apply(lambda x: get_next_label(x, depth=depth), axis=1)\n",
        "        balanced_labels = set([label for label, count in df['balanced_label'].value_counts().items()\n",
        "                                   if count >= label_count_threshold])\n",
        "        df['labeled'] = df.apply(lambda x: is_final_balanced_label(x, balanced_labels, depth=depth), axis=1)\n",
        "        depth += 1\n",
        "        print(sum(df['labeled'])/df.shape[0])\n",
        "        print(len(balanced_labels))\n",
        "        print(df['balanced_label'].value_counts())\n",
        "\n",
        "    return df, df['balanced_label'].nunique() - 1"
      ]
    },
    {
      "cell_type": "markdown",
      "source": [
        "### Cellular Component Labels (CCO)"
      ],
      "metadata": {
        "id": "jaCILDXuSDEt"
      }
    },
    {
      "cell_type": "code",
      "execution_count": 12,
      "metadata": {
        "colab": {
          "base_uri": "https://localhost:8080/"
        },
        "id": "R_L8bA1lB6U1",
        "outputId": "53996882-a09a-419e-8897-0b481f90223f"
      },
      "outputs": [
        {
          "output_type": "stream",
          "name": "stdout",
          "text": [
            "leaf_labels:  92912\n",
            "unique leaf_labels:  2763\n",
            "0.8165753796709142\n",
            "223\n",
            "GO:0005829    16981\n",
            "GO:0005634    12661\n",
            "GO:0005886    11509\n",
            "GO:0005737     8335\n",
            "GO:0005654     8160\n",
            "              ...  \n",
            "GO:0097181        1\n",
            "GO:0036029        1\n",
            "GO:0036028        1\n",
            "GO:0061834        1\n",
            "GO:0071202        1\n",
            "Name: balanced_label, Length: 2763, dtype: int64\n",
            "0.9376060928411379\n",
            "269\n",
            "GO:0005829    16981\n",
            "GO:0005634    12725\n",
            "GO:0005886    11619\n",
            "GO:0005737     8406\n",
            "GO:0005654     8160\n",
            "              ...  \n",
            "GO:0035449        1\n",
            "GO:0031002        1\n",
            "GO:0030929        1\n",
            "GO:0044292        1\n",
            "GO:0098539        1\n",
            "Name: balanced_label, Length: 771, dtype: int64\n",
            "0.9815370164995586\n",
            "278\n",
            "GO:0005829    17050\n",
            "GO:0005634    12784\n",
            "GO:0005886    11619\n",
            "GO:0005737     8418\n",
            "GO:0005654     8160\n",
            "              ...  \n",
            "GO:0032994        1\n",
            "GO:1990077        1\n",
            "GO:0043659        1\n",
            "GO:0033176        1\n",
            "GO:0015935        1\n",
            "Name: balanced_label, Length: 416, dtype: int64\n",
            "0.9952753321413214\n",
            "278\n",
            "GO:0005829    17050\n",
            "GO:0005634    12812\n",
            "GO:0005886    11619\n",
            "GO:0005737     8420\n",
            "GO:0005654     8160\n",
            "              ...  \n",
            "GO:0031974        2\n",
            "GO:0032432        1\n",
            "GO:0032838        1\n",
            "GO:0031312        1\n",
            "GO:0030427        1\n",
            "Name: balanced_label, Length: 321, dtype: int64\n",
            "0.9984383133784487\n",
            "278\n",
            "GO:0005829    17050\n",
            "GO:0005634    12812\n",
            "GO:0005886    11619\n",
            "GO:0005737     8477\n",
            "GO:0005654     8160\n",
            "              ...  \n",
            "GO:0033646        3\n",
            "GO:0042571        3\n",
            "GO:1902562        3\n",
            "GO:0031974        2\n",
            "GO:0099568        1\n",
            "Name: balanced_label, Length: 289, dtype: int64\n",
            "0.9994850960776769\n",
            "278\n",
            "GO:0005829    17050\n",
            "GO:0005634    12812\n",
            "GO:0005886    11619\n",
            "GO:0005737     8478\n",
            "GO:0005654     8160\n",
            "              ...  \n",
            "GO:0030430      101\n",
            "GO:0005934      101\n",
            "GO:0030315      100\n",
            "GO:0099080       88\n",
            "GO:0019814        3\n",
            "Name: balanced_label, Length: 280, dtype: int64\n",
            "1.0\n",
            "278\n",
            "GO:0005829    17050\n",
            "GO:0005634    12812\n",
            "GO:0005886    11619\n",
            "GO:0005737     8478\n",
            "GO:0005654     8160\n",
            "              ...  \n",
            "GO:0001917      104\n",
            "GO:0005801      103\n",
            "GO:0030430      101\n",
            "GO:0005934      101\n",
            "GO:0030315      100\n",
            "Name: balanced_label, Length: 278, dtype: int64\n"
          ]
        }
      ],
      "source": [
        "CCO_leaf_labels = get_leaf_labels(train_terms, 'CCO')\n",
        "print(\"leaf_labels: \", len(CCO_leaf_labels.values()))\n",
        "CCO_all_leaf_labels = np.unique(np.concatenate(list(CCO_leaf_labels.values())))\n",
        "print(\"unique leaf_labels: \", len(CCO_all_leaf_labels))\n",
        "CCO_nodes = [n for n,v in graph.nodes(data=True) if v['namespace'] == 'cellular_component']\n",
        "CCO_ordered_edges = leaf_label_ancestors(graph, CCO_nodes)\n",
        "\n",
        "# Get the first node label\n",
        "CCO_data_with_labels = []\n",
        "# Get all CCO labeled proteins with leaf labels\n",
        "for protein, label_list in CCO_leaf_labels.items():\n",
        "    for label in label_list:\n",
        "        CCO_data_with_labels.append({'protein': protein,\n",
        "                                 'label': label,\n",
        "                                 'ordered_edges': CCO_ordered_edges[label]})\n",
        "\n",
        "CCO_df = pd.DataFrame(CCO_data_with_labels)\n",
        "\n",
        "new_CCO_df, CCO_num_labels = get_balanced_labels(CCO_df, 100)"
      ]
    },
    {
      "cell_type": "code",
      "source": [],
      "metadata": {
        "colab": {
          "base_uri": "https://localhost:8080/"
        },
        "id": "FhXGB4Zwq00s",
        "outputId": "7f6a2164-c661-4e1a-c63e-8607adb17183"
      },
      "execution_count": 50,
      "outputs": [
        {
          "output_type": "execute_result",
          "data": {
            "text/plain": [
              "1507"
            ]
          },
          "metadata": {},
          "execution_count": 50
        }
      ]
    },
    {
      "cell_type": "markdown",
      "source": [
        "## Molecular Function Labels (MFO)"
      ],
      "metadata": {
        "id": "pQ6NvJFtSNvX"
      }
    },
    {
      "cell_type": "code",
      "source": [
        "MFO_leaf_labels = get_leaf_labels(train_terms, 'MFO')\n",
        "print(\"leaf labels: \", len(MFO_leaf_labels.values()))\n",
        "MFO_all_leaf_labels = np.unique(np.concatenate(list(MFO_leaf_labels.values())))\n",
        "print(\"unique leaf labels: \", len(MFO_all_leaf_labels))\n",
        "MFO_nodes = [n for n,v in graph.nodes(data=True) if v['namespace'] == 'molecular_function']\n",
        "MFO_ordered_edges = leaf_label_ancestors(graph, MFO_nodes)\n",
        "\n",
        "# Get the first node label\n",
        "MFO_data_with_labels = []\n",
        "# Get all MFO labeled proteins with leaf labels\n",
        "for protein, label_list in MFO_leaf_labels.items():\n",
        "  # proteins with only protein binding GO:0005515 bias the dataset\n",
        "  if label_list != ['GO:0005515']:\n",
        "    for label in label_list:\n",
        "        MFO_data_with_labels.append({'protein': protein,\n",
        "                                 'label': label,\n",
        "                                 'ordered_edges': MFO_ordered_edges[label]})\n",
        "\n",
        "MFO_df = pd.DataFrame(MFO_data_with_labels)\n",
        "\n",
        "new_MFO_df, MFO_num_labels = get_balanced_labels(MFO_df, 100)"
      ],
      "metadata": {
        "colab": {
          "base_uri": "https://localhost:8080/"
        },
        "id": "uCgQAHw5SNXY",
        "outputId": "84d68d74-e7d7-4c61-e851-e4dc3b7ed6cf"
      },
      "execution_count": 13,
      "outputs": [
        {
          "output_type": "stream",
          "name": "stdout",
          "text": [
            "leaf labels:  78637\n",
            "unique leaf labels:  6866\n",
            "0.5058240505218841\n",
            "134\n",
            "GO:0005515    11529\n",
            "GO:0042802     3998\n",
            "GO:0042803     1632\n",
            "GO:0003729     1491\n",
            "GO:0003723     1356\n",
            "              ...  \n",
            "GO:0016517        1\n",
            "GO:0043875        1\n",
            "GO:0052916        1\n",
            "GO:0033094        1\n",
            "GO:0102628        1\n",
            "Name: balanced_label, Length: 6866, dtype: int64\n",
            "0.7761161301640207\n",
            "244\n",
            "GO:0005515    13471\n",
            "GO:0042802     3998\n",
            "GO:0003723     1679\n",
            "GO:0042803     1632\n",
            "GO:0003729     1605\n",
            "              ...  \n",
            "GO:0018835        1\n",
            "GO:0052713        1\n",
            "GO:0052816        1\n",
            "GO:0004908        1\n",
            "GO:0050485        1\n",
            "Name: balanced_label, Length: 1577, dtype: int64\n",
            "0.9279712305938076\n",
            "277\n",
            "GO:0005515    14197\n",
            "GO:0042802     3998\n",
            "GO:0003723     2002\n",
            "GO:0042803     1632\n",
            "GO:0003729     1605\n",
            "              ...  \n",
            "GO:0000268        1\n",
            "GO:0001882        1\n",
            "GO:0120013        1\n",
            "GO:0015459        1\n",
            "GO:0016409        1\n",
            "Name: balanced_label, Length: 661, dtype: int64\n",
            "0.9790456977458117\n",
            "280\n",
            "GO:0005515    14576\n",
            "GO:0042802     3998\n",
            "GO:0003723     2013\n",
            "GO:0042803     1632\n",
            "GO:0003729     1605\n",
            "              ...  \n",
            "GO:0005048        1\n",
            "GO:0022829        1\n",
            "GO:0005402        1\n",
            "GO:0015145        1\n",
            "GO:0015116        1\n",
            "Name: balanced_label, Length: 401, dtype: int64\n",
            "0.9954740812209455\n",
            "280\n",
            "GO:0005515    14665\n",
            "GO:0042802     3998\n",
            "GO:0003723     2013\n",
            "GO:0022857     1697\n",
            "GO:0042803     1632\n",
            "              ...  \n",
            "GO:0016801        1\n",
            "GO:0140776        1\n",
            "GO:0004519        1\n",
            "GO:0016790        1\n",
            "GO:0051119        1\n",
            "Name: balanced_label, Length: 324, dtype: int64\n",
            "0.9986316989737742\n",
            "280\n",
            "GO:0005515    14665\n",
            "GO:0042802     3998\n",
            "GO:0003723     2013\n",
            "GO:0022857     1801\n",
            "GO:0042803     1632\n",
            "              ...  \n",
            "GO:0140912        5\n",
            "GO:0140522        2\n",
            "GO:0022803        1\n",
            "GO:0015144        1\n",
            "GO:0140776        1\n",
            "Name: balanced_label, Length: 305, dtype: int64\n",
            "0.9998947460749057\n",
            "280\n",
            "GO:0005515    14665\n",
            "GO:0042802     3998\n",
            "GO:0003723     2013\n",
            "GO:0022857     1818\n",
            "GO:0042803     1632\n",
            "              ...  \n",
            "GO:0022803        6\n",
            "GO:0010858        6\n",
            "GO:0140912        5\n",
            "GO:0140522        2\n",
            "GO:0140776        1\n",
            "Name: balanced_label, Length: 299, dtype: int64\n",
            "1.0\n",
            "280\n",
            "GO:0005515    14665\n",
            "GO:0042802     3998\n",
            "GO:0003723     2013\n",
            "GO:0022857     1824\n",
            "GO:0042803     1632\n",
            "              ...  \n",
            "GO:0140489        6\n",
            "GO:0010858        6\n",
            "GO:0140912        5\n",
            "GO:0140522        2\n",
            "GO:0140776        1\n",
            "Name: balanced_label, Length: 297, dtype: int64\n"
          ]
        }
      ]
    },
    {
      "cell_type": "markdown",
      "source": [
        "## Biological Process Labels (BPO)"
      ],
      "metadata": {
        "id": "ANQn-TNrr8hv"
      }
    },
    {
      "cell_type": "code",
      "source": [
        "BPO_leaf_labels = get_leaf_labels(train_terms, 'BPO')\n",
        "print(\"leaf_labels: \", len(BPO_leaf_labels.values()))\n",
        "BPO_all_leaf_labels = np.unique(np.concatenate(list(BPO_leaf_labels.values())))\n",
        "print(\"unique leaf_labels: \", len(BPO_all_leaf_labels))\n",
        "BPO_nodes = [n for n,v in graph.nodes(data=True) if v['namespace'] == 'biological_process']\n",
        "BPO_ordered_edges = leaf_label_ancestors(graph, BPO_nodes)\n",
        "\n",
        "# Get the first node label\n",
        "BPO_data_with_labels = []\n",
        "# Get all BPO labeled proteins with leaf labels\n",
        "for protein, label_list in BPO_leaf_labels.items():\n",
        "    for label in label_list:\n",
        "        BPO_data_with_labels.append({'protein': protein,\n",
        "                                 'label': label,\n",
        "                                 'ordered_edges': BPO_ordered_edges[label]})\n",
        "\n",
        "BPO_df = pd.DataFrame(BPO_data_with_labels)\n",
        "\n",
        "new_BPO_df, BPO_num_labels = get_balanced_labels(BPO_df, 100)"
      ],
      "metadata": {
        "colab": {
          "base_uri": "https://localhost:8080/"
        },
        "id": "jd_1qm-Vr6tw",
        "outputId": "b64a5183-627a-47ad-c875-4028f55bd568"
      },
      "execution_count": 14,
      "outputs": [
        {
          "output_type": "stream",
          "name": "stdout",
          "text": [
            "leaf_labels:  92210\n",
            "unique leaf_labels:  17978\n",
            "0.35320886814469077\n",
            "506\n",
            "GO:0045944    2473\n",
            "GO:0000122    1691\n",
            "GO:0006355    1322\n",
            "GO:0045893    1233\n",
            "GO:0045892    1150\n",
            "              ... \n",
            "GO:0061440       1\n",
            "GO:0052337       1\n",
            "GO:0090414       1\n",
            "GO:0061716       1\n",
            "GO:0009709       1\n",
            "Name: balanced_label, Length: 17978, dtype: int64\n",
            "0.6623570595099183\n",
            "813\n",
            "GO:0045944    2615\n",
            "GO:0048856    1945\n",
            "GO:0003006    1910\n",
            "GO:0000122    1720\n",
            "GO:0006355    1476\n",
            "              ... \n",
            "GO:0090085       1\n",
            "GO:0014046       1\n",
            "GO:0070673       1\n",
            "GO:0072020       1\n",
            "GO:0046813       1\n",
            "Name: balanced_label, Length: 6608, dtype: int64\n",
            "0.8597532922153692\n",
            "902\n",
            "GO:0045944    2627\n",
            "GO:0003006    2499\n",
            "GO:0048856    2415\n",
            "GO:0000122    1725\n",
            "GO:0006355    1662\n",
            "              ... \n",
            "GO:0033081       1\n",
            "GO:0110112       1\n",
            "GO:0033120       1\n",
            "GO:0006551       1\n",
            "GO:0019062       1\n",
            "Name: balanced_label, Length: 3019, dtype: int64\n",
            "0.9499516586097683\n",
            "923\n",
            "GO:0003006    2675\n",
            "GO:0045944    2627\n",
            "GO:0048856    2544\n",
            "GO:0030154    1766\n",
            "GO:0006355    1733\n",
            "              ... \n",
            "GO:0051955       1\n",
            "GO:0051890       1\n",
            "GO:0070949       1\n",
            "GO:0007041       1\n",
            "GO:0044650       1\n",
            "Name: balanced_label, Length: 1684, dtype: int64\n",
            "0.9840440073345558\n",
            "926\n",
            "GO:0003006    2746\n",
            "GO:0045944    2627\n",
            "GO:0048856    2556\n",
            "GO:0009987    2029\n",
            "GO:0009966    1780\n",
            "              ... \n",
            "GO:0031137       1\n",
            "GO:0071677       1\n",
            "GO:0006400       1\n",
            "GO:0006664       1\n",
            "GO:0044406       1\n",
            "Name: balanced_label, Length: 1206, dtype: int64\n",
            "0.99567927987998\n",
            "927\n",
            "GO:0003006    2776\n",
            "GO:0045944    2627\n",
            "GO:0048856    2556\n",
            "GO:0009987    2235\n",
            "GO:0009966    1794\n",
            "              ... \n",
            "GO:0002687       1\n",
            "GO:0010383       1\n",
            "GO:0044406       1\n",
            "GO:0032954       1\n",
            "GO:0099536       1\n",
            "Name: balanced_label, Length: 1016, dtype: int64\n",
            "0.9993498916486081\n",
            "927\n",
            "GO:0003006    2791\n",
            "GO:0045944    2627\n",
            "GO:0048856    2556\n",
            "GO:0009987    2359\n",
            "GO:0009966    1794\n",
            "              ... \n",
            "GO:0003044       1\n",
            "GO:0052200       1\n",
            "GO:0044036       1\n",
            "GO:0044848       1\n",
            "GO:0002699       1\n",
            "Name: balanced_label, Length: 954, dtype: int64\n",
            "0.9998833138856477\n",
            "927\n",
            "GO:0003006    2791\n",
            "GO:0045944    2627\n",
            "GO:0048856    2556\n",
            "GO:0009987    2359\n",
            "GO:0009966    1794\n",
            "              ... \n",
            "GO:0050727       2\n",
            "GO:0052173       1\n",
            "GO:0044260       1\n",
            "GO:0044848       1\n",
            "GO:0003073       1\n",
            "Name: balanced_label, Length: 938, dtype: int64\n",
            "0.9999099849974996\n",
            "927\n",
            "GO:0003006    2791\n",
            "GO:0045944    2627\n",
            "GO:0048856    2556\n",
            "GO:0009987    2359\n",
            "GO:0009966    1794\n",
            "              ... \n",
            "GO:0065007      63\n",
            "GO:0002263      27\n",
            "GO:0051703      16\n",
            "GO:0023052      12\n",
            "GO:0044848       1\n",
            "Name: balanced_label, Length: 933, dtype: int64\n",
            "1.0\n",
            "927\n",
            "GO:0003006    2791\n",
            "GO:0045944    2627\n",
            "GO:0048856    2556\n",
            "GO:0009987    2359\n",
            "GO:0009966    1794\n",
            "              ... \n",
            "GO:0048511      80\n",
            "GO:0065007      63\n",
            "GO:0051703      16\n",
            "GO:0023052      12\n",
            "GO:0044848       1\n",
            "Name: balanced_label, Length: 932, dtype: int64\n"
          ]
        }
      ]
    },
    {
      "cell_type": "markdown",
      "metadata": {
        "id": "1nUmpeIoH-PH"
      },
      "source": [
        "## Classify selected nodes of CCO"
      ]
    },
    {
      "cell_type": "code",
      "execution_count": 15,
      "metadata": {
        "id": "glJt_XKeCmtw"
      },
      "outputs": [],
      "source": [
        "from sklearn.model_selection import train_test_split"
      ]
    },
    {
      "cell_type": "code",
      "execution_count": 16,
      "metadata": {
        "id": "JajEKGU4IB-a"
      },
      "outputs": [],
      "source": [
        "def get_labels_df(balanced_label_df):\n",
        "  ohe_df = pd.get_dummies(balanced_label_df, prefix=['balanced_label'], columns=['balanced_label'], drop_first=True)\n",
        "  label_cols = [c for c in ohe_df.columns if 'balanced_label_' in c]\n",
        "  label_df = ohe_df.groupby('protein').sum(numeric_only=True)[label_cols].clip(0,1)\n",
        "  label_values = list(label_df.values)\n",
        "  label_ids = list(label_df.index)\n",
        "  labels_df = pd.DataFrame(data={\"EntryID\": label_ids, \"labels_vect\": label_values})\n",
        "  return labels_df, label_cols\n",
        "\n",
        "CCO_labels_df, CCO_label_cols = get_labels_df(new_CCO_df)\n",
        "MFO_labels_df, MFO_label_cols = get_labels_df(new_MFO_df)\n",
        "BPO_labels_df, BPO_label_cols = get_labels_df(new_BPO_df)\n",
        "# Split into train, val, test\n",
        "# X_train, X_test, y_train, y_test = train_test_split(label_ids,\n",
        "#                                                     label_values,\n",
        "#                                                     test_size = 0.2)\n",
        "# print(\"Train label\", len(y_train))\n",
        "# print(\"Test label\", len(y_test))"
      ]
    },
    {
      "cell_type": "code",
      "execution_count": 17,
      "metadata": {
        "id": "t2hK1aL8JClo"
      },
      "outputs": [],
      "source": [
        "# Directories for the different embedding vectors :\n",
        "embeds_map = {\n",
        "    \"T5\" : \"t5embeds\",\n",
        "    \"ProtBERT\" : \"protbert-embeddings-for-cafa5\",\n",
        "    \"ESM2\" : \"cafa-5-ems-2-embeddings-numpy\"\n",
        "}\n",
        "\n",
        "# Length of the different embedding vectors :\n",
        "embeds_dim = {\n",
        "    \"T5\" : 1024,\n",
        "    \"ProtBERT\" : 1024,\n",
        "    \"ESM2\" : 1280,\n",
        "    \"Concat\": 1280+1024,\n",
        "}"
      ]
    },
    {
      "cell_type": "code",
      "execution_count": 18,
      "metadata": {
        "id": "tvDhStmfJHbA"
      },
      "outputs": [],
      "source": [
        "class ProteinSequenceDataset(Dataset):\n",
        "\n",
        "    def __init__(self, datatype, embeddings_source, subontology):\n",
        "        super(ProteinSequenceDataset).__init__()\n",
        "        self.datatype = datatype\n",
        "        self.subontology = subontology\n",
        "\n",
        "        if embeddings_source in [\"ProtBERT\", \"ESM2\"]:\n",
        "            embeds = np.load(f\"{content_dir}/\"+embeds_map[embeddings_source]+\"/\"+datatype+\"_embeddings.npy\")\n",
        "            ids = np.load(f\"{content_dir}/\"+embeds_map[embeddings_source]+\"/\"+datatype+\"_ids.npy\")\n",
        "\n",
        "        if embeddings_source == \"T5\":\n",
        "            embeds = np.load(f\"{content_dir}/\"+embeds_map[embeddings_source]+\"/\"+datatype+\"_embeds.npy\")\n",
        "            ids = np.load(f\"{content_dir}/\"+embeds_map[embeddings_source]+\"/\"+datatype+\"_ids.npy\")\n",
        "\n",
        "        if embeddings_source == \"Concat\":\n",
        "            bert_embeds = np.load(f\"{content_dir}/\"+embeds_map[\"ProtBERT\"]+\"/\"+datatype+\"_embeddings.npy\")\n",
        "            bert_ids = np.load(f\"{content_dir}/\"+embeds_map[\"ProtBERT\"]+\"/\"+datatype+\"_ids.npy\")\n",
        "            esm2_embeds = np.load(f\"{content_dir}/\"+embeds_map[\"ESM2\"]+\"/\"+datatype+\"_embeddings.npy\")\n",
        "            esm2_ids = np.load(f\"{content_dir}/\"+embeds_map[\"ESM2\"]+\"/\"+datatype+\"_ids.npy\")\n",
        "            t5_embeds = np.load(f\"{content_dir}/\"+embeds_map[\"T5\"]+\"/\"+datatype+\"_embeds.npy\")\n",
        "            t5_ids = np.load(f\"{content_dir}/\"+embeds_map[\"T5\"]+\"/\"+datatype+\"_ids.npy\")\n",
        "            esm2_sorted_ids, esm2_sorted_embeds = map(list,zip(*list(sorted(zip(esm2_ids, esm2_embeds), key=lambda x: x[0]))))\n",
        "            t5_sorted_ids, t5_sorted_embeds = map(list,zip(*list(sorted(zip(t5_ids, t5_embeds), key=lambda x: x[0]))))\n",
        "            # t5 includes the same embedding twic\n",
        "            if datatype == \"test\":\n",
        "              del t5_sorted_ids[632]\n",
        "              del t5_sorted_embeds[632]\n",
        "            embeds = np.concatenate([esm2_sorted_embeds, t5_sorted_embeds], axis=1)\n",
        "            embeds_list = []\n",
        "            for l in range(embeds.shape[0]):\n",
        "                embeds_list.append(embeds[l,:])\n",
        "            self.df = pd.DataFrame(data={\"EntryID\": t5_sorted_ids, \"embed\" : embeds_list})\n",
        "        else:\n",
        "            embeds_list = []\n",
        "            for l in range(embeds.shape[0]):\n",
        "                embeds_list.append(embeds[l,:])\n",
        "            self.df = pd.DataFrame(data={\"EntryID\": ids, \"embed\" : embeds_list})\n",
        "\n",
        "        if datatype==\"train\":\n",
        "          if subontology==\"CCO\":\n",
        "              self.df = self.df.merge(CCO_labels_df, on=\"EntryID\")\n",
        "          if subontology==\"MFO\":\n",
        "              self.df = self.df.merge(MFO_labels_df, on=\"EntryID\")\n",
        "          if subontology==\"BPO\":\n",
        "              self.df = self.df.merge(BPO_labels_df, on=\"EntryID\")\n",
        "\n",
        "    def __len__(self):\n",
        "        return len(self.df)\n",
        "\n",
        "    def __getitem__(self, index):\n",
        "        embed = torch.tensor(self.df.iloc[index][\"embed\"] , dtype = torch.float32)\n",
        "        if self.datatype==\"train\":\n",
        "            targets = torch.tensor(self.df.iloc[index][\"labels_vect\"], dtype = torch.float32)\n",
        "            return embed, targets\n",
        "        if self.datatype==\"test\":\n",
        "            id = self.df.iloc[index][\"EntryID\"]\n",
        "            return embed, id"
      ]
    },
    {
      "cell_type": "code",
      "execution_count": 19,
      "metadata": {
        "id": "Vgq_exbhgDxR"
      },
      "outputs": [],
      "source": [
        "datatype = \"test\"\n",
        "bert_embeds = np.load(f\"{content_dir}/\"+embeds_map[\"ProtBERT\"]+\"/\"+datatype+\"_embeddings.npy\")\n",
        "bert_ids = np.load(f\"{content_dir}/\"+embeds_map[\"ProtBERT\"]+\"/\"+datatype+\"_ids.npy\")\n",
        "esm2_embeds = np.load(f\"{content_dir}/\"+embeds_map[\"ESM2\"]+\"/\"+datatype+\"_embeddings.npy\")\n",
        "esm2_ids = np.load(f\"{content_dir}/\"+embeds_map[\"ESM2\"]+\"/\"+datatype+\"_ids.npy\")\n",
        "t5_embeds = np.load(f\"{content_dir}/\"+embeds_map[\"T5\"]+\"/\"+datatype+\"_embeds.npy\")\n",
        "t5_ids = np.load(f\"{content_dir}/\"+embeds_map[\"T5\"]+\"/\"+datatype+\"_ids.npy\")"
      ]
    },
    {
      "cell_type": "code",
      "execution_count": 20,
      "metadata": {
        "id": "tOpvVYZYgu5_"
      },
      "outputs": [],
      "source": [
        "esm2_sorted_ids, esm2_sorted_embeds = map(list,zip(*list(sorted(zip(esm2_ids, esm2_embeds), key=lambda x: x[0]))))\n",
        "t5_sorted_ids, t5_sorted_embeds = map(list,zip(*list(sorted(zip(t5_ids, t5_embeds), key=lambda x: x[0]))))"
      ]
    },
    {
      "cell_type": "code",
      "execution_count": 21,
      "metadata": {
        "colab": {
          "base_uri": "https://localhost:8080/"
        },
        "id": "ZgXE3G_kgTOE",
        "outputId": "4377029b-7ae2-4a36-cd3c-c39d45aa7852"
      },
      "outputs": [
        {
          "output_type": "stream",
          "name": "stdout",
          "text": [
            "141864\n",
            "141865\n"
          ]
        }
      ],
      "source": [
        "print(len(esm2_sorted_ids))\n",
        "print(len(t5_sorted_ids))"
      ]
    },
    {
      "cell_type": "code",
      "execution_count": 22,
      "metadata": {
        "id": "ifMl7POS0eDo"
      },
      "outputs": [],
      "source": [
        "class MultiLayerPerceptron(torch.nn.Module):\n",
        "\n",
        "    def __init__(self, input_dim, num_classes, p):\n",
        "        super(MultiLayerPerceptron, self).__init__()\n",
        "\n",
        "        self.linear1 = torch.nn.Linear(input_dim, 4*1012)\n",
        "        self.activation1 = torch.nn.ReLU()\n",
        "        self.dropout1 = torch.nn.Dropout(p)\n",
        "        self.linear2 = torch.nn.Linear(4*1012, 4*712)\n",
        "        self.activation2 = torch.nn.ReLU()\n",
        "        self.dropout2 = torch.nn.Dropout(p)\n",
        "        self.linear3 = torch.nn.Linear(4*712, num_classes)\n",
        "\n",
        "    def forward(self, x):\n",
        "        x = self.linear1(x)\n",
        "        x = self.activation1(x)\n",
        "        x = self.dropout1(x)\n",
        "        x = self.linear2(x)\n",
        "        x = self.activation2(x)\n",
        "        x = self.dropout2(x)\n",
        "        x = self.linear3(x)\n",
        "        return x\n",
        "\n",
        "\n",
        "class CNN1D(nn.Module):\n",
        "    def __init__(self, input_dim, num_classes):\n",
        "        super(CNN1D, self).__init__()\n",
        "        # (batch_size, channels, embed_size)\n",
        "        self.conv1 = nn.Conv1d(in_channels=1, out_channels=3, kernel_size=3, dilation=1, padding=1, stride=1)\n",
        "        # (batch_size, 3, embed_size)\n",
        "        self.pool1 = nn.MaxPool1d(kernel_size=2, stride=2)\n",
        "        # (batch_size, 3, embed_size/2 = 512)\n",
        "        self.conv2 = nn.Conv1d(in_channels=3, out_channels=8, kernel_size=3, dilation=1, padding=1, stride=1)\n",
        "        # (batch_size, 8, embed_size/2 = 512)\n",
        "        self.pool2 = nn.MaxPool1d(kernel_size=2, stride=2)\n",
        "        # (batch_size, 8, embed_size/4 = 256)\n",
        "        self.fc1 = nn.Linear(in_features=int(8 * input_dim/4), out_features=128)\n",
        "        self.fc2 = nn.Linear(in_features=128, out_features=num_classes)\n",
        "\n",
        "    def forward(self, x):\n",
        "        x = x.reshape(x.shape[0], 1, x.shape[1])\n",
        "        x = self.pool1(nn.functional.relu(self.conv1(x)))\n",
        "        x = self.pool2(nn.functional.relu(self.conv2(x)))\n",
        "        x = torch.flatten(x, 1)\n",
        "        x = nn.functional.relu(self.fc1(x))\n",
        "        x = self.fc2(x)\n",
        "        return x"
      ]
    },
    {
      "cell_type": "code",
      "execution_count": 23,
      "metadata": {
        "id": "GqSXiM2I5nvr"
      },
      "outputs": [],
      "source": [
        "def train_model(embeddings_source, subontology, num_labels, model_type=\"linear\", train_size=0.9):\n",
        "\n",
        "    train_dataset = ProteinSequenceDataset(datatype=\"train\", embeddings_source = embeddings_source, subontology=subontology)\n",
        "\n",
        "    train_set, val_set = random_split(train_dataset, lengths = [int(len(train_dataset)*train_size), len(train_dataset)-int(len(train_dataset)*train_size)])\n",
        "    train_dataloader = torch.utils.data.DataLoader(train_set, batch_size=CFG.batch_size, shuffle=True)\n",
        "    val_dataloader = torch.utils.data.DataLoader(val_set, batch_size=CFG.batch_size, shuffle=True)\n",
        "\n",
        "    if model_type == \"linear\":\n",
        "        model = MultiLayerPerceptron(input_dim=embeds_dim[embeddings_source], num_classes=num_labels, p=0.2).to(CFG.device)\n",
        "    if model_type == \"convolutional\":\n",
        "        model = CNN1D(input_dim=embeds_dim[embeddings_source], num_classes=num_labels).to(CFG.device)\n",
        "\n",
        "    optimizer = torch.optim.Adam(model.parameters(), lr = CFG.lr)\n",
        "    scheduler = ReduceLROnPlateau(optimizer, factor=0.1, patience=1)\n",
        "    CrossEntropy = torch.nn.CrossEntropyLoss()\n",
        "    f1_score = MultilabelF1Score(num_labels=num_labels).to(CFG.device)\n",
        "    n_epochs = CFG.n_epochs\n",
        "\n",
        "    print(\"BEGIN TRAINING...\")\n",
        "    train_loss_history=[]\n",
        "    val_loss_history=[]\n",
        "\n",
        "    train_f1score_history=[]\n",
        "    val_f1score_history=[]\n",
        "    for epoch in range(n_epochs):\n",
        "        print(\"EPOCH \", epoch+1)\n",
        "        ## TRAIN PHASE :\n",
        "        losses = []\n",
        "        scores = []\n",
        "        for embed, targets in tqdm(train_dataloader):\n",
        "            embed, targets = embed.to(CFG.device), targets.to(CFG.device)\n",
        "            optimizer.zero_grad()\n",
        "            preds = model(embed)\n",
        "            loss= CrossEntropy(preds, targets)\n",
        "            score=f1_score(preds, targets)\n",
        "            losses.append(loss.item())\n",
        "            scores.append(score.item())\n",
        "            loss.backward()\n",
        "            optimizer.step()\n",
        "        avg_loss = np.mean(losses)\n",
        "        avg_score = np.mean(scores)\n",
        "        print(\"Running Average TRAIN Loss : \", avg_loss)\n",
        "        print(\"Running Average TRAIN F1-Score : \", avg_score)\n",
        "        train_loss_history.append(avg_loss)\n",
        "        train_f1score_history.append(avg_score)\n",
        "\n",
        "        ## VALIDATION PHASE :\n",
        "        losses = []\n",
        "        scores = []\n",
        "        for embed, targets in val_dataloader:\n",
        "            embed, targets = embed.to(CFG.device), targets.to(CFG.device)\n",
        "            preds = model(embed)\n",
        "            loss= CrossEntropy(preds, targets)\n",
        "            score=f1_score(preds, targets)\n",
        "            losses.append(loss.item())\n",
        "            scores.append(score.item())\n",
        "        avg_loss = np.mean(losses)\n",
        "        avg_score = np.mean(scores)\n",
        "        print(\"Running Average VAL Loss : \", avg_loss)\n",
        "        print(\"Running Average VAL F1-Score : \", avg_score)\n",
        "        val_loss_history.append(avg_loss)\n",
        "        val_f1score_history.append(avg_score)\n",
        "\n",
        "        scheduler.step(avg_loss)\n",
        "        print(\"\\n\")\n",
        "\n",
        "    print(\"TRAINING FINISHED\")\n",
        "    print(\"FINAL TRAINING SCORE : \", train_f1score_history[-1])\n",
        "    print(\"FINAL VALIDATION SCORE : \", val_f1score_history[-1])\n",
        "\n",
        "    losses_history = {\"train\" : train_loss_history, \"val\" : val_loss_history}\n",
        "    scores_history = {\"train\" : train_f1score_history, \"val\" : val_f1score_history}\n",
        "\n",
        "    return model, losses_history, scores_history"
      ]
    },
    {
      "cell_type": "code",
      "execution_count": 24,
      "metadata": {
        "id": "uaHlxFm7hUtr"
      },
      "outputs": [],
      "source": [
        "# cat_CCO_model, cat_CCO_losses, cat_CCO_scores = train_model(embeddings_source=\"Concat\", subontology=\"CCO\", num_labels=CCO_num_labels, model_type=\"linear\")"
      ]
    },
    {
      "cell_type": "code",
      "execution_count": 25,
      "metadata": {
        "id": "w3VdssHq5v-F"
      },
      "outputs": [],
      "source": [
        "# esm2_model, esm2_losses, esm2_scores = train_model(embeddings_source=\"ESM2\",model_type=\"linear\")"
      ]
    },
    {
      "cell_type": "code",
      "execution_count": 26,
      "metadata": {
        "id": "I6HJs1Qb514B"
      },
      "outputs": [],
      "source": [
        "# Weighted F1 Score?"
      ]
    },
    {
      "cell_type": "code",
      "execution_count": 27,
      "metadata": {
        "colab": {
          "base_uri": "https://localhost:8080/"
        },
        "id": "gvkZkKba9cmH",
        "outputId": "984e66ef-c4fe-4741-c0ed-982aa4b5c018"
      },
      "outputs": [
        {
          "output_type": "stream",
          "name": "stdout",
          "text": [
            "BEGIN TRAINING...\n",
            "EPOCH  1\n"
          ]
        },
        {
          "output_type": "stream",
          "name": "stderr",
          "text": [
            "100%|██████████| 654/654 [00:16<00:00, 39.88it/s]\n"
          ]
        },
        {
          "output_type": "stream",
          "name": "stdout",
          "text": [
            "Running Average TRAIN Loss :  6.902996109895385\n",
            "Running Average TRAIN F1-Score :  0.041174722631783754\n",
            "Running Average VAL Loss :  6.358826415179527\n",
            "Running Average VAL F1-Score :  0.055186531468205256\n",
            "\n",
            "\n",
            "EPOCH  2\n"
          ]
        },
        {
          "output_type": "stream",
          "name": "stderr",
          "text": [
            "100%|██████████| 654/654 [00:13<00:00, 47.09it/s]\n"
          ]
        },
        {
          "output_type": "stream",
          "name": "stdout",
          "text": [
            "Running Average TRAIN Loss :  6.185797756965007\n",
            "Running Average TRAIN F1-Score :  0.061957471944186666\n",
            "Running Average VAL Loss :  6.098087892140428\n",
            "Running Average VAL F1-Score :  0.06373786819103645\n",
            "\n",
            "\n",
            "EPOCH  3\n"
          ]
        },
        {
          "output_type": "stream",
          "name": "stderr",
          "text": [
            "100%|██████████| 654/654 [00:13<00:00, 47.06it/s]\n"
          ]
        },
        {
          "output_type": "stream",
          "name": "stdout",
          "text": [
            "Running Average TRAIN Loss :  5.894040561232727\n",
            "Running Average TRAIN F1-Score :  0.0715419538603919\n",
            "Running Average VAL Loss :  5.958570513006759\n",
            "Running Average VAL F1-Score :  0.07358227736533504\n",
            "\n",
            "\n",
            "EPOCH  4\n"
          ]
        },
        {
          "output_type": "stream",
          "name": "stderr",
          "text": [
            "100%|██████████| 654/654 [00:14<00:00, 46.62it/s]\n"
          ]
        },
        {
          "output_type": "stream",
          "name": "stdout",
          "text": [
            "Running Average TRAIN Loss :  5.65810020618847\n",
            "Running Average TRAIN F1-Score :  0.08023605674550803\n",
            "Running Average VAL Loss :  5.812639099277862\n",
            "Running Average VAL F1-Score :  0.07768505265655583\n",
            "\n",
            "\n",
            "EPOCH  5\n"
          ]
        },
        {
          "output_type": "stream",
          "name": "stderr",
          "text": [
            "100%|██████████| 654/654 [00:13<00:00, 47.52it/s]\n"
          ]
        },
        {
          "output_type": "stream",
          "name": "stdout",
          "text": [
            "Running Average TRAIN Loss :  5.447869076276773\n",
            "Running Average TRAIN F1-Score :  0.08886911602126896\n",
            "Running Average VAL Loss :  5.727527030526775\n",
            "Running Average VAL F1-Score :  0.08385829520348\n",
            "\n",
            "\n",
            "EPOCH  6\n"
          ]
        },
        {
          "output_type": "stream",
          "name": "stderr",
          "text": [
            "100%|██████████| 654/654 [00:13<00:00, 47.19it/s]\n"
          ]
        },
        {
          "output_type": "stream",
          "name": "stdout",
          "text": [
            "Running Average TRAIN Loss :  5.243254599221256\n",
            "Running Average TRAIN F1-Score :  0.09819698920444976\n",
            "Running Average VAL Loss :  5.678382233397602\n",
            "Running Average VAL F1-Score :  0.09086475250859784\n",
            "\n",
            "\n",
            "EPOCH  7\n"
          ]
        },
        {
          "output_type": "stream",
          "name": "stderr",
          "text": [
            "100%|██████████| 654/654 [00:13<00:00, 47.17it/s]\n"
          ]
        },
        {
          "output_type": "stream",
          "name": "stdout",
          "text": [
            "Running Average TRAIN Loss :  5.0458183751558305\n",
            "Running Average TRAIN F1-Score :  0.107166935817911\n",
            "Running Average VAL Loss :  5.63272482728305\n",
            "Running Average VAL F1-Score :  0.09781138935725983\n",
            "\n",
            "\n",
            "EPOCH  8\n"
          ]
        },
        {
          "output_type": "stream",
          "name": "stderr",
          "text": [
            "100%|██████████| 654/654 [00:13<00:00, 46.76it/s]\n"
          ]
        },
        {
          "output_type": "stream",
          "name": "stdout",
          "text": [
            "Running Average TRAIN Loss :  4.863542418232022\n",
            "Running Average TRAIN F1-Score :  0.11651790858636574\n",
            "Running Average VAL Loss :  5.640378364144939\n",
            "Running Average VAL F1-Score :  0.10081568380741224\n",
            "\n",
            "\n",
            "EPOCH  9\n"
          ]
        },
        {
          "output_type": "stream",
          "name": "stderr",
          "text": [
            "100%|██████████| 654/654 [00:13<00:00, 48.17it/s]\n"
          ]
        },
        {
          "output_type": "stream",
          "name": "stdout",
          "text": [
            "Running Average TRAIN Loss :  4.687268025284514\n",
            "Running Average TRAIN F1-Score :  0.1258637902614538\n",
            "Running Average VAL Loss :  5.629239898838409\n",
            "Running Average VAL F1-Score :  0.10587826524287054\n",
            "\n",
            "\n",
            "EPOCH  10\n"
          ]
        },
        {
          "output_type": "stream",
          "name": "stderr",
          "text": [
            "100%|██████████| 654/654 [00:13<00:00, 47.28it/s]\n"
          ]
        },
        {
          "output_type": "stream",
          "name": "stdout",
          "text": [
            "Running Average TRAIN Loss :  4.520434300833886\n",
            "Running Average TRAIN F1-Score :  0.134711476333371\n",
            "Running Average VAL Loss :  5.642500132730563\n",
            "Running Average VAL F1-Score :  0.10965921219489345\n",
            "\n",
            "\n",
            "EPOCH  11\n"
          ]
        },
        {
          "output_type": "stream",
          "name": "stderr",
          "text": [
            "100%|██████████| 654/654 [00:13<00:00, 47.91it/s]\n"
          ]
        },
        {
          "output_type": "stream",
          "name": "stdout",
          "text": [
            "Running Average TRAIN Loss :  4.365308065662326\n",
            "Running Average TRAIN F1-Score :  0.1430981539941709\n",
            "Running Average VAL Loss :  5.674004848689249\n",
            "Running Average VAL F1-Score :  0.11437718172187675\n",
            "\n",
            "\n",
            "EPOCH  12\n"
          ]
        },
        {
          "output_type": "stream",
          "name": "stderr",
          "text": [
            "100%|██████████| 654/654 [00:13<00:00, 47.50it/s]\n"
          ]
        },
        {
          "output_type": "stream",
          "name": "stdout",
          "text": [
            "Running Average TRAIN Loss :  3.9935022599835643\n",
            "Running Average TRAIN F1-Score :  0.15556632194223755\n",
            "Running Average VAL Loss :  5.619399096867809\n",
            "Running Average VAL F1-Score :  0.11862486549844481\n",
            "\n",
            "\n",
            "EPOCH  13\n"
          ]
        },
        {
          "output_type": "stream",
          "name": "stderr",
          "text": [
            "100%|██████████| 654/654 [00:13<00:00, 47.48it/s]\n"
          ]
        },
        {
          "output_type": "stream",
          "name": "stdout",
          "text": [
            "Running Average TRAIN Loss :  3.907098831386741\n",
            "Running Average TRAIN F1-Score :  0.15951662740758435\n",
            "Running Average VAL Loss :  5.622978197385187\n",
            "Running Average VAL F1-Score :  0.1188411119661919\n",
            "\n",
            "\n",
            "EPOCH  14\n"
          ]
        },
        {
          "output_type": "stream",
          "name": "stderr",
          "text": [
            "100%|██████████| 654/654 [00:13<00:00, 47.19it/s]\n"
          ]
        },
        {
          "output_type": "stream",
          "name": "stdout",
          "text": [
            "Running Average TRAIN Loss :  3.8689152239294957\n",
            "Running Average TRAIN F1-Score :  0.163114361351054\n",
            "Running Average VAL Loss :  5.644911067126548\n",
            "Running Average VAL F1-Score :  0.12001790402278509\n",
            "\n",
            "\n",
            "TRAINING FINISHED\n",
            "FINAL TRAINING SCORE :  0.163114361351054\n",
            "FINAL VALIDATION SCORE :  0.12001790402278509\n"
          ]
        }
      ],
      "source": [
        "t5_CCO_model, t5_CCO_losses, t5_CCO_scores = train_model(embeddings_source=\"T5\", subontology=\"CCO\", num_labels=CCO_num_labels, model_type=\"linear\")"
      ]
    },
    {
      "cell_type": "code",
      "execution_count": 28,
      "metadata": {
        "id": "ep6Wpyo69k96"
      },
      "outputs": [],
      "source": [
        "# protbert_model, protbert_losses, protbert_scores = train_model(embeddings_source=\"T5\",model_type=\"linear\")"
      ]
    },
    {
      "cell_type": "code",
      "execution_count": 29,
      "metadata": {
        "colab": {
          "base_uri": "https://localhost:8080/",
          "height": 813
        },
        "id": "zz6-sk7v99QX",
        "outputId": "2a360e10-a39c-4791-91b3-5c88aa12e94a"
      },
      "outputs": [
        {
          "output_type": "display_data",
          "data": {
            "text/plain": [
              "<Figure size 1000x400 with 1 Axes>"
            ],
            "image/png": "[encoded data removed]"
          },
          "metadata": {}
        },
        {
          "output_type": "display_data",
          "data": {
            "text/plain": [
              "<Figure size 1000x400 with 1 Axes>"
            ],
            "image/png": "[encoded data removed]"
          },
          "metadata": {}
        }
      ],
      "source": [
        "plt.figure(figsize = (10, 4))\n",
        "# plt.plot(esm2_losses[\"val\"], label = \"ESM2\")\n",
        "plt.plot(t5_CCO_losses[\"val\"], label = \"T5\")\n",
        "# plt.plot(protbert_losses[\"val\"], label = \"ProtBERT\")\n",
        "# plt.plot(cat_CCO_losses[\"val\"], label = \"Concat\")\n",
        "plt.title(\"CCO Validation Losses for # Vector Embeddings\")\n",
        "plt.xlabel(\"Epochs\")\n",
        "plt.ylabel(\"Average Loss\")\n",
        "plt.legend()\n",
        "plt.show()\n",
        "\n",
        "plt.figure(figsize = (10, 4))\n",
        "# plt.plot(esm2_scores[\"val\"], label = \"ESM2\")\n",
        "plt.plot(t5_CCO_scores[\"val\"], label = \"T5\")\n",
        "# plt.plot(protbert_scores[\"val\"], label = \"ProtBERT\")\n",
        "# plt.plot(cat_CCO_scores[\"val\"], label = \"Concat\")\n",
        "plt.title(\"CCO Validation F1-Scores for # Vector Embeddings\")\n",
        "plt.xlabel(\"Epochs\")\n",
        "plt.ylabel(\"Average F1-Score\")\n",
        "plt.legend()\n",
        "plt.show()"
      ]
    },
    {
      "cell_type": "code",
      "source": [
        "# cat_MFO_model, cat_MFO_losses, cat_MFO_scores = train_model(embeddings_source=\"Concat\", subontology=\"MFO\", num_labels=MFO_num_labels, model_type=\"linear\")"
      ],
      "metadata": {
        "id": "UtPn2_mXPDyl"
      },
      "execution_count": 30,
      "outputs": []
    },
    {
      "cell_type": "code",
      "source": [
        "t5_MFO_model, t5_MFO_losses, t5_MFO_scores = train_model(embeddings_source=\"T5\", subontology=\"MFO\", num_labels=MFO_num_labels, model_type=\"linear\")"
      ],
      "metadata": {
        "colab": {
          "base_uri": "https://localhost:8080/"
        },
        "id": "aNmaqU5JPIvq",
        "outputId": "aa6da1cd-db8d-471f-fa65-5b55d1f20491"
      },
      "execution_count": 31,
      "outputs": [
        {
          "output_type": "stream",
          "name": "stdout",
          "text": [
            "BEGIN TRAINING...\n",
            "EPOCH  1\n"
          ]
        },
        {
          "output_type": "stream",
          "name": "stderr",
          "text": [
            "100%|██████████| 422/422 [00:09<00:00, 46.59it/s]\n"
          ]
        },
        {
          "output_type": "stream",
          "name": "stdout",
          "text": [
            "Running Average TRAIN Loss :  7.113402104490741\n",
            "Running Average TRAIN F1-Score :  0.0474144769324899\n",
            "Running Average VAL Loss :  6.057100569948237\n",
            "Running Average VAL F1-Score :  0.07240149394628849\n",
            "\n",
            "\n",
            "EPOCH  2\n"
          ]
        },
        {
          "output_type": "stream",
          "name": "stderr",
          "text": [
            "100%|██████████| 422/422 [00:08<00:00, 46.94it/s]\n"
          ]
        },
        {
          "output_type": "stream",
          "name": "stdout",
          "text": [
            "Running Average TRAIN Loss :  5.801928587999389\n",
            "Running Average TRAIN F1-Score :  0.08280797848274922\n",
            "Running Average VAL Loss :  5.59601228795153\n",
            "Running Average VAL F1-Score :  0.08700679781589102\n",
            "\n",
            "\n",
            "EPOCH  3\n"
          ]
        },
        {
          "output_type": "stream",
          "name": "stderr",
          "text": [
            "100%|██████████| 422/422 [00:09<00:00, 46.85it/s]\n"
          ]
        },
        {
          "output_type": "stream",
          "name": "stdout",
          "text": [
            "Running Average TRAIN Loss :  5.380890914049194\n",
            "Running Average TRAIN F1-Score :  0.0975490526574271\n",
            "Running Average VAL Loss :  5.385889966437158\n",
            "Running Average VAL F1-Score :  0.09740795638967067\n",
            "\n",
            "\n",
            "EPOCH  4\n"
          ]
        },
        {
          "output_type": "stream",
          "name": "stderr",
          "text": [
            "100%|██████████| 422/422 [00:09<00:00, 45.98it/s]\n"
          ]
        },
        {
          "output_type": "stream",
          "name": "stdout",
          "text": [
            "Running Average TRAIN Loss :  5.101480871580224\n",
            "Running Average TRAIN F1-Score :  0.10861658793101661\n",
            "Running Average VAL Loss :  5.211063932865224\n",
            "Running Average VAL F1-Score :  0.10834970832505125\n",
            "\n",
            "\n",
            "EPOCH  5\n"
          ]
        },
        {
          "output_type": "stream",
          "name": "stderr",
          "text": [
            "100%|██████████| 422/422 [00:09<00:00, 46.52it/s]\n"
          ]
        },
        {
          "output_type": "stream",
          "name": "stdout",
          "text": [
            "Running Average TRAIN Loss :  4.8667559437277195\n",
            "Running Average TRAIN F1-Score :  0.11885187304380099\n",
            "Running Average VAL Loss :  5.11909318984823\n",
            "Running Average VAL F1-Score :  0.11648646884776176\n",
            "\n",
            "\n",
            "EPOCH  6\n"
          ]
        },
        {
          "output_type": "stream",
          "name": "stderr",
          "text": [
            "100%|██████████| 422/422 [00:09<00:00, 45.85it/s]\n"
          ]
        },
        {
          "output_type": "stream",
          "name": "stdout",
          "text": [
            "Running Average TRAIN Loss :  4.665064913401672\n",
            "Running Average TRAIN F1-Score :  0.12920352923396922\n",
            "Running Average VAL Loss :  5.046002667000953\n",
            "Running Average VAL F1-Score :  0.12356004055510177\n",
            "\n",
            "\n",
            "EPOCH  7\n"
          ]
        },
        {
          "output_type": "stream",
          "name": "stderr",
          "text": [
            "100%|██████████| 422/422 [00:08<00:00, 46.90it/s]\n"
          ]
        },
        {
          "output_type": "stream",
          "name": "stdout",
          "text": [
            "Running Average TRAIN Loss :  4.497523355822993\n",
            "Running Average TRAIN F1-Score :  0.1392598067767812\n",
            "Running Average VAL Loss :  4.988160833399347\n",
            "Running Average VAL F1-Score :  0.13383394321228595\n",
            "\n",
            "\n",
            "EPOCH  8\n"
          ]
        },
        {
          "output_type": "stream",
          "name": "stderr",
          "text": [
            "100%|██████████| 422/422 [00:08<00:00, 47.15it/s]\n"
          ]
        },
        {
          "output_type": "stream",
          "name": "stdout",
          "text": [
            "Running Average TRAIN Loss :  4.3166813805204995\n",
            "Running Average TRAIN F1-Score :  0.14926224230166296\n",
            "Running Average VAL Loss :  4.958195564594675\n",
            "Running Average VAL F1-Score :  0.1378009853527901\n",
            "\n",
            "\n",
            "EPOCH  9\n"
          ]
        },
        {
          "output_type": "stream",
          "name": "stderr",
          "text": [
            "100%|██████████| 422/422 [00:09<00:00, 46.18it/s]\n"
          ]
        },
        {
          "output_type": "stream",
          "name": "stdout",
          "text": [
            "Running Average TRAIN Loss :  4.16768873585344\n",
            "Running Average TRAIN F1-Score :  0.15909549420019745\n",
            "Running Average VAL Loss :  4.939807212099116\n",
            "Running Average VAL F1-Score :  0.14336849796645185\n",
            "\n",
            "\n",
            "EPOCH  10\n"
          ]
        },
        {
          "output_type": "stream",
          "name": "stderr",
          "text": [
            "100%|██████████| 422/422 [00:09<00:00, 46.45it/s]\n"
          ]
        },
        {
          "output_type": "stream",
          "name": "stdout",
          "text": [
            "Running Average TRAIN Loss :  4.024569202938351\n",
            "Running Average TRAIN F1-Score :  0.16746276200382632\n",
            "Running Average VAL Loss :  4.915141739743821\n",
            "Running Average VAL F1-Score :  0.15177814884388702\n",
            "\n",
            "\n",
            "EPOCH  11\n"
          ]
        },
        {
          "output_type": "stream",
          "name": "stderr",
          "text": [
            "100%|██████████| 422/422 [00:09<00:00, 46.63it/s]\n"
          ]
        },
        {
          "output_type": "stream",
          "name": "stdout",
          "text": [
            "Running Average TRAIN Loss :  3.874582502514265\n",
            "Running Average TRAIN F1-Score :  0.17705845168981507\n",
            "Running Average VAL Loss :  4.886481224222386\n",
            "Running Average VAL F1-Score :  0.15931051113504044\n",
            "\n",
            "\n",
            "EPOCH  12\n"
          ]
        },
        {
          "output_type": "stream",
          "name": "stderr",
          "text": [
            "100%|██████████| 422/422 [00:09<00:00, 46.53it/s]\n"
          ]
        },
        {
          "output_type": "stream",
          "name": "stdout",
          "text": [
            "Running Average TRAIN Loss :  3.74861408579406\n",
            "Running Average TRAIN F1-Score :  0.18493850771072917\n",
            "Running Average VAL Loss :  4.912688671274388\n",
            "Running Average VAL F1-Score :  0.1603242780299897\n",
            "\n",
            "\n",
            "EPOCH  13\n"
          ]
        },
        {
          "output_type": "stream",
          "name": "stderr",
          "text": [
            "100%|██████████| 422/422 [00:09<00:00, 46.39it/s]\n"
          ]
        },
        {
          "output_type": "stream",
          "name": "stdout",
          "text": [
            "Running Average TRAIN Loss :  3.634926087200924\n",
            "Running Average TRAIN F1-Score :  0.19218352252520374\n",
            "Running Average VAL Loss :  4.931332973723716\n",
            "Running Average VAL F1-Score :  0.16433612780368073\n",
            "\n",
            "\n",
            "EPOCH  14\n"
          ]
        },
        {
          "output_type": "stream",
          "name": "stderr",
          "text": [
            "100%|██████████| 422/422 [00:08<00:00, 47.19it/s]\n"
          ]
        },
        {
          "output_type": "stream",
          "name": "stdout",
          "text": [
            "Running Average TRAIN Loss :  3.3209636205745534\n",
            "Running Average TRAIN F1-Score :  0.201332649419093\n",
            "Running Average VAL Loss :  4.885223764054318\n",
            "Running Average VAL F1-Score :  0.17208992293540468\n",
            "\n",
            "\n",
            "TRAINING FINISHED\n",
            "FINAL TRAINING SCORE :  0.201332649419093\n",
            "FINAL VALIDATION SCORE :  0.17208992293540468\n"
          ]
        }
      ]
    },
    {
      "cell_type": "code",
      "source": [
        "plt.figure(figsize = (10, 4))\n",
        "# plt.plot(esm2_losses[\"val\"], label = \"ESM2\")\n",
        "plt.plot(t5_MFO_losses[\"val\"], label = \"T5\")\n",
        "# plt.plot(protbert_losses[\"val\"], label = \"ProtBERT\")\n",
        "# plt.plot(cat_MFO_losses[\"val\"], label = \"Concat\")\n",
        "plt.title(\"MFO Validation Losses for # Vector Embeddings\")\n",
        "plt.xlabel(\"Epochs\")\n",
        "plt.ylabel(\"Average Loss\")\n",
        "plt.legend()\n",
        "plt.show()\n",
        "\n",
        "plt.figure(figsize = (10, 4))\n",
        "# plt.plot(esm2_scores[\"val\"], label = \"ESM2\")\n",
        "plt.plot(t5_MFO_scores[\"val\"], label = \"T5\")\n",
        "# plt.plot(protbert_scores[\"val\"], label = \"ProtBERT\")\n",
        "# plt.plot(cat_MFO_scores[\"val\"], label = \"Concat\")\n",
        "plt.title(\"MFO Validation F1-Scores for # Vector Embeddings\")\n",
        "plt.xlabel(\"Epochs\")\n",
        "plt.ylabel(\"Average F1-Score\")\n",
        "plt.legend()\n",
        "plt.show()"
      ],
      "metadata": {
        "colab": {
          "base_uri": "https://localhost:8080/",
          "height": 813
        },
        "id": "5zm5M7jEPIiv",
        "outputId": "728536e3-6183-40d3-fcef-51934e2e4802"
      },
      "execution_count": 32,
      "outputs": [
        {
          "output_type": "display_data",
          "data": {
            "text/plain": [
              "<Figure size 1000x400 with 1 Axes>"
            ],
            "image/png": "[encoded data removed]"
          },
          "metadata": {}
        },
        {
          "output_type": "display_data",
          "data": {
            "text/plain": [
              "<Figure size 1000x400 with 1 Axes>"
            ],
            "image/png": "[encoded data removed]"
          },
          "metadata": {}
        }
      ]
    },
    {
      "cell_type": "code",
      "source": [
        "# cat_BPO_model, cat_BPO_losses, cat_BPO_scores = train_model(embeddings_source=\"Concat\", subontology=\"BPO\", num_labels=BPO_num_labels, model_type=\"linear\")"
      ],
      "metadata": {
        "id": "z8ahwrK6uN_w"
      },
      "execution_count": 33,
      "outputs": []
    },
    {
      "cell_type": "code",
      "source": [
        "t5_BPO_model, t5_BPO_losses, t5_BPO_scores = train_model(embeddings_source=\"T5\", subontology=\"BPO\", num_labels=BPO_num_labels, model_type=\"linear\")"
      ],
      "metadata": {
        "colab": {
          "base_uri": "https://localhost:8080/"
        },
        "id": "H33TXtcjuSlZ",
        "outputId": "ed2f66eb-4929-4a24-ab67-d70afa796225"
      },
      "execution_count": 34,
      "outputs": [
        {
          "output_type": "stream",
          "name": "stdout",
          "text": [
            "BEGIN TRAINING...\n",
            "EPOCH  1\n"
          ]
        },
        {
          "output_type": "stream",
          "name": "stderr",
          "text": [
            "100%|██████████| 649/649 [00:14<00:00, 43.28it/s]\n"
          ]
        },
        {
          "output_type": "stream",
          "name": "stdout",
          "text": [
            "Running Average TRAIN Loss :  18.163478141573066\n",
            "Running Average TRAIN F1-Score :  0.024052095378480725\n",
            "Running Average VAL Loss :  17.298325185906396\n",
            "Running Average VAL F1-Score :  0.035124238197730015\n",
            "\n",
            "\n",
            "EPOCH  2\n"
          ]
        },
        {
          "output_type": "stream",
          "name": "stderr",
          "text": [
            "100%|██████████| 649/649 [00:14<00:00, 43.76it/s]\n"
          ]
        },
        {
          "output_type": "stream",
          "name": "stdout",
          "text": [
            "Running Average TRAIN Loss :  16.746754906394266\n",
            "Running Average TRAIN F1-Score :  0.04304420184028351\n",
            "Running Average VAL Loss :  16.51650373249838\n",
            "Running Average VAL F1-Score :  0.04530682402969121\n",
            "\n",
            "\n",
            "EPOCH  3\n"
          ]
        },
        {
          "output_type": "stream",
          "name": "stderr",
          "text": [
            "100%|██████████| 649/649 [00:14<00:00, 43.29it/s]\n"
          ]
        },
        {
          "output_type": "stream",
          "name": "stdout",
          "text": [
            "Running Average TRAIN Loss :  16.036378598911185\n",
            "Running Average TRAIN F1-Score :  0.05364754825015373\n",
            "Running Average VAL Loss :  16.285191810294375\n",
            "Running Average VAL F1-Score :  0.05282236351185057\n",
            "\n",
            "\n",
            "EPOCH  4\n"
          ]
        },
        {
          "output_type": "stream",
          "name": "stderr",
          "text": [
            "100%|██████████| 649/649 [00:14<00:00, 44.21it/s]\n"
          ]
        },
        {
          "output_type": "stream",
          "name": "stdout",
          "text": [
            "Running Average TRAIN Loss :  15.437742221520752\n",
            "Running Average TRAIN F1-Score :  0.06260005604814399\n",
            "Running Average VAL Loss :  16.018440664631047\n",
            "Running Average VAL F1-Score :  0.05902243414511011\n",
            "\n",
            "\n",
            "EPOCH  5\n"
          ]
        },
        {
          "output_type": "stream",
          "name": "stderr",
          "text": [
            "100%|██████████| 649/649 [00:14<00:00, 43.76it/s]\n"
          ]
        },
        {
          "output_type": "stream",
          "name": "stdout",
          "text": [
            "Running Average TRAIN Loss :  14.89582357568256\n",
            "Running Average TRAIN F1-Score :  0.07253282750240643\n",
            "Running Average VAL Loss :  16.024245614874854\n",
            "Running Average VAL F1-Score :  0.06516689896481494\n",
            "\n",
            "\n",
            "EPOCH  6\n"
          ]
        },
        {
          "output_type": "stream",
          "name": "stderr",
          "text": [
            "100%|██████████| 649/649 [00:14<00:00, 43.86it/s]\n"
          ]
        },
        {
          "output_type": "stream",
          "name": "stdout",
          "text": [
            "Running Average TRAIN Loss :  14.401646818328528\n",
            "Running Average TRAIN F1-Score :  0.08114366605877876\n",
            "Running Average VAL Loss :  16.08842981678166\n",
            "Running Average VAL F1-Score :  0.07054389300054476\n",
            "\n",
            "\n",
            "EPOCH  7\n"
          ]
        },
        {
          "output_type": "stream",
          "name": "stderr",
          "text": [
            "100%|██████████| 649/649 [00:14<00:00, 43.34it/s]\n"
          ]
        },
        {
          "output_type": "stream",
          "name": "stdout",
          "text": [
            "Running Average TRAIN Loss :  13.596150968401751\n",
            "Running Average TRAIN F1-Score :  0.09305764249137076\n",
            "Running Average VAL Loss :  15.58650084717633\n",
            "Running Average VAL F1-Score :  0.07415582877520012\n",
            "\n",
            "\n",
            "EPOCH  8\n"
          ]
        },
        {
          "output_type": "stream",
          "name": "stderr",
          "text": [
            "100%|██████████| 649/649 [00:14<00:00, 43.47it/s]\n"
          ]
        },
        {
          "output_type": "stream",
          "name": "stdout",
          "text": [
            "Running Average TRAIN Loss :  13.448712260770872\n",
            "Running Average TRAIN F1-Score :  0.09614953623714359\n",
            "Running Average VAL Loss :  15.684826197689526\n",
            "Running Average VAL F1-Score :  0.0754610009950726\n",
            "\n",
            "\n",
            "EPOCH  9\n"
          ]
        },
        {
          "output_type": "stream",
          "name": "stderr",
          "text": [
            "100%|██████████| 649/649 [00:14<00:00, 44.27it/s]\n"
          ]
        },
        {
          "output_type": "stream",
          "name": "stdout",
          "text": [
            "Running Average TRAIN Loss :  13.365544802602525\n",
            "Running Average TRAIN F1-Score :  0.09772069483582155\n",
            "Running Average VAL Loss :  15.505732066010776\n",
            "Running Average VAL F1-Score :  0.07560834995381636\n",
            "\n",
            "\n",
            "EPOCH  10\n"
          ]
        },
        {
          "output_type": "stream",
          "name": "stderr",
          "text": [
            "100%|██████████| 649/649 [00:15<00:00, 43.24it/s]\n"
          ]
        },
        {
          "output_type": "stream",
          "name": "stdout",
          "text": [
            "Running Average TRAIN Loss :  13.287724954872543\n",
            "Running Average TRAIN F1-Score :  0.09929335910040535\n",
            "Running Average VAL Loss :  15.532371364227712\n",
            "Running Average VAL F1-Score :  0.07625790365831289\n",
            "\n",
            "\n",
            "EPOCH  11\n"
          ]
        },
        {
          "output_type": "stream",
          "name": "stderr",
          "text": [
            "100%|██████████| 649/649 [00:14<00:00, 43.91it/s]\n"
          ]
        },
        {
          "output_type": "stream",
          "name": "stdout",
          "text": [
            "Running Average TRAIN Loss :  13.22230632793738\n",
            "Running Average TRAIN F1-Score :  0.10045620353063009\n",
            "Running Average VAL Loss :  15.567090530918069\n",
            "Running Average VAL F1-Score :  0.07657817701413615\n",
            "\n",
            "\n",
            "EPOCH  12\n"
          ]
        },
        {
          "output_type": "stream",
          "name": "stderr",
          "text": [
            "100%|██████████| 649/649 [00:14<00:00, 43.56it/s]\n"
          ]
        },
        {
          "output_type": "stream",
          "name": "stdout",
          "text": [
            "Running Average TRAIN Loss :  13.125622877170933\n",
            "Running Average TRAIN F1-Score :  0.1019263433404439\n",
            "Running Average VAL Loss :  15.55551528930664\n",
            "Running Average VAL F1-Score :  0.07693134597821595\n",
            "\n",
            "\n",
            "EPOCH  13\n"
          ]
        },
        {
          "output_type": "stream",
          "name": "stderr",
          "text": [
            "100%|██████████| 649/649 [00:15<00:00, 42.42it/s]\n"
          ]
        },
        {
          "output_type": "stream",
          "name": "stdout",
          "text": [
            "Running Average TRAIN Loss :  13.111668939399426\n",
            "Running Average TRAIN F1-Score :  0.10231180436828838\n",
            "Running Average VAL Loss :  15.627405218882103\n",
            "Running Average VAL F1-Score :  0.07610016157978201\n",
            "\n",
            "\n",
            "EPOCH  14\n"
          ]
        },
        {
          "output_type": "stream",
          "name": "stderr",
          "text": [
            "100%|██████████| 649/649 [00:15<00:00, 41.99it/s]\n"
          ]
        },
        {
          "output_type": "stream",
          "name": "stdout",
          "text": [
            "Running Average TRAIN Loss :  13.107440031548311\n",
            "Running Average TRAIN F1-Score :  0.10245743909354202\n",
            "Running Average VAL Loss :  15.466886637962027\n",
            "Running Average VAL F1-Score :  0.077004337198522\n",
            "\n",
            "\n",
            "TRAINING FINISHED\n",
            "FINAL TRAINING SCORE :  0.10245743909354202\n",
            "FINAL VALIDATION SCORE :  0.077004337198522\n"
          ]
        }
      ]
    },
    {
      "cell_type": "code",
      "source": [
        "plt.figure(figsize = (10, 4))\n",
        "# plt.plot(esm2_losses[\"val\"], label = \"ESM2\")\n",
        "plt.plot(t5_BPO_losses[\"val\"], label = \"T5\")\n",
        "# plt.plot(protbert_losses[\"val\"], label = \"ProtBERT\")\n",
        "# plt.plot(cat_BPO_losses[\"val\"], label = \"Concat\")\n",
        "plt.title(\"BPO Validation Losses for # Vector Embeddings\")\n",
        "plt.xlabel(\"Epochs\")\n",
        "plt.ylabel(\"Average Loss\")\n",
        "plt.legend()\n",
        "plt.show()\n",
        "\n",
        "plt.figure(figsize = (10, 4))\n",
        "# plt.plot(esm2_scores[\"val\"], label = \"ESM2\")\n",
        "plt.plot(t5_BPO_scores[\"val\"], label = \"T5\")\n",
        "# plt.plot(protbert_scores[\"val\"], label = \"ProtBERT\")\n",
        "# plt.plot(cat_BPO_scores[\"val\"], label = \"Concat\")\n",
        "plt.title(\"BPO Validation F1-Scores for # Vector Embeddings\")\n",
        "plt.xlabel(\"Epochs\")\n",
        "plt.ylabel(\"Average F1-Score\")\n",
        "plt.legend()\n",
        "plt.show()"
      ],
      "metadata": {
        "colab": {
          "base_uri": "https://localhost:8080/",
          "height": 813
        },
        "id": "eQAzWeyAuSaI",
        "outputId": "46ec76f0-3ad7-4a0c-b2d5-655da52854e7"
      },
      "execution_count": 35,
      "outputs": [
        {
          "output_type": "display_data",
          "data": {
            "text/plain": [
              "<Figure size 1000x400 with 1 Axes>"
            ],
            "image/png": "[encoded data removed]"
          },
          "metadata": {}
        },
        {
          "output_type": "display_data",
          "data": {
            "text/plain": [
              "<Figure size 1000x400 with 1 Axes>"
            ],
            "image/png": "[encoded data removed]"
          },
          "metadata": {}
        }
      ]
    },
    {
      "cell_type": "markdown",
      "metadata": {
        "id": "dnh-ResZD_mp"
      },
      "source": [
        "## Make Predictions"
      ]
    },
    {
      "cell_type": "code",
      "source": [
        "model_map = {\n",
        "    \"CCO\": {\n",
        "        \"T5\": t5_CCO_model,\n",
        "        # \"ProtBERT\": protbert_CCO_model,\n",
        "        # \"ESM2\": esm2_CCO_model,\n",
        "        # \"Concat\": cat_CCO_model,\n",
        "        \"labels\": CCO_label_cols,\n",
        "        \"num_labels\": CCO_num_labels,\n",
        "    },\n",
        "    \"MFO\": {\n",
        "        \"T5\": t5_MFO_model,\n",
        "        # \"ProtBERT\": protbert_MFO_model,\n",
        "        # \"ESM2\": esm2_MFO_model,\n",
        "        # \"Concat\": cat_MFO_model,\n",
        "        \"labels\": MFO_label_cols,\n",
        "        \"num_labels\": MFO_num_labels,\n",
        "    },\n",
        "    \"BPO\": {\n",
        "        \"T5\": t5_BPO_model,\n",
        "        # \"ProtBERT\": protbert_MFO_model,\n",
        "        # \"ESM2\": esm2_MFO_model,\n",
        "        # \"Concat\": cat_BPO_model,\n",
        "        \"labels\": BPO_label_cols,\n",
        "        \"num_labels\": BPO_num_labels,\n",
        "    }\n",
        "}"
      ],
      "metadata": {
        "id": "O0aMuV6UqSth"
      },
      "execution_count": 36,
      "outputs": []
    },
    {
      "cell_type": "code",
      "execution_count": 37,
      "metadata": {
        "id": "3mTGiX1QMhLp"
      },
      "outputs": [],
      "source": [
        "def predict(embeddings_source, subontology):\n",
        "\n",
        "    test_dataset = ProteinSequenceDataset(datatype=\"test\", embeddings_source = embeddings_source, subontology=subontology)\n",
        "    test_dataloader = torch.utils.data.DataLoader(test_dataset, batch_size=1, shuffle=False)\n",
        "\n",
        "    model = model_map[subontology][embeddings_source]\n",
        "    label_cols = model_map[subontology][\"labels\"]\n",
        "    num_labels = model_map[subontology][\"num_labels\"]\n",
        "\n",
        "    model.eval()\n",
        "\n",
        "    labels = pd.read_csv(CFG.train_terms_path, sep = \"\\t\")\n",
        "    top_terms = labels.groupby(\"term\")[\"EntryID\"].count().sort_values(ascending=False)\n",
        "    labels_names = [label.split('_')[-1] for label in label_cols]\n",
        "    print(\"GENERATE PREDICTION FOR TEST SET...\")\n",
        "\n",
        "    ids_ = np.empty(shape=(len(test_dataloader)*num_labels,), dtype=object)\n",
        "    go_terms_ = np.empty(shape=(len(test_dataloader)*num_labels,), dtype=object)\n",
        "    confs_ = np.empty(shape=(len(test_dataloader)*num_labels,), dtype=np.float32)\n",
        "\n",
        "    for i, (embed, id) in tqdm(enumerate(test_dataloader)):\n",
        "        embed = embed.to(CFG.device)\n",
        "        confs_[i*num_labels:(i+1)*num_labels] = torch.nn.functional.sigmoid(model(embed)).squeeze().detach().cpu().numpy()\n",
        "        ids_[i*num_labels:(i+1)*num_labels] = id[0]\n",
        "        go_terms_[i*num_labels:(i+1)*num_labels] = labels_names\n",
        "\n",
        "    submission_df = pd.DataFrame(data={\"Id\" : ids_, \"GO term\" : go_terms_, \"Confidence\" : confs_})\n",
        "    print(\"PREDICTIONS DONE\")\n",
        "    return submission_df"
      ]
    },
    {
      "cell_type": "code",
      "execution_count": 38,
      "metadata": {
        "colab": {
          "base_uri": "https://localhost:8080/",
          "height": 300
        },
        "id": "-d0LIp9-EBm5",
        "outputId": "68bedcf7-7421-4932-b359-097313ba4220"
      },
      "outputs": [
        {
          "output_type": "stream",
          "name": "stdout",
          "text": [
            "GENERATE PREDICTION FOR TEST SET...\n"
          ]
        },
        {
          "output_type": "stream",
          "name": "stderr",
          "text": [
            "141865it [01:44, 1357.22it/s]\n"
          ]
        },
        {
          "output_type": "stream",
          "name": "stdout",
          "text": [
            "PREDICTIONS DONE\n",
            "39296605\n",
            "277\n"
          ]
        },
        {
          "output_type": "execute_result",
          "data": {
            "text/plain": [
              "       Id     GO term  Confidence\n",
              "0  Q9CQV8  GO:0000123    0.005222\n",
              "1  Q9CQV8  GO:0000124    0.000012\n",
              "2  Q9CQV8  GO:0000138    0.000035\n",
              "3  Q9CQV8  GO:0000139    0.012969\n",
              "4  Q9CQV8  GO:0000151    0.001312"
            ],
            "text/html": [
              "\n",
              "  <div id=\"df-9ddb26e9-648e-4cd3-8172-47c8c5fde6a2\">\n",
              "    <div class=\"colab-df-container\">\n",
              "      <div>\n",
              "<style scoped>\n",
              "    .dataframe tbody tr th:only-of-type {\n",
              "        vertical-align: middle;\n",
              "    }\n",
              "\n",
              "    .dataframe tbody tr th {\n",
              "        vertical-align: top;\n",
              "    }\n",
              "\n",
              "    .dataframe thead th {\n",
              "        text-align: right;\n",
              "    }\n",
              "</style>\n",
              "<table border=\"1\" class=\"dataframe\">\n",
              "  <thead>\n",
              "    <tr style=\"text-align: right;\">\n",
              "      <th></th>\n",
              "      <th>Id</th>\n",
              "      <th>GO term</th>\n",
              "      <th>Confidence</th>\n",
              "    </tr>\n",
              "  </thead>\n",
              "  <tbody>\n",
              "    <tr>\n",
              "      <th>0</th>\n",
              "      <td>Q9CQV8</td>\n",
              "      <td>GO:0000123</td>\n",
              "      <td>0.005222</td>\n",
              "    </tr>\n",
              "    <tr>\n",
              "      <th>1</th>\n",
              "      <td>Q9CQV8</td>\n",
              "      <td>GO:0000124</td>\n",
              "      <td>0.000012</td>\n",
              "    </tr>\n",
              "    <tr>\n",
              "      <th>2</th>\n",
              "      <td>Q9CQV8</td>\n",
              "      <td>GO:0000138</td>\n",
              "      <td>0.000035</td>\n",
              "    </tr>\n",
              "    <tr>\n",
              "      <th>3</th>\n",
              "      <td>Q9CQV8</td>\n",
              "      <td>GO:0000139</td>\n",
              "      <td>0.012969</td>\n",
              "    </tr>\n",
              "    <tr>\n",
              "      <th>4</th>\n",
              "      <td>Q9CQV8</td>\n",
              "      <td>GO:0000151</td>\n",
              "      <td>0.001312</td>\n",
              "    </tr>\n",
              "  </tbody>\n",
              "</table>\n",
              "</div>\n",
              "      <button class=\"colab-df-convert\" onclick=\"convertToInteractive('df-9ddb26e9-648e-4cd3-8172-47c8c5fde6a2')\"\n",
              "              title=\"Convert this dataframe to an interactive table.\"\n",
              "              style=\"display:none;\">\n",
              "        \n",
              "  <svg xmlns=\"http://www.w3.org/2000/svg\" height=\"24px\"viewBox=\"0 0 24 24\"\n",
              "       width=\"24px\">\n",
              "    <path d=\"M0 0h24v24H0V0z\" fill=\"none\"/>\n",
              "    <path d=\"M18.56 5.44l.94 2.06.94-2.06 2.06-.94-2.06-.94-.94-2.06-.94 2.06-2.06.94zm-11 1L8.5 8.5l.94-2.06 2.06-.94-2.06-.94L8.5 2.5l-.94 2.06-2.06.94zm10 10l.94 2.06.94-2.06 2.06-.94-2.06-.94-.94-2.06-.94 2.06-2.06.94z\"/><path d=\"M17.41 7.96l-1.37-1.37c-.4-.4-.92-.59-1.43-.59-.52 0-1.04.2-1.43.59L10.3 9.45l-7.72 7.72c-.78.78-.78 2.05 0 2.83L4 21.41c.39.39.9.59 1.41.59.51 0 1.02-.2 1.41-.59l7.78-7.78 2.81-2.81c.8-.78.8-2.07 0-2.86zM5.41 20L4 18.59l7.72-7.72 1.47 1.35L5.41 20z\"/>\n",
              "  </svg>\n",
              "      </button>\n",
              "      \n",
              "  <style>\n",
              "    .colab-df-container {\n",
              "      display:flex;\n",
              "      flex-wrap:wrap;\n",
              "      gap: 12px;\n",
              "    }\n",
              "\n",
              "    .colab-df-convert {\n",
              "      background-color: #E8F0FE;\n",
              "      border: none;\n",
              "      border-radius: 50%;\n",
              "      cursor: pointer;\n",
              "      display: none;\n",
              "      fill: #1967D2;\n",
              "      height: 32px;\n",
              "      padding: 0 0 0 0;\n",
              "      width: 32px;\n",
              "    }\n",
              "\n",
              "    .colab-df-convert:hover {\n",
              "      background-color: #E2EBFA;\n",
              "      box-shadow: 0px 1px 2px rgba(60, 64, 67, 0.3), 0px 1px 3px 1px rgba(60, 64, 67, 0.15);\n",
              "      fill: #174EA6;\n",
              "    }\n",
              "\n",
              "    [theme=dark] .colab-df-convert {\n",
              "      background-color: #3B4455;\n",
              "      fill: #D2E3FC;\n",
              "    }\n",
              "\n",
              "    [theme=dark] .colab-df-convert:hover {\n",
              "      background-color: #434B5C;\n",
              "      box-shadow: 0px 1px 3px 1px rgba(0, 0, 0, 0.15);\n",
              "      filter: drop-shadow(0px 1px 2px rgba(0, 0, 0, 0.3));\n",
              "      fill: #FFFFFF;\n",
              "    }\n",
              "  </style>\n",
              "\n",
              "      <script>\n",
              "        const buttonEl =\n",
              "          document.querySelector('#df-9ddb26e9-648e-4cd3-8172-47c8c5fde6a2 button.colab-df-convert');\n",
              "        buttonEl.style.display =\n",
              "          google.colab.kernel.accessAllowed ? 'block' : 'none';\n",
              "\n",
              "        async function convertToInteractive(key) {\n",
              "          const element = document.querySelector('#df-9ddb26e9-648e-4cd3-8172-47c8c5fde6a2');\n",
              "          const dataTable =\n",
              "            await google.colab.kernel.invokeFunction('convertToInteractive',\n",
              "                                                     [key], {});\n",
              "          if (!dataTable) return;\n",
              "\n",
              "          const docLinkHtml = 'Like what you see? Visit the ' +\n",
              "            '<a target=\"_blank\" href=https://colab.research.google.com/notebooks/data_table.ipynb>data table notebook</a>'\n",
              "            + ' to learn more about interactive tables.';\n",
              "          element.innerHTML = '';\n",
              "          dataTable['output_type'] = 'display_data';\n",
              "          await google.colab.output.renderOutput(dataTable, element);\n",
              "          const docLink = document.createElement('div');\n",
              "          docLink.innerHTML = docLinkHtml;\n",
              "          element.appendChild(docLink);\n",
              "        }\n",
              "      </script>\n",
              "    </div>\n",
              "  </div>\n",
              "  "
            ]
          },
          "metadata": {},
          "execution_count": 38
        }
      ],
      "source": [
        "CCO_submission_df = predict(\"T5\", \"CCO\")\n",
        "print(len(CCO_submission_df))\n",
        "print(len(CCO_submission_df[\"GO term\"].unique()))\n",
        "CCO_submission_df.head()"
      ]
    },
    {
      "cell_type": "code",
      "source": [
        "MFO_submission_df = predict(\"T5\", \"MFO\")\n",
        "print(len(MFO_submission_df))\n",
        "print(len(MFO_submission_df[\"GO term\"].unique()))\n",
        "MFO_submission_df.head()"
      ],
      "metadata": {
        "colab": {
          "base_uri": "https://localhost:8080/",
          "height": 300
        },
        "id": "AQlGn3o_97y3",
        "outputId": "7f0539cc-b64a-4c55-e254-fc2f8d2cbc1b"
      },
      "execution_count": 39,
      "outputs": [
        {
          "output_type": "stream",
          "name": "stdout",
          "text": [
            "GENERATE PREDICTION FOR TEST SET...\n"
          ]
        },
        {
          "output_type": "stream",
          "name": "stderr",
          "text": [
            "141865it [01:43, 1367.10it/s]\n"
          ]
        },
        {
          "output_type": "stream",
          "name": "stdout",
          "text": [
            "PREDICTIONS DONE\n",
            "41992040\n",
            "296\n"
          ]
        },
        {
          "output_type": "execute_result",
          "data": {
            "text/plain": [
              "       Id     GO term  Confidence\n",
              "0  Q9CQV8  GO:0000166    0.016901\n",
              "1  Q9CQV8  GO:0000217    0.005717\n",
              "2  Q9CQV8  GO:0000287    0.075451\n",
              "3  Q9CQV8  GO:0000976    0.089018\n",
              "4  Q9CQV8  GO:0000977    0.263827"
            ],
            "text/html": [
              "\n",
              "  <div id=\"df-7c7e7405-49f2-4c50-810f-37d957dd5201\">\n",
              "    <div class=\"colab-df-container\">\n",
              "      <div>\n",
              "<style scoped>\n",
              "    .dataframe tbody tr th:only-of-type {\n",
              "        vertical-align: middle;\n",
              "    }\n",
              "\n",
              "    .dataframe tbody tr th {\n",
              "        vertical-align: top;\n",
              "    }\n",
              "\n",
              "    .dataframe thead th {\n",
              "        text-align: right;\n",
              "    }\n",
              "</style>\n",
              "<table border=\"1\" class=\"dataframe\">\n",
              "  <thead>\n",
              "    <tr style=\"text-align: right;\">\n",
              "      <th></th>\n",
              "      <th>Id</th>\n",
              "      <th>GO term</th>\n",
              "      <th>Confidence</th>\n",
              "    </tr>\n",
              "  </thead>\n",
              "  <tbody>\n",
              "    <tr>\n",
              "      <th>0</th>\n",
              "      <td>Q9CQV8</td>\n",
              "      <td>GO:0000166</td>\n",
              "      <td>0.016901</td>\n",
              "    </tr>\n",
              "    <tr>\n",
              "      <th>1</th>\n",
              "      <td>Q9CQV8</td>\n",
              "      <td>GO:0000217</td>\n",
              "      <td>0.005717</td>\n",
              "    </tr>\n",
              "    <tr>\n",
              "      <th>2</th>\n",
              "      <td>Q9CQV8</td>\n",
              "      <td>GO:0000287</td>\n",
              "      <td>0.075451</td>\n",
              "    </tr>\n",
              "    <tr>\n",
              "      <th>3</th>\n",
              "      <td>Q9CQV8</td>\n",
              "      <td>GO:0000976</td>\n",
              "      <td>0.089018</td>\n",
              "    </tr>\n",
              "    <tr>\n",
              "      <th>4</th>\n",
              "      <td>Q9CQV8</td>\n",
              "      <td>GO:0000977</td>\n",
              "      <td>0.263827</td>\n",
              "    </tr>\n",
              "  </tbody>\n",
              "</table>\n",
              "</div>\n",
              "      <button class=\"colab-df-convert\" onclick=\"convertToInteractive('df-7c7e7405-49f2-4c50-810f-37d957dd5201')\"\n",
              "              title=\"Convert this dataframe to an interactive table.\"\n",
              "              style=\"display:none;\">\n",
              "        \n",
              "  <svg xmlns=\"http://www.w3.org/2000/svg\" height=\"24px\"viewBox=\"0 0 24 24\"\n",
              "       width=\"24px\">\n",
              "    <path d=\"M0 0h24v24H0V0z\" fill=\"none\"/>\n",
              "    <path d=\"M18.56 5.44l.94 2.06.94-2.06 2.06-.94-2.06-.94-.94-2.06-.94 2.06-2.06.94zm-11 1L8.5 8.5l.94-2.06 2.06-.94-2.06-.94L8.5 2.5l-.94 2.06-2.06.94zm10 10l.94 2.06.94-2.06 2.06-.94-2.06-.94-.94-2.06-.94 2.06-2.06.94z\"/><path d=\"M17.41 7.96l-1.37-1.37c-.4-.4-.92-.59-1.43-.59-.52 0-1.04.2-1.43.59L10.3 9.45l-7.72 7.72c-.78.78-.78 2.05 0 2.83L4 21.41c.39.39.9.59 1.41.59.51 0 1.02-.2 1.41-.59l7.78-7.78 2.81-2.81c.8-.78.8-2.07 0-2.86zM5.41 20L4 18.59l7.72-7.72 1.47 1.35L5.41 20z\"/>\n",
              "  </svg>\n",
              "      </button>\n",
              "      \n",
              "  <style>\n",
              "    .colab-df-container {\n",
              "      display:flex;\n",
              "      flex-wrap:wrap;\n",
              "      gap: 12px;\n",
              "    }\n",
              "\n",
              "    .colab-df-convert {\n",
              "      background-color: #E8F0FE;\n",
              "      border: none;\n",
              "      border-radius: 50%;\n",
              "      cursor: pointer;\n",
              "      display: none;\n",
              "      fill: #1967D2;\n",
              "      height: 32px;\n",
              "      padding: 0 0 0 0;\n",
              "      width: 32px;\n",
              "    }\n",
              "\n",
              "    .colab-df-convert:hover {\n",
              "      background-color: #E2EBFA;\n",
              "      box-shadow: 0px 1px 2px rgba(60, 64, 67, 0.3), 0px 1px 3px 1px rgba(60, 64, 67, 0.15);\n",
              "      fill: #174EA6;\n",
              "    }\n",
              "\n",
              "    [theme=dark] .colab-df-convert {\n",
              "      background-color: #3B4455;\n",
              "      fill: #D2E3FC;\n",
              "    }\n",
              "\n",
              "    [theme=dark] .colab-df-convert:hover {\n",
              "      background-color: #434B5C;\n",
              "      box-shadow: 0px 1px 3px 1px rgba(0, 0, 0, 0.15);\n",
              "      filter: drop-shadow(0px 1px 2px rgba(0, 0, 0, 0.3));\n",
              "      fill: #FFFFFF;\n",
              "    }\n",
              "  </style>\n",
              "\n",
              "      <script>\n",
              "        const buttonEl =\n",
              "          document.querySelector('#df-7c7e7405-49f2-4c50-810f-37d957dd5201 button.colab-df-convert');\n",
              "        buttonEl.style.display =\n",
              "          google.colab.kernel.accessAllowed ? 'block' : 'none';\n",
              "\n",
              "        async function convertToInteractive(key) {\n",
              "          const element = document.querySelector('#df-7c7e7405-49f2-4c50-810f-37d957dd5201');\n",
              "          const dataTable =\n",
              "            await google.colab.kernel.invokeFunction('convertToInteractive',\n",
              "                                                     [key], {});\n",
              "          if (!dataTable) return;\n",
              "\n",
              "          const docLinkHtml = 'Like what you see? Visit the ' +\n",
              "            '<a target=\"_blank\" href=https://colab.research.google.com/notebooks/data_table.ipynb>data table notebook</a>'\n",
              "            + ' to learn more about interactive tables.';\n",
              "          element.innerHTML = '';\n",
              "          dataTable['output_type'] = 'display_data';\n",
              "          await google.colab.output.renderOutput(dataTable, element);\n",
              "          const docLink = document.createElement('div');\n",
              "          docLink.innerHTML = docLinkHtml;\n",
              "          element.appendChild(docLink);\n",
              "        }\n",
              "      </script>\n",
              "    </div>\n",
              "  </div>\n",
              "  "
            ]
          },
          "metadata": {},
          "execution_count": 39
        }
      ]
    },
    {
      "cell_type": "code",
      "source": [
        "BPO_submission_df = predict(\"T5\", \"BPO\")\n",
        "print(len(BPO_submission_df))\n",
        "print(len(BPO_submission_df[\"GO term\"].unique()))\n",
        "BPO_submission_df.head()"
      ],
      "metadata": {
        "colab": {
          "base_uri": "https://localhost:8080/",
          "height": 300
        },
        "id": "xHwkdLIq10Ns",
        "outputId": "d6d1cfc5-d1dc-4c06-a578-ff743f1213e5"
      },
      "execution_count": 40,
      "outputs": [
        {
          "output_type": "stream",
          "name": "stdout",
          "text": [
            "GENERATE PREDICTION FOR TEST SET...\n"
          ]
        },
        {
          "output_type": "stream",
          "name": "stderr",
          "text": [
            "141865it [01:51, 1273.26it/s]\n"
          ]
        },
        {
          "output_type": "stream",
          "name": "stdout",
          "text": [
            "PREDICTIONS DONE\n",
            "132076315\n",
            "931\n"
          ]
        },
        {
          "output_type": "execute_result",
          "data": {
            "text/plain": [
              "       Id     GO term  Confidence\n",
              "0  Q9CQV8  GO:0000018    0.002079\n",
              "1  Q9CQV8  GO:0000041    0.007161\n",
              "2  Q9CQV8  GO:0000045    0.002551\n",
              "3  Q9CQV8  GO:0000070    0.002508\n",
              "4  Q9CQV8  GO:0000082    0.030452"
            ],
            "text/html": [
              "\n",
              "  <div id=\"df-a3308a8f-b8db-4b38-a365-a65212b71d38\">\n",
              "    <div class=\"colab-df-container\">\n",
              "      <div>\n",
              "<style scoped>\n",
              "    .dataframe tbody tr th:only-of-type {\n",
              "        vertical-align: middle;\n",
              "    }\n",
              "\n",
              "    .dataframe tbody tr th {\n",
              "        vertical-align: top;\n",
              "    }\n",
              "\n",
              "    .dataframe thead th {\n",
              "        text-align: right;\n",
              "    }\n",
              "</style>\n",
              "<table border=\"1\" class=\"dataframe\">\n",
              "  <thead>\n",
              "    <tr style=\"text-align: right;\">\n",
              "      <th></th>\n",
              "      <th>Id</th>\n",
              "      <th>GO term</th>\n",
              "      <th>Confidence</th>\n",
              "    </tr>\n",
              "  </thead>\n",
              "  <tbody>\n",
              "    <tr>\n",
              "      <th>0</th>\n",
              "      <td>Q9CQV8</td>\n",
              "      <td>GO:0000018</td>\n",
              "      <td>0.002079</td>\n",
              "    </tr>\n",
              "    <tr>\n",
              "      <th>1</th>\n",
              "      <td>Q9CQV8</td>\n",
              "      <td>GO:0000041</td>\n",
              "      <td>0.007161</td>\n",
              "    </tr>\n",
              "    <tr>\n",
              "      <th>2</th>\n",
              "      <td>Q9CQV8</td>\n",
              "      <td>GO:0000045</td>\n",
              "      <td>0.002551</td>\n",
              "    </tr>\n",
              "    <tr>\n",
              "      <th>3</th>\n",
              "      <td>Q9CQV8</td>\n",
              "      <td>GO:0000070</td>\n",
              "      <td>0.002508</td>\n",
              "    </tr>\n",
              "    <tr>\n",
              "      <th>4</th>\n",
              "      <td>Q9CQV8</td>\n",
              "      <td>GO:0000082</td>\n",
              "      <td>0.030452</td>\n",
              "    </tr>\n",
              "  </tbody>\n",
              "</table>\n",
              "</div>\n",
              "      <button class=\"colab-df-convert\" onclick=\"convertToInteractive('df-a3308a8f-b8db-4b38-a365-a65212b71d38')\"\n",
              "              title=\"Convert this dataframe to an interactive table.\"\n",
              "              style=\"display:none;\">\n",
              "        \n",
              "  <svg xmlns=\"http://www.w3.org/2000/svg\" height=\"24px\"viewBox=\"0 0 24 24\"\n",
              "       width=\"24px\">\n",
              "    <path d=\"M0 0h24v24H0V0z\" fill=\"none\"/>\n",
              "    <path d=\"M18.56 5.44l.94 2.06.94-2.06 2.06-.94-2.06-.94-.94-2.06-.94 2.06-2.06.94zm-11 1L8.5 8.5l.94-2.06 2.06-.94-2.06-.94L8.5 2.5l-.94 2.06-2.06.94zm10 10l.94 2.06.94-2.06 2.06-.94-2.06-.94-.94-2.06-.94 2.06-2.06.94z\"/><path d=\"M17.41 7.96l-1.37-1.37c-.4-.4-.92-.59-1.43-.59-.52 0-1.04.2-1.43.59L10.3 9.45l-7.72 7.72c-.78.78-.78 2.05 0 2.83L4 21.41c.39.39.9.59 1.41.59.51 0 1.02-.2 1.41-.59l7.78-7.78 2.81-2.81c.8-.78.8-2.07 0-2.86zM5.41 20L4 18.59l7.72-7.72 1.47 1.35L5.41 20z\"/>\n",
              "  </svg>\n",
              "      </button>\n",
              "      \n",
              "  <style>\n",
              "    .colab-df-container {\n",
              "      display:flex;\n",
              "      flex-wrap:wrap;\n",
              "      gap: 12px;\n",
              "    }\n",
              "\n",
              "    .colab-df-convert {\n",
              "      background-color: #E8F0FE;\n",
              "      border: none;\n",
              "      border-radius: 50%;\n",
              "      cursor: pointer;\n",
              "      display: none;\n",
              "      fill: #1967D2;\n",
              "      height: 32px;\n",
              "      padding: 0 0 0 0;\n",
              "      width: 32px;\n",
              "    }\n",
              "\n",
              "    .colab-df-convert:hover {\n",
              "      background-color: #E2EBFA;\n",
              "      box-shadow: 0px 1px 2px rgba(60, 64, 67, 0.3), 0px 1px 3px 1px rgba(60, 64, 67, 0.15);\n",
              "      fill: #174EA6;\n",
              "    }\n",
              "\n",
              "    [theme=dark] .colab-df-convert {\n",
              "      background-color: #3B4455;\n",
              "      fill: #D2E3FC;\n",
              "    }\n",
              "\n",
              "    [theme=dark] .colab-df-convert:hover {\n",
              "      background-color: #434B5C;\n",
              "      box-shadow: 0px 1px 3px 1px rgba(0, 0, 0, 0.15);\n",
              "      filter: drop-shadow(0px 1px 2px rgba(0, 0, 0, 0.3));\n",
              "      fill: #FFFFFF;\n",
              "    }\n",
              "  </style>\n",
              "\n",
              "      <script>\n",
              "        const buttonEl =\n",
              "          document.querySelector('#df-a3308a8f-b8db-4b38-a365-a65212b71d38 button.colab-df-convert');\n",
              "        buttonEl.style.display =\n",
              "          google.colab.kernel.accessAllowed ? 'block' : 'none';\n",
              "\n",
              "        async function convertToInteractive(key) {\n",
              "          const element = document.querySelector('#df-a3308a8f-b8db-4b38-a365-a65212b71d38');\n",
              "          const dataTable =\n",
              "            await google.colab.kernel.invokeFunction('convertToInteractive',\n",
              "                                                     [key], {});\n",
              "          if (!dataTable) return;\n",
              "\n",
              "          const docLinkHtml = 'Like what you see? Visit the ' +\n",
              "            '<a target=\"_blank\" href=https://colab.research.google.com/notebooks/data_table.ipynb>data table notebook</a>'\n",
              "            + ' to learn more about interactive tables.';\n",
              "          element.innerHTML = '';\n",
              "          dataTable['output_type'] = 'display_data';\n",
              "          await google.colab.output.renderOutput(dataTable, element);\n",
              "          const docLink = document.createElement('div');\n",
              "          docLink.innerHTML = docLinkHtml;\n",
              "          element.appendChild(docLink);\n",
              "        }\n",
              "      </script>\n",
              "    </div>\n",
              "  </div>\n",
              "  "
            ]
          },
          "metadata": {},
          "execution_count": 40
        }
      ]
    },
    {
      "cell_type": "code",
      "source": [
        "# id_list = []\n",
        "# go_term_list = []\n",
        "# confidence_list = []\n",
        "# for rw in CCO_submission_df.values:\n",
        "#   edges = CCO_ordered_edges[rw[1]]\n",
        "#   for edge in edges:\n",
        "#     id_list.append(rw[0])\n",
        "#     go_term_list.append(edge)\n",
        "#     confidence_list.append(rw[2])\n",
        "# additional_labels = pd.DataFrame({'Id': id_list, 'GO term': go_term_list, 'Confidence': confidence_list})"
      ],
      "metadata": {
        "id": "d78dRJCRFhIb"
      },
      "execution_count": 41,
      "outputs": []
    },
    {
      "cell_type": "code",
      "source": [
        "submission_df = pd.concat([CCO_submission_df, MFO_submission_df, BPO_submission_df,]).drop_duplicates(['Id', 'GO term']).reset_index(drop=True)"
      ],
      "metadata": {
        "id": "IqseLdHKGRKn"
      },
      "execution_count": 42,
      "outputs": []
    },
    {
      "cell_type": "code",
      "source": [
        "print(len(submission_df))  # 16546208\n",
        "print(len(submission_df[\"GO term\"].unique())) # 328\n",
        "submission_df.head()"
      ],
      "metadata": {
        "colab": {
          "base_uri": "https://localhost:8080/",
          "height": 244
        },
        "id": "VDgTTFPGGeMs",
        "outputId": "72dc3f2c-fdf7-48a6-e3a6-47dd7cf9ed30"
      },
      "execution_count": 43,
      "outputs": [
        {
          "output_type": "stream",
          "name": "stdout",
          "text": [
            "213363456\n",
            "1504\n"
          ]
        },
        {
          "output_type": "execute_result",
          "data": {
            "text/plain": [
              "       Id     GO term  Confidence\n",
              "0  Q9CQV8  GO:0000123    0.005222\n",
              "1  Q9CQV8  GO:0000124    0.000012\n",
              "2  Q9CQV8  GO:0000138    0.000035\n",
              "3  Q9CQV8  GO:0000139    0.012969\n",
              "4  Q9CQV8  GO:0000151    0.001312"
            ],
            "text/html": [
              "\n",
              "  <div id=\"df-2bd1d209-79ac-45c9-a3b6-66424673353e\">\n",
              "    <div class=\"colab-df-container\">\n",
              "      <div>\n",
              "<style scoped>\n",
              "    .dataframe tbody tr th:only-of-type {\n",
              "        vertical-align: middle;\n",
              "    }\n",
              "\n",
              "    .dataframe tbody tr th {\n",
              "        vertical-align: top;\n",
              "    }\n",
              "\n",
              "    .dataframe thead th {\n",
              "        text-align: right;\n",
              "    }\n",
              "</style>\n",
              "<table border=\"1\" class=\"dataframe\">\n",
              "  <thead>\n",
              "    <tr style=\"text-align: right;\">\n",
              "      <th></th>\n",
              "      <th>Id</th>\n",
              "      <th>GO term</th>\n",
              "      <th>Confidence</th>\n",
              "    </tr>\n",
              "  </thead>\n",
              "  <tbody>\n",
              "    <tr>\n",
              "      <th>0</th>\n",
              "      <td>Q9CQV8</td>\n",
              "      <td>GO:0000123</td>\n",
              "      <td>0.005222</td>\n",
              "    </tr>\n",
              "    <tr>\n",
              "      <th>1</th>\n",
              "      <td>Q9CQV8</td>\n",
              "      <td>GO:0000124</td>\n",
              "      <td>0.000012</td>\n",
              "    </tr>\n",
              "    <tr>\n",
              "      <th>2</th>\n",
              "      <td>Q9CQV8</td>\n",
              "      <td>GO:0000138</td>\n",
              "      <td>0.000035</td>\n",
              "    </tr>\n",
              "    <tr>\n",
              "      <th>3</th>\n",
              "      <td>Q9CQV8</td>\n",
              "      <td>GO:0000139</td>\n",
              "      <td>0.012969</td>\n",
              "    </tr>\n",
              "    <tr>\n",
              "      <th>4</th>\n",
              "      <td>Q9CQV8</td>\n",
              "      <td>GO:0000151</td>\n",
              "      <td>0.001312</td>\n",
              "    </tr>\n",
              "  </tbody>\n",
              "</table>\n",
              "</div>\n",
              "      <button class=\"colab-df-convert\" onclick=\"convertToInteractive('df-2bd1d209-79ac-45c9-a3b6-66424673353e')\"\n",
              "              title=\"Convert this dataframe to an interactive table.\"\n",
              "              style=\"display:none;\">\n",
              "        \n",
              "  <svg xmlns=\"http://www.w3.org/2000/svg\" height=\"24px\"viewBox=\"0 0 24 24\"\n",
              "       width=\"24px\">\n",
              "    <path d=\"M0 0h24v24H0V0z\" fill=\"none\"/>\n",
              "    <path d=\"M18.56 5.44l.94 2.06.94-2.06 2.06-.94-2.06-.94-.94-2.06-.94 2.06-2.06.94zm-11 1L8.5 8.5l.94-2.06 2.06-.94-2.06-.94L8.5 2.5l-.94 2.06-2.06.94zm10 10l.94 2.06.94-2.06 2.06-.94-2.06-.94-.94-2.06-.94 2.06-2.06.94z\"/><path d=\"M17.41 7.96l-1.37-1.37c-.4-.4-.92-.59-1.43-.59-.52 0-1.04.2-1.43.59L10.3 9.45l-7.72 7.72c-.78.78-.78 2.05 0 2.83L4 21.41c.39.39.9.59 1.41.59.51 0 1.02-.2 1.41-.59l7.78-7.78 2.81-2.81c.8-.78.8-2.07 0-2.86zM5.41 20L4 18.59l7.72-7.72 1.47 1.35L5.41 20z\"/>\n",
              "  </svg>\n",
              "      </button>\n",
              "      \n",
              "  <style>\n",
              "    .colab-df-container {\n",
              "      display:flex;\n",
              "      flex-wrap:wrap;\n",
              "      gap: 12px;\n",
              "    }\n",
              "\n",
              "    .colab-df-convert {\n",
              "      background-color: #E8F0FE;\n",
              "      border: none;\n",
              "      border-radius: 50%;\n",
              "      cursor: pointer;\n",
              "      display: none;\n",
              "      fill: #1967D2;\n",
              "      height: 32px;\n",
              "      padding: 0 0 0 0;\n",
              "      width: 32px;\n",
              "    }\n",
              "\n",
              "    .colab-df-convert:hover {\n",
              "      background-color: #E2EBFA;\n",
              "      box-shadow: 0px 1px 2px rgba(60, 64, 67, 0.3), 0px 1px 3px 1px rgba(60, 64, 67, 0.15);\n",
              "      fill: #174EA6;\n",
              "    }\n",
              "\n",
              "    [theme=dark] .colab-df-convert {\n",
              "      background-color: #3B4455;\n",
              "      fill: #D2E3FC;\n",
              "    }\n",
              "\n",
              "    [theme=dark] .colab-df-convert:hover {\n",
              "      background-color: #434B5C;\n",
              "      box-shadow: 0px 1px 3px 1px rgba(0, 0, 0, 0.15);\n",
              "      filter: drop-shadow(0px 1px 2px rgba(0, 0, 0, 0.3));\n",
              "      fill: #FFFFFF;\n",
              "    }\n",
              "  </style>\n",
              "\n",
              "      <script>\n",
              "        const buttonEl =\n",
              "          document.querySelector('#df-2bd1d209-79ac-45c9-a3b6-66424673353e button.colab-df-convert');\n",
              "        buttonEl.style.display =\n",
              "          google.colab.kernel.accessAllowed ? 'block' : 'none';\n",
              "\n",
              "        async function convertToInteractive(key) {\n",
              "          const element = document.querySelector('#df-2bd1d209-79ac-45c9-a3b6-66424673353e');\n",
              "          const dataTable =\n",
              "            await google.colab.kernel.invokeFunction('convertToInteractive',\n",
              "                                                     [key], {});\n",
              "          if (!dataTable) return;\n",
              "\n",
              "          const docLinkHtml = 'Like what you see? Visit the ' +\n",
              "            '<a target=\"_blank\" href=https://colab.research.google.com/notebooks/data_table.ipynb>data table notebook</a>'\n",
              "            + ' to learn more about interactive tables.';\n",
              "          element.innerHTML = '';\n",
              "          dataTable['output_type'] = 'display_data';\n",
              "          await google.colab.output.renderOutput(dataTable, element);\n",
              "          const docLink = document.createElement('div');\n",
              "          docLink.innerHTML = docLinkHtml;\n",
              "          element.appendChild(docLink);\n",
              "        }\n",
              "      </script>\n",
              "    </div>\n",
              "  </div>\n",
              "  "
            ]
          },
          "metadata": {},
          "execution_count": 43
        }
      ]
    },
    {
      "cell_type": "code",
      "source": [
        "submission_df['Id'].unique()[:5]"
      ],
      "metadata": {
        "colab": {
          "base_uri": "https://localhost:8080/"
        },
        "id": "bsmbvtm5JEYM",
        "outputId": "b181e3fa-ec15-43d7-ce2d-d1329fcf3945"
      },
      "execution_count": 44,
      "outputs": [
        {
          "output_type": "execute_result",
          "data": {
            "text/plain": [
              "array(['Q9CQV8', 'P62259', 'P68510', 'P61982', 'O70456'], dtype=object)"
            ]
          },
          "metadata": {},
          "execution_count": 44
        }
      ]
    },
    {
      "cell_type": "code",
      "source": [
        "protein_id = 'P68510'\n",
        "subset_df = submission_df[submission_df['Id'] == protein_id].reset_index(drop=True)"
      ],
      "metadata": {
        "id": "5jSzB5P8KnrD"
      },
      "execution_count": 45,
      "outputs": []
    },
    {
      "cell_type": "code",
      "source": [
        "subset_df.loc[subset_df['Confidence'].argmax()]"
      ],
      "metadata": {
        "colab": {
          "base_uri": "https://localhost:8080/"
        },
        "id": "Se1hlgylHp2e",
        "outputId": "4c6365b9-6d26-4293-c398-aa0aef2eeb6e"
      },
      "execution_count": 46,
      "outputs": [
        {
          "output_type": "execute_result",
          "data": {
            "text/plain": [
              "Id                P68510\n",
              "GO term       GO:0019904\n",
              "Confidence      0.917055\n",
              "Name: 477, dtype: object"
            ]
          },
          "metadata": {},
          "execution_count": 46
        }
      ]
    },
    {
      "cell_type": "code",
      "source": [
        "subset_df.sort_values(['Confidence'], ascending=False).head(7)"
      ],
      "metadata": {
        "colab": {
          "base_uri": "https://localhost:8080/",
          "height": 269
        },
        "id": "VtTBn_RrLf9Y",
        "outputId": "ae7f912d-2657-47bd-84b5-ac6928c9d3fe"
      },
      "execution_count": 47,
      "outputs": [
        {
          "output_type": "execute_result",
          "data": {
            "text/plain": [
              "         Id     GO term  Confidence\n",
              "477  P68510  GO:0019904    0.917055\n",
              "529  P68510  GO:0046982    0.882775\n",
              "71   P68510  GO:0005829    0.871008\n",
              "368  P68510  GO:0005515    0.866797\n",
              "538  P68510  GO:0051117    0.862086\n",
              "510  P68510  GO:0042802    0.848852\n",
              "520  P68510  GO:0044325    0.845240"
            ],
            "text/html": [
              "\n",
              "  <div id=\"df-f7350c78-a77a-4dd2-884c-c158ce934b92\">\n",
              "    <div class=\"colab-df-container\">\n",
              "      <div>\n",
              "<style scoped>\n",
              "    .dataframe tbody tr th:only-of-type {\n",
              "        vertical-align: middle;\n",
              "    }\n",
              "\n",
              "    .dataframe tbody tr th {\n",
              "        vertical-align: top;\n",
              "    }\n",
              "\n",
              "    .dataframe thead th {\n",
              "        text-align: right;\n",
              "    }\n",
              "</style>\n",
              "<table border=\"1\" class=\"dataframe\">\n",
              "  <thead>\n",
              "    <tr style=\"text-align: right;\">\n",
              "      <th></th>\n",
              "      <th>Id</th>\n",
              "      <th>GO term</th>\n",
              "      <th>Confidence</th>\n",
              "    </tr>\n",
              "  </thead>\n",
              "  <tbody>\n",
              "    <tr>\n",
              "      <th>477</th>\n",
              "      <td>P68510</td>\n",
              "      <td>GO:0019904</td>\n",
              "      <td>0.917055</td>\n",
              "    </tr>\n",
              "    <tr>\n",
              "      <th>529</th>\n",
              "      <td>P68510</td>\n",
              "      <td>GO:0046982</td>\n",
              "      <td>0.882775</td>\n",
              "    </tr>\n",
              "    <tr>\n",
              "      <th>71</th>\n",
              "      <td>P68510</td>\n",
              "      <td>GO:0005829</td>\n",
              "      <td>0.871008</td>\n",
              "    </tr>\n",
              "    <tr>\n",
              "      <th>368</th>\n",
              "      <td>P68510</td>\n",
              "      <td>GO:0005515</td>\n",
              "      <td>0.866797</td>\n",
              "    </tr>\n",
              "    <tr>\n",
              "      <th>538</th>\n",
              "      <td>P68510</td>\n",
              "      <td>GO:0051117</td>\n",
              "      <td>0.862086</td>\n",
              "    </tr>\n",
              "    <tr>\n",
              "      <th>510</th>\n",
              "      <td>P68510</td>\n",
              "      <td>GO:0042802</td>\n",
              "      <td>0.848852</td>\n",
              "    </tr>\n",
              "    <tr>\n",
              "      <th>520</th>\n",
              "      <td>P68510</td>\n",
              "      <td>GO:0044325</td>\n",
              "      <td>0.845240</td>\n",
              "    </tr>\n",
              "  </tbody>\n",
              "</table>\n",
              "</div>\n",
              "      <button class=\"colab-df-convert\" onclick=\"convertToInteractive('df-f7350c78-a77a-4dd2-884c-c158ce934b92')\"\n",
              "              title=\"Convert this dataframe to an interactive table.\"\n",
              "              style=\"display:none;\">\n",
              "        \n",
              "  <svg xmlns=\"http://www.w3.org/2000/svg\" height=\"24px\"viewBox=\"0 0 24 24\"\n",
              "       width=\"24px\">\n",
              "    <path d=\"M0 0h24v24H0V0z\" fill=\"none\"/>\n",
              "    <path d=\"M18.56 5.44l.94 2.06.94-2.06 2.06-.94-2.06-.94-.94-2.06-.94 2.06-2.06.94zm-11 1L8.5 8.5l.94-2.06 2.06-.94-2.06-.94L8.5 2.5l-.94 2.06-2.06.94zm10 10l.94 2.06.94-2.06 2.06-.94-2.06-.94-.94-2.06-.94 2.06-2.06.94z\"/><path d=\"M17.41 7.96l-1.37-1.37c-.4-.4-.92-.59-1.43-.59-.52 0-1.04.2-1.43.59L10.3 9.45l-7.72 7.72c-.78.78-.78 2.05 0 2.83L4 21.41c.39.39.9.59 1.41.59.51 0 1.02-.2 1.41-.59l7.78-7.78 2.81-2.81c.8-.78.8-2.07 0-2.86zM5.41 20L4 18.59l7.72-7.72 1.47 1.35L5.41 20z\"/>\n",
              "  </svg>\n",
              "      </button>\n",
              "      \n",
              "  <style>\n",
              "    .colab-df-container {\n",
              "      display:flex;\n",
              "      flex-wrap:wrap;\n",
              "      gap: 12px;\n",
              "    }\n",
              "\n",
              "    .colab-df-convert {\n",
              "      background-color: #E8F0FE;\n",
              "      border: none;\n",
              "      border-radius: 50%;\n",
              "      cursor: pointer;\n",
              "      display: none;\n",
              "      fill: #1967D2;\n",
              "      height: 32px;\n",
              "      padding: 0 0 0 0;\n",
              "      width: 32px;\n",
              "    }\n",
              "\n",
              "    .colab-df-convert:hover {\n",
              "      background-color: #E2EBFA;\n",
              "      box-shadow: 0px 1px 2px rgba(60, 64, 67, 0.3), 0px 1px 3px 1px rgba(60, 64, 67, 0.15);\n",
              "      fill: #174EA6;\n",
              "    }\n",
              "\n",
              "    [theme=dark] .colab-df-convert {\n",
              "      background-color: #3B4455;\n",
              "      fill: #D2E3FC;\n",
              "    }\n",
              "\n",
              "    [theme=dark] .colab-df-convert:hover {\n",
              "      background-color: #434B5C;\n",
              "      box-shadow: 0px 1px 3px 1px rgba(0, 0, 0, 0.15);\n",
              "      filter: drop-shadow(0px 1px 2px rgba(0, 0, 0, 0.3));\n",
              "      fill: #FFFFFF;\n",
              "    }\n",
              "  </style>\n",
              "\n",
              "      <script>\n",
              "        const buttonEl =\n",
              "          document.querySelector('#df-f7350c78-a77a-4dd2-884c-c158ce934b92 button.colab-df-convert');\n",
              "        buttonEl.style.display =\n",
              "          google.colab.kernel.accessAllowed ? 'block' : 'none';\n",
              "\n",
              "        async function convertToInteractive(key) {\n",
              "          const element = document.querySelector('#df-f7350c78-a77a-4dd2-884c-c158ce934b92');\n",
              "          const dataTable =\n",
              "            await google.colab.kernel.invokeFunction('convertToInteractive',\n",
              "                                                     [key], {});\n",
              "          if (!dataTable) return;\n",
              "\n",
              "          const docLinkHtml = 'Like what you see? Visit the ' +\n",
              "            '<a target=\"_blank\" href=https://colab.research.google.com/notebooks/data_table.ipynb>data table notebook</a>'\n",
              "            + ' to learn more about interactive tables.';\n",
              "          element.innerHTML = '';\n",
              "          dataTable['output_type'] = 'display_data';\n",
              "          await google.colab.output.renderOutput(dataTable, element);\n",
              "          const docLink = document.createElement('div');\n",
              "          docLink.innerHTML = docLinkHtml;\n",
              "          element.appendChild(docLink);\n",
              "        }\n",
              "      </script>\n",
              "    </div>\n",
              "  </div>\n",
              "  "
            ]
          },
          "metadata": {},
          "execution_count": 47
        }
      ]
    },
    {
      "cell_type": "code",
      "source": [
        "train_terms[(train_terms['EntryID'] == protein_id) & (train_terms['aspect'] == 'CCO')]"
      ],
      "metadata": {
        "colab": {
          "base_uri": "https://localhost:8080/",
          "height": 614
        },
        "id": "t4xWWYC-H3Ot",
        "outputId": "e356fc15-1c20-4e80-89c3-36155fa7c742"
      },
      "execution_count": 48,
      "outputs": [
        {
          "output_type": "execute_result",
          "data": {
            "text/plain": [
              "        EntryID        term aspect        ia\n",
              "4032360  P68510  GO:0005622    CCO  0.366945\n",
              "4032361  P68510  GO:0060076    CCO  4.520144\n",
              "4032362  P68510  GO:0014704    CCO  0.525320\n",
              "4032363  P68510  GO:0044291    CCO  3.752804\n",
              "4032364  P68510  GO:0005575    CCO  0.000000\n",
              "4032365  P68510  GO:0098984    CCO  2.297752\n",
              "4032366  P68510  GO:0098978    CCO  1.802445\n",
              "4032367  P68510  GO:0032279    CCO  0.102393\n",
              "4032368  P68510  GO:0005829    CCO  1.545978\n",
              "4032369  P68510  GO:0150048    CCO  1.415037\n",
              "4032370  P68510  GO:0098793    CCO  1.272733\n",
              "4032371  P68510  GO:0110165    CCO  0.025471\n",
              "4032372  P68510  GO:0045202    CCO  0.896962\n",
              "4032373  P68510  GO:0070161    CCO  1.194188\n",
              "4032374  P68510  GO:0005911    CCO  0.403000\n",
              "4032375  P68510  GO:0005737    CCO  0.412201\n",
              "4032376  P68510  GO:0030054    CCO  3.861343\n",
              "4032377  P68510  GO:0098985    CCO  1.297681"
            ],
            "text/html": [
              "\n",
              "  <div id=\"df-e602bd83-3640-4c69-900f-51f0b7cd827b\">\n",
              "    <div class=\"colab-df-container\">\n",
              "      <div>\n",
              "<style scoped>\n",
              "    .dataframe tbody tr th:only-of-type {\n",
              "        vertical-align: middle;\n",
              "    }\n",
              "\n",
              "    .dataframe tbody tr th {\n",
              "        vertical-align: top;\n",
              "    }\n",
              "\n",
              "    .dataframe thead th {\n",
              "        text-align: right;\n",
              "    }\n",
              "</style>\n",
              "<table border=\"1\" class=\"dataframe\">\n",
              "  <thead>\n",
              "    <tr style=\"text-align: right;\">\n",
              "      <th></th>\n",
              "      <th>EntryID</th>\n",
              "      <th>term</th>\n",
              "      <th>aspect</th>\n",
              "      <th>ia</th>\n",
              "    </tr>\n",
              "  </thead>\n",
              "  <tbody>\n",
              "    <tr>\n",
              "      <th>4032360</th>\n",
              "      <td>P68510</td>\n",
              "      <td>GO:0005622</td>\n",
              "      <td>CCO</td>\n",
              "      <td>0.366945</td>\n",
              "    </tr>\n",
              "    <tr>\n",
              "      <th>4032361</th>\n",
              "      <td>P68510</td>\n",
              "      <td>GO:0060076</td>\n",
              "      <td>CCO</td>\n",
              "      <td>4.520144</td>\n",
              "    </tr>\n",
              "    <tr>\n",
              "      <th>4032362</th>\n",
              "      <td>P68510</td>\n",
              "      <td>GO:0014704</td>\n",
              "      <td>CCO</td>\n",
              "      <td>0.525320</td>\n",
              "    </tr>\n",
              "    <tr>\n",
              "      <th>4032363</th>\n",
              "      <td>P68510</td>\n",
              "      <td>GO:0044291</td>\n",
              "      <td>CCO</td>\n",
              "      <td>3.752804</td>\n",
              "    </tr>\n",
              "    <tr>\n",
              "      <th>4032364</th>\n",
              "      <td>P68510</td>\n",
              "      <td>GO:0005575</td>\n",
              "      <td>CCO</td>\n",
              "      <td>0.000000</td>\n",
              "    </tr>\n",
              "    <tr>\n",
              "      <th>4032365</th>\n",
              "      <td>P68510</td>\n",
              "      <td>GO:0098984</td>\n",
              "      <td>CCO</td>\n",
              "      <td>2.297752</td>\n",
              "    </tr>\n",
              "    <tr>\n",
              "      <th>4032366</th>\n",
              "      <td>P68510</td>\n",
              "      <td>GO:0098978</td>\n",
              "      <td>CCO</td>\n",
              "      <td>1.802445</td>\n",
              "    </tr>\n",
              "    <tr>\n",
              "      <th>4032367</th>\n",
              "      <td>P68510</td>\n",
              "      <td>GO:0032279</td>\n",
              "      <td>CCO</td>\n",
              "      <td>0.102393</td>\n",
              "    </tr>\n",
              "    <tr>\n",
              "      <th>4032368</th>\n",
              "      <td>P68510</td>\n",
              "      <td>GO:0005829</td>\n",
              "      <td>CCO</td>\n",
              "      <td>1.545978</td>\n",
              "    </tr>\n",
              "    <tr>\n",
              "      <th>4032369</th>\n",
              "      <td>P68510</td>\n",
              "      <td>GO:0150048</td>\n",
              "      <td>CCO</td>\n",
              "      <td>1.415037</td>\n",
              "    </tr>\n",
              "    <tr>\n",
              "      <th>4032370</th>\n",
              "      <td>P68510</td>\n",
              "      <td>GO:0098793</td>\n",
              "      <td>CCO</td>\n",
              "      <td>1.272733</td>\n",
              "    </tr>\n",
              "    <tr>\n",
              "      <th>4032371</th>\n",
              "      <td>P68510</td>\n",
              "      <td>GO:0110165</td>\n",
              "      <td>CCO</td>\n",
              "      <td>0.025471</td>\n",
              "    </tr>\n",
              "    <tr>\n",
              "      <th>4032372</th>\n",
              "      <td>P68510</td>\n",
              "      <td>GO:0045202</td>\n",
              "      <td>CCO</td>\n",
              "      <td>0.896962</td>\n",
              "    </tr>\n",
              "    <tr>\n",
              "      <th>4032373</th>\n",
              "      <td>P68510</td>\n",
              "      <td>GO:0070161</td>\n",
              "      <td>CCO</td>\n",
              "      <td>1.194188</td>\n",
              "    </tr>\n",
              "    <tr>\n",
              "      <th>4032374</th>\n",
              "      <td>P68510</td>\n",
              "      <td>GO:0005911</td>\n",
              "      <td>CCO</td>\n",
              "      <td>0.403000</td>\n",
              "    </tr>\n",
              "    <tr>\n",
              "      <th>4032375</th>\n",
              "      <td>P68510</td>\n",
              "      <td>GO:0005737</td>\n",
              "      <td>CCO</td>\n",
              "      <td>0.412201</td>\n",
              "    </tr>\n",
              "    <tr>\n",
              "      <th>4032376</th>\n",
              "      <td>P68510</td>\n",
              "      <td>GO:0030054</td>\n",
              "      <td>CCO</td>\n",
              "      <td>3.861343</td>\n",
              "    </tr>\n",
              "    <tr>\n",
              "      <th>4032377</th>\n",
              "      <td>P68510</td>\n",
              "      <td>GO:0098985</td>\n",
              "      <td>CCO</td>\n",
              "      <td>1.297681</td>\n",
              "    </tr>\n",
              "  </tbody>\n",
              "</table>\n",
              "</div>\n",
              "      <button class=\"colab-df-convert\" onclick=\"convertToInteractive('df-e602bd83-3640-4c69-900f-51f0b7cd827b')\"\n",
              "              title=\"Convert this dataframe to an interactive table.\"\n",
              "              style=\"display:none;\">\n",
              "        \n",
              "  <svg xmlns=\"http://www.w3.org/2000/svg\" height=\"24px\"viewBox=\"0 0 24 24\"\n",
              "       width=\"24px\">\n",
              "    <path d=\"M0 0h24v24H0V0z\" fill=\"none\"/>\n",
              "    <path d=\"M18.56 5.44l.94 2.06.94-2.06 2.06-.94-2.06-.94-.94-2.06-.94 2.06-2.06.94zm-11 1L8.5 8.5l.94-2.06 2.06-.94-2.06-.94L8.5 2.5l-.94 2.06-2.06.94zm10 10l.94 2.06.94-2.06 2.06-.94-2.06-.94-.94-2.06-.94 2.06-2.06.94z\"/><path d=\"M17.41 7.96l-1.37-1.37c-.4-.4-.92-.59-1.43-.59-.52 0-1.04.2-1.43.59L10.3 9.45l-7.72 7.72c-.78.78-.78 2.05 0 2.83L4 21.41c.39.39.9.59 1.41.59.51 0 1.02-.2 1.41-.59l7.78-7.78 2.81-2.81c.8-.78.8-2.07 0-2.86zM5.41 20L4 18.59l7.72-7.72 1.47 1.35L5.41 20z\"/>\n",
              "  </svg>\n",
              "      </button>\n",
              "      \n",
              "  <style>\n",
              "    .colab-df-container {\n",
              "      display:flex;\n",
              "      flex-wrap:wrap;\n",
              "      gap: 12px;\n",
              "    }\n",
              "\n",
              "    .colab-df-convert {\n",
              "      background-color: #E8F0FE;\n",
              "      border: none;\n",
              "      border-radius: 50%;\n",
              "      cursor: pointer;\n",
              "      display: none;\n",
              "      fill: #1967D2;\n",
              "      height: 32px;\n",
              "      padding: 0 0 0 0;\n",
              "      width: 32px;\n",
              "    }\n",
              "\n",
              "    .colab-df-convert:hover {\n",
              "      background-color: #E2EBFA;\n",
              "      box-shadow: 0px 1px 2px rgba(60, 64, 67, 0.3), 0px 1px 3px 1px rgba(60, 64, 67, 0.15);\n",
              "      fill: #174EA6;\n",
              "    }\n",
              "\n",
              "    [theme=dark] .colab-df-convert {\n",
              "      background-color: #3B4455;\n",
              "      fill: #D2E3FC;\n",
              "    }\n",
              "\n",
              "    [theme=dark] .colab-df-convert:hover {\n",
              "      background-color: #434B5C;\n",
              "      box-shadow: 0px 1px 3px 1px rgba(0, 0, 0, 0.15);\n",
              "      filter: drop-shadow(0px 1px 2px rgba(0, 0, 0, 0.3));\n",
              "      fill: #FFFFFF;\n",
              "    }\n",
              "  </style>\n",
              "\n",
              "      <script>\n",
              "        const buttonEl =\n",
              "          document.querySelector('#df-e602bd83-3640-4c69-900f-51f0b7cd827b button.colab-df-convert');\n",
              "        buttonEl.style.display =\n",
              "          google.colab.kernel.accessAllowed ? 'block' : 'none';\n",
              "\n",
              "        async function convertToInteractive(key) {\n",
              "          const element = document.querySelector('#df-e602bd83-3640-4c69-900f-51f0b7cd827b');\n",
              "          const dataTable =\n",
              "            await google.colab.kernel.invokeFunction('convertToInteractive',\n",
              "                                                     [key], {});\n",
              "          if (!dataTable) return;\n",
              "\n",
              "          const docLinkHtml = 'Like what you see? Visit the ' +\n",
              "            '<a target=\"_blank\" href=https://colab.research.google.com/notebooks/data_table.ipynb>data table notebook</a>'\n",
              "            + ' to learn more about interactive tables.';\n",
              "          element.innerHTML = '';\n",
              "          dataTable['output_type'] = 'display_data';\n",
              "          await google.colab.output.renderOutput(dataTable, element);\n",
              "          const docLink = document.createElement('div');\n",
              "          docLink.innerHTML = docLinkHtml;\n",
              "          element.appendChild(docLink);\n",
              "        }\n",
              "      </script>\n",
              "    </div>\n",
              "  </div>\n",
              "  "
            ]
          },
          "metadata": {},
          "execution_count": 48
        }
      ]
    },
    {
      "cell_type": "code",
      "source": [
        "submission_df['Confidence'] = np.round(submission_df['Confidence'], 3)\n",
        "submission_df = submission_df[(submission_df['Confidence'] > 0.)]"
      ],
      "metadata": {
        "id": "HQa8rtKBxVzL"
      },
      "execution_count": 55,
      "outputs": []
    },
    {
      "cell_type": "code",
      "execution_count": 49,
      "metadata": {
        "id": "kjTYlB0HGYs7"
      },
      "outputs": [],
      "source": [
        "submission_df.to_csv('submission.tsv', sep='\\t', index=False)"
      ]
    },
    {
      "cell_type": "code",
      "source": [
        "len(submission_df)"
      ],
      "metadata": {
        "colab": {
          "base_uri": "https://localhost:8080/"
        },
        "id": "6RNonD9xxNhq",
        "outputId": "6c9694de-840b-468f-e694-f19e584b155c"
      },
      "execution_count": 57,
      "outputs": [
        {
          "output_type": "execute_result",
          "data": {
            "text/plain": [
              "118041770"
            ]
          },
          "metadata": {},
          "execution_count": 57
        }
      ]
    },
    {
      "cell_type": "code",
      "source": [
        "submission_df['Id'].value_counts()"
      ],
      "metadata": {
        "id": "a-QuZsMDIU2Z",
        "colab": {
          "base_uri": "https://localhost:8080/"
        },
        "outputId": "c6604f11-3f25-46c4-bd37-18ac4b6e51bc"
      },
      "execution_count": 56,
      "outputs": [
        {
          "output_type": "execute_result",
          "data": {
            "text/plain": [
              "P10400    1411\n",
              "Q32KS0    1357\n",
              "Q7SY06    1354\n",
              "Q462R2    1350\n",
              "Q9UKP3    1349\n",
              "          ... \n",
              "P84386     156\n",
              "Q36257     151\n",
              "P84381     145\n",
              "Q156A1     131\n",
              "P84385     122\n",
              "Name: Id, Length: 141864, dtype: int64"
            ]
          },
          "metadata": {},
          "execution_count": 56
        }
      ]
    },
    {
      "cell_type": "code",
      "source": [],
      "metadata": {
        "id": "U6KSd6qntK4L"
      },
      "execution_count": null,
      "outputs": []
    }
  ],
  "metadata": {
    "accelerator": "GPU",
    "colab": {
      "machine_shape": "hm",
      "provenance": [],
      "authorship_tag": "ABX9TyO9AIqkbhxfdZy4znb7TbYu",
      "include_colab_link": true
    },
    "kernelspec": {
      "display_name": "Python 3",
      "name": "python3"
    },
    "language_info": {
      "name": "python"
    }
  },
  "nbformat": 4,
  "nbformat_minor": 0
}