{
  "cells": [
    {
      "cell_type": "markdown",
      "metadata": {
        "id": "view-in-github",
        "colab_type": "text"
      },
      "source": [
        "<a href=\"https://colab.research.google.com/github/oshbocker/CAFA/blob/main/CAFA_baseline.ipynb\" target=\"_parent\"><img src=\"https://colab.research.google.com/assets/colab-badge.svg\" alt=\"Open In Colab\"/></a>"
      ]
    },
    {
      "cell_type": "code",
      "execution_count": null,
      "metadata": {
        "id": "UFWWnN7G68P7"
      },
      "outputs": [],
      "source": [
        "!mkdir ~/.kaggle\n",
        "!touch ~/.kaggle/kaggle.json\n",
        "\n",
        "api_token = {\"username\":\"oshbocker\",\"key\":\"bb9c6a60ba5c39e689d8cf8d15cb8bca\"}\n",
        "\n",
        "import json\n",
        "\n",
        "with open('/root/.kaggle/kaggle.json', 'w') as file:\n",
        "    json.dump(api_token, file)\n",
        "\n",
        "!chmod 600 ~/.kaggle/kaggle.json"
      ]
    },
    {
      "cell_type": "code",
      "execution_count": null,
      "metadata": {
        "colab": {
          "base_uri": "https://localhost:8080/"
        },
        "id": "DNK1P6aAAVR3",
        "outputId": "b7f213c7-9144-4893-dd07-7410042aec6a"
      },
      "outputs": [
        {
          "output_type": "stream",
          "name": "stdout",
          "text": [
            "\u001b[2K     \u001b[90m━━━━━━━━━━━━━━━━━━━━━━━━━━━━━━━━━━━━━━━━\u001b[0m \u001b[32m3.1/3.1 MB\u001b[0m \u001b[31m52.1 MB/s\u001b[0m eta \u001b[36m0:00:00\u001b[0m\n",
            "\u001b[2K     \u001b[90m━━━━━━━━━━━━━━━━━━━━━━━━━━━━━━━━━━━━━━\u001b[0m \u001b[32m519.2/519.2 kB\u001b[0m \u001b[31m32.3 MB/s\u001b[0m eta \u001b[36m0:00:00\u001b[0m\n",
            "\u001b[?25h"
          ]
        }
      ],
      "source": [
        "!pip install obonet -q\n",
        "!pip install biopython -q\n",
        "!pip install torchmetrics -q"
      ]
    },
    {
      "cell_type": "code",
      "execution_count": null,
      "metadata": {
        "id": "WSawJTx67Cgs"
      },
      "outputs": [],
      "source": [
        "import os\n",
        "import torch\n",
        "\n",
        "from pathlib import Path\n",
        "\n",
        "\n",
        "iskaggle = os.environ.get('KAGGLE_KERNEL_RUN_TYPE', '')\n",
        "\n",
        "cafa_main_path = Path(\"cafa-5-protein-function-prediction\")\n",
        "cafa_clean_fasta_path = Path(\"viktorfairuschin/cafa-5-fasta-files\")\n",
        "esm2_path = Path(\"viktorfairuschin/cafa-5-ems-2-embeddings-numpy\")\n",
        "protbert_path = Path(\"henriupton/protbert-embeddings-for-cafa5\")\n",
        "t5_path = Path(\"sergeifironov/t5embeds\")\n",
        "\n",
        "data_paths = [cafa_clean_fasta_path, esm2_path, protbert_path, t5_path]\n",
        "\n",
        "if iskaggle:\n",
        "  content_dir = \"/kaggle/input\"\n",
        "else:\n",
        "  content_dir = \"/content\"\n",
        "\n",
        "class CFG:\n",
        "    train_go_obo_path: str = f\"{content_dir}/cafa-5-protein-function-prediction/Train/go-basic.obo\"\n",
        "    train_seq_fasta_path: str = f\"{content_dir}/cafa-5-protein-function-prediction/Train/train_sequences.fasta\"\n",
        "    train_terms_path: str = f\"{content_dir}/cafa-5-protein-function-prediction/Train/train_terms.tsv\"\n",
        "    train_taxonomy_path: str = f\"{content_dir}/cafa-5-protein-function-prediction/Train/train_taxonomy.tsv\"\n",
        "    train_ia_path: str = f\"{content_dir}/cafa-5-protein-function-prediction/IA.txt\"\n",
        "    test_sequences_path: str = f\"{content_dir}/Test (Targets)/testsuperset.fasta\"\n",
        "\n",
        "    num_labels = 500\n",
        "    n_epochs = 15\n",
        "    batch_size = 128\n",
        "    lr = 0.001\n",
        "\n",
        "    device = torch.device('cuda' if torch.cuda.is_available() else 'cpu')\n"
      ]
    },
    {
      "cell_type": "code",
      "execution_count": null,
      "metadata": {
        "colab": {
          "base_uri": "https://localhost:8080/"
        },
        "id": "Pj8wOdbQ_Vvt",
        "outputId": "918139f1-ea47-40bb-fe82-ef4e3c95131d"
      },
      "outputs": [
        {
          "output_type": "stream",
          "name": "stdout",
          "text": [
            "cafa-5-protein-function-prediction\n",
            "Downloading cafa-5-protein-function-prediction.zip to /content\n"
          ]
        },
        {
          "output_type": "stream",
          "name": "stderr",
          "text": [
            "100%|██████████| 115M/115M [00:06<00:00, 19.5MB/s]\n"
          ]
        },
        {
          "output_type": "stream",
          "name": "stdout",
          "text": [
            "\n",
            "viktorfairuschin/cafa-5-fasta-files\n",
            "viktorfairuschin/cafa-5-ems-2-embeddings-numpy\n",
            "henriupton/protbert-embeddings-for-cafa5\n",
            "sergeifironov/t5embeds\n"
          ]
        }
      ],
      "source": [
        "if not iskaggle:\n",
        "  import zipfile,kaggle\n",
        "  if not cafa_main_path.exists():\n",
        "    print(cafa_main_path)\n",
        "    kaggle.api.competition_download_cli(str(cafa_main_path))\n",
        "    zipfile.ZipFile(f'{cafa_main_path}.zip').extractall(cafa_main_path)\n",
        "  for data_path in data_paths:\n",
        "    if not data_path.exists():\n",
        "      print(data_path)\n",
        "      kaggle.api.dataset_download_files(str(data_path))\n",
        "      zipfile.ZipFile(f'{data_path.name}.zip').extractall(data_path.name)"
      ]
    },
    {
      "cell_type": "code",
      "execution_count": null,
      "metadata": {
        "id": "3aXZhbD2BZ-5"
      },
      "outputs": [],
      "source": [
        "import obonet\n",
        "import time\n",
        "\n",
        "import networkx as nx\n",
        "import pandas as pd\n",
        "import numpy as np\n",
        "from Bio import SeqIO\n",
        "from tqdm import tqdm\n",
        "import matplotlib.pyplot as plt\n",
        "plt.style.use('ggplot')\n",
        "\n",
        "# TORCH MODULES FOR METRICS COMPUTATION :\n",
        "import torch\n",
        "from torch.utils.data import Dataset\n",
        "from torch import nn\n",
        "from torch.utils.data import random_split\n",
        "from torch.optim.lr_scheduler import ReduceLROnPlateau\n",
        "from torchmetrics.classification import MultilabelF1Score\n",
        "from torchmetrics.classification import MultilabelAccuracy"
      ]
    },
    {
      "cell_type": "code",
      "execution_count": null,
      "metadata": {
        "id": "sEKYAk-F_SNB"
      },
      "outputs": [],
      "source": [
        "graph = obonet.read_obo(CFG.train_go_obo_path)"
      ]
    },
    {
      "cell_type": "code",
      "execution_count": null,
      "metadata": {
        "id": "WeE95EkqAyJt"
      },
      "outputs": [],
      "source": [
        "# Information Accretion values for terms\n",
        "ia_dict = {}\n",
        "with open(CFG.train_ia_path) as f:\n",
        "    for line in f:\n",
        "        (key, value) = line.split(\"\\t\")\n",
        "        ia_dict[key] = float(value.replace(\"\\n\",\"\"))"
      ]
    },
    {
      "cell_type": "code",
      "execution_count": null,
      "metadata": {
        "colab": {
          "base_uri": "https://localhost:8080/"
        },
        "id": "DbYo5BvpBUq6",
        "outputId": "c4624cbf-31ec-45ff-b331-578d478962e6"
      },
      "outputs": [
        {
          "output_type": "stream",
          "name": "stdout",
          "text": [
            "27941 4042 11262 43245\n"
          ]
        }
      ],
      "source": [
        "subontology_roots = {'BPO':'GO:0008150',\n",
        "                     'CCO':'GO:0005575',\n",
        "                     'MFO':'GO:0003674'}\n",
        "\n",
        "BPO_len = len(nx.ancestors(graph, subontology_roots['BPO']))\n",
        "CCO_len = len(nx.ancestors(graph, subontology_roots['CCO']))\n",
        "MFO_len = len(nx.ancestors(graph, subontology_roots['MFO']))\n",
        "print(BPO_len, CCO_len, MFO_len, BPO_len + CCO_len + MFO_len)"
      ]
    },
    {
      "cell_type": "code",
      "execution_count": null,
      "metadata": {
        "colab": {
          "base_uri": "https://localhost:8080/",
          "height": 382
        },
        "id": "6IfEKF4KBX75",
        "outputId": "3442a956-b07f-455b-e90e-91bc6e9b45c7"
      },
      "outputs": [
        {
          "output_type": "stream",
          "name": "stdout",
          "text": [
            "(5363863, 4)\n"
          ]
        },
        {
          "output_type": "execute_result",
          "data": {
            "text/plain": [
              "      EntryID        term aspect        ia\n",
              "0  A0A009IHW8  GO:0008152    BPO  1.598544\n",
              "1  A0A009IHW8  GO:0034655    BPO  0.042274\n",
              "2  A0A009IHW8  GO:0072523    BPO  0.083901\n",
              "3  A0A009IHW8  GO:0044270    BPO  0.281155\n",
              "4  A0A009IHW8  GO:0006753    BPO  0.013844\n",
              "5  A0A009IHW8  GO:1901292    BPO  0.000000\n",
              "6  A0A009IHW8  GO:0044237    BPO  0.103670\n",
              "7  A0A009IHW8  GO:1901360    BPO  1.237575\n",
              "8  A0A009IHW8  GO:0008150    BPO  0.000000\n",
              "9  A0A009IHW8  GO:1901564    BPO  0.557385"
            ],
            "text/html": [
              "\n",
              "  <div id=\"df-f7758c08-c1a3-4846-9862-31f3e71edd5b\">\n",
              "    <div class=\"colab-df-container\">\n",
              "      <div>\n",
              "<style scoped>\n",
              "    .dataframe tbody tr th:only-of-type {\n",
              "        vertical-align: middle;\n",
              "    }\n",
              "\n",
              "    .dataframe tbody tr th {\n",
              "        vertical-align: top;\n",
              "    }\n",
              "\n",
              "    .dataframe thead th {\n",
              "        text-align: right;\n",
              "    }\n",
              "</style>\n",
              "<table border=\"1\" class=\"dataframe\">\n",
              "  <thead>\n",
              "    <tr style=\"text-align: right;\">\n",
              "      <th></th>\n",
              "      <th>EntryID</th>\n",
              "      <th>term</th>\n",
              "      <th>aspect</th>\n",
              "      <th>ia</th>\n",
              "    </tr>\n",
              "  </thead>\n",
              "  <tbody>\n",
              "    <tr>\n",
              "      <th>0</th>\n",
              "      <td>A0A009IHW8</td>\n",
              "      <td>GO:0008152</td>\n",
              "      <td>BPO</td>\n",
              "      <td>1.598544</td>\n",
              "    </tr>\n",
              "    <tr>\n",
              "      <th>1</th>\n",
              "      <td>A0A009IHW8</td>\n",
              "      <td>GO:0034655</td>\n",
              "      <td>BPO</td>\n",
              "      <td>0.042274</td>\n",
              "    </tr>\n",
              "    <tr>\n",
              "      <th>2</th>\n",
              "      <td>A0A009IHW8</td>\n",
              "      <td>GO:0072523</td>\n",
              "      <td>BPO</td>\n",
              "      <td>0.083901</td>\n",
              "    </tr>\n",
              "    <tr>\n",
              "      <th>3</th>\n",
              "      <td>A0A009IHW8</td>\n",
              "      <td>GO:0044270</td>\n",
              "      <td>BPO</td>\n",
              "      <td>0.281155</td>\n",
              "    </tr>\n",
              "    <tr>\n",
              "      <th>4</th>\n",
              "      <td>A0A009IHW8</td>\n",
              "      <td>GO:0006753</td>\n",
              "      <td>BPO</td>\n",
              "      <td>0.013844</td>\n",
              "    </tr>\n",
              "    <tr>\n",
              "      <th>5</th>\n",
              "      <td>A0A009IHW8</td>\n",
              "      <td>GO:1901292</td>\n",
              "      <td>BPO</td>\n",
              "      <td>0.000000</td>\n",
              "    </tr>\n",
              "    <tr>\n",
              "      <th>6</th>\n",
              "      <td>A0A009IHW8</td>\n",
              "      <td>GO:0044237</td>\n",
              "      <td>BPO</td>\n",
              "      <td>0.103670</td>\n",
              "    </tr>\n",
              "    <tr>\n",
              "      <th>7</th>\n",
              "      <td>A0A009IHW8</td>\n",
              "      <td>GO:1901360</td>\n",
              "      <td>BPO</td>\n",
              "      <td>1.237575</td>\n",
              "    </tr>\n",
              "    <tr>\n",
              "      <th>8</th>\n",
              "      <td>A0A009IHW8</td>\n",
              "      <td>GO:0008150</td>\n",
              "      <td>BPO</td>\n",
              "      <td>0.000000</td>\n",
              "    </tr>\n",
              "    <tr>\n",
              "      <th>9</th>\n",
              "      <td>A0A009IHW8</td>\n",
              "      <td>GO:1901564</td>\n",
              "      <td>BPO</td>\n",
              "      <td>0.557385</td>\n",
              "    </tr>\n",
              "  </tbody>\n",
              "</table>\n",
              "</div>\n",
              "      <button class=\"colab-df-convert\" onclick=\"convertToInteractive('df-f7758c08-c1a3-4846-9862-31f3e71edd5b')\"\n",
              "              title=\"Convert this dataframe to an interactive table.\"\n",
              "              style=\"display:none;\">\n",
              "        \n",
              "  <svg xmlns=\"http://www.w3.org/2000/svg\" height=\"24px\"viewBox=\"0 0 24 24\"\n",
              "       width=\"24px\">\n",
              "    <path d=\"M0 0h24v24H0V0z\" fill=\"none\"/>\n",
              "    <path d=\"M18.56 5.44l.94 2.06.94-2.06 2.06-.94-2.06-.94-.94-2.06-.94 2.06-2.06.94zm-11 1L8.5 8.5l.94-2.06 2.06-.94-2.06-.94L8.5 2.5l-.94 2.06-2.06.94zm10 10l.94 2.06.94-2.06 2.06-.94-2.06-.94-.94-2.06-.94 2.06-2.06.94z\"/><path d=\"M17.41 7.96l-1.37-1.37c-.4-.4-.92-.59-1.43-.59-.52 0-1.04.2-1.43.59L10.3 9.45l-7.72 7.72c-.78.78-.78 2.05 0 2.83L4 21.41c.39.39.9.59 1.41.59.51 0 1.02-.2 1.41-.59l7.78-7.78 2.81-2.81c.8-.78.8-2.07 0-2.86zM5.41 20L4 18.59l7.72-7.72 1.47 1.35L5.41 20z\"/>\n",
              "  </svg>\n",
              "      </button>\n",
              "      \n",
              "  <style>\n",
              "    .colab-df-container {\n",
              "      display:flex;\n",
              "      flex-wrap:wrap;\n",
              "      gap: 12px;\n",
              "    }\n",
              "\n",
              "    .colab-df-convert {\n",
              "      background-color: #E8F0FE;\n",
              "      border: none;\n",
              "      border-radius: 50%;\n",
              "      cursor: pointer;\n",
              "      display: none;\n",
              "      fill: #1967D2;\n",
              "      height: 32px;\n",
              "      padding: 0 0 0 0;\n",
              "      width: 32px;\n",
              "    }\n",
              "\n",
              "    .colab-df-convert:hover {\n",
              "      background-color: #E2EBFA;\n",
              "      box-shadow: 0px 1px 2px rgba(60, 64, 67, 0.3), 0px 1px 3px 1px rgba(60, 64, 67, 0.15);\n",
              "      fill: #174EA6;\n",
              "    }\n",
              "\n",
              "    [theme=dark] .colab-df-convert {\n",
              "      background-color: #3B4455;\n",
              "      fill: #D2E3FC;\n",
              "    }\n",
              "\n",
              "    [theme=dark] .colab-df-convert:hover {\n",
              "      background-color: #434B5C;\n",
              "      box-shadow: 0px 1px 3px 1px rgba(0, 0, 0, 0.15);\n",
              "      filter: drop-shadow(0px 1px 2px rgba(0, 0, 0, 0.3));\n",
              "      fill: #FFFFFF;\n",
              "    }\n",
              "  </style>\n",
              "\n",
              "      <script>\n",
              "        const buttonEl =\n",
              "          document.querySelector('#df-f7758c08-c1a3-4846-9862-31f3e71edd5b button.colab-df-convert');\n",
              "        buttonEl.style.display =\n",
              "          google.colab.kernel.accessAllowed ? 'block' : 'none';\n",
              "\n",
              "        async function convertToInteractive(key) {\n",
              "          const element = document.querySelector('#df-f7758c08-c1a3-4846-9862-31f3e71edd5b');\n",
              "          const dataTable =\n",
              "            await google.colab.kernel.invokeFunction('convertToInteractive',\n",
              "                                                     [key], {});\n",
              "          if (!dataTable) return;\n",
              "\n",
              "          const docLinkHtml = 'Like what you see? Visit the ' +\n",
              "            '<a target=\"_blank\" href=https://colab.research.google.com/notebooks/data_table.ipynb>data table notebook</a>'\n",
              "            + ' to learn more about interactive tables.';\n",
              "          element.innerHTML = '';\n",
              "          dataTable['output_type'] = 'display_data';\n",
              "          await google.colab.output.renderOutput(dataTable, element);\n",
              "          const docLink = document.createElement('div');\n",
              "          docLink.innerHTML = docLinkHtml;\n",
              "          element.appendChild(docLink);\n",
              "        }\n",
              "      </script>\n",
              "    </div>\n",
              "  </div>\n",
              "  "
            ]
          },
          "metadata": {},
          "execution_count": 9
        }
      ],
      "source": [
        "train_terms = pd.read_csv(CFG.train_terms_path, sep=\"\\t\")\n",
        "train_terms['ia'] = train_terms['term'].apply(lambda x: ia_dict[x])\n",
        "print(train_terms.shape)\n",
        "train_terms.head(10)"
      ]
    },
    {
      "cell_type": "markdown",
      "metadata": {
        "id": "T7AYt0PhBt9M"
      },
      "source": [
        "## Get the leaf predictions for each protein\n",
        "A leaf prediction is a GO term that doesn't have any children that are also predictions for the protein."
      ]
    },
    {
      "cell_type": "code",
      "execution_count": null,
      "metadata": {
        "id": "l9mcM5F6BfEC"
      },
      "outputs": [],
      "source": [
        "def get_leaf_labels(train_terms, aspect):\n",
        "    # Group by protein and get a list of all go term predictions\n",
        "    protein_list_go_term = train_terms[train_terms['aspect'] == aspect].groupby('EntryID')['term'].apply(list)\n",
        "\n",
        "    leaf_labels = {}\n",
        "    for i, protein in enumerate(protein_list_go_term.index):\n",
        "        test_terms = set(protein_list_go_term[protein])\n",
        "        descendants = set()\n",
        "        for term in test_terms:\n",
        "            descendants.update(nx.descendants(graph, term))\n",
        "\n",
        "        specific_labels = test_terms.difference(descendants)\n",
        "        leaf_labels[protein] = list(specific_labels)\n",
        "\n",
        "    return leaf_labels\n",
        "\n",
        "from collections import deque\n",
        "\n",
        "# Get ordered list of all ancestors\n",
        "def leaf_label_ancestors(graph, leaf_labels):\n",
        "    ordered_edges_dict = {}\n",
        "    for label in leaf_labels:\n",
        "        # Get ancestors\n",
        "        ordered_edges = deque()\n",
        "        node_is_root = False\n",
        "        prev_node_id = label\n",
        "        while node_is_root == False:\n",
        "            node = graph.nodes[prev_node_id]\n",
        "            node_is_root = 'is_a' not in node\n",
        "            if not node_is_root:\n",
        "                prev_node_id = node['is_a'][0]\n",
        "                ordered_edges.appendleft(prev_node_id)\n",
        "        ordered_edges_dict[label] = ordered_edges\n",
        "\n",
        "    return ordered_edges_dict"
      ]
    },
    {
      "cell_type": "code",
      "execution_count": null,
      "metadata": {
        "colab": {
          "base_uri": "https://localhost:8080/"
        },
        "id": "R_L8bA1lB6U1",
        "outputId": "1d95c928-bee7-4627-e23f-d77f35732b47"
      },
      "outputs": [
        {
          "output_type": "stream",
          "name": "stdout",
          "text": [
            "92912\n",
            "2763\n"
          ]
        }
      ],
      "source": [
        "CCO_leaf_labels = get_leaf_labels(train_terms, 'CCO')\n",
        "print(len(CCO_leaf_labels.values()))\n",
        "CCO_all_leaf_labels = np.unique(np.concatenate(list(CCO_leaf_labels.values())))\n",
        "print(len(CCO_all_leaf_labels))\n",
        "CCO_ordered_edges = leaf_label_ancestors(graph, CCO_all_leaf_labels)"
      ]
    },
    {
      "cell_type": "code",
      "execution_count": null,
      "metadata": {
        "id": "w4wXROcOCCxH"
      },
      "outputs": [],
      "source": [
        "# Get the first node label\n",
        "data_with_labels = []\n",
        "# Get all CCO labeled proteins with leaf labels\n",
        "for protein, label_list in CCO_leaf_labels.items():\n",
        "    for label in label_list:\n",
        "        data_with_labels.append({'protein': protein,\n",
        "                                 'label': label,\n",
        "                                 'ordered_edges': CCO_ordered_edges[label]})"
      ]
    },
    {
      "cell_type": "code",
      "execution_count": null,
      "metadata": {
        "id": "tvLok2i0CHNz"
      },
      "outputs": [],
      "source": [
        "def get_next_label(rw, depth=1):\n",
        "    if not rw['labeled'] and len(rw['ordered_edges']) > depth:\n",
        "        return rw['ordered_edges'][-depth]\n",
        "    else:\n",
        "        return rw['balanced_label']\n",
        "\n",
        "def is_final_balanced_label(rw, balanced_labels, depth=1):\n",
        "    if not rw['labeled']:\n",
        "        return (rw['balanced_label'] in balanced_labels) or (len(rw['ordered_edges']) == depth)\n",
        "    else:\n",
        "        return True\n",
        "\n",
        "def get_balanced_labels(label_df, label_count_threshold):\n",
        "    df = label_df.copy()\n",
        "    balanced_labels = set([label for label, count in df['label'].value_counts().items()\n",
        "                           if count >= label_count_threshold])\n",
        "    df['labeled'] = df['label'].apply(lambda x: x in balanced_labels)\n",
        "    df['balanced_label'] = df['label'] # df.apply(lambda x: x['label'] if x['labeled'] == True else None, axis=1)\n",
        "    print(sum(df['labeled'])/df.shape[0])\n",
        "    print(len(balanced_labels))\n",
        "    print(df['balanced_label'].value_counts())\n",
        "    depth = 1\n",
        "    while sum(df['labeled'])/df.shape[0] < 1:\n",
        "        df['balanced_label'] = df.apply(lambda x: get_next_label(x, depth=depth), axis=1)\n",
        "        balanced_labels = set([label for label, count in df['balanced_label'].value_counts().items()\n",
        "                                   if count >= label_count_threshold])\n",
        "        df['labeled'] = df.apply(lambda x: is_final_balanced_label(x, balanced_labels, depth=depth), axis=1)\n",
        "        depth += 1\n",
        "        print(sum(df['labeled'])/df.shape[0])\n",
        "        print(len(balanced_labels))\n",
        "        print(df['balanced_label'].value_counts())\n",
        "\n",
        "    return df"
      ]
    },
    {
      "cell_type": "code",
      "execution_count": null,
      "metadata": {
        "colab": {
          "base_uri": "https://localhost:8080/"
        },
        "id": "Fj7-8sgYCj45",
        "outputId": "b49a2453-2749-4529-d174-141623af19cb"
      },
      "outputs": [
        {
          "output_type": "stream",
          "name": "stdout",
          "text": [
            "0.46988094968653105\n",
            "14\n",
            "GO:0005829    16981\n",
            "GO:0005634    12661\n",
            "GO:0005886    11509\n",
            "GO:0005737     8335\n",
            "GO:0005654     8160\n",
            "              ...  \n",
            "GO:1990332        1\n",
            "GO:0009316        1\n",
            "GO:0099571        1\n",
            "GO:0044186        1\n",
            "GO:0071202        1\n",
            "Name: balanced_label, Length: 2763, dtype: int64\n",
            "0.6748296856256931\n",
            "26\n",
            "GO:0005829    16981\n",
            "GO:0110165    12989\n",
            "GO:0005634    12725\n",
            "GO:0005886    11823\n",
            "GO:0005737     8932\n",
            "              ...  \n",
            "GO:0032160        1\n",
            "GO:0055035        1\n",
            "GO:0031002        1\n",
            "GO:0030929        1\n",
            "GO:0098539        1\n",
            "Name: balanced_label, Length: 678, dtype: int64\n",
            "0.8399723875698798\n",
            "29\n",
            "GO:0110165    21336\n",
            "GO:0005829    17050\n",
            "GO:0005634    12910\n",
            "GO:0005886    11823\n",
            "GO:0005737     8948\n",
            "              ...  \n",
            "GO:0099572        1\n",
            "GO:0033176        1\n",
            "GO:0097518        1\n",
            "GO:0005788        1\n",
            "GO:0042170        1\n",
            "Name: balanced_label, Length: 272, dtype: int64\n",
            "0.9202521331733925\n",
            "29\n",
            "GO:0110165    25516\n",
            "GO:0005829    17050\n",
            "GO:0005634    12938\n",
            "GO:0005886    11823\n",
            "GO:0032991    10919\n",
            "              ...  \n",
            "GO:0030139        1\n",
            "GO:0032432        1\n",
            "GO:0016469        1\n",
            "GO:0032838        1\n",
            "GO:0031312        1\n",
            "Name: balanced_label, Length: 132, dtype: int64\n",
            "0.9661181902541701\n",
            "29\n",
            "GO:0110165    27993\n",
            "GO:0005829    17050\n",
            "GO:0032991    14061\n",
            "GO:0005634    12938\n",
            "GO:0005886    11823\n",
            "              ...  \n",
            "GO:0033646        3\n",
            "GO:0042571        3\n",
            "GO:1902562        3\n",
            "GO:0120025        3\n",
            "GO:0099568        1\n",
            "Name: balanced_label, Length: 70, dtype: int64\n",
            "0.989124776497748\n",
            "29\n",
            "GO:0110165    28952\n",
            "GO:0005829    17050\n",
            "GO:0032991    15498\n",
            "GO:0005634    12938\n",
            "GO:0005886    11823\n",
            "GO:0005737     9992\n",
            "GO:0005654     8160\n",
            "GO:0031090     7103\n",
            "GO:0005739     5803\n",
            "GO:0043232     5209\n",
            "GO:0043231     4913\n",
            "GO:0016020     3591\n",
            "GO:0043226     3568\n",
            "GO:0005783     3402\n",
            "GO:0098590     3329\n",
            "GO:0005576     3247\n",
            "GO:0140513     3049\n",
            "GO:0005615     2789\n",
            "GO:0030312     2777\n",
            "GO:0005730     2604\n",
            "GO:0031410     2512\n",
            "GO:0070013     2337\n",
            "GO:0005794     2327\n",
            "GO:0070062     2197\n",
            "GO:0043005     2106\n",
            "GO:0045202     2089\n",
            "GO:0005911     1898\n",
            "GO:0005815     1853\n",
            "GO:0009986     1395\n",
            "GO:0099080      316\n",
            "GO:0044423      299\n",
            "GO:0099081      255\n",
            "GO:0098796      250\n",
            "GO:1902494      247\n",
            "GO:1990234      228\n",
            "GO:0018995      201\n",
            "GO:0031974      145\n",
            "GO:0140535      123\n",
            "GO:1902495       43\n",
            "GO:0005773       33\n",
            "GO:0099512       27\n",
            "GO:0019898       18\n",
            "GO:0061695        8\n",
            "GO:0043235        6\n",
            "GO:0031248        6\n",
            "GO:0043233        4\n",
            "GO:0033643        3\n",
            "GO:0019814        3\n",
            "GO:0000123        3\n",
            "GO:0042995        3\n",
            "Name: balanced_label, dtype: int64\n",
            "0.9967351696353801\n",
            "29\n",
            "GO:0110165    29635\n",
            "GO:0005829    17050\n",
            "GO:0032991    16127\n",
            "GO:0005634    12938\n",
            "GO:0005886    11823\n",
            "GO:0005737     9992\n",
            "GO:0005654     8160\n",
            "GO:0031090     7103\n",
            "GO:0005739     5803\n",
            "GO:0043232     5209\n",
            "GO:0043231     4946\n",
            "GO:0016020     3591\n",
            "GO:0043226     3568\n",
            "GO:0005783     3402\n",
            "GO:0098590     3329\n",
            "GO:0005576     3247\n",
            "GO:0140513     3049\n",
            "GO:0005615     2789\n",
            "GO:0030312     2777\n",
            "GO:0005730     2604\n",
            "GO:0031410     2512\n",
            "GO:0070013     2337\n",
            "GO:0005794     2327\n",
            "GO:0070062     2197\n",
            "GO:0043005     2106\n",
            "GO:0045202     2089\n",
            "GO:0005911     1898\n",
            "GO:0005815     1853\n",
            "GO:0009986     1395\n",
            "GO:0044423      299\n",
            "GO:0099080      255\n",
            "GO:1902494      228\n",
            "GO:0098796       43\n",
            "GO:0099081       27\n",
            "GO:1990234        8\n",
            "GO:0140535        6\n",
            "GO:0031974        4\n",
            "GO:0018995        3\n",
            "GO:0031248        3\n",
            "Name: balanced_label, dtype: int64\n",
            "0.9997849851752937\n",
            "29\n",
            "GO:0110165    29897\n",
            "GO:0005829    17050\n",
            "GO:0032991    16404\n",
            "GO:0005634    12938\n",
            "GO:0005886    11823\n",
            "GO:0005737     9992\n",
            "GO:0005654     8160\n",
            "GO:0031090     7103\n",
            "GO:0005739     5803\n",
            "GO:0043232     5209\n",
            "GO:0043231     4946\n",
            "GO:0016020     3591\n",
            "GO:0043226     3568\n",
            "GO:0005783     3402\n",
            "GO:0098590     3329\n",
            "GO:0005576     3247\n",
            "GO:0140513     3049\n",
            "GO:0005615     2789\n",
            "GO:0030312     2777\n",
            "GO:0005730     2604\n",
            "GO:0031410     2512\n",
            "GO:0070013     2337\n",
            "GO:0005794     2327\n",
            "GO:0070062     2197\n",
            "GO:0043005     2106\n",
            "GO:0045202     2089\n",
            "GO:0005911     1898\n",
            "GO:0005815     1853\n",
            "GO:0009986     1395\n",
            "GO:0044423      299\n",
            "GO:0099080       27\n",
            "GO:1902494        8\n",
            "GO:0140535        3\n",
            "Name: balanced_label, dtype: int64\n",
            "1.0\n",
            "29\n",
            "GO:0110165    29924\n",
            "GO:0005829    17050\n",
            "GO:0032991    16415\n",
            "GO:0005634    12938\n",
            "GO:0005886    11823\n",
            "GO:0005737     9992\n",
            "GO:0005654     8160\n",
            "GO:0031090     7103\n",
            "GO:0005739     5803\n",
            "GO:0043232     5209\n",
            "GO:0043231     4946\n",
            "GO:0016020     3591\n",
            "GO:0043226     3568\n",
            "GO:0005783     3402\n",
            "GO:0098590     3329\n",
            "GO:0005576     3247\n",
            "GO:0140513     3049\n",
            "GO:0005615     2789\n",
            "GO:0030312     2777\n",
            "GO:0005730     2604\n",
            "GO:0031410     2512\n",
            "GO:0070013     2337\n",
            "GO:0005794     2327\n",
            "GO:0070062     2197\n",
            "GO:0043005     2106\n",
            "GO:0045202     2089\n",
            "GO:0005911     1898\n",
            "GO:0005815     1853\n",
            "GO:0009986     1395\n",
            "GO:0044423      299\n",
            "Name: balanced_label, dtype: int64\n"
          ]
        }
      ],
      "source": [
        "CCO_df = pd.DataFrame(data_with_labels)\n",
        "\n",
        "new_CCO_df = get_balanced_labels(CCO_df, 1358)"
      ]
    },
    {
      "cell_type": "markdown",
      "metadata": {
        "id": "1nUmpeIoH-PH"
      },
      "source": [
        "## Classify selected nodes of CCO"
      ]
    },
    {
      "cell_type": "code",
      "execution_count": null,
      "metadata": {
        "id": "glJt_XKeCmtw"
      },
      "outputs": [],
      "source": [
        "from sklearn.model_selection import train_test_split"
      ]
    },
    {
      "cell_type": "code",
      "execution_count": null,
      "metadata": {
        "colab": {
          "base_uri": "https://localhost:8080/"
        },
        "id": "JajEKGU4IB-a",
        "outputId": "8d80fd59-e1af-411e-d48e-cebeaf17afa5"
      },
      "outputs": [
        {
          "output_type": "stream",
          "name": "stdout",
          "text": [
            "Train label 74329\n",
            "Test label 18583\n"
          ]
        }
      ],
      "source": [
        "ohe_CCO_df = pd.get_dummies(new_CCO_df, prefix=['balanced_label'], columns=['balanced_label'], drop_first=True)\n",
        "label_cols = [c for c in ohe_CCO_df.columns if 'balanced_label_' in c]\n",
        "label_df = ohe_CCO_df.groupby('protein').sum(numeric_only=True)[label_cols].clip(0,1)\n",
        "label_values = list(label_df.values)\n",
        "label_ids = list(label_df.index)\n",
        "labels_df = pd.DataFrame(data={\"EntryID\": label_ids, \"labels_vect\": label_values})\n",
        "\n",
        "# Split into train, val, test\n",
        "X_train, X_test, y_train, y_test = train_test_split(label_ids,\n",
        "                                                    label_values,\n",
        "                                                    test_size = 0.2)\n",
        "print(\"Train label\", len(y_train))\n",
        "print(\"Test label\", len(y_test))"
      ]
    },
    {
      "cell_type": "code",
      "execution_count": null,
      "metadata": {
        "id": "t2hK1aL8JClo"
      },
      "outputs": [],
      "source": [
        "# Directories for the different embedding vectors :\n",
        "embeds_map = {\n",
        "    \"T5\" : \"t5embeds\",\n",
        "    \"ProtBERT\" : \"protbert-embeddings-for-cafa5\",\n",
        "    \"ESM2\" : \"cafa-5-ems-2-embeddings-numpy\"\n",
        "}\n",
        "\n",
        "# Length of the different embedding vectors :\n",
        "embeds_dim = {\n",
        "    \"T5\" : 1024,\n",
        "    \"ProtBERT\" : 1024,\n",
        "    \"ESM2\" : 1280,\n",
        "    \"Concat\": 1024+1024,\n",
        "}"
      ]
    },
    {
      "cell_type": "code",
      "execution_count": null,
      "metadata": {
        "id": "tvDhStmfJHbA"
      },
      "outputs": [],
      "source": [
        "class ProteinSequenceDataset(Dataset):\n",
        "\n",
        "    def __init__(self, datatype, embeddings_source):\n",
        "        super(ProteinSequenceDataset).__init__()\n",
        "        self.datatype = datatype\n",
        "\n",
        "        if embeddings_source in [\"ProtBERT\", \"ESM2\"]:\n",
        "            embeds = np.load(f\"{content_dir}/\"+embeds_map[embeddings_source]+\"/\"+datatype+\"_embeddings.npy\")\n",
        "            ids = np.load(f\"{content_dir}/\"+embeds_map[embeddings_source]+\"/\"+datatype+\"_ids.npy\")\n",
        "\n",
        "        if embeddings_source == \"T5\":\n",
        "            embeds = np.load(f\"{content_dir}/\"+embeds_map[embeddings_source]+\"/\"+datatype+\"_embeds.npy\")\n",
        "            ids = np.load(f\"{content_dir}/\"+embeds_map[embeddings_source]+\"/\"+datatype+\"_ids.npy\")\n",
        "\n",
        "        if embeddings_source == \"Concat\":\n",
        "            bert_embeds = np.load(f\"{content_dir}/\"+embeds_map[\"ProtBERT\"]+\"/\"+datatype+\"_embeddings.npy\")\n",
        "            bert_ids = np.load(f\"{content_dir}/\"+embeds_map[\"ProtBERT\"]+\"/\"+datatype+\"_ids.npy\")\n",
        "            esm2_embeds = np.load(f\"{content_dir}/\"+embeds_map[\"ESM2\"]+\"/\"+datatype+\"_embeddings.npy\")\n",
        "            esm2_ids = np.load(f\"{content_dir}/\"+embeds_map[\"ESM2\"]+\"/\"+datatype+\"_ids.npy\")\n",
        "            t5_embeds = np.load(f\"{content_dir}/\"+embeds_map[\"T5\"]+\"/\"+datatype+\"_embeds.npy\")\n",
        "            t5_ids = np.load(f\"{content_dir}/\"+embeds_map[\"T5\"]+\"/\"+datatype+\"_ids.npy\")\n",
        "            embeds = np.concatenate([bert_embeds, t5_embeds], axis=1)\n",
        "            embeds_list = []\n",
        "            for l in range(embeds.shape[0]):\n",
        "                embeds_list.append(embeds[l,:])\n",
        "            self.df = pd.DataFrame(data={\"EntryID\": t5_ids, \"embed\" : embeds_list})\n",
        "        else:\n",
        "            embeds_list = []\n",
        "            for l in range(embeds.shape[0]):\n",
        "                embeds_list.append(embeds[l,:])\n",
        "            self.df = pd.DataFrame(data={\"EntryID\": ids, \"embed\" : embeds_list})\n",
        "\n",
        "\n",
        "        if datatype==\"train\":\n",
        "            self.df = self.df.merge(labels_df, on=\"EntryID\")\n",
        "\n",
        "    def __len__(self):\n",
        "        return len(self.df)\n",
        "\n",
        "    def __getitem__(self, index):\n",
        "        embed = torch.tensor(self.df.iloc[index][\"embed\"] , dtype = torch.float32)\n",
        "        if self.datatype==\"train\":\n",
        "            targets = torch.tensor(self.df.iloc[index][\"labels_vect\"], dtype = torch.float32)\n",
        "            return embed, targets\n",
        "        if self.datatype==\"test\":\n",
        "            id = self.df.iloc[index][\"EntryID\"]\n",
        "            return embed, id"
      ]
    },
    {
      "cell_type": "code",
      "execution_count": null,
      "metadata": {
        "id": "Vgq_exbhgDxR"
      },
      "outputs": [],
      "source": [
        "datatype = \"train\"\n",
        "bert_embeds = np.load(f\"{content_dir}/\"+embeds_map[\"ProtBERT\"]+\"/\"+datatype+\"_embeddings.npy\")\n",
        "bert_ids = np.load(f\"{content_dir}/\"+embeds_map[\"ProtBERT\"]+\"/\"+datatype+\"_ids.npy\")\n",
        "esm2_embeds = np.load(f\"{content_dir}/\"+embeds_map[\"ESM2\"]+\"/\"+datatype+\"_embeddings.npy\")\n",
        "esm2_ids = np.load(f\"{content_dir}/\"+embeds_map[\"ESM2\"]+\"/\"+datatype+\"_ids.npy\")\n",
        "t5_embeds = np.load(f\"{content_dir}/\"+embeds_map[\"T5\"]+\"/\"+datatype+\"_embeds.npy\")\n",
        "t5_ids = np.load(f\"{content_dir}/\"+embeds_map[\"T5\"]+\"/\"+datatype+\"_ids.npy\")"
      ]
    },
    {
      "cell_type": "code",
      "execution_count": null,
      "metadata": {
        "colab": {
          "base_uri": "https://localhost:8080/"
        },
        "id": "tOpvVYZYgu5_",
        "outputId": "66a8533f-1e9b-4aaa-c83e-4dd9601713e5"
      },
      "outputs": [
        {
          "output_type": "execute_result",
          "data": {
            "text/plain": [
              "(142246, 1024)"
            ]
          },
          "metadata": {},
          "execution_count": 20
        }
      ],
      "source": [
        "bert_embeds.shape"
      ]
    },
    {
      "cell_type": "code",
      "execution_count": null,
      "metadata": {
        "colab": {
          "base_uri": "https://localhost:8080/"
        },
        "id": "ezVxLjd3gyOT",
        "outputId": "7b223982-5280-4947-a489-c7d56789ae8c"
      },
      "outputs": [
        {
          "output_type": "execute_result",
          "data": {
            "text/plain": [
              "(142246, 2048)"
            ]
          },
          "metadata": {},
          "execution_count": 21
        }
      ],
      "source": [
        "np.concatenate([bert_embeds, t5_embeds], axis=1).shape"
      ]
    },
    {
      "cell_type": "code",
      "execution_count": null,
      "metadata": {
        "colab": {
          "base_uri": "https://localhost:8080/"
        },
        "id": "ZgXE3G_kgTOE",
        "outputId": "2f29a992-fe87-4fcb-fcf6-beab3f06542f"
      },
      "outputs": [
        {
          "output_type": "stream",
          "name": "stdout",
          "text": [
            "['P20536' 'O73864' 'O95231' 'A0A0B4J1F4' 'P54366']\n",
            "['Q9ZSA8' 'P25353' 'A0A2R8YCW8' 'G3V5N8' 'A0A140LFN4']\n",
            "['P20536' 'O73864' 'O95231' 'A0A0B4J1F4' 'P54366']\n"
          ]
        }
      ],
      "source": [
        "print(bert_ids[:5])\n",
        "print(esm2_ids[:5])\n",
        "print(t5_ids[:5])"
      ]
    },
    {
      "cell_type": "code",
      "execution_count": null,
      "metadata": {
        "id": "ifMl7POS0eDo"
      },
      "outputs": [],
      "source": [
        "class MultiLayerPerceptron(torch.nn.Module):\n",
        "\n",
        "    def __init__(self, input_dim, num_classes):\n",
        "        super(MultiLayerPerceptron, self).__init__()\n",
        "\n",
        "        self.linear1 = torch.nn.Linear(input_dim, 4*1012)\n",
        "        self.activation1 = torch.nn.ReLU()\n",
        "        self.linear2 = torch.nn.Linear(4*1012, 4*712)\n",
        "        self.activation2 = torch.nn.ReLU()\n",
        "        self.linear3 = torch.nn.Linear(4*712, num_classes)\n",
        "\n",
        "    def forward(self, x):\n",
        "        x = self.linear1(x)\n",
        "        x = self.activation1(x)\n",
        "        x = self.linear2(x)\n",
        "        x = self.activation2(x)\n",
        "        x = self.linear3(x)\n",
        "        return x\n",
        "\n",
        "\n",
        "class CNN1D(nn.Module):\n",
        "    def __init__(self, input_dim, num_classes):\n",
        "        super(CNN1D, self).__init__()\n",
        "        # (batch_size, channels, embed_size)\n",
        "        self.conv1 = nn.Conv1d(in_channels=1, out_channels=3, kernel_size=3, dilation=1, padding=1, stride=1)\n",
        "        # (batch_size, 3, embed_size)\n",
        "        self.pool1 = nn.MaxPool1d(kernel_size=2, stride=2)\n",
        "        # (batch_size, 3, embed_size/2 = 512)\n",
        "        self.conv2 = nn.Conv1d(in_channels=3, out_channels=8, kernel_size=3, dilation=1, padding=1, stride=1)\n",
        "        # (batch_size, 8, embed_size/2 = 512)\n",
        "        self.pool2 = nn.MaxPool1d(kernel_size=2, stride=2)\n",
        "        # (batch_size, 8, embed_size/4 = 256)\n",
        "        self.fc1 = nn.Linear(in_features=int(8 * input_dim/4), out_features=128)\n",
        "        self.fc2 = nn.Linear(in_features=128, out_features=num_classes)\n",
        "\n",
        "    def forward(self, x):\n",
        "        x = x.reshape(x.shape[0], 1, x.shape[1])\n",
        "        x = self.pool1(nn.functional.relu(self.conv1(x)))\n",
        "        x = self.pool2(nn.functional.relu(self.conv2(x)))\n",
        "        x = torch.flatten(x, 1)\n",
        "        x = nn.functional.relu(self.fc1(x))\n",
        "        x = self.fc2(x)\n",
        "        return x"
      ]
    },
    {
      "cell_type": "code",
      "execution_count": null,
      "metadata": {
        "id": "GqSXiM2I5nvr"
      },
      "outputs": [],
      "source": [
        "def train_model(embeddings_source, model_type=\"linear\", train_size=0.9):\n",
        "\n",
        "    train_dataset = ProteinSequenceDataset(datatype=\"train\", embeddings_source = embeddings_source)\n",
        "\n",
        "    train_set, val_set = random_split(train_dataset, lengths = [int(len(train_dataset)*train_size), len(train_dataset)-int(len(train_dataset)*train_size)])\n",
        "    train_dataloader = torch.utils.data.DataLoader(train_set, batch_size=CFG.batch_size, shuffle=True)\n",
        "    val_dataloader = torch.utils.data.DataLoader(val_set, batch_size=CFG.batch_size, shuffle=True)\n",
        "\n",
        "    if model_type == \"linear\":\n",
        "        model = MultiLayerPerceptron(input_dim=embeds_dim[embeddings_source], num_classes=CFG.num_labels).to(CFG.device)\n",
        "    if model_type == \"convolutional\":\n",
        "        model = CNN1D(input_dim=embeds_dim[embeddings_source], num_classes=CFG.num_labels).to(CFG.device)\n",
        "\n",
        "    optimizer = torch.optim.Adam(model.parameters(), lr = CFG.lr)\n",
        "    scheduler = ReduceLROnPlateau(optimizer, factor=0.1, patience=1)\n",
        "    CrossEntropy = torch.nn.CrossEntropyLoss()\n",
        "    f1_score = MultilabelF1Score(num_labels=CFG.num_labels).to(CFG.device)\n",
        "    n_epochs = CFG.n_epochs\n",
        "\n",
        "    print(\"BEGIN TRAINING...\")\n",
        "    train_loss_history=[]\n",
        "    val_loss_history=[]\n",
        "\n",
        "    train_f1score_history=[]\n",
        "    val_f1score_history=[]\n",
        "    for epoch in range(n_epochs):\n",
        "        print(\"EPOCH \", epoch+1)\n",
        "        ## TRAIN PHASE :\n",
        "        losses = []\n",
        "        scores = []\n",
        "        for embed, targets in tqdm(train_dataloader):\n",
        "            embed, targets = embed.to(CFG.device), targets.to(CFG.device)\n",
        "            optimizer.zero_grad()\n",
        "            preds = model(embed)\n",
        "            loss= CrossEntropy(preds, targets)\n",
        "            score=f1_score(preds, targets)\n",
        "            losses.append(loss.item())\n",
        "            scores.append(score.item())\n",
        "            loss.backward()\n",
        "            optimizer.step()\n",
        "        avg_loss = np.mean(losses)\n",
        "        avg_score = np.mean(scores)\n",
        "        print(\"Running Average TRAIN Loss : \", avg_loss)\n",
        "        print(\"Running Average TRAIN F1-Score : \", avg_score)\n",
        "        train_loss_history.append(avg_loss)\n",
        "        train_f1score_history.append(avg_score)\n",
        "\n",
        "        ## VALIDATION PHASE :\n",
        "        losses = []\n",
        "        scores = []\n",
        "        for embed, targets in val_dataloader:\n",
        "            embed, targets = embed.to(CFG.device), targets.to(CFG.device)\n",
        "            preds = model(embed)\n",
        "            loss= CrossEntropy(preds, targets)\n",
        "            score=f1_score(preds, targets)\n",
        "            losses.append(loss.item())\n",
        "            scores.append(score.item())\n",
        "        avg_loss = np.mean(losses)\n",
        "        avg_score = np.mean(scores)\n",
        "        print(\"Running Average VAL Loss : \", avg_loss)\n",
        "        print(\"Running Average VAL F1-Score : \", avg_score)\n",
        "        val_loss_history.append(avg_loss)\n",
        "        val_f1score_history.append(avg_score)\n",
        "\n",
        "        scheduler.step(avg_loss)\n",
        "        print(\"\\n\")\n",
        "\n",
        "    print(\"TRAINING FINISHED\")\n",
        "    print(\"FINAL TRAINING SCORE : \", train_f1score_history[-1])\n",
        "    print(\"FINAL VALIDATION SCORE : \", val_f1score_history[-1])\n",
        "\n",
        "    losses_history = {\"train\" : train_loss_history, \"val\" : val_loss_history}\n",
        "    scores_history = {\"train\" : train_f1score_history, \"val\" : val_f1score_history}\n",
        "\n",
        "    return model, losses_history, scores_history"
      ]
    },
    {
      "cell_type": "code",
      "execution_count": null,
      "metadata": {
        "id": "NOoTKm_X7yFz"
      },
      "outputs": [],
      "source": [
        "train_dataset = ProteinSequenceDataset(datatype=\"train\", embeddings_source = \"ESM2\")\n",
        "CFG.num_labels = train_dataset[0][1].shape[0]"
      ]
    },
    {
      "cell_type": "code",
      "execution_count": null,
      "metadata": {
        "colab": {
          "base_uri": "https://localhost:8080/"
        },
        "id": "uaHlxFm7hUtr",
        "outputId": "9c72a944-fe61-4603-83a3-1696e2825a3a"
      },
      "outputs": [
        {
          "output_type": "stream",
          "name": "stdout",
          "text": [
            "BEGIN TRAINING...\n",
            "EPOCH  1\n"
          ]
        },
        {
          "output_type": "stream",
          "name": "stderr",
          "text": [
            "100%|██████████| 654/654 [00:17<00:00, 38.17it/s]\n"
          ]
        },
        {
          "output_type": "stream",
          "name": "stdout",
          "text": [
            "Running Average TRAIN Loss :  4.315488024224564\n",
            "Running Average TRAIN F1-Score :  0.18549620538995537\n",
            "Running Average VAL Loss :  4.100779030421009\n",
            "Running Average VAL F1-Score :  0.20886010360227872\n",
            "\n",
            "\n",
            "EPOCH  2\n"
          ]
        },
        {
          "output_type": "stream",
          "name": "stderr",
          "text": [
            "100%|██████████| 654/654 [00:13<00:00, 48.18it/s]\n"
          ]
        },
        {
          "output_type": "stream",
          "name": "stdout",
          "text": [
            "Running Average TRAIN Loss :  4.035869933778722\n",
            "Running Average TRAIN F1-Score :  0.22356877391673738\n",
            "Running Average VAL Loss :  3.976151949738803\n",
            "Running Average VAL F1-Score :  0.22650790826915063\n",
            "\n",
            "\n",
            "EPOCH  3\n"
          ]
        },
        {
          "output_type": "stream",
          "name": "stderr",
          "text": [
            "100%|██████████| 654/654 [00:13<00:00, 47.42it/s]\n"
          ]
        },
        {
          "output_type": "stream",
          "name": "stdout",
          "text": [
            "Running Average TRAIN Loss :  3.9223883738940644\n",
            "Running Average TRAIN F1-Score :  0.24003777687155872\n",
            "Running Average VAL Loss :  3.956378077807492\n",
            "Running Average VAL F1-Score :  0.23931847961798106\n",
            "\n",
            "\n",
            "EPOCH  4\n"
          ]
        },
        {
          "output_type": "stream",
          "name": "stderr",
          "text": [
            "100%|██████████| 654/654 [00:13<00:00, 47.42it/s]\n"
          ]
        },
        {
          "output_type": "stream",
          "name": "stdout",
          "text": [
            "Running Average TRAIN Loss :  3.82887301167946\n",
            "Running Average TRAIN F1-Score :  0.2519227086085063\n",
            "Running Average VAL Loss :  3.883125024299099\n",
            "Running Average VAL F1-Score :  0.245709214104365\n",
            "\n",
            "\n",
            "EPOCH  5\n"
          ]
        },
        {
          "output_type": "stream",
          "name": "stderr",
          "text": [
            "100%|██████████| 654/654 [00:13<00:00, 48.06it/s]\n"
          ]
        },
        {
          "output_type": "stream",
          "name": "stdout",
          "text": [
            "Running Average TRAIN Loss :  3.7357054095749462\n",
            "Running Average TRAIN F1-Score :  0.2642325479822057\n",
            "Running Average VAL Loss :  3.869270229992801\n",
            "Running Average VAL F1-Score :  0.25585084969866767\n",
            "\n",
            "\n",
            "EPOCH  6\n"
          ]
        },
        {
          "output_type": "stream",
          "name": "stderr",
          "text": [
            "100%|██████████| 654/654 [00:13<00:00, 47.94it/s]\n"
          ]
        },
        {
          "output_type": "stream",
          "name": "stdout",
          "text": [
            "Running Average TRAIN Loss :  3.650926031468476\n",
            "Running Average TRAIN F1-Score :  0.27694036852602566\n",
            "Running Average VAL Loss :  3.846980725249199\n",
            "Running Average VAL F1-Score :  0.26526422227082186\n",
            "\n",
            "\n",
            "EPOCH  7\n"
          ]
        },
        {
          "output_type": "stream",
          "name": "stderr",
          "text": [
            "100%|██████████| 654/654 [00:13<00:00, 48.49it/s]\n"
          ]
        },
        {
          "output_type": "stream",
          "name": "stdout",
          "text": [
            "Running Average TRAIN Loss :  3.5568492933879936\n",
            "Running Average TRAIN F1-Score :  0.2885459186195963\n",
            "Running Average VAL Loss :  3.84621954617435\n",
            "Running Average VAL F1-Score :  0.27546167067468985\n",
            "\n",
            "\n",
            "EPOCH  8\n"
          ]
        },
        {
          "output_type": "stream",
          "name": "stderr",
          "text": [
            "100%|██████████| 654/654 [00:13<00:00, 48.70it/s]\n"
          ]
        },
        {
          "output_type": "stream",
          "name": "stdout",
          "text": [
            "Running Average TRAIN Loss :  3.464714800910483\n",
            "Running Average TRAIN F1-Score :  0.3009706376069183\n",
            "Running Average VAL Loss :  3.8763263617476373\n",
            "Running Average VAL F1-Score :  0.27861340731790624\n",
            "\n",
            "\n",
            "EPOCH  9\n"
          ]
        },
        {
          "output_type": "stream",
          "name": "stderr",
          "text": [
            "100%|██████████| 654/654 [00:13<00:00, 48.72it/s]\n"
          ]
        },
        {
          "output_type": "stream",
          "name": "stdout",
          "text": [
            "Running Average TRAIN Loss :  3.3669154891909443\n",
            "Running Average TRAIN F1-Score :  0.3139251946309291\n",
            "Running Average VAL Loss :  3.873659130645125\n",
            "Running Average VAL F1-Score :  0.28618625133004905\n",
            "\n",
            "\n",
            "EPOCH  10\n"
          ]
        },
        {
          "output_type": "stream",
          "name": "stderr",
          "text": [
            "100%|██████████| 654/654 [00:13<00:00, 48.31it/s]\n"
          ]
        },
        {
          "output_type": "stream",
          "name": "stdout",
          "text": [
            "Running Average TRAIN Loss :  3.095746098308388\n",
            "Running Average TRAIN F1-Score :  0.33513108982678946\n",
            "Running Average VAL Loss :  3.837839025340668\n",
            "Running Average VAL F1-Score :  0.29278323707515247\n",
            "\n",
            "\n",
            "EPOCH  11\n"
          ]
        },
        {
          "output_type": "stream",
          "name": "stderr",
          "text": [
            "100%|██████████| 654/654 [00:13<00:00, 47.95it/s]\n"
          ]
        },
        {
          "output_type": "stream",
          "name": "stdout",
          "text": [
            "Running Average TRAIN Loss :  3.0280028825870713\n",
            "Running Average TRAIN F1-Score :  0.34153383505453755\n",
            "Running Average VAL Loss :  3.852166090926079\n",
            "Running Average VAL F1-Score :  0.29302462282246106\n",
            "\n",
            "\n",
            "EPOCH  12\n"
          ]
        },
        {
          "output_type": "stream",
          "name": "stderr",
          "text": [
            "100%|██████████| 654/654 [00:13<00:00, 48.09it/s]\n"
          ]
        },
        {
          "output_type": "stream",
          "name": "stdout",
          "text": [
            "Running Average TRAIN Loss :  2.9892482600809966\n",
            "Running Average TRAIN F1-Score :  0.3470584573366591\n",
            "Running Average VAL Loss :  3.8664325818623584\n",
            "Running Average VAL F1-Score :  0.2944438098228141\n",
            "\n",
            "\n",
            "EPOCH  13\n"
          ]
        },
        {
          "output_type": "stream",
          "name": "stderr",
          "text": [
            "100%|██████████| 654/654 [00:13<00:00, 48.53it/s]\n"
          ]
        },
        {
          "output_type": "stream",
          "name": "stdout",
          "text": [
            "Running Average TRAIN Loss :  2.939826480474676\n",
            "Running Average TRAIN F1-Score :  0.3507586244140561\n",
            "Running Average VAL Loss :  3.8733022964164\n",
            "Running Average VAL F1-Score :  0.30078707512927383\n",
            "\n",
            "\n",
            "EPOCH  14\n"
          ]
        },
        {
          "output_type": "stream",
          "name": "stderr",
          "text": [
            "100%|██████████| 654/654 [00:13<00:00, 47.97it/s]\n"
          ]
        },
        {
          "output_type": "stream",
          "name": "stdout",
          "text": [
            "Running Average TRAIN Loss :  2.9339361526185948\n",
            "Running Average TRAIN F1-Score :  0.35114721489062\n",
            "Running Average VAL Loss :  3.875210066364236\n",
            "Running Average VAL F1-Score :  0.296996558569882\n",
            "\n",
            "\n",
            "EPOCH  15\n"
          ]
        },
        {
          "output_type": "stream",
          "name": "stderr",
          "text": [
            "100%|██████████| 654/654 [00:13<00:00, 48.47it/s]\n"
          ]
        },
        {
          "output_type": "stream",
          "name": "stdout",
          "text": [
            "Running Average TRAIN Loss :  2.925733946149867\n",
            "Running Average TRAIN F1-Score :  0.35364265594095995\n",
            "Running Average VAL Loss :  3.8776844070382315\n",
            "Running Average VAL F1-Score :  0.29977719424522087\n",
            "\n",
            "\n",
            "TRAINING FINISHED\n",
            "FINAL TRAINING SCORE :  0.35364265594095995\n",
            "FINAL VALIDATION SCORE :  0.29977719424522087\n"
          ]
        }
      ],
      "source": [
        "cat_model, cat_losses,cat_scores = train_model(embeddings_source=\"Concat\",model_type=\"linear\")"
      ]
    },
    {
      "cell_type": "markdown",
      "metadata": {
        "id": "2mjO9e0Mld_4"
      },
      "source": [
        "TRAINING FINISHED\n",
        "FINAL TRAINING SCORE :  0.31309230539047755\n",
        "FINAL VALIDATION SCORE :  0.2773439412655896"
      ]
    },
    {
      "cell_type": "code",
      "execution_count": null,
      "metadata": {
        "colab": {
          "base_uri": "https://localhost:8080/"
        },
        "id": "w3VdssHq5v-F",
        "outputId": "c98debe3-c37b-4377-b99e-dacde6ca451d"
      },
      "outputs": [
        {
          "output_type": "stream",
          "name": "stdout",
          "text": [
            "BEGIN TRAINING...\n",
            "EPOCH  1\n"
          ]
        },
        {
          "output_type": "stream",
          "name": "stderr",
          "text": [
            "100%|██████████| 654/654 [00:12<00:00, 52.86it/s]\n"
          ]
        },
        {
          "output_type": "stream",
          "name": "stdout",
          "text": [
            "Running Average TRAIN Loss :  4.297300809384851\n",
            "Running Average TRAIN F1-Score :  0.192433990424197\n",
            "Running Average VAL Loss :  4.158430034167146\n",
            "Running Average VAL F1-Score :  0.2251039357626275\n",
            "\n",
            "\n",
            "EPOCH  2\n"
          ]
        },
        {
          "output_type": "stream",
          "name": "stderr",
          "text": [
            "100%|██████████| 654/654 [00:12<00:00, 52.99it/s]\n"
          ]
        },
        {
          "output_type": "stream",
          "name": "stdout",
          "text": [
            "Running Average TRAIN Loss :  4.033070339704508\n",
            "Running Average TRAIN F1-Score :  0.2278660665001344\n",
            "Running Average VAL Loss :  4.058782734283029\n",
            "Running Average VAL F1-Score :  0.24171098944259017\n",
            "\n",
            "\n",
            "EPOCH  3\n"
          ]
        },
        {
          "output_type": "stream",
          "name": "stderr",
          "text": [
            "100%|██████████| 654/654 [00:12<00:00, 52.80it/s]\n"
          ]
        },
        {
          "output_type": "stream",
          "name": "stdout",
          "text": [
            "Running Average TRAIN Loss :  3.90673762869762\n",
            "Running Average TRAIN F1-Score :  0.24547817708428846\n",
            "Running Average VAL Loss :  4.01819636070565\n",
            "Running Average VAL F1-Score :  0.24840608749487628\n",
            "\n",
            "\n",
            "EPOCH  4\n"
          ]
        },
        {
          "output_type": "stream",
          "name": "stderr",
          "text": [
            "100%|██████████| 654/654 [00:12<00:00, 53.29it/s]\n"
          ]
        },
        {
          "output_type": "stream",
          "name": "stdout",
          "text": [
            "Running Average TRAIN Loss :  3.7890864340901738\n",
            "Running Average TRAIN F1-Score :  0.2605803199909878\n",
            "Running Average VAL Loss :  3.9722189021437138\n",
            "Running Average VAL F1-Score :  0.2590155191209218\n",
            "\n",
            "\n",
            "EPOCH  5\n"
          ]
        },
        {
          "output_type": "stream",
          "name": "stderr",
          "text": [
            "100%|██████████| 654/654 [00:12<00:00, 52.66it/s]\n"
          ]
        },
        {
          "output_type": "stream",
          "name": "stdout",
          "text": [
            "Running Average TRAIN Loss :  3.664055688300993\n",
            "Running Average TRAIN F1-Score :  0.27716229211208654\n",
            "Running Average VAL Loss :  3.9458386832720613\n",
            "Running Average VAL F1-Score :  0.26947180049060143\n",
            "\n",
            "\n",
            "EPOCH  6\n"
          ]
        },
        {
          "output_type": "stream",
          "name": "stderr",
          "text": [
            "100%|██████████| 654/654 [00:12<00:00, 52.97it/s]\n"
          ]
        },
        {
          "output_type": "stream",
          "name": "stdout",
          "text": [
            "Running Average TRAIN Loss :  3.538788051051102\n",
            "Running Average TRAIN F1-Score :  0.2935044600967238\n",
            "Running Average VAL Loss :  3.9348738095531726\n",
            "Running Average VAL F1-Score :  0.27624034922416896\n",
            "\n",
            "\n",
            "EPOCH  7\n"
          ]
        },
        {
          "output_type": "stream",
          "name": "stderr",
          "text": [
            "100%|██████████| 654/654 [00:12<00:00, 52.77it/s]\n"
          ]
        },
        {
          "output_type": "stream",
          "name": "stdout",
          "text": [
            "Running Average TRAIN Loss :  3.4088381904345404\n",
            "Running Average TRAIN F1-Score :  0.3118103710473131\n",
            "Running Average VAL Loss :  3.9413191553664535\n",
            "Running Average VAL F1-Score :  0.28379826431405053\n",
            "\n",
            "\n",
            "EPOCH  8\n"
          ]
        },
        {
          "output_type": "stream",
          "name": "stderr",
          "text": [
            "100%|██████████| 654/654 [00:12<00:00, 53.04it/s]\n"
          ]
        },
        {
          "output_type": "stream",
          "name": "stdout",
          "text": [
            "Running Average TRAIN Loss :  3.271804871544561\n",
            "Running Average TRAIN F1-Score :  0.328990220932421\n",
            "Running Average VAL Loss :  3.9674613835060435\n",
            "Running Average VAL F1-Score :  0.29343209058454595\n",
            "\n",
            "\n",
            "EPOCH  9\n"
          ]
        },
        {
          "output_type": "stream",
          "name": "stderr",
          "text": [
            "100%|██████████| 654/654 [00:12<00:00, 52.78it/s]\n"
          ]
        },
        {
          "output_type": "stream",
          "name": "stdout",
          "text": [
            "Running Average TRAIN Loss :  2.9285059718910706\n",
            "Running Average TRAIN F1-Score :  0.36121760805447894\n",
            "Running Average VAL Loss :  3.9320596538177908\n",
            "Running Average VAL F1-Score :  0.2989302346967671\n",
            "\n",
            "\n",
            "EPOCH  10\n"
          ]
        },
        {
          "output_type": "stream",
          "name": "stderr",
          "text": [
            "100%|██████████| 654/654 [00:12<00:00, 53.18it/s]\n"
          ]
        },
        {
          "output_type": "stream",
          "name": "stdout",
          "text": [
            "Running Average TRAIN Loss :  2.833981225067687\n",
            "Running Average TRAIN F1-Score :  0.36980632034099065\n",
            "Running Average VAL Loss :  3.960478723865666\n",
            "Running Average VAL F1-Score :  0.30295581850287034\n",
            "\n",
            "\n",
            "EPOCH  11\n"
          ]
        },
        {
          "output_type": "stream",
          "name": "stderr",
          "text": [
            "100%|██████████| 654/654 [00:12<00:00, 52.81it/s]\n"
          ]
        },
        {
          "output_type": "stream",
          "name": "stdout",
          "text": [
            "Running Average TRAIN Loss :  2.7824907202603986\n",
            "Running Average TRAIN F1-Score :  0.3774936328149352\n",
            "Running Average VAL Loss :  3.9763525414140255\n",
            "Running Average VAL F1-Score :  0.3077090374410969\n",
            "\n",
            "\n",
            "EPOCH  12\n"
          ]
        },
        {
          "output_type": "stream",
          "name": "stderr",
          "text": [
            "100%|██████████| 654/654 [00:12<00:00, 53.20it/s]\n"
          ]
        },
        {
          "output_type": "stream",
          "name": "stdout",
          "text": [
            "Running Average TRAIN Loss :  2.7161314844720588\n",
            "Running Average TRAIN F1-Score :  0.38464518128367375\n",
            "Running Average VAL Loss :  3.976350193154322\n",
            "Running Average VAL F1-Score :  0.30725436096322045\n",
            "\n",
            "\n",
            "EPOCH  13\n"
          ]
        },
        {
          "output_type": "stream",
          "name": "stderr",
          "text": [
            "100%|██████████| 654/654 [00:12<00:00, 53.04it/s]\n"
          ]
        },
        {
          "output_type": "stream",
          "name": "stdout",
          "text": [
            "Running Average TRAIN Loss :  2.708284237698313\n",
            "Running Average TRAIN F1-Score :  0.3848175447012671\n",
            "Running Average VAL Loss :  3.980245479165691\n",
            "Running Average VAL F1-Score :  0.3077342975629519\n",
            "\n",
            "\n",
            "EPOCH  14\n"
          ]
        },
        {
          "output_type": "stream",
          "name": "stderr",
          "text": [
            "100%|██████████| 654/654 [00:12<00:00, 52.86it/s]\n"
          ]
        },
        {
          "output_type": "stream",
          "name": "stdout",
          "text": [
            "Running Average TRAIN Loss :  2.699355274894551\n",
            "Running Average TRAIN F1-Score :  0.38696856846867717\n",
            "Running Average VAL Loss :  3.981380289548064\n",
            "Running Average VAL F1-Score :  0.3095044877431164\n",
            "\n",
            "\n",
            "EPOCH  15\n"
          ]
        },
        {
          "output_type": "stream",
          "name": "stderr",
          "text": [
            "100%|██████████| 654/654 [00:12<00:00, 53.05it/s]\n"
          ]
        },
        {
          "output_type": "stream",
          "name": "stdout",
          "text": [
            "Running Average TRAIN Loss :  2.7006163010174347\n",
            "Running Average TRAIN F1-Score :  0.38625378337110583\n",
            "Running Average VAL Loss :  3.988111110582744\n",
            "Running Average VAL F1-Score :  0.3082941735852255\n",
            "\n",
            "\n",
            "TRAINING FINISHED\n",
            "FINAL TRAINING SCORE :  0.38625378337110583\n",
            "FINAL VALIDATION SCORE :  0.3082941735852255\n"
          ]
        }
      ],
      "source": [
        "esm2_model, esm2_losses, esm2_scores = train_model(embeddings_source=\"ESM2\",model_type=\"linear\")"
      ]
    },
    {
      "cell_type": "code",
      "execution_count": null,
      "metadata": {
        "id": "I6HJs1Qb514B"
      },
      "outputs": [],
      "source": [
        "# Weighted F1 Score?"
      ]
    },
    {
      "cell_type": "code",
      "execution_count": null,
      "metadata": {
        "colab": {
          "base_uri": "https://localhost:8080/"
        },
        "id": "gvkZkKba9cmH",
        "outputId": "d361df60-825a-4324-a41f-f6a04442e7b7"
      },
      "outputs": [
        {
          "output_type": "stream",
          "name": "stdout",
          "text": [
            "BEGIN TRAINING...\n",
            "EPOCH  1\n"
          ]
        },
        {
          "output_type": "stream",
          "name": "stderr",
          "text": [
            "100%|██████████| 654/654 [00:13<00:00, 48.96it/s]\n"
          ]
        },
        {
          "output_type": "stream",
          "name": "stdout",
          "text": [
            "Running Average TRAIN Loss :  4.179764305050584\n",
            "Running Average TRAIN F1-Score :  0.2054561938896821\n",
            "Running Average VAL Loss :  3.9736327896379446\n",
            "Running Average VAL F1-Score :  0.22748720931680236\n",
            "\n",
            "\n",
            "EPOCH  2\n"
          ]
        },
        {
          "output_type": "stream",
          "name": "stderr",
          "text": [
            "100%|██████████| 654/654 [00:13<00:00, 49.25it/s]\n"
          ]
        },
        {
          "output_type": "stream",
          "name": "stdout",
          "text": [
            "Running Average TRAIN Loss :  3.871578299671138\n",
            "Running Average TRAIN F1-Score :  0.2449839946554706\n",
            "Running Average VAL Loss :  3.846124074230455\n",
            "Running Average VAL F1-Score :  0.24637900190810635\n",
            "\n",
            "\n",
            "EPOCH  3\n"
          ]
        },
        {
          "output_type": "stream",
          "name": "stderr",
          "text": [
            "100%|██████████| 654/654 [00:13<00:00, 49.64it/s]\n"
          ]
        },
        {
          "output_type": "stream",
          "name": "stdout",
          "text": [
            "Running Average TRAIN Loss :  3.6783464957450143\n",
            "Running Average TRAIN F1-Score :  0.26843227010892434\n",
            "Running Average VAL Loss :  3.7724995319157433\n",
            "Running Average VAL F1-Score :  0.26431437612396397\n",
            "\n",
            "\n",
            "EPOCH  4\n"
          ]
        },
        {
          "output_type": "stream",
          "name": "stderr",
          "text": [
            "100%|██████████| 654/654 [00:13<00:00, 49.05it/s]\n"
          ]
        },
        {
          "output_type": "stream",
          "name": "stdout",
          "text": [
            "Running Average TRAIN Loss :  3.488028066238497\n",
            "Running Average TRAIN F1-Score :  0.2916738290214393\n",
            "Running Average VAL Loss :  3.7400811045137172\n",
            "Running Average VAL F1-Score :  0.2735486248992894\n",
            "\n",
            "\n",
            "EPOCH  5\n"
          ]
        },
        {
          "output_type": "stream",
          "name": "stderr",
          "text": [
            "100%|██████████| 654/654 [00:13<00:00, 48.72it/s]\n"
          ]
        },
        {
          "output_type": "stream",
          "name": "stdout",
          "text": [
            "Running Average TRAIN Loss :  3.2940188296344304\n",
            "Running Average TRAIN F1-Score :  0.31539252074577756\n",
            "Running Average VAL Loss :  3.746543978991574\n",
            "Running Average VAL F1-Score :  0.28991539735500127\n",
            "\n",
            "\n",
            "EPOCH  6\n"
          ]
        },
        {
          "output_type": "stream",
          "name": "stderr",
          "text": [
            "100%|██████████| 654/654 [00:13<00:00, 49.23it/s]\n"
          ]
        },
        {
          "output_type": "stream",
          "name": "stdout",
          "text": [
            "Running Average TRAIN Loss :  3.1001992991211216\n",
            "Running Average TRAIN F1-Score :  0.3381553983105067\n",
            "Running Average VAL Loss :  3.779696921779685\n",
            "Running Average VAL F1-Score :  0.2962491840940632\n",
            "\n",
            "\n",
            "EPOCH  7\n"
          ]
        },
        {
          "output_type": "stream",
          "name": "stderr",
          "text": [
            "100%|██████████| 654/654 [00:13<00:00, 49.50it/s]\n"
          ]
        },
        {
          "output_type": "stream",
          "name": "stdout",
          "text": [
            "Running Average TRAIN Loss :  2.6994558383200875\n",
            "Running Average TRAIN F1-Score :  0.37424220892085214\n",
            "Running Average VAL Loss :  3.7759894606185287\n",
            "Running Average VAL F1-Score :  0.31266097357011824\n",
            "\n",
            "\n",
            "EPOCH  8\n"
          ]
        },
        {
          "output_type": "stream",
          "name": "stderr",
          "text": [
            "100%|██████████| 654/654 [00:13<00:00, 49.73it/s]\n"
          ]
        },
        {
          "output_type": "stream",
          "name": "stdout",
          "text": [
            "Running Average TRAIN Loss :  2.5808066280974526\n",
            "Running Average TRAIN F1-Score :  0.3872891659948075\n",
            "Running Average VAL Loss :  3.829745743372669\n",
            "Running Average VAL F1-Score :  0.318447958524913\n",
            "\n",
            "\n",
            "EPOCH  9\n"
          ]
        },
        {
          "output_type": "stream",
          "name": "stderr",
          "text": [
            "100%|██████████| 654/654 [00:13<00:00, 49.49it/s]\n"
          ]
        },
        {
          "output_type": "stream",
          "name": "stdout",
          "text": [
            "Running Average TRAIN Loss :  2.493888513392994\n",
            "Running Average TRAIN F1-Score :  0.39649206773585866\n",
            "Running Average VAL Loss :  3.8449227809906006\n",
            "Running Average VAL F1-Score :  0.316675094096628\n",
            "\n",
            "\n",
            "EPOCH  10\n"
          ]
        },
        {
          "output_type": "stream",
          "name": "stderr",
          "text": [
            "100%|██████████| 654/654 [00:13<00:00, 48.80it/s]\n"
          ]
        },
        {
          "output_type": "stream",
          "name": "stdout",
          "text": [
            "Running Average TRAIN Loss :  2.480914297636131\n",
            "Running Average TRAIN F1-Score :  0.3982120045099054\n",
            "Running Average VAL Loss :  3.853526239525782\n",
            "Running Average VAL F1-Score :  0.3177543225353711\n",
            "\n",
            "\n",
            "EPOCH  11\n"
          ]
        },
        {
          "output_type": "stream",
          "name": "stderr",
          "text": [
            "100%|██████████| 654/654 [00:13<00:00, 49.15it/s]\n"
          ]
        },
        {
          "output_type": "stream",
          "name": "stdout",
          "text": [
            "Running Average TRAIN Loss :  2.470473595897721\n",
            "Running Average TRAIN F1-Score :  0.398511350656139\n",
            "Running Average VAL Loss :  3.8515148816043383\n",
            "Running Average VAL F1-Score :  0.3195228135749085\n",
            "\n",
            "\n",
            "EPOCH  12\n"
          ]
        },
        {
          "output_type": "stream",
          "name": "stderr",
          "text": [
            "100%|██████████| 654/654 [00:13<00:00, 49.63it/s]\n"
          ]
        },
        {
          "output_type": "stream",
          "name": "stdout",
          "text": [
            "Running Average TRAIN Loss :  2.470441243152735\n",
            "Running Average TRAIN F1-Score :  0.39859182631386164\n",
            "Running Average VAL Loss :  3.8591888081537533\n",
            "Running Average VAL F1-Score :  0.31979913131831444\n",
            "\n",
            "\n",
            "EPOCH  13\n"
          ]
        },
        {
          "output_type": "stream",
          "name": "stderr",
          "text": [
            "100%|██████████| 654/654 [00:13<00:00, 49.04it/s]\n"
          ]
        },
        {
          "output_type": "stream",
          "name": "stdout",
          "text": [
            "Running Average TRAIN Loss :  2.469816601057665\n",
            "Running Average TRAIN F1-Score :  0.3992912107651387\n",
            "Running Average VAL Loss :  3.8523804586227626\n",
            "Running Average VAL F1-Score :  0.3180738981455973\n",
            "\n",
            "\n",
            "EPOCH  14\n"
          ]
        },
        {
          "output_type": "stream",
          "name": "stderr",
          "text": [
            "100%|██████████| 654/654 [00:13<00:00, 48.55it/s]\n"
          ]
        },
        {
          "output_type": "stream",
          "name": "stdout",
          "text": [
            "Running Average TRAIN Loss :  2.468989152062559\n",
            "Running Average TRAIN F1-Score :  0.3995827701204778\n",
            "Running Average VAL Loss :  3.8560006651159835\n",
            "Running Average VAL F1-Score :  0.31993125195372596\n",
            "\n",
            "\n",
            "EPOCH  15\n"
          ]
        },
        {
          "output_type": "stream",
          "name": "stderr",
          "text": [
            "100%|██████████| 654/654 [00:13<00:00, 49.16it/s]\n"
          ]
        },
        {
          "output_type": "stream",
          "name": "stdout",
          "text": [
            "Running Average TRAIN Loss :  2.4687557656101493\n",
            "Running Average TRAIN F1-Score :  0.3995172342667157\n",
            "Running Average VAL Loss :  3.861385414045151\n",
            "Running Average VAL F1-Score :  0.31712050062336333\n",
            "\n",
            "\n",
            "TRAINING FINISHED\n",
            "FINAL TRAINING SCORE :  0.3995172342667157\n",
            "FINAL VALIDATION SCORE :  0.31712050062336333\n"
          ]
        }
      ],
      "source": [
        "t5_model, t5_losses, t5_scores = train_model(embeddings_source=\"T5\",model_type=\"linear\")"
      ]
    },
    {
      "cell_type": "code",
      "execution_count": null,
      "metadata": {
        "colab": {
          "base_uri": "https://localhost:8080/"
        },
        "id": "ep6Wpyo69k96",
        "outputId": "f8fc7b25-da3b-4dc2-fa09-4f072dd11993"
      },
      "outputs": [
        {
          "output_type": "stream",
          "name": "stdout",
          "text": [
            "BEGIN TRAINING...\n",
            "EPOCH  1\n"
          ]
        },
        {
          "output_type": "stream",
          "name": "stderr",
          "text": [
            "100%|██████████| 654/654 [00:13<00:00, 49.39it/s]\n"
          ]
        },
        {
          "output_type": "stream",
          "name": "stdout",
          "text": [
            "Running Average TRAIN Loss :  4.175413804681294\n",
            "Running Average TRAIN F1-Score :  0.20393191091146673\n",
            "Running Average VAL Loss :  4.030397509875363\n",
            "Running Average VAL F1-Score :  0.2251643999798657\n",
            "\n",
            "\n",
            "EPOCH  2\n"
          ]
        },
        {
          "output_type": "stream",
          "name": "stderr",
          "text": [
            "100%|██████████| 654/654 [00:13<00:00, 48.55it/s]\n"
          ]
        },
        {
          "output_type": "stream",
          "name": "stdout",
          "text": [
            "Running Average TRAIN Loss :  3.870812557159214\n",
            "Running Average TRAIN F1-Score :  0.24367834866867152\n",
            "Running Average VAL Loss :  3.901269073355688\n",
            "Running Average VAL F1-Score :  0.24318022474850695\n",
            "\n",
            "\n",
            "EPOCH  3\n"
          ]
        },
        {
          "output_type": "stream",
          "name": "stderr",
          "text": [
            "100%|██████████| 654/654 [00:13<00:00, 49.44it/s]\n"
          ]
        },
        {
          "output_type": "stream",
          "name": "stdout",
          "text": [
            "Running Average TRAIN Loss :  3.677480598837593\n",
            "Running Average TRAIN F1-Score :  0.26835156498699014\n",
            "Running Average VAL Loss :  3.8294824476111424\n",
            "Running Average VAL F1-Score :  0.2601795870147339\n",
            "\n",
            "\n",
            "EPOCH  4\n"
          ]
        },
        {
          "output_type": "stream",
          "name": "stderr",
          "text": [
            "100%|██████████| 654/654 [00:13<00:00, 50.08it/s]\n"
          ]
        },
        {
          "output_type": "stream",
          "name": "stdout",
          "text": [
            "Running Average TRAIN Loss :  3.4873333327267146\n",
            "Running Average TRAIN F1-Score :  0.2909234620243402\n",
            "Running Average VAL Loss :  3.780924764398026\n",
            "Running Average VAL F1-Score :  0.2818411304934384\n",
            "\n",
            "\n",
            "EPOCH  5\n"
          ]
        },
        {
          "output_type": "stream",
          "name": "stderr",
          "text": [
            "100%|██████████| 654/654 [00:13<00:00, 49.64it/s]\n"
          ]
        },
        {
          "output_type": "stream",
          "name": "stdout",
          "text": [
            "Running Average TRAIN Loss :  3.295086073948338\n",
            "Running Average TRAIN F1-Score :  0.3138399266093878\n",
            "Running Average VAL Loss :  3.7700287609884184\n",
            "Running Average VAL F1-Score :  0.28724339502315\n",
            "\n",
            "\n",
            "EPOCH  6\n"
          ]
        },
        {
          "output_type": "stream",
          "name": "stderr",
          "text": [
            "100%|██████████| 654/654 [00:13<00:00, 49.59it/s]\n"
          ]
        },
        {
          "output_type": "stream",
          "name": "stdout",
          "text": [
            "Running Average TRAIN Loss :  3.10542836685064\n",
            "Running Average TRAIN F1-Score :  0.3362906006498074\n",
            "Running Average VAL Loss :  3.8234983405021774\n",
            "Running Average VAL F1-Score :  0.300744988738674\n",
            "\n",
            "\n",
            "EPOCH  7\n"
          ]
        },
        {
          "output_type": "stream",
          "name": "stderr",
          "text": [
            "100%|██████████| 654/654 [00:13<00:00, 49.60it/s]\n"
          ]
        },
        {
          "output_type": "stream",
          "name": "stdout",
          "text": [
            "Running Average TRAIN Loss :  2.9194114426954076\n",
            "Running Average TRAIN F1-Score :  0.3589064512595489\n",
            "Running Average VAL Loss :  3.8560220378718966\n",
            "Running Average VAL F1-Score :  0.308520059879512\n",
            "\n",
            "\n",
            "EPOCH  8\n"
          ]
        },
        {
          "output_type": "stream",
          "name": "stderr",
          "text": [
            "100%|██████████| 654/654 [00:13<00:00, 49.45it/s]\n"
          ]
        },
        {
          "output_type": "stream",
          "name": "stdout",
          "text": [
            "Running Average TRAIN Loss :  2.5347582747083193\n",
            "Running Average TRAIN F1-Score :  0.3947437303966703\n",
            "Running Average VAL Loss :  3.9346748508819163\n",
            "Running Average VAL F1-Score :  0.3203873426130373\n",
            "\n",
            "\n",
            "EPOCH  9\n"
          ]
        },
        {
          "output_type": "stream",
          "name": "stderr",
          "text": [
            "100%|██████████| 654/654 [00:13<00:00, 49.50it/s]\n"
          ]
        },
        {
          "output_type": "stream",
          "name": "stdout",
          "text": [
            "Running Average TRAIN Loss :  2.4128735938568\n",
            "Running Average TRAIN F1-Score :  0.40769089530549646\n",
            "Running Average VAL Loss :  3.989790433073697\n",
            "Running Average VAL F1-Score :  0.32674052249895386\n",
            "\n",
            "\n",
            "EPOCH  10\n"
          ]
        },
        {
          "output_type": "stream",
          "name": "stderr",
          "text": [
            "100%|██████████| 654/654 [00:13<00:00, 49.48it/s]\n"
          ]
        },
        {
          "output_type": "stream",
          "name": "stdout",
          "text": [
            "Running Average TRAIN Loss :  2.327853273361101\n",
            "Running Average TRAIN F1-Score :  0.41492536509073474\n",
            "Running Average VAL Loss :  4.015742337867005\n",
            "Running Average VAL F1-Score :  0.32617917738548696\n",
            "\n",
            "\n",
            "EPOCH  11\n"
          ]
        },
        {
          "output_type": "stream",
          "name": "stderr",
          "text": [
            "100%|██████████| 654/654 [00:13<00:00, 49.53it/s]\n"
          ]
        },
        {
          "output_type": "stream",
          "name": "stdout",
          "text": [
            "Running Average TRAIN Loss :  2.315836433241491\n",
            "Running Average TRAIN F1-Score :  0.4176845331348775\n",
            "Running Average VAL Loss :  4.027608133342168\n",
            "Running Average VAL F1-Score :  0.3273930223020789\n",
            "\n",
            "\n",
            "EPOCH  12\n"
          ]
        },
        {
          "output_type": "stream",
          "name": "stderr",
          "text": [
            "100%|██████████| 654/654 [00:13<00:00, 49.66it/s]\n"
          ]
        },
        {
          "output_type": "stream",
          "name": "stdout",
          "text": [
            "Running Average TRAIN Loss :  2.305815601932164\n",
            "Running Average TRAIN F1-Score :  0.4179278500492055\n",
            "Running Average VAL Loss :  4.035981691046937\n",
            "Running Average VAL F1-Score :  0.32714981289759076\n",
            "\n",
            "\n",
            "EPOCH  13\n"
          ]
        },
        {
          "output_type": "stream",
          "name": "stderr",
          "text": [
            "100%|██████████| 654/654 [00:13<00:00, 49.64it/s]\n"
          ]
        },
        {
          "output_type": "stream",
          "name": "stdout",
          "text": [
            "Running Average TRAIN Loss :  2.305139284068291\n",
            "Running Average TRAIN F1-Score :  0.4183178328046011\n",
            "Running Average VAL Loss :  4.02986897507759\n",
            "Running Average VAL F1-Score :  0.32680146130796983\n",
            "\n",
            "\n",
            "EPOCH  14\n"
          ]
        },
        {
          "output_type": "stream",
          "name": "stderr",
          "text": [
            "100%|██████████| 654/654 [00:13<00:00, 49.73it/s]\n"
          ]
        },
        {
          "output_type": "stream",
          "name": "stdout",
          "text": [
            "Running Average TRAIN Loss :  2.304198325044883\n",
            "Running Average TRAIN F1-Score :  0.41908291825278454\n",
            "Running Average VAL Loss :  4.032659573097751\n",
            "Running Average VAL F1-Score :  0.3269671658947043\n",
            "\n",
            "\n",
            "EPOCH  15\n"
          ]
        },
        {
          "output_type": "stream",
          "name": "stderr",
          "text": [
            "100%|██████████| 654/654 [00:13<00:00, 49.32it/s]\n"
          ]
        },
        {
          "output_type": "stream",
          "name": "stdout",
          "text": [
            "Running Average TRAIN Loss :  2.3030619309582843\n",
            "Running Average TRAIN F1-Score :  0.417954094958597\n",
            "Running Average VAL Loss :  4.032551925476283\n",
            "Running Average VAL F1-Score :  0.3285925559801598\n",
            "\n",
            "\n",
            "TRAINING FINISHED\n",
            "FINAL TRAINING SCORE :  0.417954094958597\n",
            "FINAL VALIDATION SCORE :  0.3285925559801598\n"
          ]
        }
      ],
      "source": [
        "protbert_model, protbert_losses, protbert_scores = train_model(embeddings_source=\"T5\",model_type=\"linear\")"
      ]
    },
    {
      "cell_type": "code",
      "execution_count": null,
      "metadata": {
        "colab": {
          "base_uri": "https://localhost:8080/",
          "height": 813
        },
        "id": "zz6-sk7v99QX",
        "outputId": "1c46ddff-68fb-4387-9a68-d30debca4e0f"
      },
      "outputs": [
        {
          "output_type": "display_data",
          "data": {
            "text/plain": [
              "<Figure size 1000x400 with 1 Axes>"
            ],
            "image/png": "[encoded data removed]"
          },
          "metadata": {}
        },
        {
          "output_type": "display_data",
          "data": {
            "text/plain": [
              "<Figure size 1000x400 with 1 Axes>"
            ],
            "image/png": "[encoded data removed]"
          },
          "metadata": {}
        }
      ],
      "source": [
        "plt.figure(figsize = (10, 4))\n",
        "plt.plot(esm2_losses[\"val\"], label = \"ESM2\")\n",
        "plt.plot(t5_losses[\"val\"], label = \"T5\")\n",
        "plt.plot(protbert_losses[\"val\"], label = \"ProtBERT\")\n",
        "plt.title(\"Validation Losses for # Vector Embeddings\")\n",
        "plt.xlabel(\"Epochs\")\n",
        "plt.ylabel(\"Average Loss\")\n",
        "plt.legend()\n",
        "plt.show()\n",
        "\n",
        "plt.figure(figsize = (10, 4))\n",
        "plt.plot(esm2_scores[\"val\"], label = \"ESM2\")\n",
        "plt.plot(t5_scores[\"val\"], label = \"T5\")\n",
        "plt.plot(protbert_scores[\"val\"], label = \"ProtBERT\")\n",
        "plt.title(\"Validation F1-Scores for # Vector Embeddings\")\n",
        "plt.xlabel(\"Epochs\")\n",
        "plt.ylabel(\"Average F1-Score\")\n",
        "plt.legend()\n",
        "plt.show()"
      ]
    },
    {
      "cell_type": "markdown",
      "metadata": {
        "id": "dnh-ResZD_mp"
      },
      "source": [
        "## Make Predictions"
      ]
    },
    {
      "cell_type": "code",
      "execution_count": null,
      "metadata": {
        "id": "3mTGiX1QMhLp"
      },
      "outputs": [],
      "source": [
        "def predict(embeddings_source):\n",
        "\n",
        "    test_dataset = ProteinSequenceDataset(datatype=\"test\", embeddings_source = embeddings_source)\n",
        "    test_dataloader = torch.utils.data.DataLoader(test_dataset, batch_size=1, shuffle=False)\n",
        "\n",
        "    if embeddings_source == \"T5\":\n",
        "        model = t5_model\n",
        "    if embeddings_source == \"ProtBERT\":\n",
        "        model = protbert_model\n",
        "    if embeddings_source == \"EMS2\":\n",
        "        model = esm2_model\n",
        "\n",
        "    model.eval()\n",
        "\n",
        "    labels = pd.read_csv(CFG.train_terms_path, sep = \"\\t\")\n",
        "    top_terms = labels.groupby(\"term\")[\"EntryID\"].count().sort_values(ascending=False)\n",
        "    labels_names = [label.split('_')[-1] for label in label_cols]\n",
        "    print(\"GENERATE PREDICTION FOR TEST SET...\")\n",
        "\n",
        "    ids_ = np.empty(shape=(len(test_dataloader)*CFG.num_labels,), dtype=object)\n",
        "    go_terms_ = np.empty(shape=(len(test_dataloader)*CFG.num_labels,), dtype=object)\n",
        "    confs_ = np.empty(shape=(len(test_dataloader)*CFG.num_labels,), dtype=np.float32)\n",
        "\n",
        "    for i, (embed, id) in tqdm(enumerate(test_dataloader)):\n",
        "        embed = embed.to(CFG.device)\n",
        "        confs_[i*CFG.num_labels:(i+1)*CFG.num_labels] = torch.nn.functional.sigmoid(model(embed)).squeeze().detach().cpu().numpy()\n",
        "        ids_[i*CFG.num_labels:(i+1)*CFG.num_labels] = id[0]\n",
        "        go_terms_[i*CFG.num_labels:(i+1)*CFG.num_labels] = labels_names\n",
        "\n",
        "    submission_df = pd.DataFrame(data={\"Id\" : ids_, \"GO term\" : go_terms_, \"Confidence\" : confs_})\n",
        "    print(\"PREDICTIONS DONE\")\n",
        "    return submission_df"
      ]
    },
    {
      "cell_type": "code",
      "execution_count": null,
      "metadata": {
        "colab": {
          "base_uri": "https://localhost:8080/"
        },
        "id": "-d0LIp9-EBm5",
        "outputId": "0533f0dc-e7fb-4bff-db7f-d681d2a22712"
      },
      "outputs": [
        {
          "output_type": "stream",
          "name": "stdout",
          "text": [
            "GENERATE PREDICTION FOR TEST SET...\n"
          ]
        },
        {
          "output_type": "stream",
          "name": "stderr",
          "text": [
            "141865it [01:39, 1428.83it/s]\n"
          ]
        },
        {
          "output_type": "stream",
          "name": "stdout",
          "text": [
            "PREDICTIONS DONE\n"
          ]
        }
      ],
      "source": [
        "submission_df = predict(\"T5\")"
      ]
    },
    {
      "cell_type": "code",
      "execution_count": null,
      "metadata": {
        "colab": {
          "base_uri": "https://localhost:8080/"
        },
        "id": "DkBO7tuaJh5t",
        "outputId": "324388bc-7f7e-4b08-85ce-e60e621c0fe0"
      },
      "outputs": [
        {
          "output_type": "execute_result",
          "data": {
            "text/plain": [
              "{'name': 'nucleus',\n",
              " 'namespace': 'cellular_component',\n",
              " 'def': '\"A membrane-bounded organelle of eukaryotic cells in which chromosomes are housed and replicated. In most cells, the nucleus contains all of the cell\\'s chromosomes except the organellar chromosomes, and is the site of RNA synthesis and processing. In some species, or in specialized cell types, RNA metabolism or DNA replication may be absent.\" [GOC:go_curators]',\n",
              " 'subset': ['goslim_agr',\n",
              "  'goslim_candida',\n",
              "  'goslim_chembl',\n",
              "  'goslim_drosophila',\n",
              "  'goslim_flybase_ribbon',\n",
              "  'goslim_generic',\n",
              "  'goslim_metagenomics',\n",
              "  'goslim_mouse',\n",
              "  'goslim_pir',\n",
              "  'goslim_plant',\n",
              "  'goslim_yeast'],\n",
              " 'synonym': ['\"cell nucleus\" EXACT []',\n",
              "  '\"horsetail nucleus\" NARROW [GOC:al, GOC:mah, GOC:vw, PMID:15030757]'],\n",
              " 'xref': ['NIF_Subcellular:sao1702920020', 'Wikipedia:Cell_nucleus'],\n",
              " 'is_a': ['GO:0043231']}"
            ]
          },
          "metadata": {},
          "execution_count": 34
        }
      ],
      "source": [
        "graph.nodes[\"GO:0005634\"]"
      ]
    },
    {
      "cell_type": "code",
      "execution_count": null,
      "metadata": {
        "colab": {
          "base_uri": "https://localhost:8080/",
          "height": 363
        },
        "id": "VTcQzBvTKnO4",
        "outputId": "5fa68b6c-79ab-4e01-9ebc-fd487d9e3663"
      },
      "outputs": [
        {
          "output_type": "execute_result",
          "data": {
            "text/plain": [
              "        EntryID        term aspect        ia\n",
              "4023148  P62259  GO:0005829    CCO  1.545978\n",
              "4023149  P62259  GO:0005622    CCO  0.366945\n",
              "4023150  P62259  GO:0043229    CCO  0.017165\n",
              "4023151  P62259  GO:0043226    CCO  0.584346\n",
              "4023152  P62259  GO:0110165    CCO  0.025471\n",
              "4023153  P62259  GO:0005739    CCO  2.045246\n",
              "4023154  P62259  GO:0005737    CCO  0.412201\n",
              "4023155  P62259  GO:0005575    CCO  0.000000\n",
              "4023156  P62259  GO:0043227    CCO  0.134798\n",
              "4023157  P62259  GO:0043231    CCO  0.029561"
            ],
            "text/html": [
              "\n",
              "  <div id=\"df-cee8a92a-a2c2-4f7c-86b9-05749f27ca0e\">\n",
              "    <div class=\"colab-df-container\">\n",
              "      <div>\n",
              "<style scoped>\n",
              "    .dataframe tbody tr th:only-of-type {\n",
              "        vertical-align: middle;\n",
              "    }\n",
              "\n",
              "    .dataframe tbody tr th {\n",
              "        vertical-align: top;\n",
              "    }\n",
              "\n",
              "    .dataframe thead th {\n",
              "        text-align: right;\n",
              "    }\n",
              "</style>\n",
              "<table border=\"1\" class=\"dataframe\">\n",
              "  <thead>\n",
              "    <tr style=\"text-align: right;\">\n",
              "      <th></th>\n",
              "      <th>EntryID</th>\n",
              "      <th>term</th>\n",
              "      <th>aspect</th>\n",
              "      <th>ia</th>\n",
              "    </tr>\n",
              "  </thead>\n",
              "  <tbody>\n",
              "    <tr>\n",
              "      <th>4023148</th>\n",
              "      <td>P62259</td>\n",
              "      <td>GO:0005829</td>\n",
              "      <td>CCO</td>\n",
              "      <td>1.545978</td>\n",
              "    </tr>\n",
              "    <tr>\n",
              "      <th>4023149</th>\n",
              "      <td>P62259</td>\n",
              "      <td>GO:0005622</td>\n",
              "      <td>CCO</td>\n",
              "      <td>0.366945</td>\n",
              "    </tr>\n",
              "    <tr>\n",
              "      <th>4023150</th>\n",
              "      <td>P62259</td>\n",
              "      <td>GO:0043229</td>\n",
              "      <td>CCO</td>\n",
              "      <td>0.017165</td>\n",
              "    </tr>\n",
              "    <tr>\n",
              "      <th>4023151</th>\n",
              "      <td>P62259</td>\n",
              "      <td>GO:0043226</td>\n",
              "      <td>CCO</td>\n",
              "      <td>0.584346</td>\n",
              "    </tr>\n",
              "    <tr>\n",
              "      <th>4023152</th>\n",
              "      <td>P62259</td>\n",
              "      <td>GO:0110165</td>\n",
              "      <td>CCO</td>\n",
              "      <td>0.025471</td>\n",
              "    </tr>\n",
              "    <tr>\n",
              "      <th>4023153</th>\n",
              "      <td>P62259</td>\n",
              "      <td>GO:0005739</td>\n",
              "      <td>CCO</td>\n",
              "      <td>2.045246</td>\n",
              "    </tr>\n",
              "    <tr>\n",
              "      <th>4023154</th>\n",
              "      <td>P62259</td>\n",
              "      <td>GO:0005737</td>\n",
              "      <td>CCO</td>\n",
              "      <td>0.412201</td>\n",
              "    </tr>\n",
              "    <tr>\n",
              "      <th>4023155</th>\n",
              "      <td>P62259</td>\n",
              "      <td>GO:0005575</td>\n",
              "      <td>CCO</td>\n",
              "      <td>0.000000</td>\n",
              "    </tr>\n",
              "    <tr>\n",
              "      <th>4023156</th>\n",
              "      <td>P62259</td>\n",
              "      <td>GO:0043227</td>\n",
              "      <td>CCO</td>\n",
              "      <td>0.134798</td>\n",
              "    </tr>\n",
              "    <tr>\n",
              "      <th>4023157</th>\n",
              "      <td>P62259</td>\n",
              "      <td>GO:0043231</td>\n",
              "      <td>CCO</td>\n",
              "      <td>0.029561</td>\n",
              "    </tr>\n",
              "  </tbody>\n",
              "</table>\n",
              "</div>\n",
              "      <button class=\"colab-df-convert\" onclick=\"convertToInteractive('df-cee8a92a-a2c2-4f7c-86b9-05749f27ca0e')\"\n",
              "              title=\"Convert this dataframe to an interactive table.\"\n",
              "              style=\"display:none;\">\n",
              "        \n",
              "  <svg xmlns=\"http://www.w3.org/2000/svg\" height=\"24px\"viewBox=\"0 0 24 24\"\n",
              "       width=\"24px\">\n",
              "    <path d=\"M0 0h24v24H0V0z\" fill=\"none\"/>\n",
              "    <path d=\"M18.56 5.44l.94 2.06.94-2.06 2.06-.94-2.06-.94-.94-2.06-.94 2.06-2.06.94zm-11 1L8.5 8.5l.94-2.06 2.06-.94-2.06-.94L8.5 2.5l-.94 2.06-2.06.94zm10 10l.94 2.06.94-2.06 2.06-.94-2.06-.94-.94-2.06-.94 2.06-2.06.94z\"/><path d=\"M17.41 7.96l-1.37-1.37c-.4-.4-.92-.59-1.43-.59-.52 0-1.04.2-1.43.59L10.3 9.45l-7.72 7.72c-.78.78-.78 2.05 0 2.83L4 21.41c.39.39.9.59 1.41.59.51 0 1.02-.2 1.41-.59l7.78-7.78 2.81-2.81c.8-.78.8-2.07 0-2.86zM5.41 20L4 18.59l7.72-7.72 1.47 1.35L5.41 20z\"/>\n",
              "  </svg>\n",
              "      </button>\n",
              "      \n",
              "  <style>\n",
              "    .colab-df-container {\n",
              "      display:flex;\n",
              "      flex-wrap:wrap;\n",
              "      gap: 12px;\n",
              "    }\n",
              "\n",
              "    .colab-df-convert {\n",
              "      background-color: #E8F0FE;\n",
              "      border: none;\n",
              "      border-radius: 50%;\n",
              "      cursor: pointer;\n",
              "      display: none;\n",
              "      fill: #1967D2;\n",
              "      height: 32px;\n",
              "      padding: 0 0 0 0;\n",
              "      width: 32px;\n",
              "    }\n",
              "\n",
              "    .colab-df-convert:hover {\n",
              "      background-color: #E2EBFA;\n",
              "      box-shadow: 0px 1px 2px rgba(60, 64, 67, 0.3), 0px 1px 3px 1px rgba(60, 64, 67, 0.15);\n",
              "      fill: #174EA6;\n",
              "    }\n",
              "\n",
              "    [theme=dark] .colab-df-convert {\n",
              "      background-color: #3B4455;\n",
              "      fill: #D2E3FC;\n",
              "    }\n",
              "\n",
              "    [theme=dark] .colab-df-convert:hover {\n",
              "      background-color: #434B5C;\n",
              "      box-shadow: 0px 1px 3px 1px rgba(0, 0, 0, 0.15);\n",
              "      filter: drop-shadow(0px 1px 2px rgba(0, 0, 0, 0.3));\n",
              "      fill: #FFFFFF;\n",
              "    }\n",
              "  </style>\n",
              "\n",
              "      <script>\n",
              "        const buttonEl =\n",
              "          document.querySelector('#df-cee8a92a-a2c2-4f7c-86b9-05749f27ca0e button.colab-df-convert');\n",
              "        buttonEl.style.display =\n",
              "          google.colab.kernel.accessAllowed ? 'block' : 'none';\n",
              "\n",
              "        async function convertToInteractive(key) {\n",
              "          const element = document.querySelector('#df-cee8a92a-a2c2-4f7c-86b9-05749f27ca0e');\n",
              "          const dataTable =\n",
              "            await google.colab.kernel.invokeFunction('convertToInteractive',\n",
              "                                                     [key], {});\n",
              "          if (!dataTable) return;\n",
              "\n",
              "          const docLinkHtml = 'Like what you see? Visit the ' +\n",
              "            '<a target=\"_blank\" href=https://colab.research.google.com/notebooks/data_table.ipynb>data table notebook</a>'\n",
              "            + ' to learn more about interactive tables.';\n",
              "          element.innerHTML = '';\n",
              "          dataTable['output_type'] = 'display_data';\n",
              "          await google.colab.output.renderOutput(dataTable, element);\n",
              "          const docLink = document.createElement('div');\n",
              "          docLink.innerHTML = docLinkHtml;\n",
              "          element.appendChild(docLink);\n",
              "        }\n",
              "      </script>\n",
              "    </div>\n",
              "  </div>\n",
              "  "
            ]
          },
          "metadata": {},
          "execution_count": 35
        }
      ],
      "source": [
        "train_terms[(train_terms['EntryID'] == 'P62259') & (train_terms['aspect'] == 'CCO')]"
      ]
    },
    {
      "cell_type": "code",
      "execution_count": null,
      "metadata": {
        "colab": {
          "base_uri": "https://localhost:8080/"
        },
        "id": "xYiOxC6ALPV7",
        "outputId": "28b30927-9afa-4106-de45-55452aaf100b"
      },
      "outputs": [
        {
          "output_type": "execute_result",
          "data": {
            "text/plain": [
              "{'name': 'cytosol',\n",
              " 'namespace': 'cellular_component',\n",
              " 'def': '\"The part of the cytoplasm that does not contain organelles but which does contain other particulate matter, such as protein complexes.\" [GOC:hjd, GOC:jl]',\n",
              " 'subset': ['goslim_agr',\n",
              "  'goslim_chembl',\n",
              "  'goslim_drosophila',\n",
              "  'goslim_flybase_ribbon',\n",
              "  'goslim_generic',\n",
              "  'goslim_mouse',\n",
              "  'goslim_plant'],\n",
              " 'xref': ['NIF_Subcellular:sao101633890', 'Wikipedia:Cytosol'],\n",
              " 'is_a': ['GO:0110165'],\n",
              " 'relationship': ['part_of GO:0005737']}"
            ]
          },
          "metadata": {},
          "execution_count": 36
        }
      ],
      "source": [
        "graph.nodes[\"GO:0005829\"]"
      ]
    },
    {
      "cell_type": "code",
      "execution_count": null,
      "metadata": {
        "colab": {
          "base_uri": "https://localhost:8080/",
          "height": 978
        },
        "id": "ChmW1aqXEPwO",
        "outputId": "21caaeec-0d8a-441b-c94c-72ed5d6f2cd6"
      },
      "outputs": [
        {
          "output_type": "stream",
          "name": "stdout",
          "text": [
            "4114085\n"
          ]
        },
        {
          "output_type": "execute_result",
          "data": {
            "text/plain": [
              "        Id     GO term  Confidence\n",
              "29  P62259  GO:0005615    0.111049\n",
              "30  P62259  GO:0005634    0.656699\n",
              "31  P62259  GO:0005654    0.441166\n",
              "32  P62259  GO:0005730    0.015628\n",
              "33  P62259  GO:0005737    0.329403\n",
              "34  P62259  GO:0005739    0.464971\n",
              "35  P62259  GO:0005783    0.032017\n",
              "36  P62259  GO:0005794    0.314478\n",
              "37  P62259  GO:0005815    0.348605\n",
              "38  P62259  GO:0005829    0.869352\n",
              "39  P62259  GO:0005886    0.658343\n",
              "40  P62259  GO:0005911    0.137782\n",
              "41  P62259  GO:0009986    0.076588\n",
              "42  P62259  GO:0016020    0.387935\n",
              "43  P62259  GO:0030312    0.092077\n",
              "44  P62259  GO:0031090    0.186440\n",
              "45  P62259  GO:0031410    0.171328\n",
              "46  P62259  GO:0032991    0.614964\n",
              "47  P62259  GO:0043005    0.198870\n",
              "48  P62259  GO:0043226    0.463994\n",
              "49  P62259  GO:0043231    0.090030\n",
              "50  P62259  GO:0043232    0.130874\n",
              "51  P62259  GO:0044423    0.000037\n",
              "52  P62259  GO:0045202    0.594738\n",
              "53  P62259  GO:0070013    0.163938\n",
              "54  P62259  GO:0070062    0.575628\n",
              "55  P62259  GO:0098590    0.119448\n",
              "56  P62259  GO:0110165    0.773486\n",
              "57  P62259  GO:0140513    0.011812"
            ],
            "text/html": [
              "\n",
              "  <div id=\"df-72a98424-f30d-4e18-b919-34f5b2d3a92b\">\n",
              "    <div class=\"colab-df-container\">\n",
              "      <div>\n",
              "<style scoped>\n",
              "    .dataframe tbody tr th:only-of-type {\n",
              "        vertical-align: middle;\n",
              "    }\n",
              "\n",
              "    .dataframe tbody tr th {\n",
              "        vertical-align: top;\n",
              "    }\n",
              "\n",
              "    .dataframe thead th {\n",
              "        text-align: right;\n",
              "    }\n",
              "</style>\n",
              "<table border=\"1\" class=\"dataframe\">\n",
              "  <thead>\n",
              "    <tr style=\"text-align: right;\">\n",
              "      <th></th>\n",
              "      <th>Id</th>\n",
              "      <th>GO term</th>\n",
              "      <th>Confidence</th>\n",
              "    </tr>\n",
              "  </thead>\n",
              "  <tbody>\n",
              "    <tr>\n",
              "      <th>29</th>\n",
              "      <td>P62259</td>\n",
              "      <td>GO:0005615</td>\n",
              "      <td>0.111049</td>\n",
              "    </tr>\n",
              "    <tr>\n",
              "      <th>30</th>\n",
              "      <td>P62259</td>\n",
              "      <td>GO:0005634</td>\n",
              "      <td>0.656699</td>\n",
              "    </tr>\n",
              "    <tr>\n",
              "      <th>31</th>\n",
              "      <td>P62259</td>\n",
              "      <td>GO:0005654</td>\n",
              "      <td>0.441166</td>\n",
              "    </tr>\n",
              "    <tr>\n",
              "      <th>32</th>\n",
              "      <td>P62259</td>\n",
              "      <td>GO:0005730</td>\n",
              "      <td>0.015628</td>\n",
              "    </tr>\n",
              "    <tr>\n",
              "      <th>33</th>\n",
              "      <td>P62259</td>\n",
              "      <td>GO:0005737</td>\n",
              "      <td>0.329403</td>\n",
              "    </tr>\n",
              "    <tr>\n",
              "      <th>34</th>\n",
              "      <td>P62259</td>\n",
              "      <td>GO:0005739</td>\n",
              "      <td>0.464971</td>\n",
              "    </tr>\n",
              "    <tr>\n",
              "      <th>35</th>\n",
              "      <td>P62259</td>\n",
              "      <td>GO:0005783</td>\n",
              "      <td>0.032017</td>\n",
              "    </tr>\n",
              "    <tr>\n",
              "      <th>36</th>\n",
              "      <td>P62259</td>\n",
              "      <td>GO:0005794</td>\n",
              "      <td>0.314478</td>\n",
              "    </tr>\n",
              "    <tr>\n",
              "      <th>37</th>\n",
              "      <td>P62259</td>\n",
              "      <td>GO:0005815</td>\n",
              "      <td>0.348605</td>\n",
              "    </tr>\n",
              "    <tr>\n",
              "      <th>38</th>\n",
              "      <td>P62259</td>\n",
              "      <td>GO:0005829</td>\n",
              "      <td>0.869352</td>\n",
              "    </tr>\n",
              "    <tr>\n",
              "      <th>39</th>\n",
              "      <td>P62259</td>\n",
              "      <td>GO:0005886</td>\n",
              "      <td>0.658343</td>\n",
              "    </tr>\n",
              "    <tr>\n",
              "      <th>40</th>\n",
              "      <td>P62259</td>\n",
              "      <td>GO:0005911</td>\n",
              "      <td>0.137782</td>\n",
              "    </tr>\n",
              "    <tr>\n",
              "      <th>41</th>\n",
              "      <td>P62259</td>\n",
              "      <td>GO:0009986</td>\n",
              "      <td>0.076588</td>\n",
              "    </tr>\n",
              "    <tr>\n",
              "      <th>42</th>\n",
              "      <td>P62259</td>\n",
              "      <td>GO:0016020</td>\n",
              "      <td>0.387935</td>\n",
              "    </tr>\n",
              "    <tr>\n",
              "      <th>43</th>\n",
              "      <td>P62259</td>\n",
              "      <td>GO:0030312</td>\n",
              "      <td>0.092077</td>\n",
              "    </tr>\n",
              "    <tr>\n",
              "      <th>44</th>\n",
              "      <td>P62259</td>\n",
              "      <td>GO:0031090</td>\n",
              "      <td>0.186440</td>\n",
              "    </tr>\n",
              "    <tr>\n",
              "      <th>45</th>\n",
              "      <td>P62259</td>\n",
              "      <td>GO:0031410</td>\n",
              "      <td>0.171328</td>\n",
              "    </tr>\n",
              "    <tr>\n",
              "      <th>46</th>\n",
              "      <td>P62259</td>\n",
              "      <td>GO:0032991</td>\n",
              "      <td>0.614964</td>\n",
              "    </tr>\n",
              "    <tr>\n",
              "      <th>47</th>\n",
              "      <td>P62259</td>\n",
              "      <td>GO:0043005</td>\n",
              "      <td>0.198870</td>\n",
              "    </tr>\n",
              "    <tr>\n",
              "      <th>48</th>\n",
              "      <td>P62259</td>\n",
              "      <td>GO:0043226</td>\n",
              "      <td>0.463994</td>\n",
              "    </tr>\n",
              "    <tr>\n",
              "      <th>49</th>\n",
              "      <td>P62259</td>\n",
              "      <td>GO:0043231</td>\n",
              "      <td>0.090030</td>\n",
              "    </tr>\n",
              "    <tr>\n",
              "      <th>50</th>\n",
              "      <td>P62259</td>\n",
              "      <td>GO:0043232</td>\n",
              "      <td>0.130874</td>\n",
              "    </tr>\n",
              "    <tr>\n",
              "      <th>51</th>\n",
              "      <td>P62259</td>\n",
              "      <td>GO:0044423</td>\n",
              "      <td>0.000037</td>\n",
              "    </tr>\n",
              "    <tr>\n",
              "      <th>52</th>\n",
              "      <td>P62259</td>\n",
              "      <td>GO:0045202</td>\n",
              "      <td>0.594738</td>\n",
              "    </tr>\n",
              "    <tr>\n",
              "      <th>53</th>\n",
              "      <td>P62259</td>\n",
              "      <td>GO:0070013</td>\n",
              "      <td>0.163938</td>\n",
              "    </tr>\n",
              "    <tr>\n",
              "      <th>54</th>\n",
              "      <td>P62259</td>\n",
              "      <td>GO:0070062</td>\n",
              "      <td>0.575628</td>\n",
              "    </tr>\n",
              "    <tr>\n",
              "      <th>55</th>\n",
              "      <td>P62259</td>\n",
              "      <td>GO:0098590</td>\n",
              "      <td>0.119448</td>\n",
              "    </tr>\n",
              "    <tr>\n",
              "      <th>56</th>\n",
              "      <td>P62259</td>\n",
              "      <td>GO:0110165</td>\n",
              "      <td>0.773486</td>\n",
              "    </tr>\n",
              "    <tr>\n",
              "      <th>57</th>\n",
              "      <td>P62259</td>\n",
              "      <td>GO:0140513</td>\n",
              "      <td>0.011812</td>\n",
              "    </tr>\n",
              "  </tbody>\n",
              "</table>\n",
              "</div>\n",
              "      <button class=\"colab-df-convert\" onclick=\"convertToInteractive('df-72a98424-f30d-4e18-b919-34f5b2d3a92b')\"\n",
              "              title=\"Convert this dataframe to an interactive table.\"\n",
              "              style=\"display:none;\">\n",
              "        \n",
              "  <svg xmlns=\"http://www.w3.org/2000/svg\" height=\"24px\"viewBox=\"0 0 24 24\"\n",
              "       width=\"24px\">\n",
              "    <path d=\"M0 0h24v24H0V0z\" fill=\"none\"/>\n",
              "    <path d=\"M18.56 5.44l.94 2.06.94-2.06 2.06-.94-2.06-.94-.94-2.06-.94 2.06-2.06.94zm-11 1L8.5 8.5l.94-2.06 2.06-.94-2.06-.94L8.5 2.5l-.94 2.06-2.06.94zm10 10l.94 2.06.94-2.06 2.06-.94-2.06-.94-.94-2.06-.94 2.06-2.06.94z\"/><path d=\"M17.41 7.96l-1.37-1.37c-.4-.4-.92-.59-1.43-.59-.52 0-1.04.2-1.43.59L10.3 9.45l-7.72 7.72c-.78.78-.78 2.05 0 2.83L4 21.41c.39.39.9.59 1.41.59.51 0 1.02-.2 1.41-.59l7.78-7.78 2.81-2.81c.8-.78.8-2.07 0-2.86zM5.41 20L4 18.59l7.72-7.72 1.47 1.35L5.41 20z\"/>\n",
              "  </svg>\n",
              "      </button>\n",
              "      \n",
              "  <style>\n",
              "    .colab-df-container {\n",
              "      display:flex;\n",
              "      flex-wrap:wrap;\n",
              "      gap: 12px;\n",
              "    }\n",
              "\n",
              "    .colab-df-convert {\n",
              "      background-color: #E8F0FE;\n",
              "      border: none;\n",
              "      border-radius: 50%;\n",
              "      cursor: pointer;\n",
              "      display: none;\n",
              "      fill: #1967D2;\n",
              "      height: 32px;\n",
              "      padding: 0 0 0 0;\n",
              "      width: 32px;\n",
              "    }\n",
              "\n",
              "    .colab-df-convert:hover {\n",
              "      background-color: #E2EBFA;\n",
              "      box-shadow: 0px 1px 2px rgba(60, 64, 67, 0.3), 0px 1px 3px 1px rgba(60, 64, 67, 0.15);\n",
              "      fill: #174EA6;\n",
              "    }\n",
              "\n",
              "    [theme=dark] .colab-df-convert {\n",
              "      background-color: #3B4455;\n",
              "      fill: #D2E3FC;\n",
              "    }\n",
              "\n",
              "    [theme=dark] .colab-df-convert:hover {\n",
              "      background-color: #434B5C;\n",
              "      box-shadow: 0px 1px 3px 1px rgba(0, 0, 0, 0.15);\n",
              "      filter: drop-shadow(0px 1px 2px rgba(0, 0, 0, 0.3));\n",
              "      fill: #FFFFFF;\n",
              "    }\n",
              "  </style>\n",
              "\n",
              "      <script>\n",
              "        const buttonEl =\n",
              "          document.querySelector('#df-72a98424-f30d-4e18-b919-34f5b2d3a92b button.colab-df-convert');\n",
              "        buttonEl.style.display =\n",
              "          google.colab.kernel.accessAllowed ? 'block' : 'none';\n",
              "\n",
              "        async function convertToInteractive(key) {\n",
              "          const element = document.querySelector('#df-72a98424-f30d-4e18-b919-34f5b2d3a92b');\n",
              "          const dataTable =\n",
              "            await google.colab.kernel.invokeFunction('convertToInteractive',\n",
              "                                                     [key], {});\n",
              "          if (!dataTable) return;\n",
              "\n",
              "          const docLinkHtml = 'Like what you see? Visit the ' +\n",
              "            '<a target=\"_blank\" href=https://colab.research.google.com/notebooks/data_table.ipynb>data table notebook</a>'\n",
              "            + ' to learn more about interactive tables.';\n",
              "          element.innerHTML = '';\n",
              "          dataTable['output_type'] = 'display_data';\n",
              "          await google.colab.output.renderOutput(dataTable, element);\n",
              "          const docLink = document.createElement('div');\n",
              "          docLink.innerHTML = docLinkHtml;\n",
              "          element.appendChild(docLink);\n",
              "        }\n",
              "      </script>\n",
              "    </div>\n",
              "  </div>\n",
              "  "
            ]
          },
          "metadata": {},
          "execution_count": 37
        }
      ],
      "source": [
        "print(len(submission_df))\n",
        "submission_df[submission_df['Id'] == 'P62259']"
      ]
    },
    {
      "cell_type": "code",
      "execution_count": null,
      "metadata": {
        "id": "kjTYlB0HGYs7"
      },
      "outputs": [],
      "source": [
        "submission_df.to_csv('submission.tsv', sep='\\t', index=False)"
      ]
    },
    {
      "cell_type": "code",
      "execution_count": null,
      "metadata": {
        "id": "2KxAU_3SGcfk"
      },
      "outputs": [],
      "source": []
    }
  ],
  "metadata": {
    "accelerator": "GPU",
    "colab": {
      "machine_shape": "hm",
      "provenance": [],
      "authorship_tag": "ABX9TyPH7oJlGNGV/UEYnB0EGLgg",
      "include_colab_link": true
    },
    "kernelspec": {
      "display_name": "Python 3",
      "name": "python3"
    },
    "language_info": {
      "name": "python"
    }
  },
  "nbformat": 4,
  "nbformat_minor": 0
}